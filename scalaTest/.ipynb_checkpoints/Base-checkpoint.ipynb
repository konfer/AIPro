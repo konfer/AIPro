{
 "cells": [
  {
   "cell_type": "code",
   "execution_count": 1,
   "metadata": {
    "ExecuteTime": {
     "end_time": "2019-06-26T04:57:46.185269Z",
     "start_time": "2019-06-26T04:57:42.127Z"
    }
   },
   "outputs": [
    {
     "data": {
      "text/plain": [
       "\u001b[36mres0\u001b[39m: \u001b[32mInt\u001b[39m = \u001b[32m336\u001b[39m"
      ]
     },
     "execution_count": 1,
     "metadata": {},
     "output_type": "execute_result"
    }
   ],
   "source": [
    "42 * 8"
   ]
  },
  {
   "cell_type": "code",
   "execution_count": 2,
   "metadata": {
    "ExecuteTime": {
     "end_time": "2019-06-26T04:57:46.652349Z",
     "start_time": "2019-06-26T04:57:42.131Z"
    }
   },
   "outputs": [
    {
     "data": {
      "text/plain": [
       "\u001b[36mres1\u001b[39m: \u001b[32mInt\u001b[39m = \u001b[32m168\u001b[39m"
      ]
     },
     "execution_count": 2,
     "metadata": {},
     "output_type": "execute_result"
    }
   ],
   "source": [
    "res0 / 2"
   ]
  },
  {
   "cell_type": "code",
   "execution_count": 2,
   "metadata": {
    "ExecuteTime": {
     "end_time": "2019-06-26T04:57:46.923052Z",
     "start_time": "2019-06-26T04:57:42.134Z"
    }
   },
   "outputs": [
    {
     "name": "stderr",
     "output_type": "stream",
     "text": [
      "cmd2.sc:6: not enough arguments for method main: (args: Array[String])Unit.\n",
      "Unspecified value parameter args.\n",
      "val res2_1 = myObj.main()\n",
      "                       ^Compilation Failed"
     ]
    },
    {
     "ename": "",
     "evalue": "",
     "output_type": "error",
     "traceback": [
      "Compilation Failed"
     ]
    }
   ],
   "source": [
    "object myObj{\n",
    "    def main(args: Array[String]){\n",
    "        println(\"Hello, \" + args.toList)\n",
    "    }\n",
    "}\n"
   ]
  },
  {
   "cell_type": "code",
   "execution_count": null,
   "metadata": {
    "ExecuteTime": {
     "end_time": "2019-06-26T04:57:46.940256Z",
     "start_time": "2019-06-26T04:57:42.137Z"
    }
   },
   "outputs": [],
   "source": [
    "val language = \"sca;a\""
   ]
  },
  {
   "cell_type": "code",
   "execution_count": null,
   "metadata": {
    "ExecuteTime": {
     "end_time": "2019-06-26T04:57:46.950672Z",
     "start_time": "2019-06-26T04:57:42.140Z"
    }
   },
   "outputs": [],
   "source": [
    "val tuple = (\"save\", 50, true)"
   ]
  },
  {
   "cell_type": "code",
   "execution_count": null,
   "metadata": {
    "ExecuteTime": {
     "end_time": "2019-06-26T04:57:46.956073Z",
     "start_time": "2019-06-26T04:57:42.142Z"
    }
   },
   "outputs": [],
   "source": [
    "val (event, millis, success) = tuple"
   ]
  },
  {
   "cell_type": "code",
   "execution_count": null,
   "metadata": {
    "ExecuteTime": {
     "end_time": "2019-06-26T04:57:46.960994Z",
     "start_time": "2019-06-26T04:57:42.144Z"
    }
   },
   "outputs": [],
   "source": [
    "event"
   ]
  },
  {
   "cell_type": "code",
   "execution_count": null,
   "metadata": {
    "ExecuteTime": {
     "end_time": "2019-06-26T04:57:46.965838Z",
     "start_time": "2019-06-26T04:57:42.147Z"
    }
   },
   "outputs": [],
   "source": [
    "millis"
   ]
  },
  {
   "cell_type": "code",
   "execution_count": null,
   "metadata": {
    "ExecuteTime": {
     "end_time": "2019-06-26T04:57:46.971727Z",
     "start_time": "2019-06-26T04:57:42.149Z"
    }
   },
   "outputs": [],
   "source": [
    "success"
   ]
  },
  {
   "cell_type": "code",
   "execution_count": null,
   "metadata": {
    "ExecuteTime": {
     "end_time": "2019-06-26T04:57:46.976670Z",
     "start_time": "2019-06-26T04:57:42.151Z"
    }
   },
   "outputs": [],
   "source": [
    "List(1, 2).map{ _ + 1}"
   ]
  },
  {
   "cell_type": "code",
   "execution_count": null,
   "metadata": {
    "ExecuteTime": {
     "end_time": "2019-06-26T04:57:46.981724Z",
     "start_time": "2019-06-26T04:57:42.153Z"
    }
   },
   "outputs": [],
   "source": [
    "List(1, 2).map{ i => println(\"Hi\");\n",
    "                     i+1 }"
   ]
  },
  {
   "cell_type": "code",
   "execution_count": null,
   "metadata": {
    "ExecuteTime": {
     "end_time": "2019-06-26T04:57:46.986640Z",
     "start_time": "2019-06-26T04:57:42.155Z"
    }
   },
   "outputs": [],
   "source": [
    "List(1, 2).map{ i => println(\"Hi\");\n",
    "                     }"
   ]
  },
  {
   "cell_type": "code",
   "execution_count": null,
   "metadata": {
    "ExecuteTime": {
     "end_time": "2019-06-26T04:57:46.987749Z",
     "start_time": "2019-06-26T04:57:42.156Z"
    }
   },
   "outputs": [],
   "source": [
    "val regularFunc = {a:Any => println(\"foo\");\n",
    "                          println(a);\n",
    "                          \"baz\"}"
   ]
  },
  {
   "cell_type": "code",
   "execution_count": null,
   "metadata": {},
   "outputs": [],
   "source": []
  }
 ],
 "metadata": {
  "hide_input": false,
  "kernelspec": {
   "display_name": "Scala",
   "language": "scala",
   "name": "scala"
  },
  "language_info": {
   "codemirror_mode": "text/x-scala",
   "file_extension": ".scala",
   "mimetype": "text/x-scala",
   "name": "scala",
   "nbconvert_exporter": "script",
   "version": "2.12.8"
  },
  "toc": {
   "base_numbering": 1,
   "nav_menu": {},
   "number_sections": true,
   "sideBar": true,
   "skip_h1_title": false,
   "title_cell": "Table of Contents",
   "title_sidebar": "Contents",
   "toc_cell": false,
   "toc_position": {},
   "toc_section_display": true,
   "toc_window_display": false
  },
  "varInspector": {
   "cols": {
    "lenName": 16,
    "lenType": 16,
    "lenVar": 40
   },
   "kernels_config": {
    "python": {
     "delete_cmd_postfix": "",
     "delete_cmd_prefix": "del ",
     "library": "var_list.py",
     "varRefreshCmd": "print(var_dic_list())"
    },
    "r": {
     "delete_cmd_postfix": ") ",
     "delete_cmd_prefix": "rm(",
     "library": "var_list.r",
     "varRefreshCmd": "cat(var_dic_list()) "
    }
   },
   "types_to_exclude": [
    "module",
    "function",
    "builtin_function_or_method",
    "instance",
    "_Feature"
   ],
   "window_display": false
  }
 },
 "nbformat": 4,
 "nbformat_minor": 2
}
