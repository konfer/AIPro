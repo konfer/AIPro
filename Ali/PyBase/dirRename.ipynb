{
 "cells": [
  {
   "cell_type": "code",
   "execution_count": 1,
   "metadata": {},
   "outputs": [],
   "source": [
    "import os\n",
    "\n",
    "def remove_ad_text(dir2, ad_text):\n",
    "    \"\"\"用来实现删除特定广告文本的函数。\n",
    "    \n",
    "    该函数会搜索检查指定根目录下的所有文件以及子目录，如果子目录下依然\n",
    "    存在子目录，则会一直查找下去，直到没有子目录为止。然后将目录名与文件\n",
    "    名中含有的广告词进行删除。\n",
    "    \n",
    "    Parameters:\n",
    "    -----\n",
    "    dir2 : str\n",
    "        指定要检查的根目录。\n",
    "    ad_text : str\n",
    "        指定要删除的广告词。\n",
    "    \"\"\"\n",
    "    \n",
    "    #  如果dir2表示的不是一个目录，则直接返回。\n",
    "    if not os.path.isdir(dir2):\n",
    "        return\n",
    "    # 如果传递的dir2末尾没有路径分隔符，我们就加入路径分隔符。\n",
    "    if not dir2.endswith(os.path.sep):\n",
    "        dir2 += os.path.sep\n",
    "        \n",
    "    # 获取目录下所有的子目录以及文件名。(返回列表类型)\n",
    "    names = os.listdir(dir2)\n",
    "    # 依次遍历每一个子目录或文件名。（对子目录与文件的处理方式是不同的。）\n",
    "    for name in names:\n",
    "        # 拼接成完整的路径。（包含路径与文件名。）\n",
    "        sub_path = os.path.join(dir2, name)\n",
    "        # 判断该路径表示的是否为目录\n",
    "        if os.path.isdir(sub_path):\n",
    "            # 如果是目录，则要进行递归的判断查找（下钻）\n",
    "            remove_ad_text(sub_path, ad_text)\n",
    "        # 将当前文件（目录）进行重命名，去掉广告词。\n",
    "        name = name.replace(ad_text, \"\")\n",
    "        # 组合新的路径\n",
    "        new_path = os.path.join(dir2, name)\n",
    "        # 对文件（目录）名进行重命名。\n",
    "        os.rename(sub_path, new_path)\n",
    "        \n",
    "remove_ad_text(r\"c:\\下载的文件\", \"[www.abc.com]\")"
   ]
  }
 ],
 "metadata": {
  "kernelspec": {
   "display_name": "Python 3",
   "language": "python",
   "name": "python3"
  },
  "language_info": {
   "codemirror_mode": {
    "name": "ipython",
    "version": 3
   },
   "file_extension": ".py",
   "mimetype": "text/x-python",
   "name": "python",
   "nbconvert_exporter": "python",
   "pygments_lexer": "ipython3",
   "version": "3.6.7"
  }
 },
 "nbformat": 4,
 "nbformat_minor": 2
}
