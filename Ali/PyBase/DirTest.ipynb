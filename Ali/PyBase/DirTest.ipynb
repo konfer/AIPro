{
 "cells": [
  {
   "cell_type": "code",
   "execution_count": 1,
   "metadata": {},
   "outputs": [],
   "source": [
    "import os"
   ]
  },
  {
   "cell_type": "code",
   "execution_count": 2,
   "metadata": {},
   "outputs": [],
   "source": [
    "def remove_ad_text(dir2,ad_text):\n",
    "    ##del adText\n",
    "    \n",
    "    if not os.path.isdir(dir2):\n",
    "        return\n",
    "    \n",
    "    if not dir2.endswith(os.path.sep):\n",
    "        dir2+=os.path.sep\n",
    "        \n",
    "    names=os.listdir(dir2)\n",
    "    \n",
    "    for name in names:\n",
    "        subPath=os.path.join(dir2,name)\n",
    "        \n",
    "        if os.path.isdir(subPath):\n",
    "            remove_ad_text(subPath,ad_text)\n",
    "        \n",
    "        name=name.replace(ad_text,\"\")\n",
    "        \n",
    "        new_path=os.path.join(dir2,name)\n",
    "        os.rename(subPath,new_path)    "
   ]
  },
  {
   "cell_type": "code",
   "execution_count": null,
   "metadata": {},
   "outputs": [],
   "source": []
  }
 ],
 "metadata": {
  "kernelspec": {
   "display_name": "Python 3",
   "language": "python",
   "name": "python3"
  },
  "language_info": {
   "codemirror_mode": {
    "name": "ipython",
    "version": 3
   },
   "file_extension": ".py",
   "mimetype": "text/x-python",
   "name": "python",
   "nbconvert_exporter": "python",
   "pygments_lexer": "ipython3",
   "version": "3.6.7"
  }
 },
 "nbformat": 4,
 "nbformat_minor": 2
}
