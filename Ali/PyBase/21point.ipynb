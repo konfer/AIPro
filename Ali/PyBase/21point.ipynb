{
 "cells": [
  {
   "cell_type": "code",
   "execution_count": 1,
   "metadata": {},
   "outputs": [],
   "source": [
    "import random\n",
    "import sys\n",
    "import time"
   ]
  },
  {
   "cell_type": "code",
   "execution_count": 2,
   "metadata": {},
   "outputs": [],
   "source": [
    "class Card:\n",
    "    \n",
    "    def __init__(self,card_type,card_text,card_value):\n",
    "        \n",
    "        self.card_type=card_type\n",
    "        self.card_text=card_text\n",
    "        self.card_value=card_value\n",
    "        "
   ]
  },
  {
   "cell_type": "code",
   "execution_count": null,
   "metadata": {},
   "outputs": [],
   "source": [
    "class Role:\n",
    "    \n",
    "    def __init__(self):\n",
    "        \n",
    "        self.cards=[]\n",
    "        \n",
    "    def show_card(self):\n",
    "        \n",
    "        for card in self.cards:\n",
    "            print(card.card_type,card.card_text,sep=\"\",end=\"\")\n",
    "        print()\n",
    "        \n",
    "    def get_value(self,min_or_max):\n",
    "        "
   ]
  }
 ],
 "metadata": {
  "kernelspec": {
   "display_name": "Python 3",
   "language": "python",
   "name": "python3"
  },
  "language_info": {
   "codemirror_mode": {
    "name": "ipython",
    "version": 3
   },
   "file_extension": ".py",
   "mimetype": "text/x-python",
   "name": "python",
   "nbconvert_exporter": "python",
   "pygments_lexer": "ipython3",
   "version": "3.6.7"
  }
 },
 "nbformat": 4,
 "nbformat_minor": 2
}
