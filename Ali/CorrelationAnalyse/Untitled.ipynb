{
 "cells": [
  {
   "cell_type": "code",
   "execution_count": 35,
   "metadata": {},
   "outputs": [
    {
     "name": "stdout",
     "output_type": "stream",
     "text": [
      "correlation 1.0\n",
      "pvalue 6.64689742203e-64\n"
     ]
    }
   ],
   "source": [
    "import scipy.stats as stats  \n",
    "import scipy\n",
    "x = [10.35, 6.24, 3.18, 8.46, 3.21, 7.65, 4.32, 8.66, 9.12, 10.31]  \n",
    "y = [5.13, 3.15, 1.67, 4.33, 1.76, 4.11, 2.11, 4.88, 4.99, 5.12]  \n",
    "correlation,pvalue = stats.stats.spearmanr(x,y)  \n",
    "\n",
    "print ('correlation',correlation)\n",
    "print ('pvalue',pvalue)"
   ]
  },
  {
   "cell_type": "code",
   "execution_count": 9,
   "metadata": {},
   "outputs": [
    {
     "name": "stdout",
     "output_type": "stream",
     "text": [
      "[ 10.   4.   1.   6.   2.   5.   3.   7.   8.   9.] [  9.   4.   1.   6.   2.   5.   3.   7.   8.  10.]\n",
      "correlation 0.987878787879\n",
      "pvalue 9.30745998896e-08\n"
     ]
    }
   ],
   "source": [
    "x = [10.35, 6.24, 3.18, 8.46, 3.21, 7.65, 4.32, 8.66, 9.12, 10.31]  \n",
    "y = [5.13, 3.15, 1.67, 4.33, 1.76, 4.11, 2.11, 4.88, 4.99, 5.12]\n",
    "x = scipy.stats.stats.rankdata(x)\n",
    "y = scipy.stats.stats.rankdata(y)\n",
    "print (x,y)\n",
    "correlation,pvalue = stats.stats.spearmanr(x,y)  \n",
    "\n",
    "print ('correlation',correlation)\n",
    "print ('pvalue',pvalue)"
   ]
  },
  {
   "cell_type": "code",
   "execution_count": 7,
   "metadata": {},
   "outputs": [
    {
     "name": "stdout",
     "output_type": "stream",
     "text": [
      "correlation 0.989176319869\n",
      "pvalue 5.92687594648e-08\n"
     ]
    }
   ],
   "source": [
    "x = [10.35, 6.24, 3.18, 8.46, 3.21, 7.65, 4.32, 8.66, 9.12, 10.31]  \n",
    "y = [5.1, 3.15, 1.67, 4.33, 1.76, 4.11, 2.11, 4.88, 4.99, 5.12]  \n",
    "correlation,pvalue = stats.stats.pearsonr(x,y) \n",
    "print ('correlation',correlation)\n",
    "print ('pvalue',pvalue)"
   ]
  },
  {
   "cell_type": "code",
   "execution_count": 27,
   "metadata": {},
   "outputs": [
    {
     "name": "stdout",
     "output_type": "stream",
     "text": [
      "tau 0.6\n",
      "p_value 0.141644690295\n"
     ]
    }
   ],
   "source": [
    "x1 = [10, 9, 8, 7, 6]\n",
    "x2 = [10, 8, 9, 6, 7]\n",
    "\n",
    "tau, p_value = stats.kendalltau(x1, x2)\n",
    "print ('tau',tau)\n",
    "print ('p_value',p_value)"
   ]
  },
  {
   "cell_type": "code",
   "execution_count": 34,
   "metadata": {},
   "outputs": [
    {
     "name": "stdout",
     "output_type": "stream",
     "text": [
      "correlation 0.765928796314\n",
      "pvalue 0.0266964972088\n"
     ]
    }
   ],
   "source": [
    "import numpy as np\n",
    "x = [0.6,0.7,1,2.1,2.9,3.2,5.5,6.7]\n",
    "y = np.power(x,10)\n",
    "correlation,pvalue = stats.stats.pearsonr(x,y) \n",
    "print ('correlation',correlation)\n",
    "print ('pvalue',pvalue)"
   ]
  },
  {
   "cell_type": "code",
   "execution_count": null,
   "metadata": {
    "collapsed": true
   },
   "outputs": [],
   "source": []
  }
 ],
 "metadata": {
  "hide_input": false,
  "kernelspec": {
   "display_name": "Python 3",
   "language": "python",
   "name": "python3"
  },
  "language_info": {
   "codemirror_mode": {
    "name": "ipython",
    "version": 3
   },
   "file_extension": ".py",
   "mimetype": "text/x-python",
   "name": "python",
   "nbconvert_exporter": "python",
   "pygments_lexer": "ipython3",
   "version": "3.6.7"
  },
  "toc": {
   "base_numbering": 1,
   "nav_menu": {},
   "number_sections": true,
   "sideBar": true,
   "skip_h1_title": false,
   "title_cell": "Table of Contents",
   "title_sidebar": "Contents",
   "toc_cell": false,
   "toc_position": {},
   "toc_section_display": true,
   "toc_window_display": false
  },
  "varInspector": {
   "cols": {
    "lenName": 16,
    "lenType": 16,
    "lenVar": 40
   },
   "kernels_config": {
    "python": {
     "delete_cmd_postfix": "",
     "delete_cmd_prefix": "del ",
     "library": "var_list.py",
     "varRefreshCmd": "print(var_dic_list())"
    },
    "r": {
     "delete_cmd_postfix": ") ",
     "delete_cmd_prefix": "rm(",
     "library": "var_list.r",
     "varRefreshCmd": "cat(var_dic_list()) "
    }
   },
   "types_to_exclude": [
    "module",
    "function",
    "builtin_function_or_method",
    "instance",
    "_Feature"
   ],
   "window_display": false
  }
 },
 "nbformat": 4,
 "nbformat_minor": 2
}
