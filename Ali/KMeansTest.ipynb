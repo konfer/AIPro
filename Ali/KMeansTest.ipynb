{
 "cells": [
  {
   "cell_type": "code",
   "execution_count": 1,
   "metadata": {},
   "outputs": [],
   "source": [
    "import numpy as np\n",
    "import pandas as pd"
   ]
  },
  {
   "cell_type": "code",
   "execution_count": 2,
   "metadata": {},
   "outputs": [],
   "source": [
    "orderData = pd.read_csv(r\"order.csv\")"
   ]
  },
  {
   "cell_type": "code",
   "execution_count": 6,
   "metadata": {},
   "outputs": [],
   "source": [
    "orderData = orderData.iloc[: ,-8:]"
   ]
  },
  {
   "cell_type": "code",
   "execution_count": 8,
   "metadata": {},
   "outputs": [
    {
     "data": {
      "text/html": [
       "<div>\n",
       "<style scoped>\n",
       "    .dataframe tbody tr th:only-of-type {\n",
       "        vertical-align: middle;\n",
       "    }\n",
       "\n",
       "    .dataframe tbody tr th {\n",
       "        vertical-align: top;\n",
       "    }\n",
       "\n",
       "    .dataframe thead th {\n",
       "        text-align: right;\n",
       "    }\n",
       "</style>\n",
       "<table border=\"1\" class=\"dataframe\">\n",
       "  <thead>\n",
       "    <tr style=\"text-align: right;\">\n",
       "      <th></th>\n",
       "      <th>Food%</th>\n",
       "      <th>Fresh%</th>\n",
       "      <th>Drinks%</th>\n",
       "      <th>Home%</th>\n",
       "      <th>Beauty%</th>\n",
       "      <th>Health%</th>\n",
       "      <th>Baby%</th>\n",
       "      <th>Pets%</th>\n",
       "    </tr>\n",
       "  </thead>\n",
       "  <tbody>\n",
       "    <tr>\n",
       "      <th>0</th>\n",
       "      <td>9.46</td>\n",
       "      <td>87.06</td>\n",
       "      <td>3.48</td>\n",
       "      <td>0.00</td>\n",
       "      <td>0.00</td>\n",
       "      <td>0.00</td>\n",
       "      <td>0.0</td>\n",
       "      <td>0.0</td>\n",
       "    </tr>\n",
       "    <tr>\n",
       "      <th>1</th>\n",
       "      <td>15.87</td>\n",
       "      <td>75.80</td>\n",
       "      <td>6.22</td>\n",
       "      <td>2.12</td>\n",
       "      <td>0.00</td>\n",
       "      <td>0.00</td>\n",
       "      <td>0.0</td>\n",
       "      <td>0.0</td>\n",
       "    </tr>\n",
       "    <tr>\n",
       "      <th>2</th>\n",
       "      <td>16.88</td>\n",
       "      <td>56.75</td>\n",
       "      <td>3.37</td>\n",
       "      <td>16.48</td>\n",
       "      <td>6.53</td>\n",
       "      <td>0.00</td>\n",
       "      <td>0.0</td>\n",
       "      <td>0.0</td>\n",
       "    </tr>\n",
       "    <tr>\n",
       "      <th>3</th>\n",
       "      <td>28.81</td>\n",
       "      <td>35.99</td>\n",
       "      <td>11.78</td>\n",
       "      <td>4.62</td>\n",
       "      <td>2.87</td>\n",
       "      <td>15.92</td>\n",
       "      <td>0.0</td>\n",
       "      <td>0.0</td>\n",
       "    </tr>\n",
       "    <tr>\n",
       "      <th>4</th>\n",
       "      <td>24.13</td>\n",
       "      <td>60.38</td>\n",
       "      <td>7.78</td>\n",
       "      <td>7.72</td>\n",
       "      <td>0.00</td>\n",
       "      <td>0.00</td>\n",
       "      <td>0.0</td>\n",
       "      <td>0.0</td>\n",
       "    </tr>\n",
       "  </tbody>\n",
       "</table>\n",
       "</div>"
      ],
      "text/plain": [
       "   Food%  Fresh%  Drinks%  Home%  Beauty%  Health%  Baby%  Pets%\n",
       "0   9.46   87.06     3.48   0.00     0.00     0.00    0.0    0.0\n",
       "1  15.87   75.80     6.22   2.12     0.00     0.00    0.0    0.0\n",
       "2  16.88   56.75     3.37  16.48     6.53     0.00    0.0    0.0\n",
       "3  28.81   35.99    11.78   4.62     2.87    15.92    0.0    0.0\n",
       "4  24.13   60.38     7.78   7.72     0.00     0.00    0.0    0.0"
      ]
     },
     "execution_count": 8,
     "metadata": {},
     "output_type": "execute_result"
    }
   ],
   "source": [
    "orderData.head()"
   ]
  },
  {
   "cell_type": "code",
   "execution_count": null,
   "metadata": {},
   "outputs": [],
   "source": [
    "class KMeans:\n",
    "    \n",
    "    def __init__(self, k, times):\n",
    "        \n",
    "        self.k = k\n",
    "        self.times = times\n",
    "        \n",
    "    def fit(self, X):\n",
    "        \n",
    "        X = np.asarray(X)\n",
    "        np.random.seed(0)\n",
    "        \n",
    "        self.clusterCentres = X[np.random.randint(0, len(X), self.k)]\n",
    "        self.labels = np.zeros(len(X))\n",
    "        \n",
    "        for t in range(self.times):\n",
    "            \n",
    "            for index, x in enumerate(X):\n",
    "                \n",
    "                dis = np.sqrt(np.sum((x - self.clusterCentres) ** 2 , axis = 1))\n",
    "                self.labels[index ] = dis.argmin()\n",
    "                \n",
    "            for i range(self.k):\n",
    "                \n",
    "                self.clusterCentres[i] = np.mean( X[self.labels == i], axis = 0)\n",
    "                \n",
    "    def predict(self, X):\n",
    "        \n",
    "        X = np.asarray(X)\n",
    "        result = np.zeros(len(X))\n",
    "        \n",
    "        for index, x  in enumerate(X):\n",
    "            \n",
    "            dis = np.sqrt(np.sum((x - self.clusterCentres) ** 2 , axis = 1))\n",
    "            result[index] = dis.argmin()\n",
    "            \n",
    "    return result"
   ]
  }
 ],
 "metadata": {
  "kernelspec": {
   "display_name": "Python 3",
   "language": "python",
   "name": "python3"
  },
  "language_info": {
   "codemirror_mode": {
    "name": "ipython",
    "version": 3
   },
   "file_extension": ".py",
   "mimetype": "text/x-python",
   "name": "python",
   "nbconvert_exporter": "python",
   "pygments_lexer": "ipython3",
   "version": "3.6.7"
  }
 },
 "nbformat": 4,
 "nbformat_minor": 2
}
