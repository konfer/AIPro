{
 "cells": [
  {
   "cell_type": "code",
   "execution_count": 14,
   "metadata": {},
   "outputs": [],
   "source": [
    "import numpy as np\n",
    "import pandas as pd"
   ]
  },
  {
   "cell_type": "code",
   "execution_count": 2,
   "metadata": {},
   "outputs": [
    {
     "data": {
      "text/plain": [
       "2    50\n",
       "0    49\n",
       "1    48\n",
       "Name: Species, dtype: int64"
      ]
     },
     "execution_count": 2,
     "metadata": {},
     "output_type": "execute_result"
    }
   ],
   "source": [
    "# 读取鸢尾花数据集，header参数来指定标题的行。默认为0。如果没有标题，则使用None。\n",
    "data = pd.read_csv(r\"Iris.csv\", header=0)\n",
    "# 显示前n行记录。默认n的值为5。\n",
    "# data.head()\n",
    "# 显示末尾的n行记录。默认n的值为5。\n",
    "#data.tail()\n",
    "# 随机抽取样本。默认抽取一条，我们可以通过参数进行指定抽取样本的数量。\n",
    "# data.sample(10)\n",
    "# 将类别文本映射成为数值类型。\n",
    "data[\"Species\"] = data[\"Species\"].map({\"Iris-virginica\": 0, \"Iris-setosa\": 1, \"Iris-versicolor\": 2})\n",
    "# 删除不需要的Id列。\n",
    "data.drop(\"Id\", axis=1, inplace=True)\n",
    "# data.duplicated().any()\n",
    "# 查看数据集的记录数。\n",
    "# len(data)\n",
    "# 删除重复的记录。\n",
    "data.drop_duplicates(inplace=True)\n",
    "# len(data)\n",
    "# 查看各个类别的鸢尾花具有多少条记录。\n",
    "data[\"Species\"].value_counts()"
   ]
  },
  {
   "cell_type": "code",
   "execution_count": 27,
   "metadata": {},
   "outputs": [],
   "source": [
    "class KNN:\n",
    "    \"\"\"使用Python语言实现K近邻算法。（实现分类）\"\"\"\n",
    "    \n",
    "    def __init__(self, k):\n",
    "        \"\"\"初始化方法\n",
    "        \n",
    "        Parameters\n",
    "        -----\n",
    "        k : int\n",
    "            邻居的个数。\n",
    "        \n",
    "        \"\"\"\n",
    "        self.k = k\n",
    "        \n",
    "    def fit(self, X, y):\n",
    "        \"\"\"训练方法\n",
    "        \n",
    "        Parameters\n",
    "        -----\n",
    "        X : 类数组类型，形状为：[样本数量, 特征数量]\n",
    "            待训练的样本特征（属性）\n",
    "        \n",
    "        y : 类数组类型，形状为： [样本数量]\n",
    "            每个样本的目标值（标签）。\n",
    "        \"\"\"\n",
    "        \n",
    "        # 将X转换成ndarray数组类型。\n",
    "        self.X = np.asarray(X)\n",
    "        self.y = np.asarray(y)\n",
    "        \n",
    "    def predict(self, X):\n",
    "        \"\"\"根据参数传递的样本，对样本数据进行预测。\n",
    "        \n",
    "        Parameters\n",
    "        -----\n",
    "        X : 类数组类型，形状为：[样本数量, 特征数量]\n",
    "            待训练的样本特征（属性） \n",
    "        \n",
    "        Returns\n",
    "        -----\n",
    "        result : 数组类型\n",
    "            预测的结果。\n",
    "        \n",
    "        \"\"\"\n",
    "        \n",
    "        X = np.asarray(X)\n",
    "        result = []\n",
    "        # 对ndarray数组进行遍历，每次取数组中的一行。\n",
    "        for x in X:\n",
    "            # 对于测试集中的每一个样本，依次与训练集中的所有样本求距离。\n",
    "            dis = np.sqrt(np.sum((x - self.X) ** 2, axis=1))\n",
    "            # 返回数组排序后，每个元素在原数组（排序之前的数组）中的索引。\n",
    "            index = dis.argsort()\n",
    "            # 进行截断，只取前k个元素。【取距离最近的k个元素的索引】\n",
    "            index = index[:self.k]\n",
    "            # 返回数组中每个元素出现的次数。元素必须是非负的整数。\n",
    "            count = np.bincount(self.y[index])\n",
    "            # 返回ndarray数组中，值最大的元素对应的索引。该索引就是我们判定的类别。\n",
    "            # 最大元素索引，就是出现次数最多的元素。\n",
    "            result.append(count.argmax())\n",
    "        return np.asarray(result)\n",
    "    \n",
    "    def predict2(self, X):\n",
    "        \"\"\"根据参数传递的样本，对样本数据进行预测（考虑权重的，使用距离的倒数作为权重）。\n",
    "        \n",
    "        Parameters\n",
    "        -----\n",
    "        X : 类数组类型，形状为：[样本数量, 特征数量]\n",
    "            待训练的样本特征（属性） \n",
    "        \n",
    "        Returns\n",
    "        -----\n",
    "        result : 数组类型\n",
    "            预测的结果。\n",
    "        \n",
    "        \"\"\"\n",
    "        \n",
    "        X = np.asarray(X)\n",
    "        result = []\n",
    "        # 对ndarray数组进行遍历，每次取数组中的一行。\n",
    "        for x in X:\n",
    "            # 对于测试集中的每一个样本，依次与训练集中的所有样本求距离。\n",
    "            dis = np.sqrt(np.sum((x - self.X) ** 2, axis=1))\n",
    "            # 返回数组排序后，每个元素在原数组（排序之前的数组）中的索引。\n",
    "            index = dis.argsort()\n",
    "            # 进行截断，只取前k个元素。【取距离最近的k个元素的索引】\n",
    "            index = index[:self.k]\n",
    "            # 返回数组中每个元素出现的次数。元素必须是非负的整数。【使用weights考虑权重，权重为距离的倒数。】\n",
    "            count = np.bincount(self.y[index], weights=1 / dis[index])\n",
    "            # 返回ndarray数组中，值最大的元素对应的索引。该索引就是我们判定的类别。\n",
    "            # 最大元素索引，就是出现次数最多的元素。\n",
    "            result.append(count.argmax())\n",
    "        return np.asarray(result)"
   ]
  },
  {
   "cell_type": "code",
   "execution_count": 28,
   "metadata": {},
   "outputs": [
    {
     "data": {
      "text/plain": [
       "26"
      ]
     },
     "metadata": {},
     "output_type": "display_data"
    },
    {
     "data": {
      "text/plain": [
       "0.9629629629629629"
      ]
     },
     "metadata": {},
     "output_type": "display_data"
    }
   ],
   "source": [
    "# 提取出每个类比的鸢尾花数据\n",
    "t0 = data[data[\"Species\"] == 0]\n",
    "t1 = data[data[\"Species\"] == 1]\n",
    "t2 = data[data[\"Species\"] == 2]\n",
    "# 对每个类别数据进行洗牌。\n",
    "t0 = t0.sample(len(t0), random_state=0)\n",
    "t1 = t1.sample(len(t1), random_state=0)\n",
    "t2 = t2.sample(len(t2), random_state=0)\n",
    "# 构建训练集与测试集。\n",
    "train_X = pd.concat([t0.iloc[:40, :-1], t1.iloc[:40, :-1], t2.iloc[:40, :-1]], axis=0)\n",
    "train_y = pd.concat([t0.iloc[:40, -1], t1.iloc[:40, -1], t2.iloc[:40, -1]], axis=0)\n",
    "test_X = pd.concat([t0.iloc[40:, :-1], t1.iloc[40:, :-1], t2.iloc[40:, :-1]], axis=0)\n",
    "test_y = pd.concat([t0.iloc[40:, -1], t1.iloc[40:, -1], t2.iloc[40:, -1]], axis=0)\n",
    "# 创建KNN对象，进行训练与测试。\n",
    "knn = KNN(k=3)\n",
    "# 进行训练\n",
    "knn.fit(train_X, train_y)\n",
    "# 进行测试，获得测试的结果。\n",
    "result = knn.predict(test_X)\n",
    "# display(result)\n",
    "# display(test_y)\n",
    "display(np.sum(result == test_y))\n",
    "display(np.sum(result == test_y)/ len(result))"
   ]
  },
  {
   "cell_type": "code",
   "execution_count": 29,
   "metadata": {},
   "outputs": [
    {
     "data": {
      "text/plain": [
       "26"
      ]
     },
     "metadata": {},
     "output_type": "display_data"
    }
   ],
   "source": [
    "# 考虑权重，进行一下测试。\n",
    "result2 = knn.predict2(test_X)\n",
    "display(np.sum(result2 == test_y))"
   ]
  },
  {
   "cell_type": "code",
   "execution_count": 12,
   "metadata": {},
   "outputs": [],
   "source": [
    "import matplotlib as mpl\n",
    "import matplotlib.pyplot as plt"
   ]
  },
  {
   "cell_type": "code",
   "execution_count": 13,
   "metadata": {},
   "outputs": [],
   "source": [
    "# 默认情况下，matplotlib不支持中文显示，我们需要进行一下设置。\n",
    "\n",
    "# 设置字体为黑体，以支持中文显示。\n",
    "mpl.rcParams[\"font.family\"] = \"SimHei\"\n",
    "# 设置在中文字体时，能够正常的显示负号（-）。\n",
    "mpl.rcParams[\"axes.unicode_minus\"] = False"
   ]
  },
  {
   "cell_type": "code",
   "execution_count": 20,
   "metadata": {
    "scrolled": true
   },
   "outputs": [
    {
     "data": {
      "image/png": "[encoded data removed]",
      "text/plain": [
       "<matplotlib.figure.Figure at 0xa953da0>"
      ]
     },
     "metadata": {},
     "output_type": "display_data"
    }
   ],
   "source": [
    "# {\"Iris-virginica\": 0, \"Iris-setosa\": 1, \"Iris-versicolor\": 2})\n",
    "# 设置画布的大小\n",
    "plt.figure(figsize=(10, 10))\n",
    "# 绘制训练集数据\n",
    "plt.scatter(x=t0[\"SepalLengthCm\"][:40], y=t0[\"PetalLengthCm\"][:40], color=\"r\", label=\"Iris-virginica\")\n",
    "plt.scatter(x=t1[\"SepalLengthCm\"][:40], y=t1[\"PetalLengthCm\"][:40], color=\"g\", label=\"Iris-setosa\")\n",
    "plt.scatter(x=t2[\"SepalLengthCm\"][:40], y=t2[\"PetalLengthCm\"][:40], color=\"b\", label=\"Iris-versicolor\")\n",
    "# 绘制测试集数据\n",
    "right = test_X[result == test_y]\n",
    "wrong = test_X[result != test_y]\n",
    "plt.scatter(x=right[\"SepalLengthCm\"], y=right[\"PetalLengthCm\"], color=\"c\", marker=\"x\", label=\"right\")\n",
    "plt.scatter(x=wrong[\"SepalLengthCm\"], y=wrong[\"PetalLengthCm\"], color=\"m\", marker=\">\", label=\"wrong\")\n",
    "plt.xlabel(\"花萼长度\")\n",
    "plt.ylabel(\"花瓣长度\")\n",
    "plt.title(\"KNN分类结果显示\")\n",
    "plt.legend(loc=\"best\")\n",
    "plt.show()"
   ]
  },
  {
   "cell_type": "code",
   "execution_count": 24,
   "metadata": {},
   "outputs": [
    {
     "data": {
      "text/plain": [
       "array([0.6, 0.5])"
      ]
     },
     "execution_count": 24,
     "metadata": {},
     "output_type": "execute_result"
    }
   ],
   "source": [
    "np.bincount([0, 1, 1, 0, 1], weights=[0.5, 0.3, 0.2, 0.1, 0.0])"
   ]
  }
 ],
 "metadata": {
  "kernelspec": {
   "display_name": "Python 3",
   "language": "python",
   "name": "python3"
  },
  "language_info": {
   "codemirror_mode": {
    "name": "ipython",
    "version": 3
   },
   "file_extension": ".py",
   "mimetype": "text/x-python",
   "name": "python",
   "nbconvert_exporter": "python",
   "pygments_lexer": "ipython3",
   "version": "3.6.7"
  }
 },
 "nbformat": 4,
 "nbformat_minor": 2
}
