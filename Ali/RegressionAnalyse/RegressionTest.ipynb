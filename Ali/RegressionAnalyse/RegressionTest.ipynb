{
 "cells": [
  {
   "cell_type": "code",
   "execution_count": null,
   "metadata": {},
   "outputs": [],
   "source": [
    "# This is an example snippet!\n",
    "# To create your own, add a new snippet block to the\n",
    "# snippets.json file in your jupyter nbextensions directory:\n",
    "# /nbextensions/snippets/snippets.json\n",
    "import this"
   ]
  },
  {
   "cell_type": "code",
   "execution_count": 11,
   "metadata": {
    "ExecuteTime": {
     "end_time": "2019-04-26T17:49:35.767595Z",
     "start_time": "2019-04-26T17:49:35.217588Z"
    }
   },
   "outputs": [],
   "source": [
    "import numpy as np\n",
    "import matplotlib.pyplot as plt\n",
    "import statsmodels.api as sm"
   ]
  },
  {
   "cell_type": "code",
   "execution_count": 34,
   "metadata": {
    "ExecuteTime": {
     "end_time": "2019-04-26T18:46:37.292375Z",
     "start_time": "2019-04-26T18:46:37.288468Z"
    }
   },
   "outputs": [],
   "source": [
    "def LeastSquareMethod(beProjectedVector,existedVector):\n",
    "    projectionNum=np.dot(np.linalg.inv(np.dot(beProjectedVector.T,beProjectedVector)),np.dot(beProjectedVector.T,existedVector))\n",
    "    return projectionNum"
   ]
  },
  {
   "cell_type": "code",
   "execution_count": 4,
   "metadata": {
    "ExecuteTime": {
     "end_time": "2019-04-26T17:48:18.328658Z",
     "start_time": "2019-04-26T17:48:18.325936Z"
    }
   },
   "outputs": [],
   "source": [
    "nsample = 20"
   ]
  },
  {
   "cell_type": "code",
   "execution_count": 5,
   "metadata": {
    "ExecuteTime": {
     "end_time": "2019-04-26T17:48:34.784670Z",
     "start_time": "2019-04-26T17:48:34.781678Z"
    }
   },
   "outputs": [],
   "source": [
    "x = np.linspace(0, 10 , nsample)"
   ]
  },
  {
   "cell_type": "code",
   "execution_count": 6,
   "metadata": {
    "ExecuteTime": {
     "end_time": "2019-04-26T17:48:38.629419Z",
     "start_time": "2019-04-26T17:48:38.620894Z"
    }
   },
   "outputs": [
    {
     "data": {
      "text/plain": [
       "array([ 0.        ,  0.52631579,  1.05263158,  1.57894737,  2.10526316,\n",
       "        2.63157895,  3.15789474,  3.68421053,  4.21052632,  4.73684211,\n",
       "        5.26315789,  5.78947368,  6.31578947,  6.84210526,  7.36842105,\n",
       "        7.89473684,  8.42105263,  8.94736842,  9.47368421, 10.        ])"
      ]
     },
     "execution_count": 6,
     "metadata": {},
     "output_type": "execute_result"
    }
   ],
   "source": [
    "x"
   ]
  },
  {
   "cell_type": "code",
   "execution_count": 12,
   "metadata": {
    "ExecuteTime": {
     "end_time": "2019-04-26T17:49:38.272532Z",
     "start_time": "2019-04-26T17:49:38.269245Z"
    }
   },
   "outputs": [],
   "source": [
    "X = sm.add_constant(x)"
   ]
  },
  {
   "cell_type": "code",
   "execution_count": 13,
   "metadata": {
    "ExecuteTime": {
     "end_time": "2019-04-26T17:57:01.120297Z",
     "start_time": "2019-04-26T17:57:01.115305Z"
    }
   },
   "outputs": [
    {
     "data": {
      "text/plain": [
       "array([[ 1.        ,  0.        ],\n",
       "       [ 1.        ,  0.52631579],\n",
       "       [ 1.        ,  1.05263158],\n",
       "       [ 1.        ,  1.57894737],\n",
       "       [ 1.        ,  2.10526316],\n",
       "       [ 1.        ,  2.63157895],\n",
       "       [ 1.        ,  3.15789474],\n",
       "       [ 1.        ,  3.68421053],\n",
       "       [ 1.        ,  4.21052632],\n",
       "       [ 1.        ,  4.73684211],\n",
       "       [ 1.        ,  5.26315789],\n",
       "       [ 1.        ,  5.78947368],\n",
       "       [ 1.        ,  6.31578947],\n",
       "       [ 1.        ,  6.84210526],\n",
       "       [ 1.        ,  7.36842105],\n",
       "       [ 1.        ,  7.89473684],\n",
       "       [ 1.        ,  8.42105263],\n",
       "       [ 1.        ,  8.94736842],\n",
       "       [ 1.        ,  9.47368421],\n",
       "       [ 1.        , 10.        ]])"
      ]
     },
     "execution_count": 13,
     "metadata": {},
     "output_type": "execute_result"
    }
   ],
   "source": [
    "X"
   ]
  },
  {
   "cell_type": "code",
   "execution_count": 14,
   "metadata": {
    "ExecuteTime": {
     "end_time": "2019-04-26T18:01:08.724789Z",
     "start_time": "2019-04-26T18:01:08.721661Z"
    }
   },
   "outputs": [],
   "source": [
    "beta = np.array([2, 5])"
   ]
  },
  {
   "cell_type": "code",
   "execution_count": 15,
   "metadata": {
    "ExecuteTime": {
     "end_time": "2019-04-26T18:01:12.509881Z",
     "start_time": "2019-04-26T18:01:12.505697Z"
    }
   },
   "outputs": [
    {
     "data": {
      "text/plain": [
       "array([2, 5])"
      ]
     },
     "execution_count": 15,
     "metadata": {},
     "output_type": "execute_result"
    }
   ],
   "source": [
    "beta"
   ]
  },
  {
   "cell_type": "code",
   "execution_count": 17,
   "metadata": {
    "ExecuteTime": {
     "end_time": "2019-04-26T18:01:39.896111Z",
     "start_time": "2019-04-26T18:01:39.892883Z"
    }
   },
   "outputs": [],
   "source": [
    "e = np.random.normal(size = nsample)"
   ]
  },
  {
   "cell_type": "code",
   "execution_count": 27,
   "metadata": {
    "ExecuteTime": {
     "end_time": "2019-04-26T18:13:52.369688Z",
     "start_time": "2019-04-26T18:13:52.366341Z"
    }
   },
   "outputs": [],
   "source": [
    "y = np.dot(X, beta) "
   ]
  },
  {
   "cell_type": "code",
   "execution_count": 28,
   "metadata": {
    "ExecuteTime": {
     "end_time": "2019-04-26T18:13:53.343908Z",
     "start_time": "2019-04-26T18:13:53.339529Z"
    }
   },
   "outputs": [
    {
     "data": {
      "text/plain": [
       "array([ 2.        ,  4.63157895,  7.26315789,  9.89473684, 12.52631579,\n",
       "       15.15789474, 17.78947368, 20.42105263, 23.05263158, 25.68421053,\n",
       "       28.31578947, 30.94736842, 33.57894737, 36.21052632, 38.84210526,\n",
       "       41.47368421, 44.10526316, 46.73684211, 49.36842105, 52.        ])"
      ]
     },
     "execution_count": 28,
     "metadata": {},
     "output_type": "execute_result"
    }
   ],
   "source": [
    "y"
   ]
  },
  {
   "cell_type": "code",
   "execution_count": 35,
   "metadata": {
    "ExecuteTime": {
     "end_time": "2019-04-26T18:46:41.630150Z",
     "start_time": "2019-04-26T18:46:41.622668Z"
    }
   },
   "outputs": [],
   "source": [
    "olsModelBySelf = LeastSquareMethod(X, y)"
   ]
  },
  {
   "cell_type": "code",
   "execution_count": 21,
   "metadata": {
    "ExecuteTime": {
     "end_time": "2019-04-26T18:05:21.492536Z",
     "start_time": "2019-04-26T18:05:21.489201Z"
    }
   },
   "outputs": [],
   "source": [
    "olsModel = sm.OLS(y, X)"
   ]
  },
  {
   "cell_type": "code",
   "execution_count": 22,
   "metadata": {
    "ExecuteTime": {
     "end_time": "2019-04-26T18:05:31.765207Z",
     "start_time": "2019-04-26T18:05:31.709587Z"
    }
   },
   "outputs": [],
   "source": [
    "res = olsModel.fit()"
   ]
  },
  {
   "cell_type": "code",
   "execution_count": 24,
   "metadata": {
    "ExecuteTime": {
     "end_time": "2019-04-26T18:05:43.089659Z",
     "start_time": "2019-04-26T18:05:43.084972Z"
    }
   },
   "outputs": [
    {
     "data": {
      "text/plain": [
       "array([2.36799528, 4.90637605])"
      ]
     },
     "execution_count": 24,
     "metadata": {},
     "output_type": "execute_result"
    }
   ],
   "source": [
    "res.params"
   ]
  },
  {
   "cell_type": "code",
   "execution_count": 26,
   "metadata": {
    "ExecuteTime": {
     "end_time": "2019-04-26T18:05:52.656620Z",
     "start_time": "2019-04-26T18:05:52.622634Z"
    }
   },
   "outputs": [
    {
     "data": {
      "text/html": [
       "<table class=\"simpletable\">\n",
       "<caption>OLS Regression Results</caption>\n",
       "<tr>\n",
       "  <th>Dep. Variable:</th>            <td>y</td>        <th>  R-squared:         </th> <td>   0.993</td>\n",
       "</tr>\n",
       "<tr>\n",
       "  <th>Model:</th>                   <td>OLS</td>       <th>  Adj. R-squared:    </th> <td>   0.992</td>\n",
       "</tr>\n",
       "<tr>\n",
       "  <th>Method:</th>             <td>Least Squares</td>  <th>  F-statistic:       </th> <td>   2394.</td>\n",
       "</tr>\n",
       "<tr>\n",
       "  <th>Date:</th>             <td>Sat, 27 Apr 2019</td> <th>  Prob (F-statistic):</th> <td>1.34e-20</td>\n",
       "</tr>\n",
       "<tr>\n",
       "  <th>Time:</th>                 <td>02:05:52</td>     <th>  Log-Likelihood:    </th> <td> -33.489</td>\n",
       "</tr>\n",
       "<tr>\n",
       "  <th>No. Observations:</th>      <td>    20</td>      <th>  AIC:               </th> <td>   70.98</td>\n",
       "</tr>\n",
       "<tr>\n",
       "  <th>Df Residuals:</th>          <td>    18</td>      <th>  BIC:               </th> <td>   72.97</td>\n",
       "</tr>\n",
       "<tr>\n",
       "  <th>Df Model:</th>              <td>     1</td>      <th>                     </th>     <td> </td>   \n",
       "</tr>\n",
       "<tr>\n",
       "  <th>Covariance Type:</th>      <td>nonrobust</td>    <th>                     </th>     <td> </td>   \n",
       "</tr>\n",
       "</table>\n",
       "<table class=\"simpletable\">\n",
       "<tr>\n",
       "    <td></td>       <th>coef</th>     <th>std err</th>      <th>t</th>      <th>P>|t|</th>  <th>[0.025</th>    <th>0.975]</th>  \n",
       "</tr>\n",
       "<tr>\n",
       "  <th>const</th> <td>    2.3680</td> <td>    0.587</td> <td>    4.037</td> <td> 0.001</td> <td>    1.136</td> <td>    3.600</td>\n",
       "</tr>\n",
       "<tr>\n",
       "  <th>x1</th>    <td>    4.9064</td> <td>    0.100</td> <td>   48.929</td> <td> 0.000</td> <td>    4.696</td> <td>    5.117</td>\n",
       "</tr>\n",
       "</table>\n",
       "<table class=\"simpletable\">\n",
       "<tr>\n",
       "  <th>Omnibus:</th>       <td> 0.694</td> <th>  Durbin-Watson:     </th> <td>   0.926</td>\n",
       "</tr>\n",
       "<tr>\n",
       "  <th>Prob(Omnibus):</th> <td> 0.707</td> <th>  Jarque-Bera (JB):  </th> <td>   0.480</td>\n",
       "</tr>\n",
       "<tr>\n",
       "  <th>Skew:</th>          <td>-0.356</td> <th>  Prob(JB):          </th> <td>   0.787</td>\n",
       "</tr>\n",
       "<tr>\n",
       "  <th>Kurtosis:</th>      <td> 2.737</td> <th>  Cond. No.          </th> <td>    11.5</td>\n",
       "</tr>\n",
       "</table><br/><br/>Warnings:<br/>[1] Standard Errors assume that the covariance matrix of the errors is correctly specified."
      ],
      "text/plain": [
       "<class 'statsmodels.iolib.summary.Summary'>\n",
       "\"\"\"\n",
       "                            OLS Regression Results                            \n",
       "==============================================================================\n",
       "Dep. Variable:                      y   R-squared:                       0.993\n",
       "Model:                            OLS   Adj. R-squared:                  0.992\n",
       "Method:                 Least Squares   F-statistic:                     2394.\n",
       "Date:                Sat, 27 Apr 2019   Prob (F-statistic):           1.34e-20\n",
       "Time:                        02:05:52   Log-Likelihood:                -33.489\n",
       "No. Observations:                  20   AIC:                             70.98\n",
       "Df Residuals:                      18   BIC:                             72.97\n",
       "Df Model:                           1                                         \n",
       "Covariance Type:            nonrobust                                         \n",
       "==============================================================================\n",
       "                 coef    std err          t      P>|t|      [0.025      0.975]\n",
       "------------------------------------------------------------------------------\n",
       "const          2.3680      0.587      4.037      0.001       1.136       3.600\n",
       "x1             4.9064      0.100     48.929      0.000       4.696       5.117\n",
       "==============================================================================\n",
       "Omnibus:                        0.694   Durbin-Watson:                   0.926\n",
       "Prob(Omnibus):                  0.707   Jarque-Bera (JB):                0.480\n",
       "Skew:                          -0.356   Prob(JB):                        0.787\n",
       "Kurtosis:                       2.737   Cond. No.                         11.5\n",
       "==============================================================================\n",
       "\n",
       "Warnings:\n",
       "[1] Standard Errors assume that the covariance matrix of the errors is correctly specified.\n",
       "\"\"\""
      ]
     },
     "execution_count": 26,
     "metadata": {},
     "output_type": "execute_result"
    }
   ],
   "source": [
    "res.summary()"
   ]
  },
  {
   "cell_type": "code",
   "execution_count": 37,
   "metadata": {
    "ExecuteTime": {
     "end_time": "2019-04-26T18:46:52.260599Z",
     "start_time": "2019-04-26T18:46:52.255648Z"
    }
   },
   "outputs": [
    {
     "data": {
      "text/plain": [
       "array([2., 5.])"
      ]
     },
     "execution_count": 37,
     "metadata": {},
     "output_type": "execute_result"
    }
   ],
   "source": [
    "olsModelBySelf"
   ]
  },
  {
   "cell_type": "code",
   "execution_count": null,
   "metadata": {},
   "outputs": [],
   "source": []
  },
  {
   "cell_type": "code",
   "execution_count": null,
   "metadata": {},
   "outputs": [],
   "source": []
  },
  {
   "cell_type": "code",
   "execution_count": null,
   "metadata": {},
   "outputs": [],
   "source": []
  },
  {
   "cell_type": "code",
   "execution_count": null,
   "metadata": {},
   "outputs": [],
   "source": []
  },
  {
   "cell_type": "code",
   "execution_count": null,
   "metadata": {},
   "outputs": [],
   "source": []
  },
  {
   "cell_type": "code",
   "execution_count": null,
   "metadata": {},
   "outputs": [],
   "source": []
  },
  {
   "cell_type": "code",
   "execution_count": null,
   "metadata": {},
   "outputs": [],
   "source": []
  },
  {
   "cell_type": "code",
   "execution_count": null,
   "metadata": {},
   "outputs": [],
   "source": []
  },
  {
   "cell_type": "code",
   "execution_count": null,
   "metadata": {},
   "outputs": [],
   "source": []
  }
 ],
 "metadata": {
  "hide_input": false,
  "kernelspec": {
   "display_name": "Python 3",
   "language": "python",
   "name": "python3"
  },
  "language_info": {
   "codemirror_mode": {
    "name": "ipython",
    "version": 3
   },
   "file_extension": ".py",
   "mimetype": "text/x-python",
   "name": "python",
   "nbconvert_exporter": "python",
   "pygments_lexer": "ipython3",
   "version": "3.6.7"
  },
  "toc": {
   "base_numbering": 1,
   "nav_menu": {},
   "number_sections": true,
   "sideBar": true,
   "skip_h1_title": false,
   "title_cell": "Table of Contents",
   "title_sidebar": "Contents",
   "toc_cell": false,
   "toc_position": {},
   "toc_section_display": true,
   "toc_window_display": false
  },
  "varInspector": {
   "cols": {
    "lenName": 16,
    "lenType": 16,
    "lenVar": 40
   },
   "kernels_config": {
    "python": {
     "delete_cmd_postfix": "",
     "delete_cmd_prefix": "del ",
     "library": "var_list.py",
     "varRefreshCmd": "print(var_dic_list())"
    },
    "r": {
     "delete_cmd_postfix": ") ",
     "delete_cmd_prefix": "rm(",
     "library": "var_list.r",
     "varRefreshCmd": "cat(var_dic_list()) "
    }
   },
   "types_to_exclude": [
    "module",
    "function",
    "builtin_function_or_method",
    "instance",
    "_Feature"
   ],
   "window_display": false
  }
 },
 "nbformat": 4,
 "nbformat_minor": 2
}
