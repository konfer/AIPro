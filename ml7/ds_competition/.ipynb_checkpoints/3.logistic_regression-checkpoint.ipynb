{
 "cells": [
  {
   "cell_type": "code",
   "execution_count": 1,
   "metadata": {},
   "outputs": [],
   "source": [
    "# 载入所需要的库\n",
    "import numpy as np\n",
    "import pandas as pd\n",
    "import tensorflow as tf\n",
    "# 载入数据\n",
    "X_test = pd.read_pickle('../input/X_test.pkl')\n",
    "X_train = pd.read_pickle('../input/X_train.pkl')\n",
    "y_train = pd.read_pickle('../input/y_train.pkl')"
   ]
  },
  {
   "cell_type": "code",
   "execution_count": 2,
   "metadata": {},
   "outputs": [],
   "source": [
    "from sklearn.preprocessing import minmax_scale as mm\n",
    "X_test = mm(X_test)\n",
    "X_train= mm(X_train)"
   ]
  },
  {
   "cell_type": "markdown",
   "metadata": {},
   "source": [
    "## 逻辑回归"
   ]
  },
  {
   "cell_type": "code",
   "execution_count": 3,
   "metadata": {},
   "outputs": [
    {
     "name": "stdout",
     "output_type": "stream",
     "text": [
      "Best parameters\n",
      "{'C': 100000.0}\n",
      "best F1: \n",
      "0.512087212446\n"
     ]
    }
   ],
   "source": [
    "import warnings \n",
    "warnings.filterwarnings(\"ignore\")\n",
    "from sklearn.linear_model import LogisticRegression\n",
    "from sklearn.model_selection import GridSearchCV\n",
    "\n",
    "# 一个训练优化模型的函数\n",
    "def train_optimal_classifier(clf,param):\n",
    "    grid_search = GridSearchCV(\n",
    "        clf,\n",
    "        param_grid=param,\n",
    "        cv=5,\n",
    "        verbose=0,\n",
    "        scoring='f1_weighted',\n",
    "        error_score=0,\n",
    "        refit=True ,\n",
    "        n_jobs=-1\n",
    "        )\n",
    "    grid_search.fit(X_train, y_train)\n",
    "    print(\"Best parameters\")\n",
    "    print(grid_search.best_params_)\n",
    "    print('best F1: ')\n",
    "    print(grid_search.best_score_)\n",
    "    return (grid_search.best_estimator_)\n",
    "\n",
    "\n",
    "LR = LogisticRegression(class_weight='balanced',random_state=33,n_jobs=-1,solver='lbfgs')\n",
    "\n",
    "param_LR = {  \"C\":[2e4,5e4,1e5,2e5,4e5,8e5],\n",
    "             }\n",
    "LR_best = train_optimal_classifier(LR,param_LR)"
   ]
  },
  {
   "cell_type": "markdown",
   "metadata": {
    "collapsed": true
   },
   "source": [
    "## Bagging 逻辑回归"
   ]
  },
  {
   "cell_type": "code",
   "execution_count": 4,
   "metadata": {},
   "outputs": [
    {
     "name": "stdout",
     "output_type": "stream",
     "text": [
      "Best parameters\n",
      "{}\n",
      "best F1: \n",
      "0.511795110027\n"
     ]
    }
   ],
   "source": [
    "from sklearn.ensemble import BaggingClassifier\n",
    "BC = BaggingClassifier(LR_best)\n",
    "param = {}\n",
    "SVM_best = train_optimal_classifier(BC,param)"
   ]
  },
  {
   "cell_type": "code",
   "execution_count": null,
   "metadata": {
    "collapsed": true
   },
   "outputs": [],
   "source": [
    "LR_best.fit(X_train, y_train)\n",
    "y_pred = LR_best.predict()"
   ]
  },
  {
   "cell_type": "code",
   "execution_count": 16,
   "metadata": {},
   "outputs": [],
   "source": [
    "data1 =  pd.read_csv(\"../input/studentID_test.csv\",encoding='utf-8')"
   ]
  },
  {
   "cell_type": "code",
   "execution_count": 18,
   "metadata": {},
   "outputs": [],
   "source": [
    "data2 = pd.DataFrame(y_pred)\n",
    "data = pd.concat([data1,data2],axis =1)\n",
    "data.to_csv('../data1.csv')"
   ]
  }
 ],
 "metadata": {
  "anaconda-cloud": {},
  "kernelspec": {
   "display_name": "Python 2",
   "language": "python",
   "name": "python2"
  },
  "language_info": {
   "codemirror_mode": {
    "name": "ipython",
    "version": 2
   },
   "file_extension": ".py",
   "mimetype": "text/x-python",
   "name": "python",
   "nbconvert_exporter": "python",
   "pygments_lexer": "ipython2",
   "version": "2.7.12"
  }
 },
 "nbformat": 4,
 "nbformat_minor": 1
}
