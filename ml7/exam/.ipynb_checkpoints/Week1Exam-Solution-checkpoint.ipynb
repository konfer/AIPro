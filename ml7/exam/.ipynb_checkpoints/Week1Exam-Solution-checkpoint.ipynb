{
 "cells": [
  {
   "cell_type": "markdown",
   "metadata": {},
   "source": [
    "## 七月在线机器学习集训营五期第一周(Python基础)考试参考答案\n",
    "#### 参考答案说明:\n",
    "\n",
    "- 来源：来自于网络搜索，笔记整理，当期及往期优秀同学试卷等途径\n",
    "- 使用：该答案仅供参考，非唯一固定答案，欢迎同学批评，指正。"
   ]
  },
  {
   "cell_type": "markdown",
   "metadata": {},
   "source": [
    "<center><h1>####答卷开始####</h1></center>\n",
    "***"
   ]
  },
  {
   "cell_type": "markdown",
   "metadata": {},
   "source": [
    "### 简答题 (共十题，每题4分，共40分)"
   ]
  },
  {
   "cell_type": "markdown",
   "metadata": {},
   "source": [
    "#### 1.请谈谈Python中is 和 == 的区别(代码演示)\n",
    "\n",
    "\n"
   ]
  },
  {
   "cell_type": "markdown",
   "metadata": {},
   "source": [
    "is用于比较两个变量是否引用了同一个内存地址\n",
    "is 表示的是对象标示符（object identity），作用是用来检查对象的标示符是否一致，也就是比较两个对象在内存中的地址是否一样。\n",
    "\n",
    "\n",
    "==用于比较两个变量的值是否相等,== 表示的是相等（equality），是用来检查两个对象是否相等。\n",
    "\n",
    "\n",
    "is 是检查两个对象是否指向同一块内存空间，而 == 是检查他们的值是否相等。\n",
    "\n",
    "可以看出，is 是比 == 更严格的检查，is 返回True表明这两个对象指向同一块内存，值也一定相同。"
   ]
  },
  {
   "cell_type": "code",
   "execution_count": 4,
   "metadata": {
    "ExecuteTime": {
     "end_time": "2019-02-10T02:58:09.248632Z",
     "start_time": "2019-02-10T02:58:09.233319Z"
    }
   },
   "outputs": [
    {
     "name": "stdout",
     "output_type": "stream",
     "text": [
      "a is b: True\n",
      "a == b: True\n",
      "id(a):10919456\n",
      "id(b):10919456\n",
      "\n",
      "\n",
      "a is b: False\n",
      "a == b: True\n",
      "id(a):140189814318536\n",
      "id(b):140189814322248\n",
      "\n",
      "\n",
      "s1 is s2: False\n",
      "s1 == s2: True\n",
      "id(s1):140189813829816\n",
      "id(s2):140189813829984\n"
     ]
    }
   ],
   "source": [
    "# case 1:对于数值型和字符串型对象, python的存储机制使得a和b其实指向同一个地址，所以is和==都是True\n",
    "a = 5\n",
    "b = 5\n",
    "print('a is b:', a is b)\n",
    "print('a == b:', a == b)\n",
    "print('id(a):%s\\nid(b):%s'%(id(a),id(b)))\n",
    "print('\\n')\n",
    "\n",
    "# case 2:对于list、tuple等容器，a和b虽然内容一样，但是是两个不同的对象引用，指向两个不同的内存地址\n",
    "a = [1,2,3]\n",
    "b = [1,2,3]\n",
    "print('a is b:', a is b)\n",
    "print('a == b:', a == b)\n",
    "print('id(a):%s\\nid(b):%s'%(id(a),id(b)))\n",
    "print('\\n')\n",
    "\n",
    "# case 3：实际上可以通过修改对象的__eq__方法改变==的比较方式\n",
    "class Student():\n",
    "    def __init__(self, name, age):\n",
    "        self.name = name\n",
    "        self.age = age\n",
    "    def __eq__(self, other):\n",
    "#         return self.name == other.name\n",
    "        return False\n",
    "s1 = Student('David',18)\n",
    "s2 = Student('David',20)\n",
    "# 因为age不相同，很显然s1和s2是两个不同内容的对象，但是通过改写__eq__可以只通过比较名字来判断是否==\n",
    "print('s1 is s2:', a is b)\n",
    "print('s1 == s2:', a == b)\n",
    "print('id(s1):%s\\nid(s2):%s'%(id(s1),id(s2)))"
   ]
  },
  {
   "cell_type": "markdown",
   "metadata": {},
   "source": [
    "#### 2.什么是Python中的自省？"
   ]
  },
  {
   "cell_type": "markdown",
   "metadata": {},
   "source": [
    "Python中的自省类似于Java中的反射机制,用于实现在<b>运行时</b>能够获得自身的结构和方法，返回该对象的属性和函数列表等信息\n",
    "也常用于给定对象和该对象的函数或者属性的名字，返回对象的函数或者属性实例。\n",
    "\n",
    "代表性的函数如：help()、dir()、isinstance()，getattar()、setatter()等"
   ]
  },
  {
   "cell_type": "markdown",
   "metadata": {},
   "source": [
    "#### 3.Python中的高阶函数是指什么？"
   ]
  },
  {
   "cell_type": "markdown",
   "metadata": {},
   "source": [
    "高阶函数属于函数式编程中的一个概念。在python中函数是一个对象，这意味着可以使用其他变量引用函数。   \n",
    "\n",
    "python里的高阶函数，即接受函数作为参数的函数。\n",
    "\n",
    "- python中的常用的高阶函数有：\n",
    "    - map: 可理解为对数据的做一对一映射\n",
    "    - reduce: 可理解为对数据做多对一的映射\n",
    "    - filter: 对数据进行逐个过滤，仅保留符合条件的元素"
   ]
  },
  {
   "cell_type": "markdown",
   "metadata": {},
   "source": [
    "#### 4. Python类中有哪些的成员，如何分类他们，他们各自又有哪些用途？"
   ]
  },
  {
   "cell_type": "markdown",
   "metadata": {},
   "source": [
    "- 数据成员\n",
    " - 类变量 : 在类中且函数体之外,实例之间共享\n",
    " - 实例变量 : 定义在init方法中,作用于当前实例的类\n",
    "- 方法成员\n",
    " - 类方法 : 用@classmethod装饰器,第一个参数为cls\n",
    " - 实例方法 : 绑定到实例的方法, 第一个参数为self\n",
    " * 静态方法 :  \n",
    "   > 1. 用@staticmethod装饰器\n",
    "   > 2. 没有cls self参数限制\n",
    "   > 3. 可以类名访问,也可以实例访问"
   ]
  },
  {
   "cell_type": "markdown",
   "metadata": {},
   "source": [
    "#### 5 Python中列表，元组的相同之处及区别都有哪些？集合与字典呢？"
   ]
  },
  {
   "cell_type": "markdown",
   "metadata": {
    "ExecuteTime": {
     "end_time": "2019-02-03T08:32:36.326923Z",
     "start_time": "2019-02-03T08:32:36.318745Z"
    }
   },
   "source": [
    "- 列表与元组\n",
    "    - 相同点：\n",
    "        - 列表与元组都是容器，是一系列的对象\n",
    "        - 都可以包含任意类型的元素甚至可以是一个序列，还可以包含元素的顺序\n",
    "    - 不同点：\n",
    "        - 列表是可变的，而元组是不可变的，tuple 不可追加，tuple大小不可再改变。\n",
    "        - 不能把列表当做字典的关键字，因为只有不可变的值才能进行哈希运算，因此只有不可变的值才能作为关键字。要使用列表做关键字，你需要把它转化为元组\n",
    "        \n",
    "- 集合与字典\n",
    "    - 相同点：\n",
    "        - dict和set当中都没有重复的key值，且key值必须是不可改变的对象。\n",
    "        - 两者存储的元素都是无序的。\n",
    "    - 不同点：\n",
    "        - set是一组key的集合，但不存储value；\n",
    "        - dict使用键-值（key-value）存储，具有极快的查找速度。"
   ]
  },
  {
   "cell_type": "markdown",
   "metadata": {},
   "source": [
    "#### 6.尝试简述一下什么是Python类中的数据封装，以及封装的意义？ "
   ]
  },
  {
   "cell_type": "markdown",
   "metadata": {},
   "source": [
    "- 数据封装是面向对象编程的第一大特征。所谓数据封装，就是指在类定义时指定访问内部数据的方式，这种方式通过在类中定义函数来实现，这样数据就被封装起来了。而封装数据的函数是和类本身关联在一起的，我们称之为类的方法。   \n",
    "\n",
    "\n",
    "- 封装的意义\n",
    "    - 安全：避免将实现直接对外暴露，在复用时可以防止无意或有意的篡改\n",
    "    - 隔离性：实现高内聚，低耦合，类内部细节的改动不会影响外部访问对象的实现等\n",
    "    - 可复用：封装好的对象可以被外部多个对象访问，实现复用"
   ]
  },
  {
   "cell_type": "markdown",
   "metadata": {},
   "source": [
    "#### 7.解释下Python中的LEGB规则 ？ "
   ]
  },
  {
   "cell_type": "markdown",
   "metadata": {},
   "source": [
    "L-Local(function) : 局部名字空间。常常指的是函数内部的作用域    \n",
    "E-Enclosing function locals ：函数外部嵌套函数的自由变量所处的名字空间    \n",
    "G-Global(module)：函数定义所在模块（文件）的名字空间   \n",
    "B-Builtin(Python)：Python内置模块的名字空间   \n",
    "   \n",
    "LEGB就是用来规定命名空间查找顺序的规则：L -> E -> G -> B"
   ]
  },
  {
   "cell_type": "markdown",
   "metadata": {},
   "source": [
    "#### 8.谈谈您对Python中闭包的理解？"
   ]
  },
  {
   "cell_type": "markdown",
   "metadata": {},
   "source": [
    "闭包（closure）是函数式编程的重要的语法结构。   \n",
    "在python中，函数里可以有内嵌函数，我们称外部的为外部函数，里面的为内嵌函数   \n",
    "如果内嵌函数使用了外部函数的变量，并且外部函数的返回值是内嵌函数的引用，则形成了一个闭包函数   \n",
    "\n",
    "ps:python的装饰器即是一个闭包函数"
   ]
  },
  {
   "cell_type": "markdown",
   "metadata": {},
   "source": [
    "#### 9\t简述你理解 的Python中的数据描述符"
   ]
  },
  {
   "cell_type": "markdown",
   "metadata": {},
   "source": [
    "Python类中的 `@property` 装饰器负责把一个属性映射成为方法供外部调用：\n",
    "\n",
    "```python\n",
    "class Person(object):\n",
    "\n",
    "    def __init__(self, birth):\n",
    "        self._birth = birth\n",
    "\n",
    "    @property#getter\n",
    "    def birth(self):\n",
    "        return self._birth\n",
    "\n",
    "    @birth.setter\n",
    "    def birth(self):\n",
    "        return self._birth\n",
    "\n",
    "    @property\n",
    "    def age(self):\n",
    "        return 2018 - self.birth\n",
    "```\n",
    "\n",
    "上边的代码中，通过 `@property` 设置变量，生日（birth）是可读可写，而年龄（age）则是可读不可写\n",
    "\n",
    "从而实现了对属性访问的控制"
   ]
  },
  {
   "cell_type": "markdown",
   "metadata": {},
   "source": [
    "#### 10.Python中的模块和包是什么，如何自定义并使用？"
   ]
  },
  {
   "cell_type": "markdown",
   "metadata": {},
   "source": [
    "- 模块\n",
    "    - 一个模块就是一个.py文件，里面定义了可以复用的函数和变量，当需要复用的时候就import导入进来进行复用\n",
    "    - 自定义：创建一个.py文件就是文件名就是模块名称\n",
    "    - 使用：使用import导入进来使用，搜索目录有当前路径、Bif中查找、安装路径、PYTHONPATH环境变量路径，找到该模块则可以导入并使用模块名.方法名的方式调用模块中的方法\n",
    "- 包\n",
    "    - 就是多个模块或着多个包的集合（文件夹），避免由于开发者多而可能造成的模块命名重复，所以用包来统一管理模块\n",
    "    - 自定义：给多个模块创建一个文件夹，文件夹内可以有模块（.py文件）或者文件夹（子包），并且需要包含一个__init__.py文件，用来做一些初始化工作和避免被解释器当作普通字符串\n",
    "\n",
    "\n",
    "- 使用：   \n",
    "  - 同样是使用import的方式导入到当前脚本中"
   ]
  },
  {
   "cell_type": "markdown",
   "metadata": {},
   "source": [
    "### 代码题(共十题，每题6分,共60分)"
   ]
  },
  {
   "cell_type": "markdown",
   "metadata": {},
   "source": [
    "#### 1. 创建一个函数，接收一个字符串参数，判断其做为Python标识符是否合法。\n",
    "\n",
    "具体要求： \n",
    "- 如果合法则输出 True，否则输出 False。\n",
    "- 如果该字符串与Python内置的关键字，或Bifs冲突，则打印'conflict'\n",
    "- 注:Python标识符的规则，关键字和Bifs可搜索得到"
   ]
  },
  {
   "cell_type": "code",
   "execution_count": 1,
   "metadata": {},
   "outputs": [
    {
     "name": "stdout",
     "output_type": "stream",
     "text": [
      "conflict\n",
      "False\n",
      "False\n"
     ]
    }
   ],
   "source": [
    "import keyword,string\n",
    "\n",
    "def Identifier(s):\n",
    "    kw = keyword.kwlist\n",
    "    if s in kw or s in dir(__builtins__): \n",
    "        print(\"conflict\")\n",
    "    elif s.isidentifier(): # isidentifier() 可用来判断变量名是否合法\n",
    "        print(\"True\")\n",
    "    else:\n",
    "        print(\"False\")\n",
    "\n",
    "Identifier(\"list\")\n",
    "Identifier(\"abc#\")\n",
    "Identifier(\"1a\")"
   ]
  },
  {
   "cell_type": "markdown",
   "metadata": {},
   "source": [
    "#### 2.编写一个函数，能生成包含20个随机整数的列表，然后将前10个元素升序排列，后10个元素降序排列，并分别打印输出"
   ]
  },
  {
   "cell_type": "code",
   "execution_count": 2,
   "metadata": {},
   "outputs": [
    {
     "name": "stdout",
     "output_type": "stream",
     "text": [
      "前十个随机数 升序: [9, 10, 11, 15, 26, 36, 37, 42, 57, 83]\n",
      "后十个随机数 降序: [91, 52, 37, 35, 21, 17, 12, 12, 7, 3]\n"
     ]
    }
   ],
   "source": [
    "import random\n",
    "def sort2part():\n",
    "\n",
    "    ran_list = []\n",
    "\n",
    "    for i in range(20):\n",
    "        ran_list.append(random.randint(0,100))\n",
    "\n",
    "    ran_list_pre_10 = ran_list[0:10]\n",
    "    ran_list_pre_10.sort()\n",
    "    ran_list_last_10 = ran_list[10::]\n",
    "    ran_list_last_10.sort(reverse=True)\n",
    "\n",
    "    print(\"前十个随机数 升序: \"+ str(ran_list_pre_10))\n",
    "    print(\"后十个随机数 降序: \" + str(ran_list_last_10))\n",
    "\n",
    "sort2part()"
   ]
  },
  {
   "cell_type": "markdown",
   "metadata": {},
   "source": [
    "#### 3.有一分数序列为：2/1，3/2，5/3，8/5，13/8，21/13,请使用Python代码出生成并打印该数列的前30项并求和返回"
   ]
  },
  {
   "cell_type": "code",
   "execution_count": 1,
   "metadata": {
    "ExecuteTime": {
     "end_time": "2019-02-04T08:27:48.922710Z",
     "start_time": "2019-02-04T08:27:48.911724Z"
    }
   },
   "outputs": [
    {
     "name": "stdout",
     "output_type": "stream",
     "text": [
      "2/1\n",
      "3/2\n",
      "5/3\n",
      "8/5\n",
      "13/8\n",
      "21/13\n",
      "34/21\n",
      "55/34\n",
      "89/55\n",
      "144/89\n",
      "233/144\n",
      "377/233\n",
      "610/377\n",
      "987/610\n",
      "1597/987\n",
      "2584/1597\n",
      "4181/2584\n",
      "6765/4181\n",
      "10946/6765\n",
      "17711/10946\n",
      "28657/17711\n",
      "46368/28657\n",
      "75025/46368\n",
      "121393/75025\n",
      "196418/121393\n",
      "317811/196418\n",
      "514229/317811\n",
      "832040/514229\n",
      "1346269/832040\n",
      "2178309/1346269\n",
      "该数列的前30项和:  48.84060068717216\n"
     ]
    }
   ],
   "source": [
    "def fab(max): \n",
    "    n, a, b = 0, 2, 1 \n",
    "    result = 0\n",
    "    while n < max: \n",
    "        print(\"%d/%d\"%(a,b))\n",
    "        result += a/b\n",
    "        a, b = a + b, a\n",
    "        n += 1\n",
    "    return result\n",
    "\n",
    "print(\"该数列的前30项和: \",fab(30))"
   ]
  },
  {
   "cell_type": "code",
   "execution_count": null,
   "metadata": {},
   "outputs": [],
   "source": []
  },
  {
   "cell_type": "markdown",
   "metadata": {},
   "source": [
    "#### 4. BMI编写\n",
    "身体质量指数（BMI）是根据人的体重和身高计算得出的一个数字，BMI是可靠的身体肥胖指标，其计算公式：BMI=Weight/High2，其中体重单位为公斤，身高单位为米。\n",
    "\n",
    "- 计算公式为：$BMI=体重（kg）÷身高^2（m）$\n",
    "\n",
    "- 提示用户输入体重（kg）和身高的数字(m)(注意单位），然后计算BMI。\n",
    "\n",
    "- 根据BMI指数范围，定义当前健康状态。BMI指数在18至25之间定义为健康的标准体重,小于该范围定义为偏瘦，超过该范围定义为偏重。\n",
    "\n",
    "- 将BMI指数和其所代表状态输出 \n",
    "\n",
    "\n"
   ]
  },
  {
   "cell_type": "code",
   "execution_count": null,
   "metadata": {},
   "outputs": [],
   "source": [
    "weight = float(input('请输入您的体重：'))\n",
    "high = float(input('请输入您的身高：'))\n",
    "BMI = weight / (high**2)\n",
    "weight_result = \"健康的标准体重\"\n",
    "\n",
    "if BMI > 25:\n",
    "    weight_result = \"偏重\"\n",
    "elif BMI < 18:\n",
    "    weight_result = \"偏瘦\"\n",
    "else:\n",
    "    pass\n",
    "    \n",
    "print('您的BMI指数为%.2f，您的体重为%s'%(BMI,weight_result))"
   ]
  },
  {
   "cell_type": "markdown",
   "metadata": {},
   "source": [
    "#### 5.字符统计\n",
    "- 创建一个函数，接收字符串输入，分别统计出其中英文字母、空格、数字和其它字符的个数后打印。\n",
    "- 提示：\n",
    "  - ord('a') 能将字符 'a' 转化为 ASCII 码表上对应的数值，\n",
    "  - 例如，空格为32  \n",
    "  - 数字 0-9 对应的码值为 48-57\n",
    "  - 大写字母 A-Z 对应 65-90\n",
    "  - 小写字母 a-z 对应 97-122\n",
    "  - 比122高的都是其它。"
   ]
  },
  {
   "cell_type": "code",
   "execution_count": null,
   "metadata": {
    "collapsed": true
   },
   "outputs": [],
   "source": [
    "def str_count(s):  \n",
    "    count_a=count_z=count_o=count_s=0  \n",
    "    for i in s:  \n",
    "        if (ord(i)>=97 and ord(i)<=122) or (ord(i)>=65 and ord(i)<=90):  \n",
    "            count_a=count_a+1  \n",
    "        elif ord(i)>=48 and ord(i)<=57:  \n",
    "            count_z=count_z+1  \n",
    "        elif ord(i)==32:  \n",
    "            count_s=count_s+1  \n",
    "        else:  \n",
    "            count_o=count_o+1  \n",
    "    print(\"空格个数：%d个\"%count_s)  \n",
    "    print(\"数字个数：%d个\"%count_z)\n",
    "    print(\"英文字母个数：%d个\"%count_a)\n",
    "    print(\"其他字符个数：%d个\"%count_o)  \n",
    "    \n",
    "str_count(\"我是wei guo ying,今年27岁\")"
   ]
  },
  {
   "cell_type": "markdown",
   "metadata": {
    "collapsed": true
   },
   "source": [
    "#### 6.创建一个函数，可以将去除给定列表中中相邻且重复的元素(只保留一个)后，打印输出结果。\n",
    "- 说明\n",
    "  - 输入参数为 l1=[1,2,3,4,4,4,4,4,4,5,6,6,8,8,12,12,12,12,13]\n",
    "  - 操作后，保证原有整体排序不变，仅处理相邻且重复的元素\n",
    "  - 请勿使用set，否则该题不计分。"
   ]
  },
  {
   "cell_type": "code",
   "execution_count": 1,
   "metadata": {
    "ExecuteTime": {
     "end_time": "2019-01-29T14:40:31.130427Z",
     "start_time": "2019-01-29T14:40:31.117733Z"
    }
   },
   "outputs": [
    {
     "name": "stdout",
     "output_type": "stream",
     "text": [
      "[1, 2, 3, 4, 5, 6, 8, 12, 13]\n"
     ]
    }
   ],
   "source": [
    "def remove_same(ll):\n",
    "    cur = ll[0]\n",
    "    remove_data = []\n",
    "    for i in range(1,len(ll)):\n",
    "        if cur == ll[i]:\n",
    "            remove_data.append(ll[i])\n",
    "        else:\n",
    "            cur = ll[i]\n",
    "    for j in range(len(remove_data)):\n",
    "        ll.remove(remove_data[j])\n",
    "    return ll\n",
    "\n",
    "lst=[1,2,3,4,4,4,4,4,4,5,6,6,8,8,12,12,12,12,13]\n",
    "\n",
    "print(remove_same(lst))"
   ]
  },
  {
   "cell_type": "markdown",
   "metadata": {},
   "source": [
    "\n",
    "\n",
    "\n",
    "\n",
    "\n",
    "\n",
    "\n",
    "\n",
    "\n",
    "\n",
    "\n",
    "\n",
    "\n",
    "#### 7 \t创建一个函数，接收一个由整数组成的列表（需对输入列表做检查，长度最少为2,数据类型为整型），并检验后下列条件后输出：\n",
    "- 如列表是升序排列的,则输出\"ASC\";   \n",
    "- 如列表是降序排列的,则输出\"DESC\";   \n",
    "- 如列表无序，则输出\"WRONG\"。   "
   ]
  },
  {
   "cell_type": "code",
   "execution_count": null,
   "metadata": {},
   "outputs": [],
   "source": [
    "def check_data(l):\n",
    "    \n",
    "    if len(l) < 2:\n",
    "        print('您输入的列表长度小于2，请重新输入')\n",
    "    else:\n",
    "        check_list = list(filter(lambda x : True if isinstance(x,int) else False,l))\n",
    "        if len(l) == len(check_list):\n",
    "            if l == sorted(l):\n",
    "                print('ASC')\n",
    "            elif l == sorted(l,reverse = True):\n",
    "                print('DESC')\n",
    "            else:\n",
    "                print('WRONG')\n",
    "        else:\n",
    "            print(\"列表中数据类型包含非整型，请重新输入\")\n",
    "\n",
    "check_data([1])\n",
    "check_data([1,\"2\"])\n",
    "check_data([1,2,3,4])\n",
    "check_data([4,3,2,1])\n",
    "check_data([1,3,2,4])"
   ]
  },
  {
   "cell_type": "markdown",
   "metadata": {},
   "source": [
    "#### 8.高阶函数综合运用\n",
    "\n",
    "l1=[1,3,6,8,10,11,17]\n",
    "\n",
    "请仅使用map,reduce,filter对上方数组依次进行如下三次操作：\n",
    "\n",
    "\n",
    "- 剔除掉所有的偶数后打印\n",
    "\n",
    "- 对剩下的数字每个数字进行平方后打印\n",
    "\n",
    "- 对数组求和后打印"
   ]
  },
  {
   "cell_type": "code",
   "execution_count": 1,
   "metadata": {
    "ExecuteTime": {
     "end_time": "2019-01-29T02:14:32.798057Z",
     "start_time": "2019-01-29T02:14:32.791237Z"
    }
   },
   "outputs": [
    {
     "name": "stdout",
     "output_type": "stream",
     "text": [
      "[1, 3, 11, 17]\n"
     ]
    }
   ],
   "source": [
    "#剔除掉所有的偶数后打印\n",
    "l1 = [1,3,6,8,10,11,17]\n",
    "l2 = list(filter(lambda x:True if x%2 == 1 else False,l1))\n",
    "print(l2)"
   ]
  },
  {
   "cell_type": "code",
   "execution_count": 2,
   "metadata": {
    "ExecuteTime": {
     "end_time": "2019-01-29T02:14:33.748328Z",
     "start_time": "2019-01-29T02:14:33.742789Z"
    }
   },
   "outputs": [
    {
     "name": "stdout",
     "output_type": "stream",
     "text": [
      "[1, 9, 121, 289]\n"
     ]
    }
   ],
   "source": [
    "#对剩下的数字每个数字进行平方后打印\n",
    "l3 = list(map(lambda x:pow(x,2),l2))\n",
    "print(l3)"
   ]
  },
  {
   "cell_type": "code",
   "execution_count": 3,
   "metadata": {
    "ExecuteTime": {
     "end_time": "2019-01-29T02:14:34.565979Z",
     "start_time": "2019-01-29T02:14:34.561148Z"
    }
   },
   "outputs": [
    {
     "name": "stdout",
     "output_type": "stream",
     "text": [
      "420\n"
     ]
    }
   ],
   "source": [
    "#对数组求和后打印\n",
    "from functools import reduce\n",
    "l4 = reduce(lambda x,y : x+y,l3)\n",
    "print(l4)"
   ]
  },
  {
   "cell_type": "markdown",
   "metadata": {},
   "source": [
    "# 9.Python类设计\n",
    "设计一个公司类，完成以下要求，<font color=red>并实例化不同对象进行验证</font>\n",
    "\n",
    "类变量\n",
    " - 类下公司的总个数，类下实例的名称列表\n",
    "\n",
    "类方法\n",
    " - 返回公司类共有多少个公司实例\n",
    " - 返回公司类的公司实例有名称列表\n",
    "\n",
    "实例变量\n",
    "- 公司名，简介，利润，销售额，总成本，雇员姓名，雇员列表\n",
    "\n",
    "实例方法：\n",
    "- 招聘人才（每招一个人会有成本产生，影响该实例雇员列表，人数，总成本）\n",
    "- 解雇人员（每解雇一个人会有成本产生，影响该实例雇员列表，人数 ，总成本）\n",
    "- 公司广告推广(影响该实例总成本)\n",
    "- 交社保(按公司雇员总人数计算，影响该实例总成本)\n",
    "- 交税(按公司雇员总人数计算，影响该实例总成本)\n",
    "- 销售（按销售件数*价格计算销售额，利润按销售额*利润率进行计算利润。）\n",
    "- 获取公司雇员列表\n",
    "- 获取公司净利润"
   ]
  },
  {
   "cell_type": "code",
   "execution_count": 1,
   "metadata": {},
   "outputs": [],
   "source": [
    "class Company():\n",
    "    companyNum = 0\n",
    "    companyList = []\n",
    "\n",
    "    def __init__(self, companyName, profile):\n",
    "        self.companyName = companyName\n",
    "        self.profile = profile\n",
    "        self.profit = 0\n",
    "        self.sales = 0\n",
    "        self.totalCost = 0\n",
    "        self.employeeNames = []\n",
    "        self.employeeList = []\n",
    "        Company.companyNum += 1\n",
    "        Company.companyList.append(companyName)\n",
    "\n",
    "    def recruit(self, name, *args, cost=10000):\n",
    "        self.employeeNames.append(name)\n",
    "        self.employeeList.append((name,*args))\n",
    "        self.totalCost += cost\n",
    "    def dismiss(self, name, cost=5000):\n",
    "        try:\n",
    "            self.employeeNames.remove(name)\n",
    "            for index in range(len(self.employeeList)):\n",
    "                if self.employeeList[index][0]==name:\n",
    "                    self.employeeList.pop(index)\n",
    "            self.totalCost += cost\n",
    "        except ValueError:\n",
    "            print('没有name={}的员工，请重试'.format(name))\n",
    "            \n",
    "    def adPromotion(self, cost):\n",
    "        self.totalCost += cost\n",
    "        \n",
    "    def payInsurance(self, costPerPerson=1000):\n",
    "        self.totalCost += costPerPerson * len(self.employeeNames)\n",
    "    \n",
    "    def payTax(self, costPerPerson=500):\n",
    "        self.totalCost += costPerPerson * len(self.employeeNames)\n",
    "        \n",
    "    def sale(self, num, price, profit=0.5):\n",
    "        self.sales += num * price\n",
    "        self.profit += self.sales * profit\n",
    "        \n",
    "    def getEmployeeList(self):\n",
    "        return self.employeeList\n",
    "    \n",
    "    def getProfit(self):\n",
    "        return self.profit\n",
    "    \n",
    "    @classmethod\n",
    "    def getCompanyNum(cls):\n",
    "        return len(cls.companyList)\n",
    "    \n",
    "    @classmethod\n",
    "    def getCompanyList(cls):\n",
    "        return cls.companyList"
   ]
  },
  {
   "cell_type": "code",
   "execution_count": 2,
   "metadata": {},
   "outputs": [
    {
     "name": "stdout",
     "output_type": "stream",
     "text": [
      "七月在线公司员工详细信息列表:[('David', 18), ('qiubo', 20)]\n",
      "七月在线公司员工详细信息列表:[('David', 18)]\n",
      "七月在线公司当前利润：2500.0\n",
      "百度公司员工详细信息列表:[('liyanhong', 30), ('likaifu', 50)]\n",
      "公司名列表： ['七月在线', '百度']\n",
      "公司总个数： 2\n"
     ]
    }
   ],
   "source": [
    "#功能验证\n",
    "\n",
    "c0 = Company('七月在线','人工智能在线教育')\n",
    "c0.recruit('David',18, cost=20000)\n",
    "c0.recruit('qiubo',20, cost=10000)\n",
    "print('{}公司员工详细信息列表:{}'.format(c0.companyName,c0.getEmployeeList()))\n",
    "\n",
    "c0.dismiss('qiubo')\n",
    "\n",
    "c0.adPromotion(5000)\n",
    "c0.payInsurance()\n",
    "c0.payTax()\n",
    "c0.sale(50,100)\n",
    "print('{}公司员工详细信息列表:{}'.format(c0.companyName,c0.getEmployeeList()))\n",
    "print('{}公司当前利润：{}'.format(c0.companyName,c0.getProfit()))\n",
    "\n",
    "c1 = Company('百度','搜索引擎')\n",
    "c1.recruit('liyanhong',30, cost=50000)\n",
    "c1.recruit('likaifu',50, cost=40000)\n",
    "print('{}公司员工详细信息列表:{}'.format(c1.companyName,c1.getEmployeeList()))\n",
    "\n",
    "print('公司名列表：',Company.companyList)\n",
    "print('公司总个数：',Company.companyNum)"
   ]
  },
  {
   "cell_type": "markdown",
   "metadata": {
    "collapsed": true
   },
   "source": [
    "#### 10.结合PIL库，制作一个能生成4位随机数验证码图片的函数。"
   ]
  },
  {
   "cell_type": "code",
   "execution_count": 7,
   "metadata": {
    "ExecuteTime": {
     "end_time": "2019-02-10T05:43:29.367770Z",
     "start_time": "2019-02-10T05:43:29.353754Z"
    }
   },
   "outputs": [],
   "source": [
    "from PIL import Image, ImageDraw, ImageFont, ImageFilter\n",
    "import random\n",
    "\n",
    "def getCaptcha(width=40, height=30, n=4, line=0):\n",
    "    # 随机字母\n",
    "    def rndNum():\n",
    "        return str(random.randint(1, 9))\n",
    "\n",
    "    # 为画布随机颜色\n",
    "    def rndColor():\n",
    "        return (random.randint(100, 255), random.randint(100, 255), random.randint(100, 255))\n",
    "\n",
    "    # 为字体随机颜色\n",
    "    def rndColor2():\n",
    "        return (random.randint(30, 120), random.randint(30, 120), random.randint(30, 120)) \n",
    "    \n",
    "    # 创建图片对象\n",
    "    image = Image.new('RGB', (width, height), (255, 255, 255))\n",
    "    \n",
    "    # 创建Font对象\n",
    "    font = ImageFont.truetype('arial.ttf', 36)\n",
    "    \n",
    "    # 创建Draw对象\n",
    "    draw = ImageDraw.Draw(image)\n",
    "    \n",
    "    # 填充每个像素\n",
    "    for x in range(width):\n",
    "        for y in range(height):\n",
    "            draw.point((x, y), fill=rndColor())\n",
    "            \n",
    "    # 输出文字\n",
    "    for t in range(n):\n",
    "        draw.text((40 * t + 10, 10), rndNum(), font=font, fill=rndColor2())\n",
    "            \n",
    "    # 模糊\n",
    "    image = image.filter(ImageFilter.BLUR)\n",
    "    image.save('verify.png', 'png')\n",
    "\n"
   ]
  },
  {
   "cell_type": "code",
   "execution_count": 10,
   "metadata": {
    "ExecuteTime": {
     "end_time": "2019-02-10T05:46:05.062883Z",
     "start_time": "2019-02-10T05:46:05.040039Z"
    }
   },
   "outputs": [
    {
     "ename": "SyntaxError",
     "evalue": "invalid syntax (<ipython-input-10-9d1d83a1d053>, line 37)",
     "output_type": "error",
     "traceback": [
      "\u001b[0;36m  File \u001b[0;32m\"<ipython-input-10-9d1d83a1d053>\"\u001b[0;36m, line \u001b[0;32m37\u001b[0m\n\u001b[0;31m    <img src=\"verify.png\" width=\"40%\">\u001b[0m\n\u001b[0m    ^\u001b[0m\n\u001b[0;31mSyntaxError\u001b[0m\u001b[0;31m:\u001b[0m invalid syntax\n"
     ]
    }
   ],
   "source": [
    "    # 随机字母\n",
    "    def rndNum():\n",
    "        return str(random.randint(1, 9))\n",
    "\n",
    "    # 为画布随机颜色\n",
    "    def rndColor():\n",
    "        return (random.randint(100, 255), random.randint(100, 255), random.randint(100, 255))\n",
    "\n",
    "    # 为字体随机颜色\n",
    "    def rndColor2():\n",
    "        return (random.randint(30, 120), random.randint(30, 120), random.randint(30, 120)) \n",
    "    \n",
    "    # 创建图片对象\n",
    "    image = Image.new('RGB', (400, 60), (255, 255, 255))\n",
    "    \n",
    "    # 创建Font对象\n",
    "    font = ImageFont.truetype('arial.ttf', 36)\n",
    "    \n",
    "    # 创建Draw对象\n",
    "    draw = ImageDraw.Draw(image)\n",
    "    \n",
    "    # 填充每个像素\n",
    "    for x in range(width):\n",
    "        for y in range(height):\n",
    "            draw.point((x, y), fill=rndColor())\n",
    "            \n",
    "    # 输出文字\n",
    "    for t in range(n):\n",
    "        draw.text((40 * t + 10, 10), rndNum(), font=font, fill=rndColor2())\n",
    "            \n",
    "    # 模糊\n",
    "    image = image.filter(ImageFilter.BLUR)\n",
    "    image.save('verify.png', 'png')\n"
   ]
  },
  {
   "cell_type": "markdown",
   "metadata": {},
   "source": [
    "***\n",
    "<center><h1>####答卷结束####</h1></center>\n",
    "\n"
   ]
  },
  {
   "cell_type": "markdown",
   "metadata": {
    "collapsed": true
   },
   "source": [
    "### 本周课程意见反馈(非必答)\n",
    "请同学围绕以下两点进行回答：\n",
    "- 自身总结：您自己在本周课程的学习，收获，技能掌握等方面进行总结，包括自身在哪些方面存在哪些不足，欠缺，困惑。作为将来回顾学习路径时的依据。\n",
    "- 课程反馈：也可以就知识点，进度，难易度，教学方式，考试方式等等进行意见反馈，督促我们进行更有效的改进，为大家提供更优质的服务。\n"
   ]
  },
  {
   "cell_type": "code",
   "execution_count": null,
   "metadata": {},
   "outputs": [],
   "source": []
  }
 ],
 "metadata": {
  "kernelspec": {
   "display_name": "Python 3",
   "language": "python",
   "name": "python3"
  },
  "language_info": {
   "codemirror_mode": {
    "name": "ipython",
    "version": 3
   },
   "file_extension": ".py",
   "mimetype": "text/x-python",
   "name": "python",
   "nbconvert_exporter": "python",
   "pygments_lexer": "ipython3",
   "version": "3.5.2"
  },
  "toc": {
   "base_numbering": 1,
   "nav_menu": {},
   "number_sections": true,
   "sideBar": true,
   "skip_h1_title": false,
   "title_cell": "Table of Contents",
   "title_sidebar": "Contents",
   "toc_cell": false,
   "toc_position": {
    "height": "calc(100% - 180px)",
    "left": "10px",
    "top": "150px",
    "width": "320px"
   },
   "toc_section_display": true,
   "toc_window_display": true
  }
 },
 "nbformat": 4,
 "nbformat_minor": 2
}
