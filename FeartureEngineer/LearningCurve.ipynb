{
 "cells": [
  {
   "cell_type": "code",
   "execution_count": 1,
   "metadata": {},
   "outputs": [],
   "source": [
    "import numpy as np\n",
    "import pandas as pd\n",
    "import matplotlib.pyplot as plt\n",
    "import seaborn as sns"
   ]
  },
  {
   "cell_type": "code",
   "execution_count": 2,
   "metadata": {},
   "outputs": [],
   "source": [
    "from sklearn.pipeline import Pipeline\n",
    "from sklearn.feature_selection import SelectKBest, f_classif\n",
    "from sklearn.datasets import make_classification\n",
    "from sklearn.svm import LinearSVC\n",
    "from sklearn.model_selection import learning_curve"
   ]
  },
  {
   "cell_type": "code",
   "execution_count": 3,
   "metadata": {},
   "outputs": [],
   "source": [
    "X, y = make_classification(1000, n_features = 20, n_informative =2 , n_redundant = 2, n_classes = 2, random_state = 0)"
   ]
  },
  {
   "cell_type": "code",
   "execution_count": 4,
   "metadata": {},
   "outputs": [],
   "source": [
    "df = pd.DataFrame(np.hstack((X, y[:, None])), columns = range(21))"
   ]
  },
  {
   "cell_type": "code",
   "execution_count": 5,
   "metadata": {
    "scrolled": true
   },
   "outputs": [
    {
     "data": {
      "text/html": [
       "<div>\n",
       "<style scoped>\n",
       "    .dataframe tbody tr th:only-of-type {\n",
       "        vertical-align: middle;\n",
       "    }\n",
       "\n",
       "    .dataframe tbody tr th {\n",
       "        vertical-align: top;\n",
       "    }\n",
       "\n",
       "    .dataframe thead th {\n",
       "        text-align: right;\n",
       "    }\n",
       "</style>\n",
       "<table border=\"1\" class=\"dataframe\">\n",
       "  <thead>\n",
       "    <tr style=\"text-align: right;\">\n",
       "      <th></th>\n",
       "      <th>0</th>\n",
       "      <th>1</th>\n",
       "      <th>2</th>\n",
       "      <th>3</th>\n",
       "      <th>4</th>\n",
       "      <th>5</th>\n",
       "      <th>6</th>\n",
       "      <th>7</th>\n",
       "      <th>8</th>\n",
       "      <th>9</th>\n",
       "      <th>...</th>\n",
       "      <th>11</th>\n",
       "      <th>12</th>\n",
       "      <th>13</th>\n",
       "      <th>14</th>\n",
       "      <th>15</th>\n",
       "      <th>16</th>\n",
       "      <th>17</th>\n",
       "      <th>18</th>\n",
       "      <th>19</th>\n",
       "      <th>20</th>\n",
       "    </tr>\n",
       "  </thead>\n",
       "  <tbody>\n",
       "    <tr>\n",
       "      <th>0</th>\n",
       "      <td>-1.063780</td>\n",
       "      <td>0.676409</td>\n",
       "      <td>1.069356</td>\n",
       "      <td>-0.217580</td>\n",
       "      <td>0.460215</td>\n",
       "      <td>-0.399167</td>\n",
       "      <td>-0.079188</td>\n",
       "      <td>1.209385</td>\n",
       "      <td>-0.785315</td>\n",
       "      <td>-0.172186</td>\n",
       "      <td>...</td>\n",
       "      <td>-0.993119</td>\n",
       "      <td>0.306935</td>\n",
       "      <td>0.064058</td>\n",
       "      <td>-1.054233</td>\n",
       "      <td>-0.527496</td>\n",
       "      <td>-0.074183</td>\n",
       "      <td>-0.355628</td>\n",
       "      <td>1.057214</td>\n",
       "      <td>-0.902592</td>\n",
       "      <td>0.0</td>\n",
       "    </tr>\n",
       "    <tr>\n",
       "      <th>1</th>\n",
       "      <td>0.070848</td>\n",
       "      <td>-1.695281</td>\n",
       "      <td>2.449449</td>\n",
       "      <td>-0.530494</td>\n",
       "      <td>-0.932962</td>\n",
       "      <td>2.865204</td>\n",
       "      <td>2.435729</td>\n",
       "      <td>-1.618500</td>\n",
       "      <td>1.300717</td>\n",
       "      <td>0.348402</td>\n",
       "      <td>...</td>\n",
       "      <td>0.225324</td>\n",
       "      <td>0.605563</td>\n",
       "      <td>-0.192101</td>\n",
       "      <td>-0.068027</td>\n",
       "      <td>0.971681</td>\n",
       "      <td>-1.792048</td>\n",
       "      <td>0.017083</td>\n",
       "      <td>-0.375669</td>\n",
       "      <td>-0.623236</td>\n",
       "      <td>1.0</td>\n",
       "    </tr>\n",
       "    <tr>\n",
       "      <th>2</th>\n",
       "      <td>0.940284</td>\n",
       "      <td>-0.492146</td>\n",
       "      <td>0.677956</td>\n",
       "      <td>-0.227754</td>\n",
       "      <td>1.401753</td>\n",
       "      <td>1.231653</td>\n",
       "      <td>-0.777464</td>\n",
       "      <td>0.015616</td>\n",
       "      <td>1.331713</td>\n",
       "      <td>1.084773</td>\n",
       "      <td>...</td>\n",
       "      <td>-0.050120</td>\n",
       "      <td>0.948386</td>\n",
       "      <td>-0.173428</td>\n",
       "      <td>-0.477672</td>\n",
       "      <td>0.760896</td>\n",
       "      <td>1.001158</td>\n",
       "      <td>-0.069464</td>\n",
       "      <td>1.359046</td>\n",
       "      <td>-1.189590</td>\n",
       "      <td>1.0</td>\n",
       "    </tr>\n",
       "    <tr>\n",
       "      <th>3</th>\n",
       "      <td>-0.299517</td>\n",
       "      <td>0.759890</td>\n",
       "      <td>0.182803</td>\n",
       "      <td>-1.550233</td>\n",
       "      <td>0.338218</td>\n",
       "      <td>0.363241</td>\n",
       "      <td>-2.100525</td>\n",
       "      <td>-0.438068</td>\n",
       "      <td>-0.166393</td>\n",
       "      <td>-0.340835</td>\n",
       "      <td>...</td>\n",
       "      <td>1.178724</td>\n",
       "      <td>2.831480</td>\n",
       "      <td>0.142414</td>\n",
       "      <td>-0.202819</td>\n",
       "      <td>2.405715</td>\n",
       "      <td>0.313305</td>\n",
       "      <td>0.404356</td>\n",
       "      <td>-0.287546</td>\n",
       "      <td>-2.847803</td>\n",
       "      <td>1.0</td>\n",
       "    </tr>\n",
       "    <tr>\n",
       "      <th>4</th>\n",
       "      <td>-2.630627</td>\n",
       "      <td>0.231034</td>\n",
       "      <td>0.042463</td>\n",
       "      <td>0.478851</td>\n",
       "      <td>1.546742</td>\n",
       "      <td>1.637956</td>\n",
       "      <td>-1.532072</td>\n",
       "      <td>-0.734445</td>\n",
       "      <td>0.465855</td>\n",
       "      <td>0.473836</td>\n",
       "      <td>...</td>\n",
       "      <td>-1.061194</td>\n",
       "      <td>-0.888880</td>\n",
       "      <td>1.238409</td>\n",
       "      <td>-0.572829</td>\n",
       "      <td>-1.275339</td>\n",
       "      <td>1.003007</td>\n",
       "      <td>-0.477128</td>\n",
       "      <td>0.098536</td>\n",
       "      <td>0.527804</td>\n",
       "      <td>0.0</td>\n",
       "    </tr>\n",
       "    <tr>\n",
       "      <th>5</th>\n",
       "      <td>-0.262645</td>\n",
       "      <td>0.327590</td>\n",
       "      <td>0.997845</td>\n",
       "      <td>-1.577903</td>\n",
       "      <td>-0.828981</td>\n",
       "      <td>-0.202735</td>\n",
       "      <td>0.825932</td>\n",
       "      <td>-0.489252</td>\n",
       "      <td>0.849912</td>\n",
       "      <td>-0.035563</td>\n",
       "      <td>...</td>\n",
       "      <td>0.935624</td>\n",
       "      <td>1.741002</td>\n",
       "      <td>1.930498</td>\n",
       "      <td>0.069474</td>\n",
       "      <td>-0.643267</td>\n",
       "      <td>-0.257866</td>\n",
       "      <td>0.260081</td>\n",
       "      <td>-0.001670</td>\n",
       "      <td>-1.639319</td>\n",
       "      <td>1.0</td>\n",
       "    </tr>\n",
       "    <tr>\n",
       "      <th>6</th>\n",
       "      <td>-0.654570</td>\n",
       "      <td>-0.886904</td>\n",
       "      <td>-1.329892</td>\n",
       "      <td>-1.857483</td>\n",
       "      <td>2.929096</td>\n",
       "      <td>0.222858</td>\n",
       "      <td>0.207217</td>\n",
       "      <td>0.247706</td>\n",
       "      <td>0.382598</td>\n",
       "      <td>0.086453</td>\n",
       "      <td>...</td>\n",
       "      <td>-1.370070</td>\n",
       "      <td>-0.105818</td>\n",
       "      <td>-1.018279</td>\n",
       "      <td>-1.213570</td>\n",
       "      <td>0.583570</td>\n",
       "      <td>0.976038</td>\n",
       "      <td>-0.355495</td>\n",
       "      <td>0.878304</td>\n",
       "      <td>-0.596141</td>\n",
       "      <td>0.0</td>\n",
       "    </tr>\n",
       "    <tr>\n",
       "      <th>7</th>\n",
       "      <td>0.205797</td>\n",
       "      <td>-0.044140</td>\n",
       "      <td>0.072678</td>\n",
       "      <td>0.496615</td>\n",
       "      <td>0.239087</td>\n",
       "      <td>-0.607887</td>\n",
       "      <td>-1.306522</td>\n",
       "      <td>-0.543694</td>\n",
       "      <td>1.012133</td>\n",
       "      <td>0.571110</td>\n",
       "      <td>...</td>\n",
       "      <td>-0.917487</td>\n",
       "      <td>-1.006674</td>\n",
       "      <td>-1.093895</td>\n",
       "      <td>-0.386890</td>\n",
       "      <td>-0.973376</td>\n",
       "      <td>-0.933316</td>\n",
       "      <td>-0.205834</td>\n",
       "      <td>1.618459</td>\n",
       "      <td>0.748400</td>\n",
       "      <td>0.0</td>\n",
       "    </tr>\n",
       "    <tr>\n",
       "      <th>8</th>\n",
       "      <td>2.055266</td>\n",
       "      <td>1.323722</td>\n",
       "      <td>-0.589347</td>\n",
       "      <td>0.043032</td>\n",
       "      <td>-0.437169</td>\n",
       "      <td>0.596489</td>\n",
       "      <td>0.578273</td>\n",
       "      <td>0.356837</td>\n",
       "      <td>-0.115032</td>\n",
       "      <td>-0.773716</td>\n",
       "      <td>...</td>\n",
       "      <td>0.722205</td>\n",
       "      <td>0.595976</td>\n",
       "      <td>-0.724224</td>\n",
       "      <td>0.393920</td>\n",
       "      <td>-2.119441</td>\n",
       "      <td>-0.100956</td>\n",
       "      <td>1.436068</td>\n",
       "      <td>1.246674</td>\n",
       "      <td>-0.348215</td>\n",
       "      <td>1.0</td>\n",
       "    </tr>\n",
       "    <tr>\n",
       "      <th>9</th>\n",
       "      <td>-0.582943</td>\n",
       "      <td>-1.714165</td>\n",
       "      <td>-0.927825</td>\n",
       "      <td>-0.201992</td>\n",
       "      <td>0.758830</td>\n",
       "      <td>-0.709930</td>\n",
       "      <td>-1.552681</td>\n",
       "      <td>0.625355</td>\n",
       "      <td>-1.448826</td>\n",
       "      <td>-1.299395</td>\n",
       "      <td>...</td>\n",
       "      <td>-0.807542</td>\n",
       "      <td>-0.054289</td>\n",
       "      <td>-0.791719</td>\n",
       "      <td>-0.718975</td>\n",
       "      <td>2.110154</td>\n",
       "      <td>0.151147</td>\n",
       "      <td>1.906599</td>\n",
       "      <td>-0.049642</td>\n",
       "      <td>-0.361286</td>\n",
       "      <td>0.0</td>\n",
       "    </tr>\n",
       "  </tbody>\n",
       "</table>\n",
       "<p>10 rows × 21 columns</p>\n",
       "</div>"
      ],
      "text/plain": [
       "         0         1         2         3         4         5         6   \\\n",
       "0 -1.063780  0.676409  1.069356 -0.217580  0.460215 -0.399167 -0.079188   \n",
       "1  0.070848 -1.695281  2.449449 -0.530494 -0.932962  2.865204  2.435729   \n",
       "2  0.940284 -0.492146  0.677956 -0.227754  1.401753  1.231653 -0.777464   \n",
       "3 -0.299517  0.759890  0.182803 -1.550233  0.338218  0.363241 -2.100525   \n",
       "4 -2.630627  0.231034  0.042463  0.478851  1.546742  1.637956 -1.532072   \n",
       "5 -0.262645  0.327590  0.997845 -1.577903 -0.828981 -0.202735  0.825932   \n",
       "6 -0.654570 -0.886904 -1.329892 -1.857483  2.929096  0.222858  0.207217   \n",
       "7  0.205797 -0.044140  0.072678  0.496615  0.239087 -0.607887 -1.306522   \n",
       "8  2.055266  1.323722 -0.589347  0.043032 -0.437169  0.596489  0.578273   \n",
       "9 -0.582943 -1.714165 -0.927825 -0.201992  0.758830 -0.709930 -1.552681   \n",
       "\n",
       "         7         8         9  ...         11        12        13        14  \\\n",
       "0  1.209385 -0.785315 -0.172186 ...  -0.993119  0.306935  0.064058 -1.054233   \n",
       "1 -1.618500  1.300717  0.348402 ...   0.225324  0.605563 -0.192101 -0.068027   \n",
       "2  0.015616  1.331713  1.084773 ...  -0.050120  0.948386 -0.173428 -0.477672   \n",
       "3 -0.438068 -0.166393 -0.340835 ...   1.178724  2.831480  0.142414 -0.202819   \n",
       "4 -0.734445  0.465855  0.473836 ...  -1.061194 -0.888880  1.238409 -0.572829   \n",
       "5 -0.489252  0.849912 -0.035563 ...   0.935624  1.741002  1.930498  0.069474   \n",
       "6  0.247706  0.382598  0.086453 ...  -1.370070 -0.105818 -1.018279 -1.213570   \n",
       "7 -0.543694  1.012133  0.571110 ...  -0.917487 -1.006674 -1.093895 -0.386890   \n",
       "8  0.356837 -0.115032 -0.773716 ...   0.722205  0.595976 -0.724224  0.393920   \n",
       "9  0.625355 -1.448826 -1.299395 ...  -0.807542 -0.054289 -0.791719 -0.718975   \n",
       "\n",
       "         15        16        17        18        19   20  \n",
       "0 -0.527496 -0.074183 -0.355628  1.057214 -0.902592  0.0  \n",
       "1  0.971681 -1.792048  0.017083 -0.375669 -0.623236  1.0  \n",
       "2  0.760896  1.001158 -0.069464  1.359046 -1.189590  1.0  \n",
       "3  2.405715  0.313305  0.404356 -0.287546 -2.847803  1.0  \n",
       "4 -1.275339  1.003007 -0.477128  0.098536  0.527804  0.0  \n",
       "5 -0.643267 -0.257866  0.260081 -0.001670 -1.639319  1.0  \n",
       "6  0.583570  0.976038 -0.355495  0.878304 -0.596141  0.0  \n",
       "7 -0.973376 -0.933316 -0.205834  1.618459  0.748400  0.0  \n",
       "8 -2.119441 -0.100956  1.436068  1.246674 -0.348215  1.0  \n",
       "9  2.110154  0.151147  1.906599 -0.049642 -0.361286  0.0  \n",
       "\n",
       "[10 rows x 21 columns]"
      ]
     },
     "execution_count": 5,
     "metadata": {},
     "output_type": "execute_result"
    }
   ],
   "source": [
    "df.head(10)"
   ]
  },
  {
   "cell_type": "code",
   "execution_count": 6,
   "metadata": {},
   "outputs": [
    {
     "data": {
      "text/plain": [
       "<matplotlib.figure.Figure at 0x7fd9dd472d30>"
      ]
     },
     "execution_count": 6,
     "metadata": {},
     "output_type": "execute_result"
    },
    {
     "data": {
      "text/plain": [
       "<matplotlib.figure.Figure at 0x7fd9dd472d30>"
      ]
     },
     "metadata": {},
     "output_type": "display_data"
    }
   ],
   "source": [
    "plt.figure(figsize = (12, 10))"
   ]
  },
  {
   "cell_type": "code",
   "execution_count": 7,
   "metadata": {
    "scrolled": true
   },
   "outputs": [
    {
     "data": {
      "image/png": "[encoded data removed]",
      "text/plain": [
       "<matplotlib.figure.Figure at 0x7fda100392b0>"
      ]
     },
     "metadata": {
      "needs_background": "light"
     },
     "output_type": "display_data"
    }
   ],
   "source": [
    "_ = sns.pairplot(df.loc[:50], vars = [8, 11, 12, 14, 19])"
   ]
  },
  {
   "cell_type": "code",
   "execution_count": 8,
   "metadata": {},
   "outputs": [
    {
     "data": {
      "image/png": "[encoded data removed]",
      "text/plain": [
       "<matplotlib.figure.Figure at 0x7fd9dcd9b710>"
      ]
     },
     "metadata": {
      "needs_background": "light"
     },
     "output_type": "display_data"
    }
   ],
   "source": [
    "_ = sns.heatmap(df.corr())"
   ]
  },
  {
   "cell_type": "code",
   "execution_count": 12,
   "metadata": {},
   "outputs": [],
   "source": [
    "def plot_learning_curve(estimator, title, X, y, ylim = None, cv = None, train_sizes = np.linspace(.1 , 1.0, 5)):\n",
    "    \n",
    "    plt.figure()\n",
    "    train_sizes, train_scores, test_scores = learning_curve(estimattor, X, y, cv = 5, n_jobs = 1, train_sizes = train_sizes)\n",
    "    \n",
    "    train_scores_mean = np.mean(train_scores, axis=1)\n",
    "    train_scores_std = np.std(train_scores, axis=1)\n",
    "    test_scores_mean = np.mean(test_scores, axis=1)\n",
    "    test_scores_std = np.std(test_scores, axis=1)\n",
    "\n",
    "    plt.fill_between(train_sizes, train_scores_mean - train_scores_std,\n",
    "                     train_scores_mean + train_scores_std, alpha=0.1,\n",
    "                     color=\"r\")\n",
    "    plt.fill_between(train_sizes, test_scores_mean - test_scores_std,\n",
    "                     test_scores_mean + test_scores_std, alpha=0.1, color=\"g\")\n",
    "    plt.plot(train_sizes, train_scores_mean, 'o-', color=\"r\",\n",
    "             label=\"Training score\")\n",
    "    plt.plot(train_sizes, test_scores_mean, 'o-', color=\"g\",\n",
    "             label=\"Cross-validation score\")\n",
    "\n",
    "    plt.xlabel(\"Training examples\")\n",
    "    plt.ylabel(\"Score\")\n",
    "    plt.legend(loc=\"best\")\n",
    "    plt.grid(\"on\") \n",
    "    if ylim:\n",
    "        plt.ylim(ylim)\n",
    "    plt.title(title)\n",
    "    plt.show()"
   ]
  },
  {
   "cell_type": "code",
   "execution_count": 13,
   "metadata": {},
   "outputs": [
    {
     "ename": "NameError",
     "evalue": "name 'estimattor' is not defined",
     "output_type": "error",
     "traceback": [
      "\u001b[0;31m---------------------------------------------------------------------------\u001b[0m",
      "\u001b[0;31mNameError\u001b[0m                                 Traceback (most recent call last)",
      "\u001b[0;32m<ipython-input-13-11f78180fab1>\u001b[0m in \u001b[0;36m<module>\u001b[0;34m()\u001b[0m\n\u001b[1;32m      1\u001b[0m plot_learning_curve(LinearSVC(C = 10.0), \"LinearSVC(C = 10.0)\", X, y, ylim = (0.8, 1.01),\n\u001b[0;32m----> 2\u001b[0;31m             train_sizes = np.linspace(.05, 0.2, 5))\n\u001b[0m",
      "\u001b[0;32m<ipython-input-12-7cb7b951ac1a>\u001b[0m in \u001b[0;36mplot_learning_curve\u001b[0;34m(estimator, title, X, y, ylim, cv, train_sizes)\u001b[0m\n\u001b[1;32m      2\u001b[0m \u001b[0;34m\u001b[0m\u001b[0m\n\u001b[1;32m      3\u001b[0m     \u001b[0mplt\u001b[0m\u001b[0;34m.\u001b[0m\u001b[0mfigure\u001b[0m\u001b[0;34m(\u001b[0m\u001b[0;34m)\u001b[0m\u001b[0;34m\u001b[0m\u001b[0;34m\u001b[0m\u001b[0m\n\u001b[0;32m----> 4\u001b[0;31m     \u001b[0mtrain_sizes\u001b[0m\u001b[0;34m,\u001b[0m \u001b[0mtrain_scores\u001b[0m\u001b[0;34m,\u001b[0m \u001b[0mtest_scores\u001b[0m \u001b[0;34m=\u001b[0m \u001b[0mlearning_curve\u001b[0m\u001b[0;34m(\u001b[0m\u001b[0mestimattor\u001b[0m\u001b[0;34m,\u001b[0m \u001b[0mX\u001b[0m\u001b[0;34m,\u001b[0m \u001b[0my\u001b[0m\u001b[0;34m,\u001b[0m \u001b[0mcv\u001b[0m \u001b[0;34m=\u001b[0m \u001b[0;36m5\u001b[0m\u001b[0;34m,\u001b[0m \u001b[0mn_jobs\u001b[0m \u001b[0;34m=\u001b[0m \u001b[0;36m1\u001b[0m\u001b[0;34m,\u001b[0m \u001b[0mtrain_sizes\u001b[0m \u001b[0;34m=\u001b[0m \u001b[0mtrain_sizes\u001b[0m\u001b[0;34m)\u001b[0m\u001b[0;34m\u001b[0m\u001b[0;34m\u001b[0m\u001b[0m\n\u001b[0m\u001b[1;32m      5\u001b[0m \u001b[0;34m\u001b[0m\u001b[0m\n\u001b[1;32m      6\u001b[0m     \u001b[0mtrain_scores_mean\u001b[0m \u001b[0;34m=\u001b[0m \u001b[0mnp\u001b[0m\u001b[0;34m.\u001b[0m\u001b[0mmean\u001b[0m\u001b[0;34m(\u001b[0m\u001b[0mtrain_scores\u001b[0m\u001b[0;34m,\u001b[0m \u001b[0maxis\u001b[0m\u001b[0;34m=\u001b[0m\u001b[0;36m1\u001b[0m\u001b[0;34m)\u001b[0m\u001b[0;34m\u001b[0m\u001b[0;34m\u001b[0m\u001b[0m\n",
      "\u001b[0;31mNameError\u001b[0m: name 'estimattor' is not defined"
     ]
    },
    {
     "data": {
      "text/plain": [
       "<matplotlib.figure.Figure at 0x7fd9d85b7c88>"
      ]
     },
     "metadata": {},
     "output_type": "display_data"
    }
   ],
   "source": [
    "plot_learning_curve(LinearSVC(C = 10.0), \"LinearSVC(C = 10.0)\", X, y, ylim = (0.8, 1.01),\n",
    "            train_sizes = np.linspace(.05, 0.2, 5))"
   ]
  },
  {
   "cell_type": "code",
   "execution_count": null,
   "metadata": {},
   "outputs": [],
   "source": []
  }
 ],
 "metadata": {
  "kernelspec": {
   "display_name": "Python 3",
   "language": "python",
   "name": "python3"
  },
  "language_info": {
   "codemirror_mode": {
    "name": "ipython",
    "version": 3
   },
   "file_extension": ".py",
   "mimetype": "text/x-python",
   "name": "python",
   "nbconvert_exporter": "python",
   "pygments_lexer": "ipython3",
   "version": "3.6.7"
  }
 },
 "nbformat": 4,
 "nbformat_minor": 2
}
