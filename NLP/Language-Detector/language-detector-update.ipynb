{
 "cells": [
  {
   "cell_type": "markdown",
   "metadata": {},
   "source": [
    "## 用朴素贝叶斯完成语种检测\n",
    "by 寒小阳(hanxiaoyang.ml@gmail.com)\n",
    "\n",
    "#### 文本分类\n",
    "* 预处理(清洗、分词...)\n",
    "* 对文本做表示(向量化的表示) 【TF-IDF，词袋，word2vec，word embedding...】\n",
    "* 建模(机器学习、深度学习) 【朴素贝叶斯、SVM、TextCNN、TextRNN...】\n",
    "\n",
    "朴素贝叶斯 = 贝叶斯公式 + 条件独立假设\n",
    "\n",
    "+ 平滑(拉普拉斯平滑)"
   ]
  },
  {
   "cell_type": "markdown",
   "metadata": {},
   "source": [
    "我们试试用朴素贝叶斯完成一个语种检测的分类器，说起来，用朴素贝叶斯完成这个任务，其实准确度还不错。"
   ]
  },
  {
   "cell_type": "markdown",
   "metadata": {},
   "source": [
    "![](./detector.png)\n",
    "![](./detector2.png)"
   ]
  },
  {
   "cell_type": "markdown",
   "metadata": {
    "collapsed": true
   },
   "source": [
    "机器学习的算法要取得好效果，离不开数据，咱们先拉点数据（twitter数据，包含English, French, German, Spanish, Italian 和 Dutch 6种语言）瞅瞅。"
   ]
  },
  {
   "cell_type": "code",
   "execution_count": 1,
   "metadata": {},
   "outputs": [
    {
     "name": "stdout",
     "output_type": "stream",
     "text": [
      "1 december wereld aids dag voorlichting in zuidafrika over bieten taboes en optimisme,nl\r\n",
      "1 millón de afectados ante las inundaciones en sri lanka unicef está distribuyendo ayuda de emergencia srilanka,es\r\n",
      "1 millón de fans en facebook antes del 14 de febrero y paty miki dani y berta se tiran en paracaídas qué harías tú porunmillondefans,es\r\n",
      "1 satellite galileo sottoposto ai test presso lesaestec nl galileo navigation space in inglese,it\r\n",
      "10 der welt sind bei,de\r\n"
     ]
    }
   ],
   "source": [
    "!head -5 data.csv"
   ]
  },
  {
   "cell_type": "code",
   "execution_count": 2,
   "metadata": {},
   "outputs": [],
   "source": [
    "in_f = open('data.csv')\n",
    "lines = in_f.readlines()\n",
    "in_f.close()\n",
    "dataset = [(line.strip()[:-3], line.strip()[-2:]) for line in lines]"
   ]
  },
  {
   "cell_type": "markdown",
   "metadata": {},
   "source": [
    "了解一下你的数据"
   ]
  },
  {
   "cell_type": "code",
   "execution_count": 3,
   "metadata": {},
   "outputs": [
    {
     "data": {
      "text/plain": [
       "[('1 december wereld aids dag voorlichting in zuidafrika over bieten taboes en optimisme',\n",
       "  'nl'),\n",
       " ('1 mill\\xc3\\xb3n de afectados ante las inundaciones en sri lanka unicef est\\xc3\\xa1 distribuyendo ayuda de emergencia srilanka',\n",
       "  'es'),\n",
       " ('1 mill\\xc3\\xb3n de fans en facebook antes del 14 de febrero y paty miki dani y berta se tiran en paraca\\xc3\\xaddas qu\\xc3\\xa9 har\\xc3\\xadas t\\xc3\\xba porunmillondefans',\n",
       "  'es'),\n",
       " ('1 satellite galileo sottoposto ai test presso lesaestec nl galileo navigation space in inglese',\n",
       "  'it'),\n",
       " ('10 der welt sind bei', 'de')]"
      ]
     },
     "execution_count": 3,
     "metadata": {},
     "output_type": "execute_result"
    }
   ],
   "source": [
    "dataset[:5]"
   ]
  },
  {
   "cell_type": "markdown",
   "metadata": {},
   "source": [
    "为了一会儿检测一下咱们的分类器效果怎么样，我们需要一份测试集。\n",
    "\n",
    "所以把原数据集分成训练集的测试集，咱们用sklearn自带的分割函数。"
   ]
  },
  {
   "cell_type": "code",
   "execution_count": 4,
   "metadata": {},
   "outputs": [],
   "source": [
    "from sklearn.model_selection import train_test_split\n",
    "x, y = zip(*dataset)\n",
    "x_train, x_test, y_train, y_test = train_test_split(x, y, random_state=1)"
   ]
  },
  {
   "cell_type": "code",
   "execution_count": 7,
   "metadata": {},
   "outputs": [
    {
     "data": {
      "text/plain": [
       "6799"
      ]
     },
     "execution_count": 7,
     "metadata": {},
     "output_type": "execute_result"
    }
   ],
   "source": [
    "len(x_train)"
   ]
  },
  {
   "cell_type": "markdown",
   "metadata": {},
   "source": [
    "模型要有好效果，数据质量要保证\n",
    "\n",
    "我们用正则表达式，去掉噪声数据"
   ]
  },
  {
   "cell_type": "code",
   "execution_count": 10,
   "metadata": {},
   "outputs": [
    {
     "data": {
      "text/plain": [
       "'Trump images are now more popular than cat gifs.'"
      ]
     },
     "execution_count": 10,
     "metadata": {},
     "output_type": "execute_result"
    }
   ],
   "source": [
    "import re\n",
    "\n",
    "def remove_noise(document):\n",
    "    noise_pattern = re.compile(\"|\".join([\"http\\S+\", \"\\@\\w+\", \"\\#\\w+\"]))\n",
    "    clean_text = re.sub(noise_pattern, \"\", document)\n",
    "    return clean_text.strip()\n",
    "\n",
    "remove_noise(\"Trump images are now more popular than cat gifs. @trump #trends http://www.trumptrends.html\")"
   ]
  },
  {
   "cell_type": "markdown",
   "metadata": {},
   "source": [
    "下一步要做的就是在降噪数据上抽取出来有用的特征啦，我们抽取1-gram和2-gram的统计特征"
   ]
  },
  {
   "cell_type": "markdown",
   "metadata": {},
   "source": [
    "### 文本分类 = 文本表示+分类模型\n",
    "#### 文本表示：BOW/N-gram/TF-IDF/word2vec/word embedding\n",
    "#### 分类模型：NB/LR/SVM/CNN/RNN(LSTM)\n",
    "\n",
    "语种判断：拉丁语系，都是字母构成，甚至大部分字母都一样，怎么判断？ => 字母的使用(顺序和频度)不一样\n",
    "\n",
    "#### 文本表示\n",
    "① 分词(NLPIR, jieba)<br>\n",
    "第1句话：\\[w1, w2, w3, w15, ...\\]<br>\n",
    "第2句话：\\[w3, w17, w31, w45, ...\\]<br>\n",
    "第3句话：\\[w13, w27, w131, w245, ...\\]<br>\n",
    "\n",
    "② 词频统计：<br>\n",
    "w3 count3<br>\n",
    "w7 count7<br>\n",
    "wi count_i<br>\n",
    "...\n",
    "\n",
    "③ 构建词典：<br>\n",
    "选出频次最高的N个词<br>\n",
    "开1\\*N的向量空间，每个位置是一个词<br>\n",
    "\n",
    "④ 映射：把每句话共同构建的词典进行映射(基本版的词袋模型)<br>\n",
    "第1句话：\\[1,0,1,0,1,0,0...\\]<br>\n",
    "第2句话：\\[0,0,1,1,0,0,1...\\]<br>\n",
    "第3句话：\\[0,1,1,0,0,0,1...\\]<br>\n",
    "...\n",
    "\n",
    "**词袋模型**：<br>\n",
    "\"李雷喜欢韩梅梅\" => (\"李雷\",\"喜欢\",\"韩梅梅\")<br>\n",
    "\"韩梅梅喜欢李雷\" => (\"李雷\",\"喜欢\",\"韩梅梅\")<br>\n",
    "\n",
    "\n",
    "⑤-1 N-gram （语序）<br>\n",
    "2-gram 二元语言模型<br>\n",
    "\"李雷喜欢韩梅梅\" => (\"李雷\",\"喜欢\",\"韩梅梅\",\"李雷喜欢\", \"喜欢韩梅梅\")<br>\n",
    "\"韩梅梅喜欢李雷\" => (\"李雷\",\"喜欢\",\"韩梅梅\",\"韩梅梅喜欢\",\"喜欢李雷\")<br>\n",
    "\n",
    "⑤-2 TF-IDF（权重）\n",
    "\n",
    "⑥ 离散表示形式 => 连续表示形式<br>\n",
    "\n",
    "宾馆 = 酒店 = 旅店 = 旅馆 （相近）<br>\n",
    "\n",
    "WordNet：（上位词、下位词、近义词...）<br>\n",
    "喜欢 = 稀罕 = 中意<br>\n",
    "666<br>\n",
    "\n",
    "word2vec 把每个词映射为稠密词向量，关联语义的词它们的词向量比较接近。<br>\n",
    "1\\*300词向量"
   ]
  },
  {
   "cell_type": "code",
   "execution_count": null,
   "metadata": {},
   "outputs": [],
   "source": []
  },
  {
   "cell_type": "markdown",
   "metadata": {},
   "source": [
    "Trump images are now more popular than cat gifs\n",
    "\n",
    "计算机读不懂文本表述，怎么办？<br>\n",
    "回想一下，我们是怎么阅读的？\n",
    "\n",
    "语种判断：拉丁语系，字母组成的，甚至字母也一样 => 字母的使用(次序、频次)不一样\n",
    "\n",
    "**词袋模型**：\"李雷喜欢韩梅梅\" => (\"李雷\",\"喜欢\",\"韩梅梅\")<br>\n",
    "\"韩梅梅喜欢李雷\" => (\"李雷\",\"喜欢\",\"韩梅梅\")<br>\n",
    "\"李雷喜欢韩梅梅\" => (\"李雷\",\"喜欢\",\"韩梅梅\",\"李雷喜欢\", \"喜欢韩梅梅\")<br>\n",
    "\"韩梅梅喜欢李雷\" => (\"李雷\",\"喜欢\",\"韩梅梅\",\"韩梅梅喜欢\",\"喜欢李雷\")<br>\n",
    "trump images are now more popular than cat gifs => t(5) r(4) u(3) m(6) p(3)\n",
    "\n",
    "给每个出现的最小粒度的元素，都给了一个编码<br>\n",
    "(123 24 56 1024 1567)"
   ]
  },
  {
   "cell_type": "code",
   "execution_count": 11,
   "metadata": {},
   "outputs": [],
   "source": [
    "from sklearn.feature_extraction.text import CountVectorizer\n",
    "#from sklearn.feature_extraction.text import TfidfVectorizer\n",
    "\n",
    "vec = CountVectorizer(\n",
    "    lowercase=True,     # 英文文本全小写\n",
    "    analyzer='char_wb', # 逐个字母解析\n",
    "    ngram_range=(1,2),  # 1=出现的字母以及每个字母出现的次数，2=出现的连续2个字母，和连续2个字母出现的频次\n",
    "    # trump images are now... => 1gram = t,r,u,m,p... 2gram = tr,ru,um,mp...\n",
    "    max_features=1000,  # keep the most common 1000 ngrams\n",
    "    preprocessor=remove_noise\n",
    ")\n",
    "vec.fit(x_train)\n",
    "\n",
    "def get_features(x):\n",
    "    vec.transform(x)"
   ]
  },
  {
   "cell_type": "code",
   "execution_count": 12,
   "metadata": {},
   "outputs": [],
   "source": [
    "result = vec.transform([\"Trump images are now more popular than cat gifs\"])"
   ]
  },
  {
   "cell_type": "code",
   "execution_count": 13,
   "metadata": {},
   "outputs": [
    {
     "data": {
      "text/plain": [
       "<1x1000 sparse matrix of type '<type 'numpy.int64'>'\n",
       "\twith 60 stored elements in Compressed Sparse Row format>"
      ]
     },
     "execution_count": 13,
     "metadata": {},
     "output_type": "execute_result"
    }
   ],
   "source": [
    "result"
   ]
  },
  {
   "cell_type": "markdown",
   "metadata": {},
   "source": [
    "把分类器import进来并且训练"
   ]
  },
  {
   "cell_type": "code",
   "execution_count": 13,
   "metadata": {},
   "outputs": [
    {
     "data": {
      "text/plain": [
       "MultinomialNB(alpha=1.0, class_prior=None, fit_prior=True)"
      ]
     },
     "execution_count": 13,
     "metadata": {},
     "output_type": "execute_result"
    }
   ],
   "source": [
    "from sklearn.naive_bayes import MultinomialNB\n",
    "classifier = MultinomialNB()\n",
    "classifier.fit(vec.transform(x_train), y_train)"
   ]
  },
  {
   "cell_type": "markdown",
   "metadata": {},
   "source": [
    "看看我们的准确率如何"
   ]
  },
  {
   "cell_type": "code",
   "execution_count": 14,
   "metadata": {},
   "outputs": [
    {
     "data": {
      "text/plain": [
       "0.9770621967357741"
      ]
     },
     "execution_count": 14,
     "metadata": {},
     "output_type": "execute_result"
    }
   ],
   "source": [
    "classifier.score(vec.transform(XTest), yTest)"
   ]
  },
  {
   "cell_type": "markdown",
   "metadata": {},
   "source": [
    "能在1500句话上，训练得到准确率97.7%的分类器，效果还是不错的。\n",
    "\n",
    "如果大家加大语料，准确率会非常高。"
   ]
  },
  {
   "cell_type": "markdown",
   "metadata": {},
   "source": [
    "### 规范化，写成一个class"
   ]
  },
  {
   "cell_type": "code",
   "execution_count": 16,
   "metadata": {},
   "outputs": [],
   "source": [
    "import re\n",
    "\n",
    "from sklearn.feature_extraction.text import CountVectorizer\n",
    "from sklearn.model_selection import train_test_split\n",
    "from sklearn.naive_bayes import MultinomialNB\n",
    "\n",
    "\n",
    "class LanguageDetector():\n",
    "\n",
    "    def __init__(self, classifier=MultinomialNB()):\n",
    "        self.classifier = classifier\n",
    "        self.vectorizer = CountVectorizer(ngram_range=(1,2), max_features=1000, preprocessor=self._remove_noise)\n",
    "\n",
    "    def _remove_noise(self, document):\n",
    "        noise_pattern = re.compile(\"|\".join([\"http\\S+\", \"\\@\\w+\", \"\\#\\w+\"]))\n",
    "        clean_text = re.sub(noise_pattern, \"\", document)\n",
    "        return clean_text\n",
    "\n",
    "    def features(self, X):\n",
    "        return self.vectorizer.transform(X)\n",
    "\n",
    "    def fit(self, X, y):\n",
    "        self.vectorizer.fit(X)\n",
    "        self.classifier.fit(self.features(X), y)\n",
    "\n",
    "    def predict(self, x):\n",
    "        return self.classifier.predict(self.features([x]))\n",
    "\n",
    "    def score(self, X, y):\n",
    "        return self.classifier.score(self.features(X), y)"
   ]
  },
  {
   "cell_type": "code",
   "execution_count": 20,
   "metadata": {},
   "outputs": [
    {
     "name": "stdout",
     "output_type": "stream",
     "text": [
      "['en']\n",
      "0.977062196736\n"
     ]
    }
   ],
   "source": [
    "in_f = open('data.csv')\n",
    "lines = in_f.readlines()\n",
    "in_f.close()\n",
    "dataset = [(line.strip()[:-3], line.strip()[-2:]) for line in lines]\n",
    "x, y = zip(*dataset)\n",
    "x_train, x_test, y_train, y_test = train_test_split(x, y, random_state=1)\n",
    "\n",
    "language_detector = LanguageDetector()\n",
    "language_detector.fit(x_train, y_train)\n",
    "print(language_detector.predict('This is an English sentence'))\n",
    "print(language_detector.score(x_test, y_test))"
   ]
  }
 ],
 "metadata": {
  "kernelspec": {
   "display_name": "Python 2",
   "language": "python",
   "name": "python2"
  },
  "language_info": {
   "codemirror_mode": {
    "name": "ipython",
    "version": 2
   },
   "file_extension": ".py",
   "mimetype": "text/x-python",
   "name": "python",
   "nbconvert_exporter": "python",
   "pygments_lexer": "ipython2",
   "version": "2.7.10"
  }
 },
 "nbformat": 4,
 "nbformat_minor": 1
}
