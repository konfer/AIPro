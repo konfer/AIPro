{
 "cells": [
  {
   "cell_type": "code",
   "execution_count": 8,
   "metadata": {
    "ExecuteTime": {
     "end_time": "2019-05-17T09:02:26.927483Z",
     "start_time": "2019-05-17T09:02:25.673048Z"
    }
   },
   "outputs": [
    {
     "name": "stdout",
     "output_type": "stream",
     "text": [
      "Looking in indexes: http://mirrors.cloud.aliyuncs.com/pypi/simple/\n",
      "Requirement already satisfied: pandas-datareader in /usr/local/lib/python3.6/dist-packages (0.7.0)\n",
      "Requirement already satisfied: requests>=2.3.0 in /usr/local/lib/python3.6/dist-packages (from pandas-datareader) (2.21.0)\n",
      "Requirement already satisfied: wrapt in /usr/local/lib/python3.6/dist-packages (from pandas-datareader) (1.11.1)\n",
      "Requirement already satisfied: pandas>=0.19.2 in /usr/lib/python3/dist-packages (from pandas-datareader) (0.22.0)\n",
      "Requirement already satisfied: lxml in /usr/lib/python3/dist-packages (from pandas-datareader) (4.2.1)\n",
      "Requirement already satisfied: certifi>=2017.4.17 in /usr/lib/python3/dist-packages (from requests>=2.3.0->pandas-datareader) (2018.1.18)\n",
      "Requirement already satisfied: urllib3<1.25,>=1.21.1 in /usr/lib/python3/dist-packages (from requests>=2.3.0->pandas-datareader) (1.22)\n",
      "Requirement already satisfied: chardet<3.1.0,>=3.0.2 in /usr/lib/python3/dist-packages (from requests>=2.3.0->pandas-datareader) (3.0.4)\n",
      "Requirement already satisfied: idna<2.9,>=2.5 in /usr/lib/python3/dist-packages (from requests>=2.3.0->pandas-datareader) (2.6)\n",
      "\u001b[33mYou are using pip version 18.1, however version 19.1.1 is available.\n",
      "You should consider upgrading via the 'pip install --upgrade pip' command.\u001b[0m\n"
     ]
    }
   ],
   "source": [
    "!pip3 install pandas-datareader"
   ]
  },
  {
   "cell_type": "code",
   "execution_count": 2,
   "metadata": {
    "ExecuteTime": {
     "end_time": "2019-05-17T08:49:15.686118Z",
     "start_time": "2019-05-17T08:49:15.345111Z"
    }
   },
   "outputs": [],
   "source": [
    "import pandas_datareader as pdr"
   ]
  },
  {
   "cell_type": "code",
   "execution_count": 4,
   "metadata": {
    "ExecuteTime": {
     "end_time": "2019-05-17T08:54:38.293594Z",
     "start_time": "2019-05-17T08:54:35.467149Z"
    }
   },
   "outputs": [],
   "source": [
    "tsla = pdr.DataReader('tsla', data_source='yahoo',                          \n",
    "                      start='2019-1-1')"
   ]
  },
  {
   "cell_type": "code",
   "execution_count": 11,
   "metadata": {
    "ExecuteTime": {
     "end_time": "2019-05-17T09:03:54.567310Z",
     "start_time": "2019-05-17T09:03:54.552140Z"
    }
   },
   "outputs": [
    {
     "data": {
      "text/html": [
       "<div>\n",
       "<style scoped>\n",
       "    .dataframe tbody tr th:only-of-type {\n",
       "        vertical-align: middle;\n",
       "    }\n",
       "\n",
       "    .dataframe tbody tr th {\n",
       "        vertical-align: top;\n",
       "    }\n",
       "\n",
       "    .dataframe thead th {\n",
       "        text-align: right;\n",
       "    }\n",
       "</style>\n",
       "<table border=\"1\" class=\"dataframe\">\n",
       "  <thead>\n",
       "    <tr style=\"text-align: right;\">\n",
       "      <th></th>\n",
       "      <th>High</th>\n",
       "      <th>Low</th>\n",
       "      <th>Open</th>\n",
       "      <th>Close</th>\n",
       "      <th>Volume</th>\n",
       "      <th>Adj Close</th>\n",
       "    </tr>\n",
       "    <tr>\n",
       "      <th>Date</th>\n",
       "      <th></th>\n",
       "      <th></th>\n",
       "      <th></th>\n",
       "      <th></th>\n",
       "      <th></th>\n",
       "      <th></th>\n",
       "    </tr>\n",
       "  </thead>\n",
       "  <tbody>\n",
       "    <tr>\n",
       "      <th>2018-12-31</th>\n",
       "      <td>339.209991</td>\n",
       "      <td>325.260010</td>\n",
       "      <td>337.790009</td>\n",
       "      <td>332.799988</td>\n",
       "      <td>6302300</td>\n",
       "      <td>332.799988</td>\n",
       "    </tr>\n",
       "    <tr>\n",
       "      <th>2019-01-02</th>\n",
       "      <td>315.130005</td>\n",
       "      <td>298.799988</td>\n",
       "      <td>306.100006</td>\n",
       "      <td>310.119995</td>\n",
       "      <td>11658600</td>\n",
       "      <td>310.119995</td>\n",
       "    </tr>\n",
       "    <tr>\n",
       "      <th>2019-01-03</th>\n",
       "      <td>309.399994</td>\n",
       "      <td>297.380005</td>\n",
       "      <td>307.000000</td>\n",
       "      <td>300.359985</td>\n",
       "      <td>6954400</td>\n",
       "      <td>300.359985</td>\n",
       "    </tr>\n",
       "    <tr>\n",
       "      <th>2019-01-04</th>\n",
       "      <td>318.000000</td>\n",
       "      <td>302.730011</td>\n",
       "      <td>306.000000</td>\n",
       "      <td>317.690002</td>\n",
       "      <td>7394100</td>\n",
       "      <td>317.690002</td>\n",
       "    </tr>\n",
       "    <tr>\n",
       "      <th>2019-01-07</th>\n",
       "      <td>336.739990</td>\n",
       "      <td>317.750000</td>\n",
       "      <td>321.720001</td>\n",
       "      <td>334.959991</td>\n",
       "      <td>7551200</td>\n",
       "      <td>334.959991</td>\n",
       "    </tr>\n",
       "    <tr>\n",
       "      <th>2019-01-08</th>\n",
       "      <td>344.010010</td>\n",
       "      <td>327.019989</td>\n",
       "      <td>341.959991</td>\n",
       "      <td>335.350006</td>\n",
       "      <td>7008500</td>\n",
       "      <td>335.350006</td>\n",
       "    </tr>\n",
       "    <tr>\n",
       "      <th>2019-01-09</th>\n",
       "      <td>343.500000</td>\n",
       "      <td>331.470001</td>\n",
       "      <td>335.500000</td>\n",
       "      <td>338.529999</td>\n",
       "      <td>5432900</td>\n",
       "      <td>338.529999</td>\n",
       "    </tr>\n",
       "    <tr>\n",
       "      <th>2019-01-10</th>\n",
       "      <td>345.390015</td>\n",
       "      <td>331.790009</td>\n",
       "      <td>334.399994</td>\n",
       "      <td>344.970001</td>\n",
       "      <td>6056400</td>\n",
       "      <td>344.970001</td>\n",
       "    </tr>\n",
       "    <tr>\n",
       "      <th>2019-01-11</th>\n",
       "      <td>348.410004</td>\n",
       "      <td>338.769989</td>\n",
       "      <td>342.089996</td>\n",
       "      <td>347.260010</td>\n",
       "      <td>5039100</td>\n",
       "      <td>347.260010</td>\n",
       "    </tr>\n",
       "    <tr>\n",
       "      <th>2019-01-14</th>\n",
       "      <td>342.500000</td>\n",
       "      <td>334.000000</td>\n",
       "      <td>342.380005</td>\n",
       "      <td>334.399994</td>\n",
       "      <td>5247300</td>\n",
       "      <td>334.399994</td>\n",
       "    </tr>\n",
       "    <tr>\n",
       "      <th>2019-01-15</th>\n",
       "      <td>348.799988</td>\n",
       "      <td>334.500000</td>\n",
       "      <td>335.000000</td>\n",
       "      <td>344.429993</td>\n",
       "      <td>6056600</td>\n",
       "      <td>344.429993</td>\n",
       "    </tr>\n",
       "    <tr>\n",
       "      <th>2019-01-16</th>\n",
       "      <td>352.000000</td>\n",
       "      <td>343.500000</td>\n",
       "      <td>344.779999</td>\n",
       "      <td>346.049988</td>\n",
       "      <td>4691700</td>\n",
       "      <td>346.049988</td>\n",
       "    </tr>\n",
       "    <tr>\n",
       "      <th>2019-01-17</th>\n",
       "      <td>351.500000</td>\n",
       "      <td>344.149994</td>\n",
       "      <td>346.209991</td>\n",
       "      <td>347.309998</td>\n",
       "      <td>3676700</td>\n",
       "      <td>347.309998</td>\n",
       "    </tr>\n",
       "    <tr>\n",
       "      <th>2019-01-18</th>\n",
       "      <td>327.130005</td>\n",
       "      <td>299.730011</td>\n",
       "      <td>323.000000</td>\n",
       "      <td>302.260010</td>\n",
       "      <td>24150800</td>\n",
       "      <td>302.260010</td>\n",
       "    </tr>\n",
       "    <tr>\n",
       "      <th>2019-01-22</th>\n",
       "      <td>308.000000</td>\n",
       "      <td>295.500000</td>\n",
       "      <td>304.820007</td>\n",
       "      <td>298.920013</td>\n",
       "      <td>12066700</td>\n",
       "      <td>298.920013</td>\n",
       "    </tr>\n",
       "    <tr>\n",
       "      <th>2019-01-23</th>\n",
       "      <td>294.500000</td>\n",
       "      <td>281.690002</td>\n",
       "      <td>292.500000</td>\n",
       "      <td>287.589996</td>\n",
       "      <td>12530000</td>\n",
       "      <td>287.589996</td>\n",
       "    </tr>\n",
       "    <tr>\n",
       "      <th>2019-01-24</th>\n",
       "      <td>293.679993</td>\n",
       "      <td>279.279999</td>\n",
       "      <td>283.029999</td>\n",
       "      <td>291.510010</td>\n",
       "      <td>8012200</td>\n",
       "      <td>291.510010</td>\n",
       "    </tr>\n",
       "    <tr>\n",
       "      <th>2019-01-25</th>\n",
       "      <td>298.519989</td>\n",
       "      <td>289.549988</td>\n",
       "      <td>294.390015</td>\n",
       "      <td>297.040009</td>\n",
       "      <td>7249600</td>\n",
       "      <td>297.040009</td>\n",
       "    </tr>\n",
       "    <tr>\n",
       "      <th>2019-01-28</th>\n",
       "      <td>297.459991</td>\n",
       "      <td>287.750000</td>\n",
       "      <td>292.910004</td>\n",
       "      <td>296.380005</td>\n",
       "      <td>6423300</td>\n",
       "      <td>296.380005</td>\n",
       "    </tr>\n",
       "    <tr>\n",
       "      <th>2019-01-29</th>\n",
       "      <td>298.559998</td>\n",
       "      <td>291.799988</td>\n",
       "      <td>295.269989</td>\n",
       "      <td>297.459991</td>\n",
       "      <td>4621700</td>\n",
       "      <td>297.459991</td>\n",
       "    </tr>\n",
       "  </tbody>\n",
       "</table>\n",
       "</div>"
      ],
      "text/plain": [
       "                  High         Low        Open       Close    Volume  \\\n",
       "Date                                                                   \n",
       "2018-12-31  339.209991  325.260010  337.790009  332.799988   6302300   \n",
       "2019-01-02  315.130005  298.799988  306.100006  310.119995  11658600   \n",
       "2019-01-03  309.399994  297.380005  307.000000  300.359985   6954400   \n",
       "2019-01-04  318.000000  302.730011  306.000000  317.690002   7394100   \n",
       "2019-01-07  336.739990  317.750000  321.720001  334.959991   7551200   \n",
       "2019-01-08  344.010010  327.019989  341.959991  335.350006   7008500   \n",
       "2019-01-09  343.500000  331.470001  335.500000  338.529999   5432900   \n",
       "2019-01-10  345.390015  331.790009  334.399994  344.970001   6056400   \n",
       "2019-01-11  348.410004  338.769989  342.089996  347.260010   5039100   \n",
       "2019-01-14  342.500000  334.000000  342.380005  334.399994   5247300   \n",
       "2019-01-15  348.799988  334.500000  335.000000  344.429993   6056600   \n",
       "2019-01-16  352.000000  343.500000  344.779999  346.049988   4691700   \n",
       "2019-01-17  351.500000  344.149994  346.209991  347.309998   3676700   \n",
       "2019-01-18  327.130005  299.730011  323.000000  302.260010  24150800   \n",
       "2019-01-22  308.000000  295.500000  304.820007  298.920013  12066700   \n",
       "2019-01-23  294.500000  281.690002  292.500000  287.589996  12530000   \n",
       "2019-01-24  293.679993  279.279999  283.029999  291.510010   8012200   \n",
       "2019-01-25  298.519989  289.549988  294.390015  297.040009   7249600   \n",
       "2019-01-28  297.459991  287.750000  292.910004  296.380005   6423300   \n",
       "2019-01-29  298.559998  291.799988  295.269989  297.459991   4621700   \n",
       "\n",
       "             Adj Close  \n",
       "Date                    \n",
       "2018-12-31  332.799988  \n",
       "2019-01-02  310.119995  \n",
       "2019-01-03  300.359985  \n",
       "2019-01-04  317.690002  \n",
       "2019-01-07  334.959991  \n",
       "2019-01-08  335.350006  \n",
       "2019-01-09  338.529999  \n",
       "2019-01-10  344.970001  \n",
       "2019-01-11  347.260010  \n",
       "2019-01-14  334.399994  \n",
       "2019-01-15  344.429993  \n",
       "2019-01-16  346.049988  \n",
       "2019-01-17  347.309998  \n",
       "2019-01-18  302.260010  \n",
       "2019-01-22  298.920013  \n",
       "2019-01-23  287.589996  \n",
       "2019-01-24  291.510010  \n",
       "2019-01-25  297.040009  \n",
       "2019-01-28  296.380005  \n",
       "2019-01-29  297.459991  "
      ]
     },
     "execution_count": 11,
     "metadata": {},
     "output_type": "execute_result"
    }
   ],
   "source": [
    "tsla.head(20)"
   ]
  },
  {
   "cell_type": "code",
   "execution_count": 5,
   "metadata": {
    "ExecuteTime": {
     "end_time": "2019-05-17T08:56:04.137705Z",
     "start_time": "2019-05-17T08:56:04.133947Z"
    }
   },
   "outputs": [],
   "source": [
    "tsla_close = tsla.loc[:, 'Close']"
   ]
  },
  {
   "cell_type": "code",
   "execution_count": 6,
   "metadata": {
    "ExecuteTime": {
     "end_time": "2019-05-17T08:56:24.220917Z",
     "start_time": "2019-05-17T08:56:24.217372Z"
    }
   },
   "outputs": [],
   "source": [
    "tsla_cummax = tsla_close.cummax()"
   ]
  },
  {
   "cell_type": "code",
   "execution_count": 9,
   "metadata": {
    "ExecuteTime": {
     "end_time": "2019-05-17T09:03:00.561967Z",
     "start_time": "2019-05-17T09:03:00.557835Z"
    }
   },
   "outputs": [],
   "source": [
    "tsla_cummin = tsla_close.cummin()"
   ]
  },
  {
   "cell_type": "code",
   "execution_count": 7,
   "metadata": {
    "ExecuteTime": {
     "end_time": "2019-05-17T08:56:36.140678Z",
     "start_time": "2019-05-17T08:56:36.112352Z"
    }
   },
   "outputs": [
    {
     "data": {
      "text/plain": [
       "Date\n",
       "2018-12-31    332.799988\n",
       "2019-01-02    332.799988\n",
       "2019-01-03    332.799988\n",
       "2019-01-04    332.799988\n",
       "2019-01-07    334.959991\n",
       "2019-01-08    335.350006\n",
       "2019-01-09    338.529999\n",
       "2019-01-10    344.970001\n",
       "2019-01-11    347.260010\n",
       "2019-01-14    347.260010\n",
       "2019-01-15    347.260010\n",
       "2019-01-16    347.260010\n",
       "2019-01-17    347.309998\n",
       "2019-01-18    347.309998\n",
       "2019-01-22    347.309998\n",
       "2019-01-23    347.309998\n",
       "2019-01-24    347.309998\n",
       "2019-01-25    347.309998\n",
       "2019-01-28    347.309998\n",
       "2019-01-29    347.309998\n",
       "Name: Close, dtype: float64"
      ]
     },
     "execution_count": 7,
     "metadata": {},
     "output_type": "execute_result"
    }
   ],
   "source": [
    "tsla_cummax.head(20)"
   ]
  },
  {
   "cell_type": "code",
   "execution_count": 10,
   "metadata": {
    "ExecuteTime": {
     "end_time": "2019-05-17T09:03:07.251123Z",
     "start_time": "2019-05-17T09:03:07.233022Z"
    }
   },
   "outputs": [
    {
     "data": {
      "text/plain": [
       "Date\n",
       "2018-12-31    332.799988\n",
       "2019-01-02    310.119995\n",
       "2019-01-03    300.359985\n",
       "2019-01-04    300.359985\n",
       "2019-01-07    300.359985\n",
       "2019-01-08    300.359985\n",
       "2019-01-09    300.359985\n",
       "2019-01-10    300.359985\n",
       "2019-01-11    300.359985\n",
       "2019-01-14    300.359985\n",
       "2019-01-15    300.359985\n",
       "2019-01-16    300.359985\n",
       "2019-01-17    300.359985\n",
       "2019-01-18    300.359985\n",
       "2019-01-22    298.920013\n",
       "2019-01-23    287.589996\n",
       "2019-01-24    287.589996\n",
       "2019-01-25    287.589996\n",
       "2019-01-28    287.589996\n",
       "2019-01-29    287.589996\n",
       "Name: Close, dtype: float64"
      ]
     },
     "execution_count": 10,
     "metadata": {},
     "output_type": "execute_result"
    }
   ],
   "source": [
    "tsla_cummin.head(20)"
   ]
  },
  {
   "cell_type": "code",
   "execution_count": null,
   "metadata": {},
   "outputs": [],
   "source": []
  }
 ],
 "metadata": {
  "hide_input": false,
  "kernelspec": {
   "display_name": "Python 3",
   "language": "python",
   "name": "python3"
  },
  "language_info": {
   "codemirror_mode": {
    "name": "ipython",
    "version": 3
   },
   "file_extension": ".py",
   "mimetype": "text/x-python",
   "name": "python",
   "nbconvert_exporter": "python",
   "pygments_lexer": "ipython3",
   "version": "3.6.7"
  },
  "toc": {
   "base_numbering": 1,
   "nav_menu": {},
   "number_sections": true,
   "sideBar": true,
   "skip_h1_title": false,
   "title_cell": "Table of Contents",
   "title_sidebar": "Contents",
   "toc_cell": false,
   "toc_position": {},
   "toc_section_display": true,
   "toc_window_display": false
  },
  "varInspector": {
   "cols": {
    "lenName": 16,
    "lenType": 16,
    "lenVar": 40
   },
   "kernels_config": {
    "python": {
     "delete_cmd_postfix": "",
     "delete_cmd_prefix": "del ",
     "library": "var_list.py",
     "varRefreshCmd": "print(var_dic_list())"
    },
    "r": {
     "delete_cmd_postfix": ") ",
     "delete_cmd_prefix": "rm(",
     "library": "var_list.r",
     "varRefreshCmd": "cat(var_dic_list()) "
    }
   },
   "types_to_exclude": [
    "module",
    "function",
    "builtin_function_or_method",
    "instance",
    "_Feature"
   ],
   "window_display": false
  }
 },
 "nbformat": 4,
 "nbformat_minor": 2
}
