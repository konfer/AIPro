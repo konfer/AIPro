{
 "cells": [
  {
   "cell_type": "code",
   "execution_count": 1,
   "metadata": {},
   "outputs": [
    {
     "data": {
      "text/plain": [
       "name = world\n"
      ]
     },
     "metadata": {},
     "output_type": "display_data"
    },
    {
     "data": {
      "text/plain": [
       "world"
      ]
     },
     "execution_count": 1,
     "metadata": {},
     "output_type": "execute_result"
    }
   ],
   "source": [
    "val name = \"world\""
   ]
  },
  {
   "cell_type": "code",
   "execution_count": 5,
   "metadata": {},
   "outputs": [
    {
     "name": "stdout",
     "output_type": "stream",
     "text": [
      "Hello, world\n"
     ]
    }
   ],
   "source": [
    "println(s\"Hello, ${name}\")"
   ]
  },
  {
   "cell_type": "code",
   "execution_count": 10,
   "metadata": {},
   "outputs": [
    {
     "data": {
      "text/plain": [
       "m = 5050\n"
      ]
     },
     "metadata": {},
     "output_type": "display_data"
    },
    {
     "data": {
      "text/plain": [
       "5050"
      ]
     },
     "execution_count": 10,
     "metadata": {},
     "output_type": "execute_result"
    }
   ],
   "source": [
    "val m = sc.parallelize(1 to 100).reduce(_+_)"
   ]
  },
  {
   "cell_type": "code",
   "execution_count": 11,
   "metadata": {},
   "outputs": [
    {
     "ename": "Compile Error",
     "evalue": "<console>:1: error: illegal character '\\u00a0'\n       val peopleRDD = sc.parallelize(Array(Row(1L, \"John Doe\",  30L),Row(2L, \"Mary Jane\", 25L)))\n                                                               ^\n<console>:1: error: illegal character '\\u00a0'\n       val peopleRDD = sc.parallelize(Array(Row(1L, \"John Doe\",  30L),Row(2L, \"Mary Jane\", 25L)))\n                                                                ^\n",
     "output_type": "error",
     "traceback": []
    }
   ],
   "source": [
    "val peopleRDD = sc.parallelize(Array(Row(1L, \"John Doe\",  30L),Row(2L, \"Mary Jane\", 25L)))"
   ]
  },
  {
   "cell_type": "code",
   "execution_count": 9,
   "metadata": {},
   "outputs": [
    {
     "ename": "Compile Error",
     "evalue": "<console>:26: error: not found: value result\n       result\n       ^\n",
     "output_type": "error",
     "traceback": []
    }
   ],
   "source": [
    "val schema = StructType(Array(\n",
    "        StructField(\"id\", LongType, true),\n",
    "        StructField(\"name\", StringType, true),\n",
    "        StructField(\"age\", LongType, true)\n",
    "))"
   ]
  },
  {
   "cell_type": "code",
   "execution_count": null,
   "metadata": {},
   "outputs": [],
   "source": []
  }
 ],
 "metadata": {
  "kernelspec": {
   "display_name": "Apache Toree - Scala",
   "language": "scala",
   "name": "apache_toree_scala"
  },
  "language_info": {
   "codemirror_mode": "text/x-scala",
   "file_extension": ".scala",
   "mimetype": "text/x-scala",
   "name": "scala",
   "pygments_lexer": "scala",
   "version": "2.12.12"
  }
 },
 "nbformat": 4,
 "nbformat_minor": 4
}
