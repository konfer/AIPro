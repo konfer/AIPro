{
 "cells": [
  {
   "cell_type": "code",
   "execution_count": 1,
   "metadata": {
    "ExecuteTime": {
     "end_time": "2019-06-03T14:05:31.100016Z",
     "start_time": "2019-06-03T14:05:30.833865Z"
    }
   },
   "outputs": [],
   "source": [
    "import torch\n",
    "import numpy as np"
   ]
  },
  {
   "cell_type": "code",
   "execution_count": 2,
   "metadata": {
    "ExecuteTime": {
     "end_time": "2019-06-03T14:05:31.105670Z",
     "start_time": "2019-06-03T14:05:31.102809Z"
    }
   },
   "outputs": [],
   "source": [
    "from torch.autograd import Variable"
   ]
  },
  {
   "cell_type": "code",
   "execution_count": 3,
   "metadata": {
    "ExecuteTime": {
     "end_time": "2019-06-03T14:05:31.113443Z",
     "start_time": "2019-06-03T14:05:31.107738Z"
    }
   },
   "outputs": [],
   "source": [
    "x_tensor = torch.randn(10, 5)"
   ]
  },
  {
   "cell_type": "code",
   "execution_count": 4,
   "metadata": {
    "ExecuteTime": {
     "end_time": "2019-06-03T14:05:31.131232Z",
     "start_time": "2019-06-03T14:05:31.116425Z"
    }
   },
   "outputs": [
    {
     "data": {
      "text/plain": [
       "tensor([[ 0.8278, -0.8196,  0.3715,  0.3231, -0.8315],\n",
       "        [-1.1035, -0.9832, -0.1999, -0.8288, -1.3531],\n",
       "        [-0.6482, -0.9090,  0.9939,  0.2289, -0.6369],\n",
       "        [ 0.3987, -1.2560, -1.5282,  0.5175,  1.0432],\n",
       "        [ 0.7080,  1.2488,  0.6724,  0.4897,  0.7415],\n",
       "        [-0.4513, -0.1611,  1.2078,  2.5314, -0.4320],\n",
       "        [ 0.1570, -0.4941, -0.1987, -0.6694, -1.9089],\n",
       "        [ 1.1715, -0.1046, -2.9325,  1.8701, -0.0917],\n",
       "        [ 1.4088, -0.2721, -0.2106, -0.4918,  0.2973],\n",
       "        [-0.4711,  0.4987,  1.9117, -0.4768,  0.0490]])"
      ]
     },
     "execution_count": 4,
     "metadata": {},
     "output_type": "execute_result"
    }
   ],
   "source": [
    "x_tensor"
   ]
  },
  {
   "cell_type": "code",
   "execution_count": 5,
   "metadata": {
    "ExecuteTime": {
     "end_time": "2019-06-03T14:05:31.138695Z",
     "start_time": "2019-06-03T14:05:31.135276Z"
    }
   },
   "outputs": [],
   "source": [
    "y_tensor = torch.randn(10, 5)"
   ]
  },
  {
   "cell_type": "code",
   "execution_count": 6,
   "metadata": {
    "ExecuteTime": {
     "end_time": "2019-06-03T14:05:31.146592Z",
     "start_time": "2019-06-03T14:05:31.141186Z"
    }
   },
   "outputs": [],
   "source": [
    "x = Variable(x_tensor, requires_grad = True)"
   ]
  },
  {
   "cell_type": "code",
   "execution_count": 7,
   "metadata": {
    "ExecuteTime": {
     "end_time": "2019-06-03T14:05:31.153480Z",
     "start_time": "2019-06-03T14:05:31.148566Z"
    }
   },
   "outputs": [],
   "source": [
    "y = Variable(y_tensor, requires_grad = True)"
   ]
  },
  {
   "cell_type": "code",
   "execution_count": 8,
   "metadata": {
    "ExecuteTime": {
     "end_time": "2019-06-03T14:05:31.160801Z",
     "start_time": "2019-06-03T14:05:31.155475Z"
    },
    "scrolled": true
   },
   "outputs": [
    {
     "data": {
      "text/plain": [
       "tensor([[ 0.8278, -0.8196,  0.3715,  0.3231, -0.8315],\n",
       "        [-1.1035, -0.9832, -0.1999, -0.8288, -1.3531],\n",
       "        [-0.6482, -0.9090,  0.9939,  0.2289, -0.6369],\n",
       "        [ 0.3987, -1.2560, -1.5282,  0.5175,  1.0432],\n",
       "        [ 0.7080,  1.2488,  0.6724,  0.4897,  0.7415],\n",
       "        [-0.4513, -0.1611,  1.2078,  2.5314, -0.4320],\n",
       "        [ 0.1570, -0.4941, -0.1987, -0.6694, -1.9089],\n",
       "        [ 1.1715, -0.1046, -2.9325,  1.8701, -0.0917],\n",
       "        [ 1.4088, -0.2721, -0.2106, -0.4918,  0.2973],\n",
       "        [-0.4711,  0.4987,  1.9117, -0.4768,  0.0490]], requires_grad=True)"
      ]
     },
     "execution_count": 8,
     "metadata": {},
     "output_type": "execute_result"
    }
   ],
   "source": [
    "x"
   ]
  },
  {
   "cell_type": "code",
   "execution_count": 9,
   "metadata": {
    "ExecuteTime": {
     "end_time": "2019-06-03T14:05:31.165524Z",
     "start_time": "2019-06-03T14:05:31.162614Z"
    }
   },
   "outputs": [],
   "source": [
    "sum = torch.sum(x + y)"
   ]
  },
  {
   "cell_type": "code",
   "execution_count": 10,
   "metadata": {
    "ExecuteTime": {
     "end_time": "2019-06-03T14:05:31.173544Z",
     "start_time": "2019-06-03T14:05:31.167451Z"
    }
   },
   "outputs": [
    {
     "data": {
      "text/plain": [
       "tensor(0.9637)"
      ]
     },
     "execution_count": 10,
     "metadata": {},
     "output_type": "execute_result"
    }
   ],
   "source": [
    "sum.data"
   ]
  },
  {
   "cell_type": "code",
   "execution_count": 11,
   "metadata": {
    "ExecuteTime": {
     "end_time": "2019-06-03T14:05:31.179047Z",
     "start_time": "2019-06-03T14:05:31.175381Z"
    }
   },
   "outputs": [
    {
     "data": {
      "text/plain": [
       "<SumBackward0 at 0x7f53975ddf60>"
      ]
     },
     "execution_count": 11,
     "metadata": {},
     "output_type": "execute_result"
    }
   ],
   "source": [
    "sum.grad_fn"
   ]
  },
  {
   "cell_type": "code",
   "execution_count": 12,
   "metadata": {
    "ExecuteTime": {
     "end_time": "2019-06-03T14:05:31.185475Z",
     "start_time": "2019-06-03T14:05:31.180816Z"
    }
   },
   "outputs": [],
   "source": [
    "sum.backward()"
   ]
  },
  {
   "cell_type": "code",
   "execution_count": 13,
   "metadata": {
    "ExecuteTime": {
     "end_time": "2019-06-03T14:05:31.192175Z",
     "start_time": "2019-06-03T14:05:31.187115Z"
    }
   },
   "outputs": [
    {
     "data": {
      "text/plain": [
       "tensor([[1., 1., 1., 1., 1.],\n",
       "        [1., 1., 1., 1., 1.],\n",
       "        [1., 1., 1., 1., 1.],\n",
       "        [1., 1., 1., 1., 1.],\n",
       "        [1., 1., 1., 1., 1.],\n",
       "        [1., 1., 1., 1., 1.],\n",
       "        [1., 1., 1., 1., 1.],\n",
       "        [1., 1., 1., 1., 1.],\n",
       "        [1., 1., 1., 1., 1.],\n",
       "        [1., 1., 1., 1., 1.]])"
      ]
     },
     "execution_count": 13,
     "metadata": {},
     "output_type": "execute_result"
    }
   ],
   "source": [
    "x.grad"
   ]
  },
  {
   "cell_type": "code",
   "execution_count": 14,
   "metadata": {
    "ExecuteTime": {
     "end_time": "2019-06-03T14:05:31.205368Z",
     "start_time": "2019-06-03T14:05:31.194179Z"
    }
   },
   "outputs": [
    {
     "data": {
      "text/plain": [
       "tensor([[1., 1., 1., 1., 1.],\n",
       "        [1., 1., 1., 1., 1.],\n",
       "        [1., 1., 1., 1., 1.],\n",
       "        [1., 1., 1., 1., 1.],\n",
       "        [1., 1., 1., 1., 1.],\n",
       "        [1., 1., 1., 1., 1.],\n",
       "        [1., 1., 1., 1., 1.],\n",
       "        [1., 1., 1., 1., 1.],\n",
       "        [1., 1., 1., 1., 1.],\n",
       "        [1., 1., 1., 1., 1.]])"
      ]
     },
     "execution_count": 14,
     "metadata": {},
     "output_type": "execute_result"
    }
   ],
   "source": [
    "y.grad"
   ]
  },
  {
   "cell_type": "code",
   "execution_count": 15,
   "metadata": {
    "ExecuteTime": {
     "end_time": "2019-06-03T14:05:31.210288Z",
     "start_time": "2019-06-03T14:05:31.207521Z"
    }
   },
   "outputs": [],
   "source": [
    "x2 = Variable(torch.Tensor([2]), requires_grad = True)"
   ]
  },
  {
   "cell_type": "code",
   "execution_count": 16,
   "metadata": {
    "ExecuteTime": {
     "end_time": "2019-06-03T14:05:31.214974Z",
     "start_time": "2019-06-03T14:05:31.212287Z"
    }
   },
   "outputs": [],
   "source": [
    "y2 = x2 + 2"
   ]
  },
  {
   "cell_type": "code",
   "execution_count": 17,
   "metadata": {
    "ExecuteTime": {
     "end_time": "2019-06-03T14:05:31.226268Z",
     "start_time": "2019-06-03T14:05:31.216831Z"
    }
   },
   "outputs": [],
   "source": [
    "z1 = y2 ** 2 +3"
   ]
  },
  {
   "cell_type": "code",
   "execution_count": 18,
   "metadata": {
    "ExecuteTime": {
     "end_time": "2019-06-03T14:05:31.240821Z",
     "start_time": "2019-06-03T14:05:31.236353Z"
    }
   },
   "outputs": [
    {
     "name": "stdout",
     "output_type": "stream",
     "text": [
      "tensor([19.], grad_fn=<AddBackward0>)\n"
     ]
    }
   ],
   "source": [
    "print(z1)"
   ]
  },
  {
   "cell_type": "code",
   "execution_count": 19,
   "metadata": {
    "ExecuteTime": {
     "end_time": "2019-06-03T14:05:31.254041Z",
     "start_time": "2019-06-03T14:05:31.245658Z"
    }
   },
   "outputs": [],
   "source": [
    "z1.backward()"
   ]
  },
  {
   "cell_type": "code",
   "execution_count": 20,
   "metadata": {
    "ExecuteTime": {
     "end_time": "2019-06-03T14:05:31.260786Z",
     "start_time": "2019-06-03T14:05:31.255987Z"
    }
   },
   "outputs": [
    {
     "name": "stdout",
     "output_type": "stream",
     "text": [
      "tensor([8.])\n"
     ]
    }
   ],
   "source": [
    "print(x2.grad)"
   ]
  },
  {
   "cell_type": "code",
   "execution_count": 21,
   "metadata": {
    "ExecuteTime": {
     "end_time": "2019-06-03T14:05:31.268904Z",
     "start_time": "2019-06-03T14:05:31.262807Z"
    }
   },
   "outputs": [],
   "source": [
    "x3 = Variable(torch.randn(10, 20), requires_grad = True)"
   ]
  },
  {
   "cell_type": "code",
   "execution_count": 22,
   "metadata": {
    "ExecuteTime": {
     "end_time": "2019-06-03T14:05:31.274682Z",
     "start_time": "2019-06-03T14:05:31.270759Z"
    }
   },
   "outputs": [],
   "source": [
    "y3 = Variable(torch.randn(10, 5), requires_grad = True)"
   ]
  },
  {
   "cell_type": "code",
   "execution_count": 23,
   "metadata": {
    "ExecuteTime": {
     "end_time": "2019-06-03T14:05:31.279542Z",
     "start_time": "2019-06-03T14:05:31.276659Z"
    }
   },
   "outputs": [],
   "source": [
    "w = Variable(torch.randn(20, 5), requires_grad = True)"
   ]
  },
  {
   "cell_type": "code",
   "execution_count": 24,
   "metadata": {
    "ExecuteTime": {
     "end_time": "2019-06-03T14:05:31.285129Z",
     "start_time": "2019-06-03T14:05:31.281419Z"
    }
   },
   "outputs": [],
   "source": [
    "out = torch.mean(y3 - torch.matmul(x3, w))"
   ]
  },
  {
   "cell_type": "code",
   "execution_count": 25,
   "metadata": {
    "ExecuteTime": {
     "end_time": "2019-06-03T14:05:31.289741Z",
     "start_time": "2019-06-03T14:05:31.287204Z"
    }
   },
   "outputs": [],
   "source": [
    "out.backward()"
   ]
  },
  {
   "cell_type": "code",
   "execution_count": 26,
   "metadata": {
    "ExecuteTime": {
     "end_time": "2019-06-03T14:05:31.300509Z",
     "start_time": "2019-06-03T14:05:31.291297Z"
    }
   },
   "outputs": [
    {
     "data": {
      "text/plain": [
       "tensor([[ 0.0355, -0.0152, -0.0332,  0.0506,  0.0721,  0.0163,  0.0242,  0.0556,\n",
       "          0.0063, -0.0327, -0.0104,  0.0357, -0.0549, -0.0716,  0.0866,  0.0555,\n",
       "          0.0089, -0.0005,  0.0051,  0.0165],\n",
       "        [ 0.0355, -0.0152, -0.0332,  0.0506,  0.0721,  0.0163,  0.0242,  0.0556,\n",
       "          0.0063, -0.0327, -0.0104,  0.0357, -0.0549, -0.0716,  0.0866,  0.0555,\n",
       "          0.0089, -0.0005,  0.0051,  0.0165],\n",
       "        [ 0.0355, -0.0152, -0.0332,  0.0506,  0.0721,  0.0163,  0.0242,  0.0556,\n",
       "          0.0063, -0.0327, -0.0104,  0.0357, -0.0549, -0.0716,  0.0866,  0.0555,\n",
       "          0.0089, -0.0005,  0.0051,  0.0165],\n",
       "        [ 0.0355, -0.0152, -0.0332,  0.0506,  0.0721,  0.0163,  0.0242,  0.0556,\n",
       "          0.0063, -0.0327, -0.0104,  0.0357, -0.0549, -0.0716,  0.0866,  0.0555,\n",
       "          0.0089, -0.0005,  0.0051,  0.0165],\n",
       "        [ 0.0355, -0.0152, -0.0332,  0.0506,  0.0721,  0.0163,  0.0242,  0.0556,\n",
       "          0.0063, -0.0327, -0.0104,  0.0357, -0.0549, -0.0716,  0.0866,  0.0555,\n",
       "          0.0089, -0.0005,  0.0051,  0.0165],\n",
       "        [ 0.0355, -0.0152, -0.0332,  0.0506,  0.0721,  0.0163,  0.0242,  0.0556,\n",
       "          0.0063, -0.0327, -0.0104,  0.0357, -0.0549, -0.0716,  0.0866,  0.0555,\n",
       "          0.0089, -0.0005,  0.0051,  0.0165],\n",
       "        [ 0.0355, -0.0152, -0.0332,  0.0506,  0.0721,  0.0163,  0.0242,  0.0556,\n",
       "          0.0063, -0.0327, -0.0104,  0.0357, -0.0549, -0.0716,  0.0866,  0.0555,\n",
       "          0.0089, -0.0005,  0.0051,  0.0165],\n",
       "        [ 0.0355, -0.0152, -0.0332,  0.0506,  0.0721,  0.0163,  0.0242,  0.0556,\n",
       "          0.0063, -0.0327, -0.0104,  0.0357, -0.0549, -0.0716,  0.0866,  0.0555,\n",
       "          0.0089, -0.0005,  0.0051,  0.0165],\n",
       "        [ 0.0355, -0.0152, -0.0332,  0.0506,  0.0721,  0.0163,  0.0242,  0.0556,\n",
       "          0.0063, -0.0327, -0.0104,  0.0357, -0.0549, -0.0716,  0.0866,  0.0555,\n",
       "          0.0089, -0.0005,  0.0051,  0.0165],\n",
       "        [ 0.0355, -0.0152, -0.0332,  0.0506,  0.0721,  0.0163,  0.0242,  0.0556,\n",
       "          0.0063, -0.0327, -0.0104,  0.0357, -0.0549, -0.0716,  0.0866,  0.0555,\n",
       "          0.0089, -0.0005,  0.0051,  0.0165]])"
      ]
     },
     "execution_count": 26,
     "metadata": {},
     "output_type": "execute_result"
    }
   ],
   "source": [
    "x3.grad"
   ]
  },
  {
   "cell_type": "code",
   "execution_count": 27,
   "metadata": {
    "ExecuteTime": {
     "end_time": "2019-06-03T14:05:31.310007Z",
     "start_time": "2019-06-03T14:05:31.302269Z"
    }
   },
   "outputs": [
    {
     "name": "stdout",
     "output_type": "stream",
     "text": [
      "tensor([[0.0200, 0.0200, 0.0200, 0.0200, 0.0200],\n",
      "        [0.0200, 0.0200, 0.0200, 0.0200, 0.0200],\n",
      "        [0.0200, 0.0200, 0.0200, 0.0200, 0.0200],\n",
      "        [0.0200, 0.0200, 0.0200, 0.0200, 0.0200],\n",
      "        [0.0200, 0.0200, 0.0200, 0.0200, 0.0200],\n",
      "        [0.0200, 0.0200, 0.0200, 0.0200, 0.0200],\n",
      "        [0.0200, 0.0200, 0.0200, 0.0200, 0.0200],\n",
      "        [0.0200, 0.0200, 0.0200, 0.0200, 0.0200],\n",
      "        [0.0200, 0.0200, 0.0200, 0.0200, 0.0200],\n",
      "        [0.0200, 0.0200, 0.0200, 0.0200, 0.0200]])\n"
     ]
    }
   ],
   "source": [
    "print(y3.grad)"
   ]
  },
  {
   "cell_type": "code",
   "execution_count": 28,
   "metadata": {
    "ExecuteTime": {
     "end_time": "2019-06-03T14:05:31.316686Z",
     "start_time": "2019-06-03T14:05:31.311728Z"
    }
   },
   "outputs": [
    {
     "name": "stdout",
     "output_type": "stream",
     "text": [
      "tensor([[ 0.0355, -0.0152, -0.0332,  0.0506,  0.0721,  0.0163,  0.0242,  0.0556,\n",
      "          0.0063, -0.0327, -0.0104,  0.0357, -0.0549, -0.0716,  0.0866,  0.0555,\n",
      "          0.0089, -0.0005,  0.0051,  0.0165],\n",
      "        [ 0.0355, -0.0152, -0.0332,  0.0506,  0.0721,  0.0163,  0.0242,  0.0556,\n",
      "          0.0063, -0.0327, -0.0104,  0.0357, -0.0549, -0.0716,  0.0866,  0.0555,\n",
      "          0.0089, -0.0005,  0.0051,  0.0165],\n",
      "        [ 0.0355, -0.0152, -0.0332,  0.0506,  0.0721,  0.0163,  0.0242,  0.0556,\n",
      "          0.0063, -0.0327, -0.0104,  0.0357, -0.0549, -0.0716,  0.0866,  0.0555,\n",
      "          0.0089, -0.0005,  0.0051,  0.0165],\n",
      "        [ 0.0355, -0.0152, -0.0332,  0.0506,  0.0721,  0.0163,  0.0242,  0.0556,\n",
      "          0.0063, -0.0327, -0.0104,  0.0357, -0.0549, -0.0716,  0.0866,  0.0555,\n",
      "          0.0089, -0.0005,  0.0051,  0.0165],\n",
      "        [ 0.0355, -0.0152, -0.0332,  0.0506,  0.0721,  0.0163,  0.0242,  0.0556,\n",
      "          0.0063, -0.0327, -0.0104,  0.0357, -0.0549, -0.0716,  0.0866,  0.0555,\n",
      "          0.0089, -0.0005,  0.0051,  0.0165],\n",
      "        [ 0.0355, -0.0152, -0.0332,  0.0506,  0.0721,  0.0163,  0.0242,  0.0556,\n",
      "          0.0063, -0.0327, -0.0104,  0.0357, -0.0549, -0.0716,  0.0866,  0.0555,\n",
      "          0.0089, -0.0005,  0.0051,  0.0165],\n",
      "        [ 0.0355, -0.0152, -0.0332,  0.0506,  0.0721,  0.0163,  0.0242,  0.0556,\n",
      "          0.0063, -0.0327, -0.0104,  0.0357, -0.0549, -0.0716,  0.0866,  0.0555,\n",
      "          0.0089, -0.0005,  0.0051,  0.0165],\n",
      "        [ 0.0355, -0.0152, -0.0332,  0.0506,  0.0721,  0.0163,  0.0242,  0.0556,\n",
      "          0.0063, -0.0327, -0.0104,  0.0357, -0.0549, -0.0716,  0.0866,  0.0555,\n",
      "          0.0089, -0.0005,  0.0051,  0.0165],\n",
      "        [ 0.0355, -0.0152, -0.0332,  0.0506,  0.0721,  0.0163,  0.0242,  0.0556,\n",
      "          0.0063, -0.0327, -0.0104,  0.0357, -0.0549, -0.0716,  0.0866,  0.0555,\n",
      "          0.0089, -0.0005,  0.0051,  0.0165],\n",
      "        [ 0.0355, -0.0152, -0.0332,  0.0506,  0.0721,  0.0163,  0.0242,  0.0556,\n",
      "          0.0063, -0.0327, -0.0104,  0.0357, -0.0549, -0.0716,  0.0866,  0.0555,\n",
      "          0.0089, -0.0005,  0.0051,  0.0165]])\n"
     ]
    }
   ],
   "source": [
    "print(x3.grad)"
   ]
  },
  {
   "cell_type": "code",
   "execution_count": 29,
   "metadata": {
    "ExecuteTime": {
     "end_time": "2019-06-03T14:05:31.321759Z",
     "start_time": "2019-06-03T14:05:31.318922Z"
    }
   },
   "outputs": [],
   "source": [
    "m = Variable(torch.FloatTensor([[5, 6]]), requires_grad = True)"
   ]
  },
  {
   "cell_type": "code",
   "execution_count": 30,
   "metadata": {
    "ExecuteTime": {
     "end_time": "2019-06-03T14:05:31.328948Z",
     "start_time": "2019-06-03T14:05:31.323760Z"
    }
   },
   "outputs": [],
   "source": [
    "n = Variable(torch.zeros(1, 2))"
   ]
  },
  {
   "cell_type": "code",
   "execution_count": 31,
   "metadata": {
    "ExecuteTime": {
     "end_time": "2019-06-03T14:05:31.335919Z",
     "start_time": "2019-06-03T14:05:31.331171Z"
    }
   },
   "outputs": [
    {
     "name": "stdout",
     "output_type": "stream",
     "text": [
      "tensor([[5., 6.]], requires_grad=True) tensor([[0., 0.]])\n"
     ]
    }
   ],
   "source": [
    "print(m, n)"
   ]
  },
  {
   "cell_type": "code",
   "execution_count": 32,
   "metadata": {
    "ExecuteTime": {
     "end_time": "2019-06-03T14:05:31.341096Z",
     "start_time": "2019-06-03T14:05:31.338456Z"
    }
   },
   "outputs": [],
   "source": [
    "n[0, 0] = m[0, 0] ** 2"
   ]
  },
  {
   "cell_type": "code",
   "execution_count": 33,
   "metadata": {
    "ExecuteTime": {
     "end_time": "2019-06-03T14:05:31.345844Z",
     "start_time": "2019-06-03T14:05:31.343430Z"
    }
   },
   "outputs": [],
   "source": [
    "n[0, 1] = m[0, 1] **3"
   ]
  },
  {
   "cell_type": "code",
   "execution_count": 34,
   "metadata": {
    "ExecuteTime": {
     "end_time": "2019-06-03T14:05:31.351436Z",
     "start_time": "2019-06-03T14:05:31.348112Z"
    }
   },
   "outputs": [
    {
     "name": "stdout",
     "output_type": "stream",
     "text": [
      "tensor([[ 25., 216.]], grad_fn=<CopySlices>)\n"
     ]
    }
   ],
   "source": [
    "print(n)"
   ]
  },
  {
   "cell_type": "code",
   "execution_count": 36,
   "metadata": {
    "ExecuteTime": {
     "end_time": "2019-06-03T14:06:09.253093Z",
     "start_time": "2019-06-03T14:06:09.249979Z"
    }
   },
   "outputs": [],
   "source": [
    "n.backward(torch.ones_like(n))"
   ]
  },
  {
   "cell_type": "code",
   "execution_count": 37,
   "metadata": {
    "ExecuteTime": {
     "end_time": "2019-06-03T14:06:17.189824Z",
     "start_time": "2019-06-03T14:06:17.185436Z"
    }
   },
   "outputs": [
    {
     "name": "stdout",
     "output_type": "stream",
     "text": [
      "tensor([[ 10., 108.]])\n"
     ]
    }
   ],
   "source": [
    "print(m.grad)"
   ]
  },
  {
   "cell_type": "code",
   "execution_count": 38,
   "metadata": {
    "ExecuteTime": {
     "end_time": "2019-06-03T14:08:02.039445Z",
     "start_time": "2019-06-03T14:08:02.036166Z"
    }
   },
   "outputs": [],
   "source": [
    "x4 = Variable(torch.FloatTensor([3]), requires_grad = True)"
   ]
  },
  {
   "cell_type": "code",
   "execution_count": 39,
   "metadata": {
    "ExecuteTime": {
     "end_time": "2019-06-03T14:08:28.836000Z",
     "start_time": "2019-06-03T14:08:28.832675Z"
    }
   },
   "outputs": [],
   "source": [
    "y4 = x4*2 + x4**2 + 3"
   ]
  },
  {
   "cell_type": "code",
   "execution_count": 40,
   "metadata": {
    "ExecuteTime": {
     "end_time": "2019-06-03T14:08:31.185029Z",
     "start_time": "2019-06-03T14:08:31.180637Z"
    }
   },
   "outputs": [
    {
     "data": {
      "text/plain": [
       "tensor([18.], grad_fn=<AddBackward0>)"
      ]
     },
     "execution_count": 40,
     "metadata": {},
     "output_type": "execute_result"
    }
   ],
   "source": [
    "y4"
   ]
  },
  {
   "cell_type": "code",
   "execution_count": 41,
   "metadata": {
    "ExecuteTime": {
     "end_time": "2019-06-03T14:08:56.132722Z",
     "start_time": "2019-06-03T14:08:56.129172Z"
    }
   },
   "outputs": [],
   "source": [
    "y4.backward(retain_graph=True)"
   ]
  },
  {
   "cell_type": "code",
   "execution_count": 42,
   "metadata": {
    "ExecuteTime": {
     "end_time": "2019-06-03T14:09:03.191620Z",
     "start_time": "2019-06-03T14:09:03.186540Z"
    }
   },
   "outputs": [
    {
     "data": {
      "text/plain": [
       "tensor([8.])"
      ]
     },
     "execution_count": 42,
     "metadata": {},
     "output_type": "execute_result"
    }
   ],
   "source": [
    "x4.grad"
   ]
  },
  {
   "cell_type": "code",
   "execution_count": 43,
   "metadata": {
    "ExecuteTime": {
     "end_time": "2019-06-03T14:09:14.605302Z",
     "start_time": "2019-06-03T14:09:14.602103Z"
    }
   },
   "outputs": [],
   "source": [
    "y4.backward()"
   ]
  },
  {
   "cell_type": "code",
   "execution_count": 44,
   "metadata": {
    "ExecuteTime": {
     "end_time": "2019-06-03T14:09:19.767474Z",
     "start_time": "2019-06-03T14:09:19.760943Z"
    }
   },
   "outputs": [
    {
     "data": {
      "text/plain": [
       "tensor([16.])"
      ]
     },
     "execution_count": 44,
     "metadata": {},
     "output_type": "execute_result"
    }
   ],
   "source": [
    "x4.grad"
   ]
  },
  {
   "cell_type": "code",
   "execution_count": 45,
   "metadata": {
    "ExecuteTime": {
     "end_time": "2019-06-03T16:18:57.672205Z",
     "start_time": "2019-06-03T16:18:57.667400Z"
    }
   },
   "outputs": [],
   "source": [
    "x5 = Variable(torch.randn(1, 10))"
   ]
  },
  {
   "cell_type": "code",
   "execution_count": 46,
   "metadata": {
    "ExecuteTime": {
     "end_time": "2019-06-03T16:19:17.841629Z",
     "start_time": "2019-06-03T16:19:17.838649Z"
    }
   },
   "outputs": [],
   "source": [
    "prev_h = Variable(torch.randn(1, 20))"
   ]
  },
  {
   "cell_type": "code",
   "execution_count": 47,
   "metadata": {
    "ExecuteTime": {
     "end_time": "2019-06-03T16:19:32.733712Z",
     "start_time": "2019-06-03T16:19:32.730664Z"
    }
   },
   "outputs": [],
   "source": [
    "W_h = Variable(torch.randn(20, 20))"
   ]
  },
  {
   "cell_type": "code",
   "execution_count": 51,
   "metadata": {
    "ExecuteTime": {
     "end_time": "2019-06-03T16:47:39.823666Z",
     "start_time": "2019-06-03T16:47:39.820345Z"
    }
   },
   "outputs": [],
   "source": [
    "W_x = Variable(torch.randn(20, 10))"
   ]
  },
  {
   "cell_type": "code",
   "execution_count": 52,
   "metadata": {
    "ExecuteTime": {
     "end_time": "2019-06-03T16:47:40.664073Z",
     "start_time": "2019-06-03T16:47:40.644511Z"
    }
   },
   "outputs": [],
   "source": [
    "i2h = torch.mm(W_x, x5.t())"
   ]
  },
  {
   "cell_type": "code",
   "execution_count": 53,
   "metadata": {
    "ExecuteTime": {
     "end_time": "2019-06-03T16:47:56.040565Z",
     "start_time": "2019-06-03T16:47:56.037195Z"
    }
   },
   "outputs": [],
   "source": [
    "h2h = torch.mm(W_h, prev_h.t())"
   ]
  },
  {
   "cell_type": "code",
   "execution_count": null,
   "metadata": {},
   "outputs": [],
   "source": []
  },
  {
   "cell_type": "code",
   "execution_count": null,
   "metadata": {},
   "outputs": [],
   "source": []
  },
  {
   "cell_type": "code",
   "execution_count": null,
   "metadata": {},
   "outputs": [],
   "source": []
  },
  {
   "cell_type": "code",
   "execution_count": null,
   "metadata": {},
   "outputs": [],
   "source": []
  },
  {
   "cell_type": "code",
   "execution_count": null,
   "metadata": {},
   "outputs": [],
   "source": []
  },
  {
   "cell_type": "code",
   "execution_count": null,
   "metadata": {},
   "outputs": [],
   "source": []
  },
  {
   "cell_type": "code",
   "execution_count": null,
   "metadata": {},
   "outputs": [],
   "source": []
  },
  {
   "cell_type": "code",
   "execution_count": null,
   "metadata": {},
   "outputs": [],
   "source": []
  },
  {
   "cell_type": "code",
   "execution_count": null,
   "metadata": {},
   "outputs": [],
   "source": []
  },
  {
   "cell_type": "code",
   "execution_count": null,
   "metadata": {},
   "outputs": [],
   "source": []
  },
  {
   "cell_type": "code",
   "execution_count": null,
   "metadata": {},
   "outputs": [],
   "source": []
  },
  {
   "cell_type": "code",
   "execution_count": null,
   "metadata": {},
   "outputs": [],
   "source": []
  },
  {
   "cell_type": "code",
   "execution_count": null,
   "metadata": {},
   "outputs": [],
   "source": []
  },
  {
   "cell_type": "code",
   "execution_count": null,
   "metadata": {},
   "outputs": [],
   "source": []
  },
  {
   "cell_type": "code",
   "execution_count": null,
   "metadata": {},
   "outputs": [],
   "source": []
  },
  {
   "cell_type": "code",
   "execution_count": null,
   "metadata": {},
   "outputs": [],
   "source": []
  }
 ],
 "metadata": {
  "hide_input": false,
  "kernelspec": {
   "display_name": "Python 3",
   "language": "python",
   "name": "python3"
  },
  "language_info": {
   "codemirror_mode": {
    "name": "ipython",
    "version": 3
   },
   "file_extension": ".py",
   "mimetype": "text/x-python",
   "name": "python",
   "nbconvert_exporter": "python",
   "pygments_lexer": "ipython3",
   "version": "3.6.7"
  },
  "toc": {
   "base_numbering": 1,
   "nav_menu": {},
   "number_sections": true,
   "sideBar": true,
   "skip_h1_title": false,
   "title_cell": "Table of Contents",
   "title_sidebar": "Contents",
   "toc_cell": false,
   "toc_position": {},
   "toc_section_display": true,
   "toc_window_display": false
  },
  "varInspector": {
   "cols": {
    "lenName": 16,
    "lenType": 16,
    "lenVar": 40
   },
   "kernels_config": {
    "python": {
     "delete_cmd_postfix": "",
     "delete_cmd_prefix": "del ",
     "library": "var_list.py",
     "varRefreshCmd": "print(var_dic_list())"
    },
    "r": {
     "delete_cmd_postfix": ") ",
     "delete_cmd_prefix": "rm(",
     "library": "var_list.r",
     "varRefreshCmd": "cat(var_dic_list()) "
    }
   },
   "types_to_exclude": [
    "module",
    "function",
    "builtin_function_or_method",
    "instance",
    "_Feature"
   ],
   "window_display": false
  }
 },
 "nbformat": 4,
 "nbformat_minor": 2
}
