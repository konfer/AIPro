{
 "cells": [
  {
   "cell_type": "code",
   "execution_count": 1,
   "metadata": {
    "ExecuteTime": {
     "end_time": "2019-06-05T01:19:46.886547Z",
     "start_time": "2019-06-05T01:19:46.634636Z"
    }
   },
   "outputs": [],
   "source": [
    "# pytorch-common-import!\n",
    "import torch\n",
    "from torch.autograd import Variable "
   ]
  },
  {
   "cell_type": "code",
   "execution_count": 2,
   "metadata": {
    "ExecuteTime": {
     "end_time": "2019-06-05T01:19:47.505625Z",
     "start_time": "2019-06-05T01:19:46.889627Z"
    }
   },
   "outputs": [],
   "source": [
    "import numpy as np\n",
    "import pandas as pd\n",
    "import matplotlib as mpl\n",
    "import matplotlib.pyplot as plt\n",
    "import seaborn as sns\n",
    "import missingno as msno\n",
    "%matplotlib inline"
   ]
  },
  {
   "cell_type": "code",
   "execution_count": 3,
   "metadata": {
    "ExecuteTime": {
     "end_time": "2019-06-05T01:19:47.516925Z",
     "start_time": "2019-06-05T01:19:47.507825Z"
    }
   },
   "outputs": [],
   "source": [
    "# 读入数据 x 和 y\n",
    "x_train = np.array([[3.3], [4.4], [5.5], [6.71], [6.93], [4.168],\n",
    "                    [9.779], [6.182], [7.59], [2.167], [7.042],\n",
    "                    [10.791], [5.313], [7.997], [3.1]], dtype=np.float32)\n",
    "\n",
    "y_train = np.array([[1.7], [2.76], [2.09], [3.19], [1.694], [1.573],\n",
    "                    [3.366], [2.596], [2.53], [1.221], [2.827],\n",
    "                    [3.465], [1.65], [2.904], [1.3]], dtype=np.float32)"
   ]
  },
  {
   "cell_type": "code",
   "execution_count": 4,
   "metadata": {
    "ExecuteTime": {
     "end_time": "2019-06-05T01:19:47.655528Z",
     "start_time": "2019-06-05T01:19:47.520357Z"
    }
   },
   "outputs": [
    {
     "data": {
      "text/plain": [
       "[<matplotlib.lines.Line2D at 0x7f15748d91d0>]"
      ]
     },
     "execution_count": 4,
     "metadata": {},
     "output_type": "execute_result"
    },
    {
     "data": {
      "image/png": "[encoded data removed]",
      "text/plain": [
       "<matplotlib.figure.Figure at 0x7f1574963f60>"
      ]
     },
     "metadata": {
      "needs_background": "light"
     },
     "output_type": "display_data"
    }
   ],
   "source": [
    "plt.plot(x_train, y_train, 'bo')"
   ]
  },
  {
   "cell_type": "code",
   "execution_count": 5,
   "metadata": {
    "ExecuteTime": {
     "end_time": "2019-06-05T01:19:47.663672Z",
     "start_time": "2019-06-05T01:19:47.658401Z"
    }
   },
   "outputs": [],
   "source": [
    "x = torch.from_numpy(x_train)"
   ]
  },
  {
   "cell_type": "code",
   "execution_count": 6,
   "metadata": {
    "ExecuteTime": {
     "end_time": "2019-06-05T01:19:47.671842Z",
     "start_time": "2019-06-05T01:19:47.666074Z"
    }
   },
   "outputs": [],
   "source": [
    "y = torch.from_numpy(y_train)"
   ]
  },
  {
   "cell_type": "code",
   "execution_count": 7,
   "metadata": {
    "ExecuteTime": {
     "end_time": "2019-06-05T01:19:47.680059Z",
     "start_time": "2019-06-05T01:19:47.675009Z"
    }
   },
   "outputs": [],
   "source": [
    "x = Variable(x)\n",
    "y = Variable(y)"
   ]
  },
  {
   "cell_type": "code",
   "execution_count": 8,
   "metadata": {
    "ExecuteTime": {
     "end_time": "2019-06-05T01:19:47.688042Z",
     "start_time": "2019-06-05T01:19:47.682887Z"
    }
   },
   "outputs": [],
   "source": [
    "w = Variable(torch.randn(1), requires_grad = True)"
   ]
  },
  {
   "cell_type": "code",
   "execution_count": 9,
   "metadata": {
    "ExecuteTime": {
     "end_time": "2019-06-05T01:19:47.694326Z",
     "start_time": "2019-06-05T01:19:47.689924Z"
    }
   },
   "outputs": [],
   "source": [
    "b = Variable(torch.zeros(1), requires_grad = True)"
   ]
  },
  {
   "cell_type": "code",
   "execution_count": 10,
   "metadata": {
    "ExecuteTime": {
     "end_time": "2019-06-05T01:19:47.701625Z",
     "start_time": "2019-06-05T01:19:47.696163Z"
    }
   },
   "outputs": [],
   "source": [
    "def linear_model(x):\n",
    "    return w*x + b"
   ]
  },
  {
   "cell_type": "code",
   "execution_count": 11,
   "metadata": {
    "ExecuteTime": {
     "end_time": "2019-06-05T01:19:47.707668Z",
     "start_time": "2019-06-05T01:19:47.703391Z"
    }
   },
   "outputs": [],
   "source": [
    "y_ = linear_model(x)"
   ]
  },
  {
   "cell_type": "code",
   "execution_count": 12,
   "metadata": {
    "ExecuteTime": {
     "end_time": "2019-06-05T01:19:47.876090Z",
     "start_time": "2019-06-05T01:19:47.714658Z"
    }
   },
   "outputs": [
    {
     "data": {
      "text/plain": [
       "<matplotlib.legend.Legend at 0x7f1572076ef0>"
      ]
     },
     "execution_count": 12,
     "metadata": {},
     "output_type": "execute_result"
    },
    {
     "data": {
      "image/png": "[encoded data removed]",
      "text/plain": [
       "<matplotlib.figure.Figure at 0x7f15720c51d0>"
      ]
     },
     "metadata": {
      "needs_background": "light"
     },
     "output_type": "display_data"
    }
   ],
   "source": [
    "plt.plot(x_train, y_train, 'bo', label = \"real\")\n",
    "plt.plot(x_train, y_.data.numpy(), 'ro', label = 'estimated')\n",
    "plt.legend()"
   ]
  },
  {
   "cell_type": "code",
   "execution_count": 13,
   "metadata": {
    "ExecuteTime": {
     "end_time": "2019-06-05T01:19:47.885987Z",
     "start_time": "2019-06-05T01:19:47.879759Z"
    }
   },
   "outputs": [],
   "source": [
    "def get_loss(y_ , y):\n",
    "    return torch.mean((y_ - y ) ** 2)"
   ]
  },
  {
   "cell_type": "code",
   "execution_count": 14,
   "metadata": {
    "ExecuteTime": {
     "end_time": "2019-06-05T01:19:47.896591Z",
     "start_time": "2019-06-05T01:19:47.889372Z"
    }
   },
   "outputs": [],
   "source": [
    "loss = get_loss(y_ , y)"
   ]
  },
  {
   "cell_type": "code",
   "execution_count": 15,
   "metadata": {
    "ExecuteTime": {
     "end_time": "2019-06-05T01:19:47.911134Z",
     "start_time": "2019-06-05T01:19:47.900320Z"
    }
   },
   "outputs": [],
   "source": [
    "loss.backward()"
   ]
  },
  {
   "cell_type": "code",
   "execution_count": 16,
   "metadata": {
    "ExecuteTime": {
     "end_time": "2019-06-05T01:19:47.920669Z",
     "start_time": "2019-06-05T01:19:47.914777Z"
    }
   },
   "outputs": [],
   "source": [
    "w.data = w.data - 1e-2 * w.grad.data"
   ]
  },
  {
   "cell_type": "code",
   "execution_count": 17,
   "metadata": {
    "ExecuteTime": {
     "end_time": "2019-06-05T01:19:47.930152Z",
     "start_time": "2019-06-05T01:19:47.924369Z"
    }
   },
   "outputs": [],
   "source": [
    "b.data = b.data = 1e-2*b.grad.data"
   ]
  },
  {
   "cell_type": "code",
   "execution_count": 18,
   "metadata": {
    "ExecuteTime": {
     "end_time": "2019-06-05T01:19:47.966372Z",
     "start_time": "2019-06-05T01:19:47.947090Z"
    }
   },
   "outputs": [
    {
     "name": "stdout",
     "output_type": "stream",
     "text": [
      "epoch: 0, loss: 0.5031093955039978\n",
      "epoch: 1, loss: 0.2555849552154541\n",
      "epoch: 2, loss: 0.2505911588668823\n",
      "epoch: 3, loss: 0.25008806586265564\n",
      "epoch: 4, loss: 0.24967004358768463\n",
      "epoch: 5, loss: 0.24925582110881805\n",
      "epoch: 6, loss: 0.24884365499019623\n",
      "epoch: 7, loss: 0.2484336644411087\n",
      "epoch: 8, loss: 0.24802568554878235\n",
      "epoch: 9, loss: 0.2476198673248291\n"
     ]
    }
   ],
   "source": [
    "for i in range(10):\n",
    "    y_ = linear_model(x)\n",
    "    loss = get_loss(y_, y)\n",
    "    \n",
    "    w.grad.zero_()\n",
    "    b.grad.zero_()\n",
    "    loss.backward()\n",
    "    \n",
    "    w.data = w.data - w.grad.data*1e-2\n",
    "    b.data = b.data - b.grad.data*1e-2\n",
    "    \n",
    "    print('epoch: {}, loss: {}'.format(i,   loss.data))"
   ]
  },
  {
   "cell_type": "code",
   "execution_count": 19,
   "metadata": {
    "ExecuteTime": {
     "end_time": "2019-06-05T01:19:47.976087Z",
     "start_time": "2019-06-05T01:19:47.973019Z"
    }
   },
   "outputs": [],
   "source": [
    "y_ = linear_model(x)"
   ]
  },
  {
   "cell_type": "code",
   "execution_count": 20,
   "metadata": {
    "ExecuteTime": {
     "end_time": "2019-06-05T01:19:48.133238Z",
     "start_time": "2019-06-05T01:19:47.978138Z"
    }
   },
   "outputs": [
    {
     "data": {
      "text/plain": [
       "<matplotlib.legend.Legend at 0x7f1571806780>"
      ]
     },
     "execution_count": 20,
     "metadata": {},
     "output_type": "execute_result"
    },
    {
     "data": {
      "image/png": "[encoded data removed]",
      "text/plain": [
       "<matplotlib.figure.Figure at 0x7f157200b080>"
      ]
     },
     "metadata": {
      "needs_background": "light"
     },
     "output_type": "display_data"
    }
   ],
   "source": [
    "plt.plot(x_train, y_train, 'bo', label = \"real\")\n",
    "plt.plot(x_train, y_.data.numpy(), 'ro', label = 'estimated')\n",
    "plt.legend()"
   ]
  },
  {
   "cell_type": "code",
   "execution_count": 21,
   "metadata": {
    "ExecuteTime": {
     "end_time": "2019-06-05T01:19:48.142696Z",
     "start_time": "2019-06-05T01:19:48.136865Z"
    }
   },
   "outputs": [],
   "source": [
    "w = Variable(torch.randn(1), requires_grad = True)"
   ]
  },
  {
   "cell_type": "code",
   "execution_count": 22,
   "metadata": {
    "ExecuteTime": {
     "end_time": "2019-06-05T01:19:48.151686Z",
     "start_time": "2019-06-05T01:19:48.147625Z"
    }
   },
   "outputs": [],
   "source": [
    "b = Variable(torch.zeros(1), requires_grad = True)"
   ]
  },
  {
   "cell_type": "code",
   "execution_count": 23,
   "metadata": {
    "ExecuteTime": {
     "end_time": "2019-06-05T01:19:48.183425Z",
     "start_time": "2019-06-05T01:19:48.156800Z"
    }
   },
   "outputs": [
    {
     "name": "stdout",
     "output_type": "stream",
     "text": [
      "epoch: 0, loss: 49.454833984375\n",
      "epoch: 1, loss: 1.1845604181289673\n",
      "epoch: 2, loss: 0.2907055616378784\n",
      "epoch: 3, loss: 0.27363482117652893\n",
      "epoch: 4, loss: 0.2727932631969452\n",
      "epoch: 5, loss: 0.2722547650337219\n",
      "epoch: 6, loss: 0.27172455191612244\n",
      "epoch: 7, loss: 0.2711971402168274\n",
      "epoch: 8, loss: 0.2706725299358368\n",
      "epoch: 9, loss: 0.27015048265457153\n",
      "epoch: 10, loss: 0.26963111758232117\n",
      "epoch: 11, loss: 0.26911452412605286\n",
      "epoch: 12, loss: 0.2686004936695099\n",
      "epoch: 13, loss: 0.2680891454219818\n",
      "epoch: 14, loss: 0.26758038997650146\n",
      "epoch: 15, loss: 0.26707425713539124\n",
      "epoch: 16, loss: 0.2665707468986511\n",
      "epoch: 17, loss: 0.26606976985931396\n",
      "epoch: 18, loss: 0.26557138562202454\n",
      "epoch: 19, loss: 0.26507553458213806\n"
     ]
    }
   ],
   "source": [
    "for i in range(20):\n",
    "    y_ = linear_model(x)\n",
    "    loss = get_loss(y_, y)\n",
    "    \n",
    "    loss.backward()\n",
    "    \n",
    "    w.data = w.data - w.grad.data*1e-2\n",
    "    b.data = b.data - b.grad.data*1e-2\n",
    "    \n",
    "    w.grad.zero_()\n",
    "    b.grad.zero_()\n",
    "    \n",
    "    print('epoch: {}, loss: {}'.format(i,   loss.data))"
   ]
  },
  {
   "cell_type": "code",
   "execution_count": 24,
   "metadata": {
    "ExecuteTime": {
     "end_time": "2019-06-05T01:19:48.195226Z",
     "start_time": "2019-06-05T01:19:48.190145Z"
    }
   },
   "outputs": [],
   "source": [
    "w = Variable(torch.randn(1), requires_grad = True)"
   ]
  },
  {
   "cell_type": "code",
   "execution_count": 25,
   "metadata": {
    "ExecuteTime": {
     "end_time": "2019-06-05T01:19:48.208771Z",
     "start_time": "2019-06-05T01:19:48.202519Z"
    }
   },
   "outputs": [],
   "source": [
    "b = Variable(torch.zeros(1), requires_grad = True)"
   ]
  },
  {
   "cell_type": "code",
   "execution_count": 26,
   "metadata": {
    "ExecuteTime": {
     "end_time": "2019-06-05T01:19:48.246793Z",
     "start_time": "2019-06-05T01:19:48.213004Z"
    }
   },
   "outputs": [
    {
     "name": "stdout",
     "output_type": "stream",
     "text": [
      "epoch: 0, loss: 74.78597259521484\n",
      "epoch: 1, loss: 1.5900688171386719\n",
      "epoch: 2, loss: 0.2352474331855774\n",
      "epoch: 3, loss: 0.20996879041194916\n",
      "epoch: 4, loss: 0.20929665863513947\n",
      "epoch: 5, loss: 0.20908097922801971\n",
      "epoch: 6, loss: 0.20887479186058044\n",
      "epoch: 7, loss: 0.2086697667837143\n",
      "epoch: 8, loss: 0.20846585929393768\n",
      "epoch: 9, loss: 0.20826295018196106\n",
      "epoch: 10, loss: 0.2080611139535904\n",
      "epoch: 11, loss: 0.2078603059053421\n",
      "epoch: 12, loss: 0.207660511136055\n",
      "epoch: 13, loss: 0.20746175944805145\n",
      "epoch: 14, loss: 0.2072639912366867\n",
      "epoch: 15, loss: 0.20706728100776672\n",
      "epoch: 16, loss: 0.20687158405780792\n",
      "epoch: 17, loss: 0.2066768854856491\n",
      "epoch: 18, loss: 0.20648318529129028\n",
      "epoch: 19, loss: 0.20629046857357025\n",
      "epoch: 20, loss: 0.20609872043132782\n",
      "epoch: 21, loss: 0.20590795576572418\n",
      "epoch: 22, loss: 0.20571821928024292\n",
      "epoch: 23, loss: 0.20552940666675568\n",
      "epoch: 24, loss: 0.20534160733222961\n",
      "epoch: 25, loss: 0.20515471696853638\n",
      "epoch: 26, loss: 0.20496882498264313\n",
      "epoch: 27, loss: 0.20478393137454987\n",
      "epoch: 28, loss: 0.20459990203380585\n",
      "epoch: 29, loss: 0.204416885972023\n"
     ]
    }
   ],
   "source": [
    "for i in range(30):\n",
    "    y_ = linear_model(x)\n",
    "    loss = get_loss(y_, y)\n",
    "    \n",
    "    loss.backward()\n",
    "    \n",
    "    w.data = w.data - w.grad.data*1e-2\n",
    "    b.data = b.data - b.grad.data*1e-2\n",
    "    \n",
    "    w.grad.zero_()\n",
    "    b.grad.zero_()\n",
    "    \n",
    "    print('epoch: {}, loss: {}'.format(i,   loss.data))"
   ]
  },
  {
   "cell_type": "code",
   "execution_count": 28,
   "metadata": {
    "ExecuteTime": {
     "end_time": "2019-06-05T01:33:10.259846Z",
     "start_time": "2019-06-05T01:33:10.250615Z"
    }
   },
   "outputs": [
    {
     "name": "stdout",
     "output_type": "stream",
     "text": [
      "y = 0.90 + 0.50 * x + 3.00 * x^2 + 2.40 * x^3\n"
     ]
    }
   ],
   "source": [
    "w_target = np.array([0.5, 3, 2.4]) # 定义参数\n",
    "b_target = np.array([0.9]) # 定义参数\n",
    "\n",
    "f_des = 'y = {:.2f} + {:.2f} * x + {:.2f} * x^2 + {:.2f} * x^3'.format(\n",
    "    b_target[0], w_target[0], w_target[1], w_target[2]) # 打印出函数的式子\n",
    "\n",
    "print(f_des)"
   ]
  },
  {
   "cell_type": "code",
   "execution_count": 32,
   "metadata": {
    "ExecuteTime": {
     "end_time": "2019-06-05T01:45:38.445526Z",
     "start_time": "2019-06-05T01:45:38.272379Z"
    }
   },
   "outputs": [
    {
     "data": {
      "text/plain": [
       "<matplotlib.legend.Legend at 0x7f15716d4978>"
      ]
     },
     "execution_count": 32,
     "metadata": {},
     "output_type": "execute_result"
    },
    {
     "data": {
      "image/png": "[encoded data removed]",
      "text/plain": [
       "<matplotlib.figure.Figure at 0x7f15716d42b0>"
      ]
     },
     "metadata": {
      "needs_background": "light"
     },
     "output_type": "display_data"
    }
   ],
   "source": [
    "x_sample =  np.arange(-3, 3.1, 0.1)\n",
    "y_sample = b_target[0] + w_target[0] * x_sample + w_target[1] * x_sample ** 2 + w_target[2] * x_sample ** 3\n",
    "\n",
    "plt.plot(x_sample, y_sample, label='real curve')\n",
    "plt.legend()"
   ]
  },
  {
   "cell_type": "code",
   "execution_count": 30,
   "metadata": {
    "ExecuteTime": {
     "end_time": "2019-06-05T01:45:09.863978Z",
     "start_time": "2019-06-05T01:45:09.858944Z"
    }
   },
   "outputs": [
    {
     "data": {
      "text/plain": [
       "array([-3.00000000e+00, -2.90000000e+00, -2.80000000e+00, -2.70000000e+00,\n",
       "       -2.60000000e+00, -2.50000000e+00, -2.40000000e+00, -2.30000000e+00,\n",
       "       -2.20000000e+00, -2.10000000e+00, -2.00000000e+00, -1.90000000e+00,\n",
       "       -1.80000000e+00, -1.70000000e+00, -1.60000000e+00, -1.50000000e+00,\n",
       "       -1.40000000e+00, -1.30000000e+00, -1.20000000e+00, -1.10000000e+00,\n",
       "       -1.00000000e+00, -9.00000000e-01, -8.00000000e-01, -7.00000000e-01,\n",
       "       -6.00000000e-01, -5.00000000e-01, -4.00000000e-01, -3.00000000e-01,\n",
       "       -2.00000000e-01, -1.00000000e-01,  2.66453526e-15,  1.00000000e-01,\n",
       "        2.00000000e-01,  3.00000000e-01,  4.00000000e-01,  5.00000000e-01,\n",
       "        6.00000000e-01,  7.00000000e-01,  8.00000000e-01,  9.00000000e-01,\n",
       "        1.00000000e+00,  1.10000000e+00,  1.20000000e+00,  1.30000000e+00,\n",
       "        1.40000000e+00,  1.50000000e+00,  1.60000000e+00,  1.70000000e+00,\n",
       "        1.80000000e+00,  1.90000000e+00,  2.00000000e+00,  2.10000000e+00,\n",
       "        2.20000000e+00,  2.30000000e+00,  2.40000000e+00,  2.50000000e+00,\n",
       "        2.60000000e+00,  2.70000000e+00,  2.80000000e+00,  2.90000000e+00,\n",
       "        3.00000000e+00])"
      ]
     },
     "execution_count": 30,
     "metadata": {},
     "output_type": "execute_result"
    }
   ],
   "source": [
    "x.sample"
   ]
  },
  {
   "cell_type": "code",
   "execution_count": 34,
   "metadata": {
    "ExecuteTime": {
     "end_time": "2019-06-05T02:12:49.926967Z",
     "start_time": "2019-06-05T02:12:49.921882Z"
    }
   },
   "outputs": [],
   "source": [
    "x = np.stack([x_sample ** i for i in range(1, 4)], axis=1)"
   ]
  },
  {
   "cell_type": "code",
   "execution_count": 35,
   "metadata": {
    "ExecuteTime": {
     "end_time": "2019-06-05T02:12:52.445516Z",
     "start_time": "2019-06-05T02:12:52.436350Z"
    }
   },
   "outputs": [
    {
     "data": {
      "text/plain": [
       "array([[-3.00000000e+00,  9.00000000e+00, -2.70000000e+01],\n",
       "       [-2.90000000e+00,  8.41000000e+00, -2.43890000e+01],\n",
       "       [-2.80000000e+00,  7.84000000e+00, -2.19520000e+01],\n",
       "       [-2.70000000e+00,  7.29000000e+00, -1.96830000e+01],\n",
       "       [-2.60000000e+00,  6.76000000e+00, -1.75760000e+01],\n",
       "       [-2.50000000e+00,  6.25000000e+00, -1.56250000e+01],\n",
       "       [-2.40000000e+00,  5.76000000e+00, -1.38240000e+01],\n",
       "       [-2.30000000e+00,  5.29000000e+00, -1.21670000e+01],\n",
       "       [-2.20000000e+00,  4.84000000e+00, -1.06480000e+01],\n",
       "       [-2.10000000e+00,  4.41000000e+00, -9.26100000e+00],\n",
       "       [-2.00000000e+00,  4.00000000e+00, -8.00000000e+00],\n",
       "       [-1.90000000e+00,  3.61000000e+00, -6.85900000e+00],\n",
       "       [-1.80000000e+00,  3.24000000e+00, -5.83200000e+00],\n",
       "       [-1.70000000e+00,  2.89000000e+00, -4.91300000e+00],\n",
       "       [-1.60000000e+00,  2.56000000e+00, -4.09600000e+00],\n",
       "       [-1.50000000e+00,  2.25000000e+00, -3.37500000e+00],\n",
       "       [-1.40000000e+00,  1.96000000e+00, -2.74400000e+00],\n",
       "       [-1.30000000e+00,  1.69000000e+00, -2.19700000e+00],\n",
       "       [-1.20000000e+00,  1.44000000e+00, -1.72800000e+00],\n",
       "       [-1.10000000e+00,  1.21000000e+00, -1.33100000e+00],\n",
       "       [-1.00000000e+00,  1.00000000e+00, -1.00000000e+00],\n",
       "       [-9.00000000e-01,  8.10000000e-01, -7.29000000e-01],\n",
       "       [-8.00000000e-01,  6.40000000e-01, -5.12000000e-01],\n",
       "       [-7.00000000e-01,  4.90000000e-01, -3.43000000e-01],\n",
       "       [-6.00000000e-01,  3.60000000e-01, -2.16000000e-01],\n",
       "       [-5.00000000e-01,  2.50000000e-01, -1.25000000e-01],\n",
       "       [-4.00000000e-01,  1.60000000e-01, -6.40000000e-02],\n",
       "       [-3.00000000e-01,  9.00000000e-02, -2.70000000e-02],\n",
       "       [-2.00000000e-01,  4.00000000e-02, -8.00000000e-03],\n",
       "       [-1.00000000e-01,  1.00000000e-02, -1.00000000e-03],\n",
       "       [ 2.66453526e-15,  7.09974815e-30,  1.89175293e-44],\n",
       "       [ 1.00000000e-01,  1.00000000e-02,  1.00000000e-03],\n",
       "       [ 2.00000000e-01,  4.00000000e-02,  8.00000000e-03],\n",
       "       [ 3.00000000e-01,  9.00000000e-02,  2.70000000e-02],\n",
       "       [ 4.00000000e-01,  1.60000000e-01,  6.40000000e-02],\n",
       "       [ 5.00000000e-01,  2.50000000e-01,  1.25000000e-01],\n",
       "       [ 6.00000000e-01,  3.60000000e-01,  2.16000000e-01],\n",
       "       [ 7.00000000e-01,  4.90000000e-01,  3.43000000e-01],\n",
       "       [ 8.00000000e-01,  6.40000000e-01,  5.12000000e-01],\n",
       "       [ 9.00000000e-01,  8.10000000e-01,  7.29000000e-01],\n",
       "       [ 1.00000000e+00,  1.00000000e+00,  1.00000000e+00],\n",
       "       [ 1.10000000e+00,  1.21000000e+00,  1.33100000e+00],\n",
       "       [ 1.20000000e+00,  1.44000000e+00,  1.72800000e+00],\n",
       "       [ 1.30000000e+00,  1.69000000e+00,  2.19700000e+00],\n",
       "       [ 1.40000000e+00,  1.96000000e+00,  2.74400000e+00],\n",
       "       [ 1.50000000e+00,  2.25000000e+00,  3.37500000e+00],\n",
       "       [ 1.60000000e+00,  2.56000000e+00,  4.09600000e+00],\n",
       "       [ 1.70000000e+00,  2.89000000e+00,  4.91300000e+00],\n",
       "       [ 1.80000000e+00,  3.24000000e+00,  5.83200000e+00],\n",
       "       [ 1.90000000e+00,  3.61000000e+00,  6.85900000e+00],\n",
       "       [ 2.00000000e+00,  4.00000000e+00,  8.00000000e+00],\n",
       "       [ 2.10000000e+00,  4.41000000e+00,  9.26100000e+00],\n",
       "       [ 2.20000000e+00,  4.84000000e+00,  1.06480000e+01],\n",
       "       [ 2.30000000e+00,  5.29000000e+00,  1.21670000e+01],\n",
       "       [ 2.40000000e+00,  5.76000000e+00,  1.38240000e+01],\n",
       "       [ 2.50000000e+00,  6.25000000e+00,  1.56250000e+01],\n",
       "       [ 2.60000000e+00,  6.76000000e+00,  1.75760000e+01],\n",
       "       [ 2.70000000e+00,  7.29000000e+00,  1.96830000e+01],\n",
       "       [ 2.80000000e+00,  7.84000000e+00,  2.19520000e+01],\n",
       "       [ 2.90000000e+00,  8.41000000e+00,  2.43890000e+01],\n",
       "       [ 3.00000000e+00,  9.00000000e+00,  2.70000000e+01]])"
      ]
     },
     "execution_count": 35,
     "metadata": {},
     "output_type": "execute_result"
    }
   ],
   "source": [
    "x"
   ]
  },
  {
   "cell_type": "code",
   "execution_count": 36,
   "metadata": {
    "ExecuteTime": {
     "end_time": "2019-06-05T02:13:43.351718Z",
     "start_time": "2019-06-05T02:13:43.347887Z"
    }
   },
   "outputs": [],
   "source": [
    "x_train = torch.from_numpy(x).float()"
   ]
  },
  {
   "cell_type": "code",
   "execution_count": 37,
   "metadata": {
    "ExecuteTime": {
     "end_time": "2019-06-05T02:15:10.424961Z",
     "start_time": "2019-06-05T02:15:10.421661Z"
    }
   },
   "outputs": [],
   "source": [
    "y_train = torch.from_numpy(y_sample).float().unsqueeze(1)"
   ]
  },
  {
   "cell_type": "code",
   "execution_count": 38,
   "metadata": {
    "ExecuteTime": {
     "end_time": "2019-06-05T02:19:47.130010Z",
     "start_time": "2019-06-05T02:19:47.123620Z"
    }
   },
   "outputs": [
    {
     "data": {
      "text/plain": [
       "tensor([[-3.8400e+01],\n",
       "        [-3.3854e+01],\n",
       "        [-2.9665e+01],\n",
       "        [-2.5819e+01],\n",
       "        [-2.2302e+01],\n",
       "        [-1.9100e+01],\n",
       "        [-1.6198e+01],\n",
       "        [-1.3581e+01],\n",
       "        [-1.1235e+01],\n",
       "        [-9.1464e+00],\n",
       "        [-7.3000e+00],\n",
       "        [-5.6816e+00],\n",
       "        [-4.2768e+00],\n",
       "        [-3.0712e+00],\n",
       "        [-2.0504e+00],\n",
       "        [-1.2000e+00],\n",
       "        [-5.0560e-01],\n",
       "        [ 4.7200e-02],\n",
       "        [ 4.7280e-01],\n",
       "        [ 7.8560e-01],\n",
       "        [ 1.0000e+00],\n",
       "        [ 1.1304e+00],\n",
       "        [ 1.1912e+00],\n",
       "        [ 1.1968e+00],\n",
       "        [ 1.1616e+00],\n",
       "        [ 1.1000e+00],\n",
       "        [ 1.0264e+00],\n",
       "        [ 9.5520e-01],\n",
       "        [ 9.0080e-01],\n",
       "        [ 8.7760e-01],\n",
       "        [ 9.0000e-01],\n",
       "        [ 9.8240e-01],\n",
       "        [ 1.1392e+00],\n",
       "        [ 1.3848e+00],\n",
       "        [ 1.7336e+00],\n",
       "        [ 2.2000e+00],\n",
       "        [ 2.7984e+00],\n",
       "        [ 3.5432e+00],\n",
       "        [ 4.4488e+00],\n",
       "        [ 5.5296e+00],\n",
       "        [ 6.8000e+00],\n",
       "        [ 8.2744e+00],\n",
       "        [ 9.9672e+00],\n",
       "        [ 1.1893e+01],\n",
       "        [ 1.4066e+01],\n",
       "        [ 1.6500e+01],\n",
       "        [ 1.9210e+01],\n",
       "        [ 2.2211e+01],\n",
       "        [ 2.5517e+01],\n",
       "        [ 2.9142e+01],\n",
       "        [ 3.3100e+01],\n",
       "        [ 3.7406e+01],\n",
       "        [ 4.2075e+01],\n",
       "        [ 4.7121e+01],\n",
       "        [ 5.2558e+01],\n",
       "        [ 5.8400e+01],\n",
       "        [ 6.4662e+01],\n",
       "        [ 7.1359e+01],\n",
       "        [ 7.8505e+01],\n",
       "        [ 8.6114e+01],\n",
       "        [ 9.4200e+01]])"
      ]
     },
     "execution_count": 38,
     "metadata": {},
     "output_type": "execute_result"
    }
   ],
   "source": [
    "y_train"
   ]
  },
  {
   "cell_type": "code",
   "execution_count": 39,
   "metadata": {
    "ExecuteTime": {
     "end_time": "2019-06-05T02:21:26.952898Z",
     "start_time": "2019-06-05T02:21:26.948449Z"
    }
   },
   "outputs": [],
   "source": [
    "# 定义参数和模型\n",
    "w = Variable(torch.randn(3, 1), requires_grad=True)\n",
    "b = Variable(torch.zeros(1), requires_grad=True)\n",
    "\n",
    "# 将 x 和 y 转换成 Variable\n",
    "x_train = Variable(x_train)\n",
    "y_train = Variable(y_train)"
   ]
  },
  {
   "cell_type": "code",
   "execution_count": 40,
   "metadata": {
    "ExecuteTime": {
     "end_time": "2019-06-05T02:22:15.662131Z",
     "start_time": "2019-06-05T02:22:15.658967Z"
    }
   },
   "outputs": [],
   "source": [
    "def multi_linear(x):\n",
    "    return torch.mm(x, w) + b"
   ]
  },
  {
   "cell_type": "code",
   "execution_count": 41,
   "metadata": {
    "ExecuteTime": {
     "end_time": "2019-06-05T02:22:43.907397Z",
     "start_time": "2019-06-05T02:22:43.904234Z"
    }
   },
   "outputs": [],
   "source": [
    "y_predict = multi_linear(x_train)"
   ]
  },
  {
   "cell_type": "code",
   "execution_count": 43,
   "metadata": {
    "ExecuteTime": {
     "end_time": "2019-06-05T02:23:08.267566Z",
     "start_time": "2019-06-05T02:23:08.096813Z"
    }
   },
   "outputs": [
    {
     "data": {
      "text/plain": [
       "<matplotlib.legend.Legend at 0x7f157160f1d0>"
      ]
     },
     "execution_count": 43,
     "metadata": {},
     "output_type": "execute_result"
    },
    {
     "data": {
      "image/png": "[encoded data removed]",
      "text/plain": [
       "<matplotlib.figure.Figure at 0x7f1571661048>"
      ]
     },
     "metadata": {
      "needs_background": "light"
     },
     "output_type": "display_data"
    }
   ],
   "source": [
    "plt.plot(x_train.data.numpy()[:, 0], y_predict.data.numpy(), label='fitting curve', color='r')\n",
    "plt.plot(x_train.data.numpy()[:, 0], y_sample, label='real curve', color='b')\n",
    "plt.legend()"
   ]
  },
  {
   "cell_type": "code",
   "execution_count": 44,
   "metadata": {
    "ExecuteTime": {
     "end_time": "2019-06-05T02:23:33.046621Z",
     "start_time": "2019-06-05T02:23:33.042090Z"
    }
   },
   "outputs": [],
   "source": [
    "loss = get_loss(y_predict, y_train)"
   ]
  },
  {
   "cell_type": "code",
   "execution_count": 45,
   "metadata": {
    "ExecuteTime": {
     "end_time": "2019-06-05T02:23:37.739325Z",
     "start_time": "2019-06-05T02:23:37.735063Z"
    }
   },
   "outputs": [
    {
     "name": "stdout",
     "output_type": "stream",
     "text": [
      "tensor(607.7189, grad_fn=<MeanBackward1>)\n"
     ]
    }
   ],
   "source": [
    "print(loss)"
   ]
  },
  {
   "cell_type": "code",
   "execution_count": 46,
   "metadata": {
    "ExecuteTime": {
     "end_time": "2019-06-05T02:24:28.296777Z",
     "start_time": "2019-06-05T02:24:28.293557Z"
    }
   },
   "outputs": [],
   "source": [
    "loss.backward()"
   ]
  },
  {
   "cell_type": "code",
   "execution_count": 47,
   "metadata": {
    "ExecuteTime": {
     "end_time": "2019-06-05T02:26:52.863653Z",
     "start_time": "2019-06-05T02:26:52.859554Z"
    }
   },
   "outputs": [
    {
     "name": "stdout",
     "output_type": "stream",
     "text": [
      "tensor([[ -70.8839],\n",
      "        [ -96.5067],\n",
      "        [-465.7435]])\n"
     ]
    }
   ],
   "source": [
    "print(w.grad)"
   ]
  },
  {
   "cell_type": "code",
   "execution_count": 48,
   "metadata": {
    "ExecuteTime": {
     "end_time": "2019-06-05T02:26:58.515531Z",
     "start_time": "2019-06-05T02:26:58.511708Z"
    }
   },
   "outputs": [
    {
     "name": "stdout",
     "output_type": "stream",
     "text": [
      "tensor([-18.1009])\n"
     ]
    }
   ],
   "source": [
    "print(b.grad)"
   ]
  },
  {
   "cell_type": "code",
   "execution_count": 49,
   "metadata": {
    "ExecuteTime": {
     "end_time": "2019-06-05T02:27:21.270642Z",
     "start_time": "2019-06-05T02:27:21.266945Z"
    }
   },
   "outputs": [],
   "source": [
    "w.data = w.data - 0.001 * w.grad.data\n",
    "b.data = b.data - 0.001 * b.grad.data"
   ]
  },
  {
   "cell_type": "code",
   "execution_count": 51,
   "metadata": {
    "ExecuteTime": {
     "end_time": "2019-06-05T02:27:48.060254Z",
     "start_time": "2019-06-05T02:27:48.014196Z"
    }
   },
   "outputs": [
    {
     "name": "stdout",
     "output_type": "stream",
     "text": [
      "epoch 20, Loss: 7.50133\n",
      "epoch 40, Loss: 1.86143\n",
      "epoch 60, Loss: 0.54119\n",
      "epoch 80, Loss: 0.22921\n",
      "epoch 100, Loss: 0.15268\n"
     ]
    }
   ],
   "source": [
    "for e in range(100):\n",
    "    y_pred = multi_linear(x_train)\n",
    "    loss = get_loss(y_pred, y_train)\n",
    "    \n",
    "    w.grad.data.zero_()\n",
    "    b.grad.data.zero_()\n",
    "    loss.backward()\n",
    "    \n",
    "    # 更新参数\n",
    "    w.data = w.data - 0.001 * w.grad.data\n",
    "    b.data = b.data - 0.001 * b.grad.data\n",
    "    if (e + 1) % 20 == 0:\n",
    "        print('epoch {}, Loss: {:.5f}'.format(e+1, loss.data))"
   ]
  },
  {
   "cell_type": "code",
   "execution_count": 52,
   "metadata": {
    "ExecuteTime": {
     "end_time": "2019-06-05T02:28:08.764528Z",
     "start_time": "2019-06-05T02:28:08.592497Z"
    }
   },
   "outputs": [
    {
     "data": {
      "text/plain": [
       "<matplotlib.legend.Legend at 0x7f15715954a8>"
      ]
     },
     "execution_count": 52,
     "metadata": {},
     "output_type": "execute_result"
    },
    {
     "data": {
      "image/png": "[encoded data removed]",
      "text/plain": [
       "<matplotlib.figure.Figure at 0x7f1571662e48>"
      ]
     },
     "metadata": {
      "needs_background": "light"
     },
     "output_type": "display_data"
    }
   ],
   "source": [
    "y_pred = multi_linear(x_train)\n",
    "\n",
    "plt.plot(x_train.data.numpy()[:, 0], y_pred.data.numpy(), label='fitting curve', color='r')\n",
    "plt.plot(x_train.data.numpy()[:, 0], y_sample, label='real curve', color='b')\n",
    "plt.legend()"
   ]
  },
  {
   "cell_type": "code",
   "execution_count": null,
   "metadata": {},
   "outputs": [],
   "source": []
  },
  {
   "cell_type": "code",
   "execution_count": null,
   "metadata": {},
   "outputs": [],
   "source": []
  },
  {
   "cell_type": "code",
   "execution_count": null,
   "metadata": {},
   "outputs": [],
   "source": []
  },
  {
   "cell_type": "code",
   "execution_count": null,
   "metadata": {},
   "outputs": [],
   "source": []
  },
  {
   "cell_type": "code",
   "execution_count": null,
   "metadata": {},
   "outputs": [],
   "source": []
  }
 ],
 "metadata": {
  "hide_input": false,
  "kernelspec": {
   "display_name": "Python 3",
   "language": "python",
   "name": "python3"
  },
  "language_info": {
   "codemirror_mode": {
    "name": "ipython",
    "version": 3
   },
   "file_extension": ".py",
   "mimetype": "text/x-python",
   "name": "python",
   "nbconvert_exporter": "python",
   "pygments_lexer": "ipython3",
   "version": "3.6.7"
  },
  "toc": {
   "base_numbering": 1,
   "nav_menu": {},
   "number_sections": true,
   "sideBar": true,
   "skip_h1_title": false,
   "title_cell": "Table of Contents",
   "title_sidebar": "Contents",
   "toc_cell": false,
   "toc_position": {},
   "toc_section_display": true,
   "toc_window_display": false
  },
  "varInspector": {
   "cols": {
    "lenName": 16,
    "lenType": 16,
    "lenVar": 40
   },
   "kernels_config": {
    "python": {
     "delete_cmd_postfix": "",
     "delete_cmd_prefix": "del ",
     "library": "var_list.py",
     "varRefreshCmd": "print(var_dic_list())"
    },
    "r": {
     "delete_cmd_postfix": ") ",
     "delete_cmd_prefix": "rm(",
     "library": "var_list.r",
     "varRefreshCmd": "cat(var_dic_list()) "
    }
   },
   "types_to_exclude": [
    "module",
    "function",
    "builtin_function_or_method",
    "instance",
    "_Feature"
   ],
   "window_display": false
  }
 },
 "nbformat": 4,
 "nbformat_minor": 2
}
