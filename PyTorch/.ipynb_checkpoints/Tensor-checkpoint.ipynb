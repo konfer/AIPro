{
 "cells": [
  {
   "cell_type": "code",
   "execution_count": 1,
   "metadata": {
    "ExecuteTime": {
     "end_time": "2019-04-18T18:29:27.327518Z",
     "start_time": "2019-04-18T18:29:27.083856Z"
    }
   },
   "outputs": [],
   "source": [
    "import torch\n",
    "import numpy as np"
   ]
  },
  {
   "cell_type": "markdown",
   "metadata": {},
   "source": [
    "## Base"
   ]
  },
  {
   "cell_type": "code",
   "execution_count": 2,
   "metadata": {
    "ExecuteTime": {
     "end_time": "2019-04-18T18:29:27.335084Z",
     "start_time": "2019-04-18T18:29:27.331289Z"
    }
   },
   "outputs": [],
   "source": [
    "x1 = torch.Tensor([3, 4])"
   ]
  },
  {
   "cell_type": "code",
   "execution_count": 3,
   "metadata": {
    "ExecuteTime": {
     "end_time": "2019-04-18T18:29:27.340235Z",
     "start_time": "2019-04-18T18:29:27.337312Z"
    }
   },
   "outputs": [],
   "source": [
    "x2 = torch.FloatTensor([4, 4])"
   ]
  },
  {
   "cell_type": "code",
   "execution_count": 4,
   "metadata": {
    "ExecuteTime": {
     "end_time": "2019-04-18T18:29:27.346139Z",
     "start_time": "2019-04-18T18:29:27.343026Z"
    }
   },
   "outputs": [],
   "source": [
    "X3 = torch.randn(3, 4)"
   ]
  },
  {
   "cell_type": "markdown",
   "metadata": {},
   "source": [
    "## trans between pytorch and numpy"
   ]
  },
  {
   "cell_type": "code",
   "execution_count": 5,
   "metadata": {
    "ExecuteTime": {
     "end_time": "2019-04-18T18:29:27.351528Z",
     "start_time": "2019-04-18T18:29:27.348933Z"
    }
   },
   "outputs": [],
   "source": [
    "numpy_tensor = np.random.randn(10, 20)"
   ]
  },
  {
   "cell_type": "code",
   "execution_count": 6,
   "metadata": {
    "ExecuteTime": {
     "end_time": "2019-04-18T18:29:27.356692Z",
     "start_time": "2019-04-18T18:29:27.353501Z"
    }
   },
   "outputs": [],
   "source": [
    "pytorch_tensor  = torch.from_numpy(numpy_tensor)"
   ]
  },
  {
   "cell_type": "code",
   "execution_count": 7,
   "metadata": {
    "ExecuteTime": {
     "end_time": "2019-04-18T18:29:27.371210Z",
     "start_time": "2019-04-18T18:29:27.359075Z"
    }
   },
   "outputs": [
    {
     "data": {
      "text/plain": [
       "tensor([[ 0.0149, -0.5490, -1.3024,  0.1748, -0.1950, -0.7317, -0.6731,  0.3491,\n",
       "         -0.0516, -1.1695,  2.0947,  0.5851,  0.1646, -1.1230,  1.1924, -1.3104,\n",
       "         -0.1594,  0.7165,  1.0892,  0.4956],\n",
       "        [-0.4167, -0.8388, -1.2016,  1.0891,  1.8047, -0.1245,  0.0279, -0.1547,\n",
       "         -1.9233, -0.1543, -2.0234,  1.1134, -0.3732, -0.5266,  0.6028,  0.6320,\n",
       "         -0.3864,  0.5751,  0.6462, -0.6262],\n",
       "        [ 2.4124,  0.6450, -0.5154, -0.6461,  1.0624,  0.8880, -0.3513,  0.0105,\n",
       "         -1.6247, -1.1838,  1.9417, -0.2430,  0.9338,  0.0941, -1.6693,  0.6114,\n",
       "          0.9151,  0.0757,  1.8982,  0.2139],\n",
       "        [ 0.0161, -1.0019,  0.7869, -1.0980, -0.8109,  0.3359, -1.4266,  0.0898,\n",
       "          0.2383, -0.8890,  0.1797,  0.5873,  0.7294,  0.8873, -0.0120, -0.0369,\n",
       "          0.0651, -1.4310,  0.7417, -2.1327],\n",
       "        [ 0.6233,  1.8147, -1.4209,  0.9811,  1.2030, -0.7296, -0.7595, -0.7302,\n",
       "         -0.4532, -1.8649, -0.2619, -1.3663, -1.5708,  0.5709,  0.5735,  0.0869,\n",
       "          0.6251, -1.0885,  0.5427,  0.1804],\n",
       "        [ 0.5459,  0.2305, -0.2431,  1.7255, -0.1485, -0.1068, -2.0855, -0.2022,\n",
       "          0.1578,  0.2677, -0.7334,  0.2586, -0.4219,  0.4981, -1.2794, -0.2078,\n",
       "          0.8023,  0.9436,  0.0238,  0.8151],\n",
       "        [-0.1991, -0.5760, -0.4633,  1.9475,  2.0619,  0.0285, -0.0188,  0.1594,\n",
       "         -0.7388,  0.2454, -0.3254, -2.0322,  0.3518,  0.9835,  2.8681,  0.6924,\n",
       "          1.0510, -1.1968,  0.0219,  0.5897],\n",
       "        [ 1.5383,  1.6326,  1.2491, -0.1761,  0.4290, -1.7019,  0.5835, -0.7201,\n",
       "         -0.8214,  0.4981,  0.6299,  1.1405, -1.1311,  0.1155,  0.2897,  1.4641,\n",
       "         -0.0378,  0.6890,  0.3439, -0.1452],\n",
       "        [ 0.8556, -0.5173, -2.3437,  1.4540, -0.8995, -0.2778,  0.3356,  0.7944,\n",
       "          0.2090, -0.0576, -0.3275,  0.5033,  1.7236,  0.8082,  0.3436,  0.2200,\n",
       "         -1.5898,  0.7298, -1.0826, -0.4229],\n",
       "        [-0.1967, -0.5333,  1.1063, -1.5486,  0.9580,  0.3793,  1.0596,  0.2221,\n",
       "         -0.1064,  0.3363,  0.2322,  0.2552,  0.4838, -0.2698,  0.3175, -0.3165,\n",
       "         -0.5172, -1.0386, -1.2605,  0.0833]], dtype=torch.float64)"
      ]
     },
     "execution_count": 7,
     "metadata": {},
     "output_type": "execute_result"
    }
   ],
   "source": [
    "pytorch_tensor"
   ]
  },
  {
   "cell_type": "code",
   "execution_count": 8,
   "metadata": {
    "ExecuteTime": {
     "end_time": "2019-04-18T18:29:27.375891Z",
     "start_time": "2019-04-18T18:29:27.373152Z"
    }
   },
   "outputs": [],
   "source": [
    "new_numpy_tensor = pytorch_tensor.numpy()"
   ]
  },
  {
   "cell_type": "code",
   "execution_count": 9,
   "metadata": {
    "ExecuteTime": {
     "end_time": "2019-04-18T18:29:27.385102Z",
     "start_time": "2019-04-18T18:29:27.377951Z"
    }
   },
   "outputs": [
    {
     "data": {
      "text/plain": [
       "array([[ 0.01488651, -0.5490332 , -1.30243795,  0.17475459, -0.19497247,\n",
       "        -0.73174744, -0.67314338,  0.34909944, -0.0516182 , -1.16953758,\n",
       "         2.09469827,  0.58505938,  0.16459667, -1.12298674,  1.19242034,\n",
       "        -1.31039271, -0.15940543,  0.71652977,  1.08920416,  0.49561968],\n",
       "       [-0.41667083, -0.83876412, -1.2015893 ,  1.0891383 ,  1.80472649,\n",
       "        -0.12454291,  0.02789102, -0.15474152, -1.92329506, -0.15432653,\n",
       "        -2.02339772,  1.11340536, -0.37323384, -0.52663548,  0.60284181,\n",
       "         0.63203472, -0.38638476,  0.57512882,  0.64623257, -0.62616596],\n",
       "       [ 2.41235679,  0.64495886, -0.515431  , -0.64605035,  1.06243796,\n",
       "         0.88798334, -0.35131292,  0.01045796, -1.62465069, -1.18384798,\n",
       "         1.94173661, -0.24296279,  0.933777  ,  0.0941107 , -1.66928974,\n",
       "         0.61137506,  0.91509877,  0.07567686,  1.89820711,  0.21389246],\n",
       "       [ 0.0161161 , -1.00193039,  0.78686487, -1.09795772, -0.81090628,\n",
       "         0.33585792, -1.42664852,  0.08980245,  0.23825431, -0.88904853,\n",
       "         0.17967611,  0.58732707,  0.72942637,  0.88730087, -0.01197145,\n",
       "        -0.03686241,  0.06507626, -1.43096789,  0.74168969, -2.13272395],\n",
       "       [ 0.62327383,  1.81471535, -1.42090864,  0.98113118,  1.2030231 ,\n",
       "        -0.72957821, -0.75949556, -0.73021626, -0.45315459, -1.86491084,\n",
       "        -0.26186324, -1.36629177, -1.57075601,  0.57085319,  0.5734932 ,\n",
       "         0.08685037,  0.62509145, -1.08845962,  0.54271549,  0.18039449],\n",
       "       [ 0.54586094,  0.23053793, -0.24311806,  1.72547116, -0.14845167,\n",
       "        -0.10683612, -2.08546175, -0.20218509,  0.15779035,  0.26767885,\n",
       "        -0.73342725,  0.25862654, -0.42185659,  0.49808297, -1.27941867,\n",
       "        -0.20776948,  0.80228318,  0.94361039,  0.02384445,  0.81506102],\n",
       "       [-0.19913602, -0.57600061, -0.46332303,  1.94745568,  2.06189937,\n",
       "         0.0285182 , -0.01875928,  0.15936559, -0.73879695,  0.24540041,\n",
       "        -0.32544359, -2.03221737,  0.35177379,  0.98350026,  2.86806738,\n",
       "         0.6924192 ,  1.05095075, -1.19680716,  0.02193544,  0.58974727],\n",
       "       [ 1.53832474,  1.63258481,  1.24910068, -0.17605729,  0.42895681,\n",
       "        -1.70185456,  0.58350895, -0.7201324 , -0.82136097,  0.49810964,\n",
       "         0.62987998,  1.14048013, -1.13111009,  0.11550146,  0.28968958,\n",
       "         1.46413757, -0.03777527,  0.68896514,  0.34393985, -0.14521165],\n",
       "       [ 0.85561917, -0.51732295, -2.34366765,  1.45400748, -0.89945521,\n",
       "        -0.27781401,  0.33564349,  0.79435654,  0.20896871, -0.05757054,\n",
       "        -0.32754634,  0.50329897,  1.72356246,  0.80822247,  0.34361377,\n",
       "         0.22000463, -1.58978765,  0.7297516 , -1.08259965, -0.42288077],\n",
       "       [-0.19672208, -0.53326681,  1.10632284, -1.54857751,  0.95804808,\n",
       "         0.37931988,  1.05962468,  0.22210473, -0.10640348,  0.33634461,\n",
       "         0.2322111 ,  0.25520245,  0.48380027, -0.26975461,  0.31746651,\n",
       "        -0.31654586, -0.51724578, -1.03861508, -1.26045407,  0.08331168]])"
      ]
     },
     "execution_count": 9,
     "metadata": {},
     "output_type": "execute_result"
    }
   ],
   "source": [
    "new_numpy_tensor"
   ]
  },
  {
   "cell_type": "code",
   "execution_count": 10,
   "metadata": {
    "ExecuteTime": {
     "end_time": "2019-04-18T18:29:27.389968Z",
     "start_time": "2019-04-18T18:29:27.386811Z"
    }
   },
   "outputs": [],
   "source": [
    "xOnes = torch.ones(3, 4)\n",
    "yOnes = torch.ones(3, 4)\n",
    "zOnes = torch.ones(4, 3)"
   ]
  },
  {
   "cell_type": "code",
   "execution_count": 11,
   "metadata": {
    "ExecuteTime": {
     "end_time": "2019-04-18T18:29:27.394151Z",
     "start_time": "2019-04-18T18:29:27.391821Z"
    }
   },
   "outputs": [],
   "source": [
    "k = xOnes +3"
   ]
  },
  {
   "cell_type": "code",
   "execution_count": 12,
   "metadata": {
    "ExecuteTime": {
     "end_time": "2019-04-18T18:29:27.399879Z",
     "start_time": "2019-04-18T18:29:27.396038Z"
    }
   },
   "outputs": [
    {
     "data": {
      "text/plain": [
       "tensor([[1., 1., 1., 1.],\n",
       "        [1., 1., 1., 1.],\n",
       "        [1., 1., 1., 1.]])"
      ]
     },
     "execution_count": 12,
     "metadata": {},
     "output_type": "execute_result"
    }
   ],
   "source": [
    "xOnes"
   ]
  },
  {
   "cell_type": "code",
   "execution_count": 13,
   "metadata": {
    "ExecuteTime": {
     "end_time": "2019-04-18T18:29:27.404978Z",
     "start_time": "2019-04-18T18:29:27.401614Z"
    }
   },
   "outputs": [
    {
     "data": {
      "text/plain": [
       "tensor([[4., 4., 4., 4.],\n",
       "        [4., 4., 4., 4.],\n",
       "        [4., 4., 4., 4.]])"
      ]
     },
     "execution_count": 13,
     "metadata": {},
     "output_type": "execute_result"
    }
   ],
   "source": [
    "k"
   ]
  },
  {
   "cell_type": "code",
   "execution_count": 14,
   "metadata": {
    "ExecuteTime": {
     "end_time": "2019-04-18T18:29:27.408928Z",
     "start_time": "2019-04-18T18:29:27.406580Z"
    }
   },
   "outputs": [],
   "source": [
    "kMatrix = torch.add(xOnes, 3)"
   ]
  },
  {
   "cell_type": "code",
   "execution_count": 15,
   "metadata": {
    "ExecuteTime": {
     "end_time": "2019-04-18T18:29:27.414810Z",
     "start_time": "2019-04-18T18:29:27.410713Z"
    }
   },
   "outputs": [
    {
     "data": {
      "text/plain": [
       "tensor([[4., 4., 4., 4.],\n",
       "        [4., 4., 4., 4.],\n",
       "        [4., 4., 4., 4.]])"
      ]
     },
     "execution_count": 15,
     "metadata": {},
     "output_type": "execute_result"
    }
   ],
   "source": [
    "kMatrix"
   ]
  },
  {
   "cell_type": "code",
   "execution_count": 16,
   "metadata": {
    "ExecuteTime": {
     "end_time": "2019-04-18T18:29:27.418688Z",
     "start_time": "2019-04-18T18:29:27.416528Z"
    }
   },
   "outputs": [],
   "source": [
    "kMatrixAdd = xOnes + yOnes"
   ]
  },
  {
   "cell_type": "code",
   "execution_count": 17,
   "metadata": {
    "ExecuteTime": {
     "end_time": "2019-04-18T18:29:27.428524Z",
     "start_time": "2019-04-18T18:29:27.420508Z"
    }
   },
   "outputs": [
    {
     "data": {
      "text/plain": [
       "tensor([[2., 2., 2., 2.],\n",
       "        [2., 2., 2., 2.],\n",
       "        [2., 2., 2., 2.]])"
      ]
     },
     "execution_count": 17,
     "metadata": {},
     "output_type": "execute_result"
    }
   ],
   "source": [
    "kMatrixAdd"
   ]
  },
  {
   "cell_type": "code",
   "execution_count": 18,
   "metadata": {
    "ExecuteTime": {
     "end_time": "2019-04-18T18:29:27.438031Z",
     "start_time": "2019-04-18T18:29:27.435352Z"
    }
   },
   "outputs": [],
   "source": [
    "kMatrixAddByApi = torch.add(xOnes, yOnes)"
   ]
  },
  {
   "cell_type": "code",
   "execution_count": 19,
   "metadata": {
    "ExecuteTime": {
     "end_time": "2019-04-18T18:29:27.447051Z",
     "start_time": "2019-04-18T18:29:27.442976Z"
    }
   },
   "outputs": [
    {
     "data": {
      "text/plain": [
       "tensor([[2., 2., 2., 2.],\n",
       "        [2., 2., 2., 2.],\n",
       "        [2., 2., 2., 2.]])"
      ]
     },
     "execution_count": 19,
     "metadata": {},
     "output_type": "execute_result"
    }
   ],
   "source": [
    "kMatrixAddByApi"
   ]
  },
  {
   "cell_type": "code",
   "execution_count": 20,
   "metadata": {
    "ExecuteTime": {
     "end_time": "2019-04-18T18:29:27.451420Z",
     "start_time": "2019-04-18T18:29:27.448913Z"
    }
   },
   "outputs": [],
   "source": [
    "kUnknown = torch.mm(xOnes, zOnes)"
   ]
  },
  {
   "cell_type": "code",
   "execution_count": 21,
   "metadata": {
    "ExecuteTime": {
     "end_time": "2019-04-18T18:29:27.457400Z",
     "start_time": "2019-04-18T18:29:27.453242Z"
    }
   },
   "outputs": [
    {
     "data": {
      "text/plain": [
       "tensor([[1., 1., 1., 1.],\n",
       "        [1., 1., 1., 1.],\n",
       "        [1., 1., 1., 1.]])"
      ]
     },
     "execution_count": 21,
     "metadata": {},
     "output_type": "execute_result"
    }
   ],
   "source": [
    "xOnes"
   ]
  },
  {
   "cell_type": "code",
   "execution_count": 22,
   "metadata": {
    "ExecuteTime": {
     "end_time": "2019-04-18T18:29:27.462760Z",
     "start_time": "2019-04-18T18:29:27.459202Z"
    }
   },
   "outputs": [
    {
     "data": {
      "text/plain": [
       "tensor([[1., 1., 1.],\n",
       "        [1., 1., 1.],\n",
       "        [1., 1., 1.],\n",
       "        [1., 1., 1.]])"
      ]
     },
     "execution_count": 22,
     "metadata": {},
     "output_type": "execute_result"
    }
   ],
   "source": [
    "zOnes"
   ]
  },
  {
   "cell_type": "code",
   "execution_count": 23,
   "metadata": {
    "ExecuteTime": {
     "end_time": "2019-04-18T18:29:27.468241Z",
     "start_time": "2019-04-18T18:29:27.464432Z"
    }
   },
   "outputs": [
    {
     "data": {
      "text/plain": [
       "tensor([[4., 4., 4.],\n",
       "        [4., 4., 4.],\n",
       "        [4., 4., 4.]])"
      ]
     },
     "execution_count": 23,
     "metadata": {},
     "output_type": "execute_result"
    }
   ],
   "source": [
    "kUnknown"
   ]
  },
  {
   "cell_type": "code",
   "execution_count": 24,
   "metadata": {
    "ExecuteTime": {
     "end_time": "2019-04-18T18:29:27.472225Z",
     "start_time": "2019-04-18T18:29:27.470087Z"
    }
   },
   "outputs": [],
   "source": [
    "highLevelX = torch.randn(4, 3)"
   ]
  },
  {
   "cell_type": "code",
   "execution_count": 25,
   "metadata": {
    "ExecuteTime": {
     "end_time": "2019-04-18T18:29:27.477533Z",
     "start_time": "2019-04-18T18:29:27.474128Z"
    }
   },
   "outputs": [
    {
     "data": {
      "text/plain": [
       "torch.Size([4, 3])"
      ]
     },
     "execution_count": 25,
     "metadata": {},
     "output_type": "execute_result"
    }
   ],
   "source": [
    "highLevelX.size()"
   ]
  },
  {
   "cell_type": "code",
   "execution_count": 26,
   "metadata": {
    "ExecuteTime": {
     "end_time": "2019-04-18T18:29:27.482651Z",
     "start_time": "2019-04-18T18:29:27.479363Z"
    }
   },
   "outputs": [
    {
     "data": {
      "text/plain": [
       "torch.Size([4, 3])"
      ]
     },
     "execution_count": 26,
     "metadata": {},
     "output_type": "execute_result"
    }
   ],
   "source": [
    "highLevelX.shape"
   ]
  },
  {
   "cell_type": "code",
   "execution_count": 27,
   "metadata": {
    "ExecuteTime": {
     "end_time": "2019-04-18T18:29:27.492982Z",
     "start_time": "2019-04-18T18:29:27.484347Z"
    }
   },
   "outputs": [
    {
     "data": {
      "text/plain": [
       "tensor([[ 0.2040, -0.2938,  0.5241],\n",
       "        [-1.1338, -1.2484,  0.8875],\n",
       "        [-1.7002,  1.7645, -0.6679],\n",
       "        [ 0.1881,  0.7965, -0.4934]])"
      ]
     },
     "execution_count": 27,
     "metadata": {},
     "output_type": "execute_result"
    }
   ],
   "source": [
    "highLevelX"
   ]
  },
  {
   "cell_type": "code",
   "execution_count": 28,
   "metadata": {
    "ExecuteTime": {
     "end_time": "2019-04-18T18:29:27.503225Z",
     "start_time": "2019-04-18T18:29:27.494715Z"
    }
   },
   "outputs": [
    {
     "data": {
      "text/plain": [
       "tensor([[ 0.2040, -0.2938,  0.5241, -1.1338, -1.2484,  0.8875],\n",
       "        [-1.7002,  1.7645, -0.6679,  0.1881,  0.7965, -0.4934]])"
      ]
     },
     "execution_count": 28,
     "metadata": {},
     "output_type": "execute_result"
    }
   ],
   "source": [
    "highLevelX.view(2, 6)"
   ]
  },
  {
   "cell_type": "code",
   "execution_count": 29,
   "metadata": {
    "ExecuteTime": {
     "end_time": "2019-04-18T18:29:27.513443Z",
     "start_time": "2019-04-18T18:29:27.504930Z"
    }
   },
   "outputs": [
    {
     "data": {
      "text/plain": [
       "tensor([ 0.2040, -0.2938,  0.5241, -1.1338, -1.2484,  0.8875, -1.7002,  1.7645,\n",
       "        -0.6679,  0.1881,  0.7965, -0.4934])"
      ]
     },
     "execution_count": 29,
     "metadata": {},
     "output_type": "execute_result"
    }
   ],
   "source": [
    "highLevelX.view(12)"
   ]
  },
  {
   "cell_type": "code",
   "execution_count": 34,
   "metadata": {
    "ExecuteTime": {
     "end_time": "2019-04-18T18:29:42.050545Z",
     "start_time": "2019-04-18T18:29:42.044843Z"
    },
    "scrolled": true
   },
   "outputs": [],
   "source": [
    "reduceDim = torch.unsqueeze(highLevelX, dim = 1)"
   ]
  },
  {
   "cell_type": "code",
   "execution_count": 35,
   "metadata": {
    "ExecuteTime": {
     "end_time": "2019-04-18T18:29:43.192340Z",
     "start_time": "2019-04-18T18:29:43.188160Z"
    }
   },
   "outputs": [
    {
     "data": {
      "text/plain": [
       "torch.Size([4, 3])"
      ]
     },
     "execution_count": 35,
     "metadata": {},
     "output_type": "execute_result"
    }
   ],
   "source": [
    "highLevelX.shape"
   ]
  },
  {
   "cell_type": "code",
   "execution_count": 38,
   "metadata": {
    "ExecuteTime": {
     "end_time": "2019-04-18T18:29:56.739408Z",
     "start_time": "2019-04-18T18:29:56.735847Z"
    }
   },
   "outputs": [
    {
     "data": {
      "text/plain": [
       "torch.Size([4, 1, 3])"
      ]
     },
     "execution_count": 38,
     "metadata": {},
     "output_type": "execute_result"
    }
   ],
   "source": [
    "reduceDim.shape"
   ]
  },
  {
   "cell_type": "code",
   "execution_count": 36,
   "metadata": {
    "ExecuteTime": {
     "end_time": "2019-04-18T18:29:44.594122Z",
     "start_time": "2019-04-18T18:29:44.588361Z"
    }
   },
   "outputs": [
    {
     "data": {
      "text/plain": [
       "tensor([[ 0.2040, -0.2938,  0.5241],\n",
       "        [-1.1338, -1.2484,  0.8875],\n",
       "        [-1.7002,  1.7645, -0.6679],\n",
       "        [ 0.1881,  0.7965, -0.4934]])"
      ]
     },
     "execution_count": 36,
     "metadata": {},
     "output_type": "execute_result"
    }
   ],
   "source": [
    "torch.squeeze(highLevelX, dim=1)"
   ]
  },
  {
   "cell_type": "code",
   "execution_count": 37,
   "metadata": {
    "ExecuteTime": {
     "end_time": "2019-04-18T18:29:45.020874Z",
     "start_time": "2019-04-18T18:29:45.016952Z"
    }
   },
   "outputs": [
    {
     "data": {
      "text/plain": [
       "torch.Size([4, 3])"
      ]
     },
     "execution_count": 37,
     "metadata": {},
     "output_type": "execute_result"
    }
   ],
   "source": [
    "highLevelX.shape"
   ]
  },
  {
   "cell_type": "code",
   "execution_count": 51,
   "metadata": {
    "ExecuteTime": {
     "end_time": "2019-04-18T18:37:24.852948Z",
     "start_time": "2019-04-18T18:37:24.849618Z"
    }
   },
   "outputs": [],
   "source": [
    "max_index, max_value = torch.max(highLevelX, dim =0)"
   ]
  },
  {
   "cell_type": "code",
   "execution_count": 52,
   "metadata": {
    "ExecuteTime": {
     "end_time": "2019-04-18T18:37:25.179045Z",
     "start_time": "2019-04-18T18:37:25.174874Z"
    }
   },
   "outputs": [
    {
     "data": {
      "text/plain": [
       "tensor([0.2040, 1.7645, 0.8875])"
      ]
     },
     "execution_count": 52,
     "metadata": {},
     "output_type": "execute_result"
    }
   ],
   "source": [
    "max_index"
   ]
  },
  {
   "cell_type": "code",
   "execution_count": 53,
   "metadata": {
    "ExecuteTime": {
     "end_time": "2019-04-18T18:37:26.174511Z",
     "start_time": "2019-04-18T18:37:26.170200Z"
    }
   },
   "outputs": [
    {
     "data": {
      "text/plain": [
       "tensor([0, 2, 1])"
      ]
     },
     "execution_count": 53,
     "metadata": {},
     "output_type": "execute_result"
    }
   ],
   "source": [
    "max_value"
   ]
  }
 ],
 "metadata": {
  "hide_input": false,
  "kernelspec": {
   "display_name": "Python 3",
   "language": "python",
   "name": "python3"
  },
  "language_info": {
   "codemirror_mode": {
    "name": "ipython",
    "version": 3
   },
   "file_extension": ".py",
   "mimetype": "text/x-python",
   "name": "python",
   "nbconvert_exporter": "python",
   "pygments_lexer": "ipython3",
   "version": "3.6.7"
  },
  "toc": {
   "base_numbering": 1,
   "nav_menu": {},
   "number_sections": true,
   "sideBar": true,
   "skip_h1_title": false,
   "title_cell": "Table of Contents",
   "title_sidebar": "Contents",
   "toc_cell": false,
   "toc_position": {},
   "toc_section_display": true,
   "toc_window_display": false
  },
  "varInspector": {
   "cols": {
    "lenName": 16,
    "lenType": 16,
    "lenVar": 40
   },
   "kernels_config": {
    "python": {
     "delete_cmd_postfix": "",
     "delete_cmd_prefix": "del ",
     "library": "var_list.py",
     "varRefreshCmd": "print(var_dic_list())"
    },
    "r": {
     "delete_cmd_postfix": ") ",
     "delete_cmd_prefix": "rm(",
     "library": "var_list.r",
     "varRefreshCmd": "cat(var_dic_list()) "
    }
   },
   "types_to_exclude": [
    "module",
    "function",
    "builtin_function_or_method",
    "instance",
    "_Feature"
   ],
   "window_display": false
  }
 },
 "nbformat": 4,
 "nbformat_minor": 2
}
