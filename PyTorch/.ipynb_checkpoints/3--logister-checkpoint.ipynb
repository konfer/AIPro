{
 "cells": [
  {
   "cell_type": "code",
   "execution_count": 16,
   "metadata": {
    "ExecuteTime": {
     "end_time": "2019-06-05T20:12:56.791276Z",
     "start_time": "2019-06-05T20:12:56.787781Z"
    }
   },
   "outputs": [],
   "source": [
    "# pytorch-common-import!\n",
    "import torch\n",
    "import torch.nn.functional as F\n",
    "from torch import nn\n",
    "from torch.autograd import Variable "
   ]
  },
  {
   "cell_type": "code",
   "execution_count": 17,
   "metadata": {
    "ExecuteTime": {
     "end_time": "2019-06-05T20:12:56.801551Z",
     "start_time": "2019-06-05T20:12:56.793667Z"
    }
   },
   "outputs": [],
   "source": [
    "import matplotlib.pyplot as plt\n",
    "%matplotlib inline"
   ]
  },
  {
   "cell_type": "code",
   "execution_count": 31,
   "metadata": {
    "ExecuteTime": {
     "end_time": "2019-06-05T20:13:44.185243Z",
     "start_time": "2019-06-05T20:13:44.182261Z"
    }
   },
   "outputs": [],
   "source": [
    "import numpy as np"
   ]
  },
  {
   "cell_type": "code",
   "execution_count": 18,
   "metadata": {
    "ExecuteTime": {
     "end_time": "2019-06-05T20:12:56.807682Z",
     "start_time": "2019-06-05T20:12:56.803617Z"
    }
   },
   "outputs": [
    {
     "data": {
      "text/plain": [
       "<torch._C.Generator at 0x7f44a8ff6930>"
      ]
     },
     "execution_count": 18,
     "metadata": {},
     "output_type": "execute_result"
    }
   ],
   "source": [
    "torch.manual_seed(2017)"
   ]
  },
  {
   "cell_type": "code",
   "execution_count": 19,
   "metadata": {
    "ExecuteTime": {
     "end_time": "2019-06-05T20:12:56.813901Z",
     "start_time": "2019-06-05T20:12:56.809973Z"
    }
   },
   "outputs": [],
   "source": [
    "with open('Base/data.txt', 'r') as f:\n",
    "    data_list = [str.split('\\n')[0].split(',') for str in f.readlines()]\n",
    "    data = [(float(_str[0]), float(_str[1]), float(_str[2])) for _str in data_list]"
   ]
  },
  {
   "cell_type": "code",
   "execution_count": 20,
   "metadata": {
    "ExecuteTime": {
     "end_time": "2019-06-05T20:12:56.818618Z",
     "start_time": "2019-06-05T20:12:56.816300Z"
    }
   },
   "outputs": [],
   "source": [
    "x0_max = max([i[0] for i in data])"
   ]
  },
  {
   "cell_type": "code",
   "execution_count": 21,
   "metadata": {
    "ExecuteTime": {
     "end_time": "2019-06-05T20:12:56.822904Z",
     "start_time": "2019-06-05T20:12:56.820620Z"
    }
   },
   "outputs": [],
   "source": [
    "x1_max = max([i[1] for i in data])"
   ]
  },
  {
   "cell_type": "code",
   "execution_count": 22,
   "metadata": {
    "ExecuteTime": {
     "end_time": "2019-06-05T20:12:56.828325Z",
     "start_time": "2019-06-05T20:12:56.825637Z"
    }
   },
   "outputs": [],
   "source": [
    "data = [(str[0]/x0_max, str[1]/x1_max, str[2]) for str in data]"
   ]
  },
  {
   "cell_type": "code",
   "execution_count": 23,
   "metadata": {
    "ExecuteTime": {
     "end_time": "2019-06-05T20:12:56.833304Z",
     "start_time": "2019-06-05T20:12:56.830956Z"
    }
   },
   "outputs": [],
   "source": [
    "x0 = list(filter(lambda x:x[2] == 0.0, data))"
   ]
  },
  {
   "cell_type": "code",
   "execution_count": 24,
   "metadata": {
    "ExecuteTime": {
     "end_time": "2019-06-05T20:12:56.838037Z",
     "start_time": "2019-06-05T20:12:56.835318Z"
    }
   },
   "outputs": [],
   "source": [
    "x1 = list(filter(lambda x:x[2] == 1.0, data))"
   ]
  },
  {
   "cell_type": "code",
   "execution_count": 25,
   "metadata": {
    "ExecuteTime": {
     "end_time": "2019-06-05T20:12:56.842808Z",
     "start_time": "2019-06-05T20:12:56.840362Z"
    }
   },
   "outputs": [],
   "source": [
    "plot_list_zero  = [[str[0], str[1]] for str  in x0]"
   ]
  },
  {
   "cell_type": "code",
   "execution_count": 26,
   "metadata": {
    "ExecuteTime": {
     "end_time": "2019-06-05T20:12:56.848297Z",
     "start_time": "2019-06-05T20:12:56.844835Z"
    }
   },
   "outputs": [
    {
     "data": {
      "text/plain": [
       "40"
      ]
     },
     "execution_count": 26,
     "metadata": {},
     "output_type": "execute_result"
    }
   ],
   "source": [
    "len(plot_list_zero)"
   ]
  },
  {
   "cell_type": "code",
   "execution_count": 27,
   "metadata": {
    "ExecuteTime": {
     "end_time": "2019-06-05T20:12:56.852690Z",
     "start_time": "2019-06-05T20:12:56.850274Z"
    }
   },
   "outputs": [],
   "source": [
    "plot_list_one  = [[str[0], str[1]] for str  in x1]"
   ]
  },
  {
   "cell_type": "code",
   "execution_count": 28,
   "metadata": {
    "ExecuteTime": {
     "end_time": "2019-06-05T20:12:56.858022Z",
     "start_time": "2019-06-05T20:12:56.854793Z"
    }
   },
   "outputs": [
    {
     "data": {
      "text/plain": [
       "2"
      ]
     },
     "execution_count": 28,
     "metadata": {},
     "output_type": "execute_result"
    }
   ],
   "source": [
    "len(plot_list_one[0])"
   ]
  },
  {
   "cell_type": "code",
   "execution_count": 29,
   "metadata": {
    "ExecuteTime": {
     "end_time": "2019-06-05T20:12:57.025085Z",
     "start_time": "2019-06-05T20:12:56.860328Z"
    }
   },
   "outputs": [
    {
     "data": {
      "text/plain": [
       "[<matplotlib.lines.Line2D at 0x7f44a397acf8>]"
      ]
     },
     "execution_count": 29,
     "metadata": {},
     "output_type": "execute_result"
    },
    {
     "data": {
      "image/png": "[encoded data removed]",
      "text/plain": [
       "<matplotlib.figure.Figure at 0x7f44a397aef0>"
      ]
     },
     "metadata": {
      "needs_background": "light"
     },
     "output_type": "display_data"
    }
   ],
   "source": [
    "plot_x0 = [i[0] for i in x0]\n",
    "plot_y0 = [i[1] for i in x0]\n",
    "plot_x1 = [i[0] for i in x1]\n",
    "plot_y1 = [i[1] for i in x1]\n",
    "\n",
    "plt.plot(plot_x0, plot_y0, 'ro', label='x_0')\n",
    "plt.plot(plot_x1, plot_y1, 'bo', label='x_1')"
   ]
  },
  {
   "cell_type": "code",
   "execution_count": 32,
   "metadata": {
    "ExecuteTime": {
     "end_time": "2019-06-05T20:13:50.535395Z",
     "start_time": "2019-06-05T20:13:50.532228Z"
    }
   },
   "outputs": [],
   "source": [
    "np_data = np.array(data, dtype=\"float32\")"
   ]
  },
  {
   "cell_type": "code",
   "execution_count": 33,
   "metadata": {
    "ExecuteTime": {
     "end_time": "2019-06-05T20:14:35.731820Z",
     "start_time": "2019-06-05T20:14:35.728631Z"
    }
   },
   "outputs": [],
   "source": [
    "x_data = Variable(torch.from_numpy(np_data[:, 0:2]))"
   ]
  },
  {
   "cell_type": "code",
   "execution_count": 35,
   "metadata": {
    "ExecuteTime": {
     "end_time": "2019-06-05T20:14:36.908226Z",
     "start_time": "2019-06-05T20:14:36.904806Z"
    }
   },
   "outputs": [],
   "source": [
    "y_data = Variable(torch.from_numpy(np_data[:, -1]).unsqueeze(1))"
   ]
  },
  {
   "cell_type": "code",
   "execution_count": 37,
   "metadata": {
    "ExecuteTime": {
     "end_time": "2019-06-05T20:14:56.754462Z",
     "start_time": "2019-06-05T20:14:56.750657Z"
    }
   },
   "outputs": [],
   "source": [
    "w = nn.Parameter(torch.randn(2, 1))"
   ]
  },
  {
   "cell_type": "code",
   "execution_count": 38,
   "metadata": {
    "ExecuteTime": {
     "end_time": "2019-06-05T20:15:08.846916Z",
     "start_time": "2019-06-05T20:15:08.844185Z"
    }
   },
   "outputs": [],
   "source": [
    "b = nn.Parameter(torch.zeros(1), requires_grad=True)"
   ]
  },
  {
   "cell_type": "code",
   "execution_count": 47,
   "metadata": {
    "ExecuteTime": {
     "end_time": "2019-06-05T20:26:40.003947Z",
     "start_time": "2019-06-05T20:26:39.822910Z"
    }
   },
   "outputs": [
    {
     "data": {
      "text/plain": [
       "<matplotlib.legend.Legend at 0x7f44a3082a58>"
      ]
     },
     "execution_count": 47,
     "metadata": {},
     "output_type": "execute_result"
    },
    {
     "data": {
      "image/png": "[encoded data removed]",
      "text/plain": [
       "<matplotlib.figure.Figure at 0x7f44a39a59b0>"
      ]
     },
     "metadata": {
      "needs_background": "light"
     },
     "output_type": "display_data"
    }
   ],
   "source": [
    "# 画出参数更新之前的结果\n",
    "w0 = w[0].data[0]\n",
    "w1 = w[1].data[0]\n",
    "b0 = b.data[0]\n",
    "\n",
    "plot_x = np.arange(0.2, 1, 0.01)\n",
    "plot_y = (-w0 * Variable(torch.from_numpy(plot_x)) - b0) / w1\n",
    "\n",
    "plt.plot(plot_x, plot_y.numpy(), 'g', label='cutting line')\n",
    "plt.plot(plot_x0, plot_y0, 'ro', label='x_0')\n",
    "plt.plot(plot_x1, plot_y1, 'bo', label='x_1')\n",
    "plt.legend(loc='best')"
   ]
  },
  {
   "cell_type": "code",
   "execution_count": 39,
   "metadata": {
    "ExecuteTime": {
     "end_time": "2019-06-05T20:15:16.514743Z",
     "start_time": "2019-06-05T20:15:16.511475Z"
    }
   },
   "outputs": [],
   "source": [
    "y_predict =torch.mm(x_data,w) + b"
   ]
  },
  {
   "cell_type": "code",
   "execution_count": 42,
   "metadata": {
    "ExecuteTime": {
     "end_time": "2019-06-05T20:19:45.737010Z",
     "start_time": "2019-06-05T20:19:45.734105Z"
    }
   },
   "outputs": [],
   "source": [
    "criterion = nn.BCEWithLogitsLoss()"
   ]
  },
  {
   "cell_type": "code",
   "execution_count": 43,
   "metadata": {
    "ExecuteTime": {
     "end_time": "2019-06-05T20:19:46.347444Z",
     "start_time": "2019-06-05T20:19:46.324256Z"
    }
   },
   "outputs": [],
   "source": [
    "loss = criterion(y_predict, y_data)"
   ]
  },
  {
   "cell_type": "code",
   "execution_count": 44,
   "metadata": {
    "ExecuteTime": {
     "end_time": "2019-06-05T20:19:59.443626Z",
     "start_time": "2019-06-05T20:19:59.437411Z"
    }
   },
   "outputs": [],
   "source": [
    "loss.backward()"
   ]
  },
  {
   "cell_type": "code",
   "execution_count": 45,
   "metadata": {
    "ExecuteTime": {
     "end_time": "2019-06-05T20:20:44.889180Z",
     "start_time": "2019-06-05T20:20:44.886151Z"
    }
   },
   "outputs": [],
   "source": [
    "optimizer = torch.optim.SGD([w,b], 1.)"
   ]
  },
  {
   "cell_type": "code",
   "execution_count": 46,
   "metadata": {
    "ExecuteTime": {
     "end_time": "2019-06-05T20:20:54.748889Z",
     "start_time": "2019-06-05T20:20:54.745836Z"
    }
   },
   "outputs": [],
   "source": [
    "optimizer.step()"
   ]
  },
  {
   "cell_type": "code",
   "execution_count": 48,
   "metadata": {
    "ExecuteTime": {
     "end_time": "2019-06-05T20:27:17.335869Z",
     "start_time": "2019-06-05T20:27:17.110666Z"
    }
   },
   "outputs": [
    {
     "data": {
      "text/plain": [
       "<matplotlib.legend.Legend at 0x7f44a3969160>"
      ]
     },
     "execution_count": 48,
     "metadata": {},
     "output_type": "execute_result"
    },
    {
     "data": {
      "image/png": "[encoded data removed]",
      "text/plain": [
       "<matplotlib.figure.Figure at 0x7f44a38b01d0>"
      ]
     },
     "metadata": {
      "needs_background": "light"
     },
     "output_type": "display_data"
    }
   ],
   "source": [
    "# 画出参数更新之前的结果\n",
    "w0 = w[0].data[0]\n",
    "w1 = w[1].data[0]\n",
    "b0 = b.data[0]\n",
    "\n",
    "plot_x = np.arange(0.2, 1, 0.01)\n",
    "plot_y = (-w0 * Variable(torch.from_numpy(plot_x)) - b0) / w1\n",
    "\n",
    "plt.plot(plot_x, plot_y.numpy(), 'g', label='cutting line')\n",
    "plt.plot(plot_x0, plot_y0, 'ro', label='x_0')\n",
    "plt.plot(plot_x1, plot_y1, 'bo', label='x_1')\n",
    "plt.legend(loc='best')"
   ]
  },
  {
   "cell_type": "code",
   "execution_count": 49,
   "metadata": {
    "ExecuteTime": {
     "end_time": "2019-06-05T20:27:56.444934Z",
     "start_time": "2019-06-05T20:27:56.441111Z"
    }
   },
   "outputs": [
    {
     "name": "stdout",
     "output_type": "stream",
     "text": [
      "tensor(0.6694, grad_fn=<BinaryCrossEntropyWithLogitsBackward>)\n"
     ]
    }
   ],
   "source": [
    "print(loss)"
   ]
  },
  {
   "cell_type": "code",
   "execution_count": 50,
   "metadata": {
    "ExecuteTime": {
     "end_time": "2019-06-05T20:31:11.426169Z",
     "start_time": "2019-06-05T20:31:11.382128Z"
    }
   },
   "outputs": [],
   "source": [
    "for i in range(100):\n",
    "    y_predict =torch.mm(x_data,w) + b\n",
    "    criterion = nn.BCEWithLogitsLoss()\n",
    "    loss = criterion(y_predict, y_data)\n",
    "    optimizer.zero_grad()\n",
    "    loss.backward()\n",
    "    optimizer = torch.optim.SGD([w,b], 1.)\n",
    "    print('epoch: {}, loss: {}'.format(i,   loss.data))"
   ]
  },
  {
   "cell_type": "code",
   "execution_count": null,
   "metadata": {},
   "outputs": [],
   "source": []
  },
  {
   "cell_type": "code",
   "execution_count": null,
   "metadata": {},
   "outputs": [],
   "source": []
  }
 ],
 "metadata": {
  "hide_input": false,
  "kernelspec": {
   "display_name": "Python 3",
   "language": "python",
   "name": "python3"
  },
  "language_info": {
   "codemirror_mode": {
    "name": "ipython",
    "version": 3
   },
   "file_extension": ".py",
   "mimetype": "text/x-python",
   "name": "python",
   "nbconvert_exporter": "python",
   "pygments_lexer": "ipython3",
   "version": "3.6.7"
  },
  "toc": {
   "base_numbering": 1,
   "nav_menu": {},
   "number_sections": true,
   "sideBar": true,
   "skip_h1_title": false,
   "title_cell": "Table of Contents",
   "title_sidebar": "Contents",
   "toc_cell": false,
   "toc_position": {},
   "toc_section_display": true,
   "toc_window_display": false
  },
  "varInspector": {
   "cols": {
    "lenName": 16,
    "lenType": 16,
    "lenVar": 40
   },
   "kernels_config": {
    "python": {
     "delete_cmd_postfix": "",
     "delete_cmd_prefix": "del ",
     "library": "var_list.py",
     "varRefreshCmd": "print(var_dic_list())"
    },
    "r": {
     "delete_cmd_postfix": ") ",
     "delete_cmd_prefix": "rm(",
     "library": "var_list.r",
     "varRefreshCmd": "cat(var_dic_list()) "
    }
   },
   "types_to_exclude": [
    "module",
    "function",
    "builtin_function_or_method",
    "instance",
    "_Feature"
   ],
   "window_display": false
  }
 },
 "nbformat": 4,
 "nbformat_minor": 2
}
