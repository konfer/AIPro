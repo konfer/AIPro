{
 "cells": [
  {
   "cell_type": "code",
   "execution_count": 10,
   "metadata": {
    "ExecuteTime": {
     "end_time": "2019-06-09T23:16:35.438793Z",
     "start_time": "2019-06-09T23:16:35.433407Z"
    }
   },
   "outputs": [],
   "source": [
    "# pytorch-common-import!\n",
    "import torch\n",
    "import torch.nn.functional as F\n",
    "from torchvision.datasets import MNIST\n",
    "from torch.utils.data import DataLoader\n",
    "from torch import nn\n",
    "from torch.nn import init\n",
    "from torch.autograd import Variable "
   ]
  },
  {
   "cell_type": "code",
   "execution_count": 11,
   "metadata": {
    "ExecuteTime": {
     "end_time": "2019-06-09T23:16:36.117414Z",
     "start_time": "2019-06-09T23:16:35.442162Z"
    }
   },
   "outputs": [],
   "source": [
    "import numpy as np\n",
    "import pandas as pd\n",
    "import matplotlib as mpl\n",
    "import matplotlib.pyplot as plt\n",
    "import seaborn as sns\n",
    "import missingno as msno\n",
    "%matplotlib inline"
   ]
  },
  {
   "cell_type": "code",
   "execution_count": 12,
   "metadata": {
    "ExecuteTime": {
     "end_time": "2019-06-09T23:16:36.128799Z",
     "start_time": "2019-06-09T23:16:36.119608Z"
    }
   },
   "outputs": [],
   "source": [
    "net = nn.Sequential(\n",
    "    nn.Linear(30, 40),\n",
    "    nn.ReLU(),\n",
    "    nn.Linear(40, 50),\n",
    "    nn.ReLU(),\n",
    "    nn.Linear(50, 10)\n",
    ")"
   ]
  },
  {
   "cell_type": "code",
   "execution_count": 13,
   "metadata": {
    "ExecuteTime": {
     "end_time": "2019-06-09T23:16:36.135051Z",
     "start_time": "2019-06-09T23:16:36.131759Z"
    }
   },
   "outputs": [],
   "source": [
    "w_net = net[0].weight\n",
    "b_net = net[0].bias"
   ]
  },
  {
   "cell_type": "code",
   "execution_count": 14,
   "metadata": {
    "ExecuteTime": {
     "end_time": "2019-06-09T23:16:36.146462Z",
     "start_time": "2019-06-09T23:16:36.138045Z"
    }
   },
   "outputs": [
    {
     "data": {
      "text/plain": [
       "Parameter containing:\n",
       "tensor([[ 0.1472, -0.0079,  0.1636,  ..., -0.0154, -0.1060,  0.0909],\n",
       "        [-0.0758,  0.1086, -0.0720,  ..., -0.1154, -0.0936, -0.1684],\n",
       "        [-0.1610, -0.0965, -0.1005,  ...,  0.0485, -0.1826, -0.0479],\n",
       "        ...,\n",
       "        [ 0.0786, -0.0446, -0.0024,  ..., -0.0093,  0.1426, -0.0691],\n",
       "        [-0.0468, -0.0049, -0.1031,  ..., -0.1259,  0.0402,  0.1606],\n",
       "        [ 0.1162,  0.1150,  0.0025,  ..., -0.1802,  0.0535,  0.1076]],\n",
       "       requires_grad=True)"
      ]
     },
     "execution_count": 14,
     "metadata": {},
     "output_type": "execute_result"
    }
   ],
   "source": [
    "w_net"
   ]
  },
  {
   "cell_type": "code",
   "execution_count": 15,
   "metadata": {
    "ExecuteTime": {
     "end_time": "2019-06-09T23:16:36.153054Z",
     "start_time": "2019-06-09T23:16:36.148377Z"
    }
   },
   "outputs": [
    {
     "data": {
      "text/plain": [
       "Parameter containing:\n",
       "tensor([-0.1804, -0.0626, -0.1059, -0.0162, -0.0664,  0.1638,  0.0047,  0.1475,\n",
       "        -0.1063,  0.1426, -0.0798, -0.1369, -0.1743, -0.1188, -0.1176,  0.0361,\n",
       "        -0.0319,  0.0862, -0.0033, -0.0886, -0.0238, -0.1221,  0.1106,  0.1207,\n",
       "        -0.0824, -0.0161, -0.0902, -0.0309, -0.0925, -0.0194,  0.0895,  0.1795,\n",
       "         0.0306,  0.0077,  0.1616,  0.1234, -0.0681,  0.1642, -0.0017, -0.0752],\n",
       "       requires_grad=True)"
      ]
     },
     "execution_count": 15,
     "metadata": {},
     "output_type": "execute_result"
    }
   ],
   "source": [
    "b_net"
   ]
  },
  {
   "cell_type": "code",
   "execution_count": 16,
   "metadata": {
    "ExecuteTime": {
     "end_time": "2019-06-09T23:16:36.159035Z",
     "start_time": "2019-06-09T23:16:36.154984Z"
    }
   },
   "outputs": [],
   "source": [
    "for layer in net:\n",
    "    if isinstance(layer, nn.Linear): # 判断是否是线性层\n",
    "        param_shape = layer.weight.shape\n",
    "        layer.weight.data = torch.from_numpy(np.random.normal(0, 0.5, size=param_shape)) "
   ]
  },
  {
   "cell_type": "code",
   "execution_count": 17,
   "metadata": {
    "ExecuteTime": {
     "end_time": "2019-06-09T23:16:36.165682Z",
     "start_time": "2019-06-09T23:16:36.160837Z"
    }
   },
   "outputs": [],
   "source": [
    "def data_tf(x):\n",
    "    x = np.array(x, dtype = 'float32')\n",
    "    x = (x - 0.5)/0.5\n",
    "    x = x.reshape((-1, ))\n",
    "    x = torch.from_numpy(x)\n",
    "    return x"
   ]
  },
  {
   "cell_type": "code",
   "execution_count": 18,
   "metadata": {
    "ExecuteTime": {
     "end_time": "2019-06-09T23:16:36.221265Z",
     "start_time": "2019-06-09T23:16:36.167656Z"
    }
   },
   "outputs": [],
   "source": [
    "train_set = MNIST('./data', train=True, transform=data_tf, download=True)\n",
    "test_set = MNIST('./data', train=False, transform=data_tf, download=True)"
   ]
  },
  {
   "cell_type": "code",
   "execution_count": 19,
   "metadata": {
    "ExecuteTime": {
     "end_time": "2019-06-09T23:16:36.227728Z",
     "start_time": "2019-06-09T23:16:36.223255Z"
    }
   },
   "outputs": [],
   "source": [
    "criterion = nn.CrossEntropyLoss()"
   ]
  },
  {
   "cell_type": "code",
   "execution_count": 20,
   "metadata": {
    "ExecuteTime": {
     "end_time": "2019-06-09T23:16:36.235810Z",
     "start_time": "2019-06-09T23:16:36.232338Z"
    }
   },
   "outputs": [],
   "source": [
    "def sgd_update(parameters, lr):\n",
    "    for para in parameters:\n",
    "        para.data = para - lr * para.grad.data"
   ]
  },
  {
   "cell_type": "code",
   "execution_count": 21,
   "metadata": {
    "ExecuteTime": {
     "end_time": "2019-06-09T23:16:36.243273Z",
     "start_time": "2019-06-09T23:16:36.237387Z"
    }
   },
   "outputs": [],
   "source": [
    "train_data = DataLoader(train_set, batch_size=64, shuffle=True)"
   ]
  },
  {
   "cell_type": "code",
   "execution_count": 22,
   "metadata": {
    "ExecuteTime": {
     "end_time": "2019-06-09T23:16:36.249088Z",
     "start_time": "2019-06-09T23:16:36.245424Z"
    }
   },
   "outputs": [],
   "source": [
    "optimzier = torch.optim.SGD(net.parameters(), 1e-2)"
   ]
  },
  {
   "cell_type": "code",
   "execution_count": 23,
   "metadata": {
    "ExecuteTime": {
     "end_time": "2019-06-09T23:19:49.688531Z",
     "start_time": "2019-06-09T23:19:49.685682Z"
    }
   },
   "outputs": [],
   "source": [
    "net_loss = []\n",
    "idx = 0"
   ]
  },
  {
   "cell_type": "code",
   "execution_count": null,
   "metadata": {},
   "outputs": [],
   "source": [
    "for i in range(5):\n",
    "    train_loss = 0\n",
    "    for im, label in train_data:\n",
    "        im = Variable(im)"
   ]
  },
  {
   "cell_type": "code",
   "execution_count": null,
   "metadata": {},
   "outputs": [],
   "source": []
  },
  {
   "cell_type": "code",
   "execution_count": null,
   "metadata": {},
   "outputs": [],
   "source": []
  },
  {
   "cell_type": "code",
   "execution_count": null,
   "metadata": {},
   "outputs": [],
   "source": []
  },
  {
   "cell_type": "code",
   "execution_count": null,
   "metadata": {},
   "outputs": [],
   "source": []
  },
  {
   "cell_type": "code",
   "execution_count": null,
   "metadata": {},
   "outputs": [],
   "source": []
  },
  {
   "cell_type": "code",
   "execution_count": null,
   "metadata": {},
   "outputs": [],
   "source": []
  },
  {
   "cell_type": "code",
   "execution_count": null,
   "metadata": {},
   "outputs": [],
   "source": []
  },
  {
   "cell_type": "code",
   "execution_count": null,
   "metadata": {},
   "outputs": [],
   "source": []
  },
  {
   "cell_type": "code",
   "execution_count": null,
   "metadata": {},
   "outputs": [],
   "source": []
  }
 ],
 "metadata": {
  "hide_input": false,
  "kernelspec": {
   "display_name": "Python 3",
   "language": "python",
   "name": "python3"
  },
  "language_info": {
   "codemirror_mode": {
    "name": "ipython",
    "version": 3
   },
   "file_extension": ".py",
   "mimetype": "text/x-python",
   "name": "python",
   "nbconvert_exporter": "python",
   "pygments_lexer": "ipython3",
   "version": "3.6.7"
  },
  "toc": {
   "base_numbering": 1,
   "nav_menu": {},
   "number_sections": true,
   "sideBar": true,
   "skip_h1_title": false,
   "title_cell": "Table of Contents",
   "title_sidebar": "Contents",
   "toc_cell": false,
   "toc_position": {},
   "toc_section_display": true,
   "toc_window_display": false
  },
  "varInspector": {
   "cols": {
    "lenName": 16,
    "lenType": 16,
    "lenVar": 40
   },
   "kernels_config": {
    "python": {
     "delete_cmd_postfix": "",
     "delete_cmd_prefix": "del ",
     "library": "var_list.py",
     "varRefreshCmd": "print(var_dic_list())"
    },
    "r": {
     "delete_cmd_postfix": ") ",
     "delete_cmd_prefix": "rm(",
     "library": "var_list.r",
     "varRefreshCmd": "cat(var_dic_list()) "
    }
   },
   "types_to_exclude": [
    "module",
    "function",
    "builtin_function_or_method",
    "instance",
    "_Feature"
   ],
   "window_display": false
  }
 },
 "nbformat": 4,
 "nbformat_minor": 2
}
