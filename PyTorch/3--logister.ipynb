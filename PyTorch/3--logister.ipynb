{
 "cells": [
  {
   "cell_type": "code",
   "execution_count": 1,
   "metadata": {
    "ExecuteTime": {
     "end_time": "2019-06-05T20:32:46.718358Z",
     "start_time": "2019-06-05T20:32:46.517368Z"
    }
   },
   "outputs": [],
   "source": [
    "# pytorch-common-import!\n",
    "import torch\n",
    "import torch.nn.functional as F\n",
    "from torch import nn\n",
    "from torch.autograd import Variable "
   ]
  },
  {
   "cell_type": "code",
   "execution_count": 2,
   "metadata": {
    "ExecuteTime": {
     "end_time": "2019-06-05T20:32:46.919445Z",
     "start_time": "2019-06-05T20:32:46.721422Z"
    }
   },
   "outputs": [],
   "source": [
    "import matplotlib.pyplot as plt\n",
    "%matplotlib inline"
   ]
  },
  {
   "cell_type": "code",
   "execution_count": 3,
   "metadata": {
    "ExecuteTime": {
     "end_time": "2019-06-05T20:32:46.925310Z",
     "start_time": "2019-06-05T20:32:46.921641Z"
    }
   },
   "outputs": [],
   "source": [
    "import numpy as np"
   ]
  },
  {
   "cell_type": "code",
   "execution_count": 4,
   "metadata": {
    "ExecuteTime": {
     "end_time": "2019-06-05T20:32:46.934876Z",
     "start_time": "2019-06-05T20:32:46.928257Z"
    }
   },
   "outputs": [
    {
     "data": {
      "text/plain": [
       "<torch._C.Generator at 0x7f8804ba19b0>"
      ]
     },
     "execution_count": 4,
     "metadata": {},
     "output_type": "execute_result"
    }
   ],
   "source": [
    "torch.manual_seed(2017)"
   ]
  },
  {
   "cell_type": "code",
   "execution_count": 5,
   "metadata": {
    "ExecuteTime": {
     "end_time": "2019-06-05T20:32:46.941969Z",
     "start_time": "2019-06-05T20:32:46.937934Z"
    }
   },
   "outputs": [],
   "source": [
    "with open('Base/data.txt', 'r') as f:\n",
    "    data_list = [str.split('\\n')[0].split(',') for str in f.readlines()]\n",
    "    data = [(float(_str[0]), float(_str[1]), float(_str[2])) for _str in data_list]"
   ]
  },
  {
   "cell_type": "code",
   "execution_count": 6,
   "metadata": {
    "ExecuteTime": {
     "end_time": "2019-06-05T20:32:46.947894Z",
     "start_time": "2019-06-05T20:32:46.943692Z"
    }
   },
   "outputs": [],
   "source": [
    "x0_max = max([i[0] for i in data])"
   ]
  },
  {
   "cell_type": "code",
   "execution_count": 7,
   "metadata": {
    "ExecuteTime": {
     "end_time": "2019-06-05T20:32:46.952923Z",
     "start_time": "2019-06-05T20:32:46.949783Z"
    }
   },
   "outputs": [],
   "source": [
    "x1_max = max([i[1] for i in data])"
   ]
  },
  {
   "cell_type": "code",
   "execution_count": 8,
   "metadata": {
    "ExecuteTime": {
     "end_time": "2019-06-05T20:32:46.957677Z",
     "start_time": "2019-06-05T20:32:46.954733Z"
    }
   },
   "outputs": [],
   "source": [
    "data = [(str[0]/x0_max, str[1]/x1_max, str[2]) for str in data]"
   ]
  },
  {
   "cell_type": "code",
   "execution_count": 9,
   "metadata": {
    "ExecuteTime": {
     "end_time": "2019-06-05T20:32:46.962775Z",
     "start_time": "2019-06-05T20:32:46.959780Z"
    }
   },
   "outputs": [],
   "source": [
    "x0 = list(filter(lambda x:x[2] == 0.0, data))"
   ]
  },
  {
   "cell_type": "code",
   "execution_count": 10,
   "metadata": {
    "ExecuteTime": {
     "end_time": "2019-06-05T20:32:46.967596Z",
     "start_time": "2019-06-05T20:32:46.964776Z"
    }
   },
   "outputs": [],
   "source": [
    "x1 = list(filter(lambda x:x[2] == 1.0, data))"
   ]
  },
  {
   "cell_type": "code",
   "execution_count": 11,
   "metadata": {
    "ExecuteTime": {
     "end_time": "2019-06-05T20:32:46.973561Z",
     "start_time": "2019-06-05T20:32:46.969448Z"
    }
   },
   "outputs": [],
   "source": [
    "plot_list_zero  = [[str[0], str[1]] for str  in x0]"
   ]
  },
  {
   "cell_type": "code",
   "execution_count": 12,
   "metadata": {
    "ExecuteTime": {
     "end_time": "2019-06-05T20:32:46.980092Z",
     "start_time": "2019-06-05T20:32:46.975884Z"
    }
   },
   "outputs": [
    {
     "data": {
      "text/plain": [
       "40"
      ]
     },
     "execution_count": 12,
     "metadata": {},
     "output_type": "execute_result"
    }
   ],
   "source": [
    "len(plot_list_zero)"
   ]
  },
  {
   "cell_type": "code",
   "execution_count": 13,
   "metadata": {
    "ExecuteTime": {
     "end_time": "2019-06-05T20:32:46.984318Z",
     "start_time": "2019-06-05T20:32:46.981908Z"
    }
   },
   "outputs": [],
   "source": [
    "plot_list_one  = [[str[0], str[1]] for str  in x1]"
   ]
  },
  {
   "cell_type": "code",
   "execution_count": 14,
   "metadata": {
    "ExecuteTime": {
     "end_time": "2019-06-05T20:32:46.989620Z",
     "start_time": "2019-06-05T20:32:46.986093Z"
    }
   },
   "outputs": [
    {
     "data": {
      "text/plain": [
       "2"
      ]
     },
     "execution_count": 14,
     "metadata": {},
     "output_type": "execute_result"
    }
   ],
   "source": [
    "len(plot_list_one[0])"
   ]
  },
  {
   "cell_type": "code",
   "execution_count": 15,
   "metadata": {
    "ExecuteTime": {
     "end_time": "2019-06-05T20:32:47.141199Z",
     "start_time": "2019-06-05T20:32:46.991330Z"
    }
   },
   "outputs": [
    {
     "data": {
      "text/plain": [
       "[<matplotlib.lines.Line2D at 0x7f87c0c996a0>]"
      ]
     },
     "execution_count": 15,
     "metadata": {},
     "output_type": "execute_result"
    },
    {
     "data": {
      "image/png": "[encoded data removed]",
      "text/plain": [
       "<matplotlib.figure.Figure at 0x7f87c0c996d8>"
      ]
     },
     "metadata": {
      "needs_background": "light"
     },
     "output_type": "display_data"
    }
   ],
   "source": [
    "plot_x0 = [i[0] for i in x0]\n",
    "plot_y0 = [i[1] for i in x0]\n",
    "plot_x1 = [i[0] for i in x1]\n",
    "plot_y1 = [i[1] for i in x1]\n",
    "\n",
    "plt.plot(plot_x0, plot_y0, 'ro', label='x_0')\n",
    "plt.plot(plot_x1, plot_y1, 'bo', label='x_1')"
   ]
  },
  {
   "cell_type": "code",
   "execution_count": 16,
   "metadata": {
    "ExecuteTime": {
     "end_time": "2019-06-05T20:32:47.145773Z",
     "start_time": "2019-06-05T20:32:47.143079Z"
    }
   },
   "outputs": [],
   "source": [
    "np_data = np.array(data, dtype=\"float32\")"
   ]
  },
  {
   "cell_type": "code",
   "execution_count": 17,
   "metadata": {
    "ExecuteTime": {
     "end_time": "2019-06-05T20:32:47.150259Z",
     "start_time": "2019-06-05T20:32:47.147529Z"
    }
   },
   "outputs": [],
   "source": [
    "x_data = Variable(torch.from_numpy(np_data[:, 0:2]))"
   ]
  },
  {
   "cell_type": "code",
   "execution_count": 18,
   "metadata": {
    "ExecuteTime": {
     "end_time": "2019-06-05T20:32:47.158793Z",
     "start_time": "2019-06-05T20:32:47.156193Z"
    }
   },
   "outputs": [],
   "source": [
    "y_data = Variable(torch.from_numpy(np_data[:, -1]).unsqueeze(1))"
   ]
  },
  {
   "cell_type": "code",
   "execution_count": 19,
   "metadata": {
    "ExecuteTime": {
     "end_time": "2019-06-05T20:32:47.166077Z",
     "start_time": "2019-06-05T20:32:47.163624Z"
    }
   },
   "outputs": [],
   "source": [
    "w = nn.Parameter(torch.randn(2, 1))"
   ]
  },
  {
   "cell_type": "code",
   "execution_count": 20,
   "metadata": {
    "ExecuteTime": {
     "end_time": "2019-06-05T20:32:47.170352Z",
     "start_time": "2019-06-05T20:32:47.167858Z"
    }
   },
   "outputs": [],
   "source": [
    "b = nn.Parameter(torch.zeros(1), requires_grad=True)"
   ]
  },
  {
   "cell_type": "code",
   "execution_count": 21,
   "metadata": {
    "ExecuteTime": {
     "end_time": "2019-06-05T20:32:47.352943Z",
     "start_time": "2019-06-05T20:32:47.172203Z"
    }
   },
   "outputs": [
    {
     "data": {
      "text/plain": [
       "<matplotlib.legend.Legend at 0x7f87beb369e8>"
      ]
     },
     "execution_count": 21,
     "metadata": {},
     "output_type": "execute_result"
    },
    {
     "data": {
      "image/png": "[encoded data removed]",
      "text/plain": [
       "<matplotlib.figure.Figure at 0x7f87c0c575c0>"
      ]
     },
     "metadata": {
      "needs_background": "light"
     },
     "output_type": "display_data"
    }
   ],
   "source": [
    "# 画出参数更新之前的结果\n",
    "w0 = w[0].data[0]\n",
    "w1 = w[1].data[0]\n",
    "b0 = b.data[0]\n",
    "\n",
    "plot_x = np.arange(0.2, 1, 0.01)\n",
    "plot_y = (-w0 * Variable(torch.from_numpy(plot_x)) - b0) / w1\n",
    "\n",
    "plt.plot(plot_x, plot_y.numpy(), 'g', label='cutting line')\n",
    "plt.plot(plot_x0, plot_y0, 'ro', label='x_0')\n",
    "plt.plot(plot_x1, plot_y1, 'bo', label='x_1')\n",
    "plt.legend(loc='best')"
   ]
  },
  {
   "cell_type": "code",
   "execution_count": 22,
   "metadata": {
    "ExecuteTime": {
     "end_time": "2019-06-05T20:32:47.357924Z",
     "start_time": "2019-06-05T20:32:47.354858Z"
    }
   },
   "outputs": [],
   "source": [
    "y_predict =torch.mm(x_data,w) + b"
   ]
  },
  {
   "cell_type": "code",
   "execution_count": 23,
   "metadata": {
    "ExecuteTime": {
     "end_time": "2019-06-05T20:32:47.362418Z",
     "start_time": "2019-06-05T20:32:47.359886Z"
    }
   },
   "outputs": [],
   "source": [
    "criterion = nn.BCEWithLogitsLoss()"
   ]
  },
  {
   "cell_type": "code",
   "execution_count": 24,
   "metadata": {
    "ExecuteTime": {
     "end_time": "2019-06-05T20:32:47.367211Z",
     "start_time": "2019-06-05T20:32:47.364325Z"
    }
   },
   "outputs": [],
   "source": [
    "loss = criterion(y_predict, y_data)"
   ]
  },
  {
   "cell_type": "code",
   "execution_count": 25,
   "metadata": {
    "ExecuteTime": {
     "end_time": "2019-06-05T20:32:47.372253Z",
     "start_time": "2019-06-05T20:32:47.369045Z"
    }
   },
   "outputs": [],
   "source": [
    "loss.backward()"
   ]
  },
  {
   "cell_type": "code",
   "execution_count": 26,
   "metadata": {
    "ExecuteTime": {
     "end_time": "2019-06-05T20:32:47.376668Z",
     "start_time": "2019-06-05T20:32:47.373784Z"
    }
   },
   "outputs": [],
   "source": [
    "optimizer = torch.optim.SGD([w,b], 1.)"
   ]
  },
  {
   "cell_type": "code",
   "execution_count": 27,
   "metadata": {
    "ExecuteTime": {
     "end_time": "2019-06-05T20:32:47.381598Z",
     "start_time": "2019-06-05T20:32:47.378075Z"
    }
   },
   "outputs": [],
   "source": [
    "optimizer.step()"
   ]
  },
  {
   "cell_type": "code",
   "execution_count": 28,
   "metadata": {
    "ExecuteTime": {
     "end_time": "2019-06-05T20:32:47.584280Z",
     "start_time": "2019-06-05T20:32:47.383387Z"
    }
   },
   "outputs": [
    {
     "data": {
      "text/plain": [
       "<matplotlib.legend.Legend at 0x7f87beacff98>"
      ]
     },
     "execution_count": 28,
     "metadata": {},
     "output_type": "execute_result"
    },
    {
     "data": {
      "image/png": "[encoded data removed]",
      "text/plain": [
       "<matplotlib.figure.Figure at 0x7f87beae5978>"
      ]
     },
     "metadata": {
      "needs_background": "light"
     },
     "output_type": "display_data"
    }
   ],
   "source": [
    "# 画出参数更新之前的结果\n",
    "w0 = w[0].data[0]\n",
    "w1 = w[1].data[0]\n",
    "b0 = b.data[0]\n",
    "\n",
    "plot_y = (-w0 * Variable(torch.from_numpy(plot_x)) - b0) / w1\n",
    "\n",
    "plt.plot(plot_x, plot_y.numpy(), 'g', label='cutting line')\n",
    "plt.plot(plot_x0, plot_y0, 'ro', label='x_0')\n",
    "plt.plot(plot_x1, plot_y1, 'bo', label='x_1')\n",
    "plt.legend(loc='best')"
   ]
  },
  {
   "cell_type": "code",
   "execution_count": 29,
   "metadata": {
    "ExecuteTime": {
     "end_time": "2019-06-05T20:32:47.594957Z",
     "start_time": "2019-06-05T20:32:47.588637Z"
    }
   },
   "outputs": [
    {
     "name": "stdout",
     "output_type": "stream",
     "text": [
      "tensor(0.6412, grad_fn=<BinaryCrossEntropyWithLogitsBackward>)\n"
     ]
    }
   ],
   "source": [
    "print(loss)"
   ]
  },
  {
   "cell_type": "code",
   "execution_count": 33,
   "metadata": {
    "ExecuteTime": {
     "end_time": "2019-06-05T20:36:16.538455Z",
     "start_time": "2019-06-05T20:36:15.796298Z"
    },
    "scrolled": true
   },
   "outputs": [
    {
     "name": "stdout",
     "output_type": "stream",
     "text": [
      "epoch: 0, loss: 0.47138434648513794\n",
      "epoch: 1, loss: 0.4703209400177002\n",
      "epoch: 2, loss: 0.4692653715610504\n",
      "epoch: 3, loss: 0.46821776032447815\n",
      "epoch: 4, loss: 0.4671778380870819\n",
      "epoch: 5, loss: 0.46614566445350647\n",
      "epoch: 6, loss: 0.46512097120285034\n",
      "epoch: 7, loss: 0.4641037881374359\n",
      "epoch: 8, loss: 0.46309414505958557\n",
      "epoch: 9, loss: 0.4620918035507202\n",
      "epoch: 10, loss: 0.46109676361083984\n",
      "epoch: 11, loss: 0.46010899543762207\n",
      "epoch: 12, loss: 0.4591282904148102\n",
      "epoch: 13, loss: 0.45815470814704895\n",
      "epoch: 14, loss: 0.457188218832016\n",
      "epoch: 15, loss: 0.4562286138534546\n",
      "epoch: 16, loss: 0.4552758038043976\n",
      "epoch: 17, loss: 0.45432987809181213\n",
      "epoch: 18, loss: 0.4533907175064087\n",
      "epoch: 19, loss: 0.45245814323425293\n",
      "epoch: 20, loss: 0.4515322148799896\n",
      "epoch: 21, loss: 0.45061278343200684\n",
      "epoch: 22, loss: 0.44969993829727173\n",
      "epoch: 23, loss: 0.44879350066185\n",
      "epoch: 24, loss: 0.44789329171180725\n",
      "epoch: 25, loss: 0.4469994604587555\n",
      "epoch: 26, loss: 0.446111798286438\n",
      "epoch: 27, loss: 0.4452303647994995\n",
      "epoch: 28, loss: 0.4443550407886505\n",
      "epoch: 29, loss: 0.44348570704460144\n",
      "epoch: 30, loss: 0.4426223635673523\n",
      "epoch: 31, loss: 0.44176506996154785\n",
      "epoch: 32, loss: 0.4409135580062866\n",
      "epoch: 33, loss: 0.4400678873062134\n",
      "epoch: 34, loss: 0.43922796845436096\n",
      "epoch: 35, loss: 0.438393771648407\n",
      "epoch: 36, loss: 0.43756526708602905\n",
      "epoch: 37, loss: 0.43674227595329285\n",
      "epoch: 38, loss: 0.4359249174594879\n",
      "epoch: 39, loss: 0.43511298298835754\n",
      "epoch: 40, loss: 0.4343065619468689\n",
      "epoch: 41, loss: 0.43350550532341003\n",
      "epoch: 42, loss: 0.4327097237110138\n",
      "epoch: 43, loss: 0.4319193363189697\n",
      "epoch: 44, loss: 0.4311341345310211\n",
      "epoch: 45, loss: 0.43035411834716797\n",
      "epoch: 46, loss: 0.4295792281627655\n",
      "epoch: 47, loss: 0.4288094639778137\n",
      "epoch: 48, loss: 0.42804476618766785\n",
      "epoch: 49, loss: 0.4272850453853607\n",
      "epoch: 50, loss: 0.42653027176856995\n",
      "epoch: 51, loss: 0.42578044533729553\n",
      "epoch: 52, loss: 0.42503538727760315\n",
      "epoch: 53, loss: 0.4242951571941376\n",
      "epoch: 54, loss: 0.4235597550868988\n",
      "epoch: 55, loss: 0.42282912135124207\n",
      "epoch: 56, loss: 0.42210307717323303\n",
      "epoch: 57, loss: 0.42138177156448364\n",
      "epoch: 58, loss: 0.42066502571105957\n",
      "epoch: 59, loss: 0.41995278000831604\n",
      "epoch: 60, loss: 0.41924506425857544\n",
      "epoch: 61, loss: 0.41854187846183777\n",
      "epoch: 62, loss: 0.4178430438041687\n",
      "epoch: 63, loss: 0.4171486794948578\n",
      "epoch: 64, loss: 0.4164585769176483\n",
      "epoch: 65, loss: 0.4157728850841522\n",
      "epoch: 66, loss: 0.41509148478507996\n",
      "epoch: 67, loss: 0.4144142270088196\n",
      "epoch: 68, loss: 0.41374120116233826\n",
      "epoch: 69, loss: 0.4130723178386688\n",
      "epoch: 70, loss: 0.41240763664245605\n",
      "epoch: 71, loss: 0.4117469787597656\n",
      "epoch: 72, loss: 0.41109034419059753\n",
      "epoch: 73, loss: 0.41043785214424133\n",
      "epoch: 74, loss: 0.40978917479515076\n",
      "epoch: 75, loss: 0.4091445207595825\n",
      "epoch: 76, loss: 0.40850377082824707\n",
      "epoch: 77, loss: 0.4078669250011444\n",
      "epoch: 78, loss: 0.4072338342666626\n",
      "epoch: 79, loss: 0.4066046178340912\n",
      "epoch: 80, loss: 0.405979186296463\n",
      "epoch: 81, loss: 0.4053574502468109\n",
      "epoch: 82, loss: 0.40473949909210205\n",
      "epoch: 83, loss: 0.4041251242160797\n",
      "epoch: 84, loss: 0.40351447463035583\n",
      "epoch: 85, loss: 0.4029073715209961\n",
      "epoch: 86, loss: 0.40230387449264526\n",
      "epoch: 87, loss: 0.40170395374298096\n",
      "epoch: 88, loss: 0.401107519865036\n",
      "epoch: 89, loss: 0.4005145728588104\n",
      "epoch: 90, loss: 0.3999251127243042\n",
      "epoch: 91, loss: 0.39933907985687256\n",
      "epoch: 92, loss: 0.3987564146518707\n",
      "epoch: 93, loss: 0.3981771171092987\n",
      "epoch: 94, loss: 0.3976012170314789\n",
      "epoch: 95, loss: 0.39702853560447693\n",
      "epoch: 96, loss: 0.3964591920375824\n",
      "epoch: 97, loss: 0.39589306712150574\n",
      "epoch: 98, loss: 0.3953303098678589\n",
      "epoch: 99, loss: 0.3947705924510956\n",
      "epoch: 100, loss: 0.39421412348747253\n",
      "epoch: 101, loss: 0.3936608135700226\n",
      "epoch: 102, loss: 0.3931106626987457\n",
      "epoch: 103, loss: 0.39256352186203003\n",
      "epoch: 104, loss: 0.39201951026916504\n",
      "epoch: 105, loss: 0.3914785087108612\n",
      "epoch: 106, loss: 0.3909405469894409\n",
      "epoch: 107, loss: 0.39040565490722656\n",
      "epoch: 108, loss: 0.3898736238479614\n",
      "epoch: 109, loss: 0.38934457302093506\n",
      "epoch: 110, loss: 0.3888184428215027\n",
      "epoch: 111, loss: 0.3882952630519867\n",
      "epoch: 112, loss: 0.38777485489845276\n",
      "epoch: 113, loss: 0.3872573971748352\n",
      "epoch: 114, loss: 0.3867427408695221\n",
      "epoch: 115, loss: 0.3862309157848358\n",
      "epoch: 116, loss: 0.3857218027114868\n",
      "epoch: 117, loss: 0.3852155804634094\n",
      "epoch: 118, loss: 0.3847119212150574\n",
      "epoch: 119, loss: 0.38421109318733215\n",
      "epoch: 120, loss: 0.38371288776397705\n",
      "epoch: 121, loss: 0.383217453956604\n",
      "epoch: 122, loss: 0.3827245831489563\n",
      "epoch: 123, loss: 0.3822344243526459\n",
      "epoch: 124, loss: 0.3817468285560608\n",
      "epoch: 125, loss: 0.38126179575920105\n",
      "epoch: 126, loss: 0.38077935576438904\n",
      "epoch: 127, loss: 0.38029944896698\n",
      "epoch: 128, loss: 0.3798220753669739\n",
      "epoch: 129, loss: 0.3793472647666931\n",
      "epoch: 130, loss: 0.37887492775917053\n",
      "epoch: 131, loss: 0.37840506434440613\n",
      "epoch: 132, loss: 0.37793758511543274\n",
      "epoch: 133, loss: 0.37747251987457275\n",
      "epoch: 134, loss: 0.37700992822647095\n",
      "epoch: 135, loss: 0.37654975056648254\n",
      "epoch: 136, loss: 0.37609192728996277\n",
      "epoch: 137, loss: 0.37563639879226685\n",
      "epoch: 138, loss: 0.3751832842826843\n",
      "epoch: 139, loss: 0.37473246455192566\n",
      "epoch: 140, loss: 0.37428390979766846\n",
      "epoch: 141, loss: 0.37383776903152466\n",
      "epoch: 142, loss: 0.3733937740325928\n",
      "epoch: 143, loss: 0.37295210361480713\n",
      "epoch: 144, loss: 0.372512549161911\n",
      "epoch: 145, loss: 0.37207531929016113\n",
      "epoch: 146, loss: 0.37164023518562317\n",
      "epoch: 147, loss: 0.3712073266506195\n",
      "epoch: 148, loss: 0.3707767128944397\n",
      "epoch: 149, loss: 0.3703480660915375\n",
      "epoch: 150, loss: 0.3699217140674591\n",
      "epoch: 151, loss: 0.36949729919433594\n",
      "epoch: 152, loss: 0.3690751791000366\n",
      "epoch: 153, loss: 0.3686550557613373\n",
      "epoch: 154, loss: 0.3682369589805603\n",
      "epoch: 155, loss: 0.36782097816467285\n",
      "epoch: 156, loss: 0.3674069941043854\n",
      "epoch: 157, loss: 0.3669951558113098\n",
      "epoch: 158, loss: 0.3665851950645447\n",
      "epoch: 159, loss: 0.3661772608757019\n",
      "epoch: 160, loss: 0.3657712936401367\n",
      "epoch: 161, loss: 0.3653673231601715\n",
      "epoch: 162, loss: 0.3649652898311615\n",
      "epoch: 163, loss: 0.36456525325775146\n",
      "epoch: 164, loss: 0.36416709423065186\n",
      "epoch: 165, loss: 0.36377087235450745\n",
      "epoch: 166, loss: 0.3633764386177063\n",
      "epoch: 167, loss: 0.3629840016365051\n",
      "epoch: 168, loss: 0.362593412399292\n",
      "epoch: 169, loss: 0.3622046411037445\n",
      "epoch: 170, loss: 0.3618176579475403\n",
      "epoch: 171, loss: 0.36143264174461365\n",
      "epoch: 172, loss: 0.3610493838787079\n",
      "epoch: 173, loss: 0.3606679141521454\n",
      "epoch: 174, loss: 0.36028823256492615\n",
      "epoch: 175, loss: 0.3599103093147278\n",
      "epoch: 176, loss: 0.35953426361083984\n",
      "epoch: 177, loss: 0.3591598570346832\n",
      "epoch: 178, loss: 0.3587871789932251\n",
      "epoch: 179, loss: 0.3584163188934326\n",
      "epoch: 180, loss: 0.35804712772369385\n",
      "epoch: 181, loss: 0.3576796352863312\n",
      "epoch: 182, loss: 0.3573138415813446\n",
      "epoch: 183, loss: 0.3569497764110565\n",
      "epoch: 184, loss: 0.35658732056617737\n",
      "epoch: 185, loss: 0.35622650384902954\n",
      "epoch: 186, loss: 0.3558673560619354\n",
      "epoch: 187, loss: 0.35550984740257263\n",
      "epoch: 188, loss: 0.3551539182662964\n",
      "epoch: 189, loss: 0.35479965806007385\n",
      "epoch: 190, loss: 0.35444697737693787\n",
      "epoch: 191, loss: 0.3540958762168884\n",
      "epoch: 192, loss: 0.3537464141845703\n",
      "epoch: 193, loss: 0.35339847207069397\n",
      "epoch: 194, loss: 0.353052020072937\n",
      "epoch: 195, loss: 0.35270726680755615\n",
      "epoch: 196, loss: 0.3523639440536499\n",
      "epoch: 197, loss: 0.3520221710205078\n",
      "epoch: 198, loss: 0.3516818881034851\n",
      "epoch: 199, loss: 0.35134315490722656\n",
      "epoch: 200, loss: 0.35100582242012024\n",
      "epoch: 201, loss: 0.35067012906074524\n",
      "epoch: 202, loss: 0.3503358066082001\n",
      "epoch: 203, loss: 0.3500029742717743\n",
      "epoch: 204, loss: 0.3496716022491455\n",
      "epoch: 205, loss: 0.3493416905403137\n",
      "epoch: 206, loss: 0.349013090133667\n",
      "epoch: 207, loss: 0.3486861288547516\n",
      "epoch: 208, loss: 0.34836047887802124\n",
      "epoch: 209, loss: 0.3480361998081207\n",
      "epoch: 210, loss: 0.3477133512496948\n",
      "epoch: 211, loss: 0.34739190340042114\n",
      "epoch: 212, loss: 0.34707188606262207\n",
      "epoch: 213, loss: 0.3467531204223633\n",
      "epoch: 214, loss: 0.3464358150959015\n",
      "epoch: 215, loss: 0.34611985087394714\n",
      "epoch: 216, loss: 0.3458050787448883\n",
      "epoch: 217, loss: 0.34549182653427124\n",
      "epoch: 218, loss: 0.34517982602119446\n",
      "epoch: 219, loss: 0.3448691964149475\n",
      "epoch: 220, loss: 0.34455981850624084\n",
      "epoch: 221, loss: 0.344251811504364\n",
      "epoch: 222, loss: 0.3439449667930603\n",
      "epoch: 223, loss: 0.3436394929885864\n",
      "epoch: 224, loss: 0.3433353900909424\n",
      "epoch: 225, loss: 0.34303244948387146\n",
      "epoch: 226, loss: 0.3427307605743408\n",
      "epoch: 227, loss: 0.3424302935600281\n",
      "epoch: 228, loss: 0.34213119745254517\n",
      "epoch: 229, loss: 0.341833233833313\n",
      "epoch: 230, loss: 0.3415365517139435\n",
      "epoch: 231, loss: 0.34124112129211426\n",
      "epoch: 232, loss: 0.34094685316085815\n",
      "epoch: 233, loss: 0.3406537175178528\n",
      "epoch: 234, loss: 0.34036189317703247\n",
      "epoch: 235, loss: 0.3400712311267853\n",
      "epoch: 236, loss: 0.3397817313671112\n",
      "epoch: 237, loss: 0.3394934833049774\n",
      "epoch: 238, loss: 0.3392063081264496\n",
      "epoch: 239, loss: 0.33892032504081726\n",
      "epoch: 240, loss: 0.33863553404808044\n",
      "epoch: 241, loss: 0.338351845741272\n",
      "epoch: 242, loss: 0.338069349527359\n",
      "epoch: 243, loss: 0.3377879858016968\n",
      "epoch: 244, loss: 0.3375076353549957\n",
      "epoch: 245, loss: 0.3372285068035126\n",
      "epoch: 246, loss: 0.33695048093795776\n",
      "epoch: 247, loss: 0.3366735875606537\n",
      "epoch: 248, loss: 0.3363977074623108\n",
      "epoch: 249, loss: 0.33612293004989624\n",
      "epoch: 250, loss: 0.3358493447303772\n",
      "epoch: 251, loss: 0.33557674288749695\n",
      "epoch: 252, loss: 0.33530521392822266\n",
      "epoch: 253, loss: 0.3350347876548767\n",
      "epoch: 254, loss: 0.33476540446281433\n",
      "epoch: 255, loss: 0.3344971537590027\n",
      "epoch: 256, loss: 0.33422988653182983\n",
      "epoch: 257, loss: 0.33396363258361816\n",
      "epoch: 258, loss: 0.33369842171669006\n",
      "epoch: 259, loss: 0.33343425393104553\n",
      "epoch: 260, loss: 0.3331710398197174\n",
      "epoch: 261, loss: 0.3329090178012848\n",
      "epoch: 262, loss: 0.33264783024787903\n",
      "epoch: 263, loss: 0.3323877453804016\n",
      "epoch: 264, loss: 0.332128643989563\n",
      "epoch: 265, loss: 0.33187058568000793\n",
      "epoch: 266, loss: 0.3316133916378021\n",
      "epoch: 267, loss: 0.3313572406768799\n",
      "epoch: 268, loss: 0.33110207319259644\n",
      "epoch: 269, loss: 0.330847829580307\n",
      "epoch: 270, loss: 0.33059462904930115\n",
      "epoch: 271, loss: 0.3303423821926117\n",
      "epoch: 272, loss: 0.33009102940559387\n",
      "epoch: 273, loss: 0.32984066009521484\n",
      "epoch: 274, loss: 0.32959121465682983\n",
      "epoch: 275, loss: 0.32934272289276123\n",
      "epoch: 276, loss: 0.32909515500068665\n",
      "epoch: 277, loss: 0.3288484811782837\n"
     ]
    },
    {
     "name": "stdout",
     "output_type": "stream",
     "text": [
      "epoch: 278, loss: 0.3286028206348419\n",
      "epoch: 279, loss: 0.328357994556427\n",
      "epoch: 280, loss: 0.3281141221523285\n",
      "epoch: 281, loss: 0.32787108421325684\n",
      "epoch: 282, loss: 0.3276289999485016\n",
      "epoch: 283, loss: 0.32738783955574036\n",
      "epoch: 284, loss: 0.3271474838256836\n",
      "epoch: 285, loss: 0.32690808176994324\n",
      "epoch: 286, loss: 0.3266695439815521\n",
      "epoch: 287, loss: 0.32643193006515503\n",
      "epoch: 288, loss: 0.3261951208114624\n",
      "epoch: 289, loss: 0.325959175825119\n",
      "epoch: 290, loss: 0.3257240951061249\n",
      "epoch: 291, loss: 0.32548990845680237\n",
      "epoch: 292, loss: 0.3252565264701843\n",
      "epoch: 293, loss: 0.3250240385532379\n",
      "epoch: 294, loss: 0.3247923254966736\n",
      "epoch: 295, loss: 0.3245615065097809\n",
      "epoch: 296, loss: 0.32433146238327026\n",
      "epoch: 297, loss: 0.3241023123264313\n",
      "epoch: 298, loss: 0.32387396693229675\n",
      "epoch: 299, loss: 0.3236464262008667\n",
      "epoch: 300, loss: 0.3234196901321411\n",
      "epoch: 301, loss: 0.3231937289237976\n",
      "epoch: 302, loss: 0.32296866178512573\n",
      "epoch: 303, loss: 0.32274436950683594\n",
      "epoch: 304, loss: 0.322520911693573\n",
      "epoch: 305, loss: 0.322298139333725\n",
      "epoch: 306, loss: 0.3220762014389038\n",
      "epoch: 307, loss: 0.3218550384044647\n",
      "epoch: 308, loss: 0.3216347098350525\n",
      "epoch: 309, loss: 0.3214150667190552\n",
      "epoch: 310, loss: 0.3211962878704071\n",
      "epoch: 311, loss: 0.32097819447517395\n",
      "epoch: 312, loss: 0.32076090574264526\n",
      "epoch: 313, loss: 0.32054439187049866\n",
      "epoch: 314, loss: 0.32032859325408936\n",
      "epoch: 315, loss: 0.32011356949806213\n",
      "epoch: 316, loss: 0.3198992609977722\n",
      "epoch: 317, loss: 0.319685697555542\n",
      "epoch: 318, loss: 0.31947290897369385\n",
      "epoch: 319, loss: 0.319260835647583\n",
      "epoch: 320, loss: 0.31904953718185425\n",
      "epoch: 321, loss: 0.318838894367218\n",
      "epoch: 322, loss: 0.3186289966106415\n",
      "epoch: 323, loss: 0.31841984391212463\n",
      "epoch: 324, loss: 0.3182114064693451\n",
      "epoch: 325, loss: 0.31800368428230286\n",
      "epoch: 326, loss: 0.31779658794403076\n",
      "epoch: 327, loss: 0.31759029626846313\n",
      "epoch: 328, loss: 0.31738466024398804\n",
      "epoch: 329, loss: 0.31717970967292786\n",
      "epoch: 330, loss: 0.316975474357605\n",
      "epoch: 331, loss: 0.316771924495697\n",
      "epoch: 332, loss: 0.3165690302848816\n",
      "epoch: 333, loss: 0.31636688113212585\n",
      "epoch: 334, loss: 0.31616535782814026\n",
      "epoch: 335, loss: 0.31596454977989197\n",
      "epoch: 336, loss: 0.3157643973827362\n",
      "epoch: 337, loss: 0.315564900636673\n",
      "epoch: 338, loss: 0.31536608934402466\n",
      "epoch: 339, loss: 0.31516793370246887\n",
      "epoch: 340, loss: 0.3149704039096832\n",
      "epoch: 341, loss: 0.3147735893726349\n",
      "epoch: 342, loss: 0.3145774006843567\n",
      "epoch: 343, loss: 0.31438183784484863\n",
      "epoch: 344, loss: 0.3141869306564331\n",
      "epoch: 345, loss: 0.3139926791191101\n",
      "epoch: 346, loss: 0.31379902362823486\n",
      "epoch: 347, loss: 0.31360605359077454\n",
      "epoch: 348, loss: 0.31341370940208435\n",
      "epoch: 349, loss: 0.3132219612598419\n",
      "epoch: 350, loss: 0.313030868768692\n",
      "epoch: 351, loss: 0.31284043192863464\n",
      "epoch: 352, loss: 0.31265056133270264\n",
      "epoch: 353, loss: 0.31246131658554077\n",
      "epoch: 354, loss: 0.31227269768714905\n",
      "epoch: 355, loss: 0.3120846450328827\n",
      "epoch: 356, loss: 0.3118972182273865\n",
      "epoch: 357, loss: 0.3117104470729828\n",
      "epoch: 358, loss: 0.31152427196502686\n",
      "epoch: 359, loss: 0.3113386631011963\n",
      "epoch: 360, loss: 0.3111536502838135\n",
      "epoch: 361, loss: 0.3109692335128784\n",
      "epoch: 362, loss: 0.3107854127883911\n",
      "epoch: 363, loss: 0.3106021583080292\n",
      "epoch: 364, loss: 0.3104195296764374\n",
      "epoch: 365, loss: 0.31023740768432617\n",
      "epoch: 366, loss: 0.3100559115409851\n",
      "epoch: 367, loss: 0.3098750114440918\n",
      "epoch: 368, loss: 0.30969467759132385\n",
      "epoch: 369, loss: 0.3095148801803589\n",
      "epoch: 370, loss: 0.3093356490135193\n",
      "epoch: 371, loss: 0.30915701389312744\n",
      "epoch: 372, loss: 0.30897894501686096\n",
      "epoch: 373, loss: 0.30880141258239746\n",
      "epoch: 374, loss: 0.3086244463920593\n",
      "epoch: 375, loss: 0.30844801664352417\n",
      "epoch: 376, loss: 0.308272123336792\n",
      "epoch: 377, loss: 0.30809685587882996\n",
      "epoch: 378, loss: 0.3079220950603485\n",
      "epoch: 379, loss: 0.30774787068367004\n",
      "epoch: 380, loss: 0.30757415294647217\n",
      "epoch: 381, loss: 0.30740100145339966\n",
      "epoch: 382, loss: 0.3072283864021301\n",
      "epoch: 383, loss: 0.3070563077926636\n",
      "epoch: 384, loss: 0.3068847358226776\n",
      "epoch: 385, loss: 0.306713730096817\n",
      "epoch: 386, loss: 0.306543231010437\n",
      "epoch: 387, loss: 0.3063732385635376\n",
      "epoch: 388, loss: 0.3062037527561188\n",
      "epoch: 389, loss: 0.30603480339050293\n",
      "epoch: 390, loss: 0.30586642026901245\n",
      "epoch: 391, loss: 0.30569854378700256\n",
      "epoch: 392, loss: 0.3055311441421509\n",
      "epoch: 393, loss: 0.3053642511367798\n",
      "epoch: 394, loss: 0.3051978349685669\n",
      "epoch: 395, loss: 0.305031955242157\n",
      "epoch: 396, loss: 0.30486658215522766\n",
      "epoch: 397, loss: 0.30470165610313416\n",
      "epoch: 398, loss: 0.304537296295166\n",
      "epoch: 399, loss: 0.3043733835220337\n",
      "epoch: 400, loss: 0.30421000719070435\n",
      "epoch: 401, loss: 0.3040471076965332\n",
      "epoch: 402, loss: 0.3038846552371979\n",
      "epoch: 403, loss: 0.3037227392196655\n",
      "epoch: 404, loss: 0.3035612404346466\n",
      "epoch: 405, loss: 0.30340030789375305\n",
      "epoch: 406, loss: 0.30323976278305054\n",
      "epoch: 407, loss: 0.303079754114151\n",
      "epoch: 408, loss: 0.30292025208473206\n",
      "epoch: 409, loss: 0.30276116728782654\n",
      "epoch: 410, loss: 0.3026025891304016\n",
      "epoch: 411, loss: 0.3024444878101349\n",
      "epoch: 412, loss: 0.3022867739200592\n",
      "epoch: 413, loss: 0.3021295666694641\n",
      "epoch: 414, loss: 0.3019728362560272\n",
      "epoch: 415, loss: 0.30181655287742615\n",
      "epoch: 416, loss: 0.3016607165336609\n",
      "epoch: 417, loss: 0.30150532722473145\n",
      "epoch: 418, loss: 0.3013504147529602\n",
      "epoch: 419, loss: 0.3011959493160248\n",
      "epoch: 420, loss: 0.30104193091392517\n",
      "epoch: 421, loss: 0.3008883595466614\n",
      "epoch: 422, loss: 0.3007352352142334\n",
      "epoch: 423, loss: 0.30058255791664124\n",
      "epoch: 424, loss: 0.3004303276538849\n",
      "epoch: 425, loss: 0.30027851462364197\n",
      "epoch: 426, loss: 0.30012714862823486\n",
      "epoch: 427, loss: 0.2999762296676636\n",
      "epoch: 428, loss: 0.2998257577419281\n",
      "epoch: 429, loss: 0.29967570304870605\n",
      "epoch: 430, loss: 0.29952606558799744\n",
      "epoch: 431, loss: 0.29937681555747986\n",
      "epoch: 432, loss: 0.29922807216644287\n",
      "epoch: 433, loss: 0.2990797162055969\n",
      "epoch: 434, loss: 0.2989318072795868\n",
      "epoch: 435, loss: 0.2987843155860901\n",
      "epoch: 436, loss: 0.2986372113227844\n",
      "epoch: 437, loss: 0.2984904944896698\n",
      "epoch: 438, loss: 0.2983442544937134\n",
      "epoch: 439, loss: 0.2981983423233032\n",
      "epoch: 440, loss: 0.29805296659469604\n",
      "epoch: 441, loss: 0.2979079484939575\n",
      "epoch: 442, loss: 0.29776331782341003\n",
      "epoch: 443, loss: 0.297619104385376\n",
      "epoch: 444, loss: 0.29747530817985535\n",
      "epoch: 445, loss: 0.29733186960220337\n",
      "epoch: 446, loss: 0.2971888780593872\n",
      "epoch: 447, loss: 0.2970463037490845\n",
      "epoch: 448, loss: 0.296904057264328\n",
      "epoch: 449, loss: 0.29676225781440735\n",
      "epoch: 450, loss: 0.29662084579467773\n",
      "epoch: 451, loss: 0.2964797914028168\n",
      "epoch: 452, loss: 0.29633915424346924\n",
      "epoch: 453, loss: 0.29619893431663513\n",
      "epoch: 454, loss: 0.2960590720176697\n",
      "epoch: 455, loss: 0.29591959714889526\n",
      "epoch: 456, loss: 0.2957805097103119\n",
      "epoch: 457, loss: 0.2956417500972748\n",
      "epoch: 458, loss: 0.2955034375190735\n",
      "epoch: 459, loss: 0.29536551237106323\n",
      "epoch: 460, loss: 0.29522794485092163\n",
      "epoch: 461, loss: 0.29509079456329346\n",
      "epoch: 462, loss: 0.2949539124965668\n",
      "epoch: 463, loss: 0.2948175072669983\n",
      "epoch: 464, loss: 0.2946814000606537\n",
      "epoch: 465, loss: 0.2945457398891449\n",
      "epoch: 466, loss: 0.2944104075431824\n",
      "epoch: 467, loss: 0.2942753732204437\n",
      "epoch: 468, loss: 0.2941407859325409\n",
      "epoch: 469, loss: 0.2940065562725067\n",
      "epoch: 470, loss: 0.2938726842403412\n",
      "epoch: 471, loss: 0.2937391996383667\n",
      "epoch: 472, loss: 0.2936059832572937\n",
      "epoch: 473, loss: 0.2934732139110565\n",
      "epoch: 474, loss: 0.2933407425880432\n",
      "epoch: 475, loss: 0.29320868849754333\n",
      "epoch: 476, loss: 0.29307690262794495\n",
      "epoch: 477, loss: 0.2929455637931824\n",
      "epoch: 478, loss: 0.2928144931793213\n",
      "epoch: 479, loss: 0.29268383979797363\n",
      "epoch: 480, loss: 0.29255351424217224\n",
      "epoch: 481, loss: 0.2924235165119171\n",
      "epoch: 482, loss: 0.29229387640953064\n",
      "epoch: 483, loss: 0.29216456413269043\n",
      "epoch: 484, loss: 0.29203560948371887\n",
      "epoch: 485, loss: 0.29190701246261597\n",
      "epoch: 486, loss: 0.2917787432670593\n",
      "epoch: 487, loss: 0.2916507422924042\n",
      "epoch: 488, loss: 0.29152318835258484\n",
      "epoch: 489, loss: 0.2913958728313446\n",
      "epoch: 490, loss: 0.2912689447402954\n",
      "epoch: 491, loss: 0.2911423444747925\n",
      "epoch: 492, loss: 0.2910160720348358\n",
      "epoch: 493, loss: 0.2908901274204254\n",
      "epoch: 494, loss: 0.29076454043388367\n",
      "epoch: 495, loss: 0.2906392216682434\n",
      "epoch: 496, loss: 0.2905142903327942\n",
      "epoch: 497, loss: 0.29038962721824646\n",
      "epoch: 498, loss: 0.2902653217315674\n",
      "epoch: 499, loss: 0.29014134407043457\n",
      "epoch: 500, loss: 0.29001763463020325\n",
      "epoch: 501, loss: 0.28989431262016296\n",
      "epoch: 502, loss: 0.28977131843566895\n",
      "epoch: 503, loss: 0.2896485924720764\n",
      "epoch: 504, loss: 0.28952616453170776\n",
      "epoch: 505, loss: 0.28940409421920776\n",
      "epoch: 506, loss: 0.28928232192993164\n",
      "epoch: 507, loss: 0.2891608774662018\n",
      "epoch: 508, loss: 0.2890397012233734\n",
      "epoch: 509, loss: 0.2889188528060913\n",
      "epoch: 510, loss: 0.28879836201667786\n",
      "epoch: 511, loss: 0.2886781394481659\n",
      "epoch: 512, loss: 0.2885582447052002\n",
      "epoch: 513, loss: 0.2884385883808136\n",
      "epoch: 514, loss: 0.28831925988197327\n",
      "epoch: 515, loss: 0.2882002592086792\n",
      "epoch: 516, loss: 0.2880815863609314\n",
      "epoch: 517, loss: 0.2879631221294403\n",
      "epoch: 518, loss: 0.28784507513046265\n",
      "epoch: 519, loss: 0.2877272367477417\n",
      "epoch: 520, loss: 0.28760969638824463\n",
      "epoch: 521, loss: 0.2874925136566162\n",
      "epoch: 522, loss: 0.2873755693435669\n",
      "epoch: 523, loss: 0.28725898265838623\n",
      "epoch: 524, loss: 0.2871426045894623\n",
      "epoch: 525, loss: 0.287026584148407\n",
      "epoch: 526, loss: 0.2869108021259308\n",
      "epoch: 527, loss: 0.28679534792900085\n",
      "epoch: 528, loss: 0.28668013215065\n",
      "epoch: 529, loss: 0.28656521439552307\n",
      "epoch: 530, loss: 0.28645068407058716\n",
      "epoch: 531, loss: 0.28633636236190796\n",
      "epoch: 532, loss: 0.28622227907180786\n",
      "epoch: 533, loss: 0.28610852360725403\n",
      "epoch: 534, loss: 0.28599509596824646\n",
      "epoch: 535, loss: 0.2858818769454956\n",
      "epoch: 536, loss: 0.28576889634132385\n",
      "epoch: 537, loss: 0.28565627336502075\n",
      "epoch: 538, loss: 0.28554394841194153\n",
      "epoch: 539, loss: 0.2854318618774414\n",
      "epoch: 540, loss: 0.2853200435638428\n",
      "epoch: 541, loss: 0.285208523273468\n",
      "epoch: 542, loss: 0.28509721159935\n",
      "epoch: 543, loss: 0.2849861979484558\n",
      "epoch: 544, loss: 0.2848755121231079\n",
      "epoch: 545, loss: 0.2847650647163391\n",
      "epoch: 546, loss: 0.2846548855304718\n",
      "epoch: 547, loss: 0.2845449447631836\n",
      "epoch: 548, loss: 0.28443533182144165\n",
      "epoch: 549, loss: 0.2843259572982788\n",
      "epoch: 550, loss: 0.28421682119369507\n",
      "epoch: 551, loss: 0.2841079533100128\n",
      "epoch: 552, loss: 0.28399935364723206\n",
      "epoch: 553, loss: 0.2838910222053528\n",
      "epoch: 554, loss: 0.283782958984375\n",
      "epoch: 555, loss: 0.2836751341819763\n",
      "epoch: 556, loss: 0.28356754779815674\n",
      "epoch: 557, loss: 0.2834602892398834\n",
      "epoch: 558, loss: 0.2833532691001892\n",
      "epoch: 559, loss: 0.2832464873790741\n",
      "epoch: 560, loss: 0.2831399738788605\n",
      "epoch: 561, loss: 0.28303366899490356\n",
      "epoch: 562, loss: 0.28292766213417053\n",
      "epoch: 563, loss: 0.2828218936920166\n",
      "epoch: 564, loss: 0.2827163636684418\n",
      "epoch: 565, loss: 0.2826111316680908\n",
      "epoch: 566, loss: 0.2825061082839966\n",
      "epoch: 567, loss: 0.2824013829231262\n",
      "epoch: 568, loss: 0.2822968363761902\n",
      "epoch: 569, loss: 0.28219252824783325\n",
      "epoch: 570, loss: 0.2820885181427002\n"
     ]
    },
    {
     "name": "stdout",
     "output_type": "stream",
     "text": [
      "epoch: 571, loss: 0.28198471665382385\n",
      "epoch: 572, loss: 0.2818812131881714\n",
      "epoch: 573, loss: 0.281777948141098\n",
      "epoch: 574, loss: 0.28167489171028137\n",
      "epoch: 575, loss: 0.2815721035003662\n",
      "epoch: 576, loss: 0.28146952390670776\n",
      "epoch: 577, loss: 0.28136715292930603\n",
      "epoch: 578, loss: 0.2812650799751282\n",
      "epoch: 579, loss: 0.28116318583488464\n",
      "epoch: 580, loss: 0.281061589717865\n",
      "epoch: 581, loss: 0.2809602618217468\n",
      "epoch: 582, loss: 0.2808590829372406\n",
      "epoch: 583, loss: 0.28075820207595825\n",
      "epoch: 584, loss: 0.2806575298309326\n",
      "epoch: 585, loss: 0.2805570662021637\n",
      "epoch: 586, loss: 0.28045687079429626\n",
      "epoch: 587, loss: 0.28035688400268555\n",
      "epoch: 588, loss: 0.28025713562965393\n",
      "epoch: 589, loss: 0.2801576256752014\n",
      "epoch: 590, loss: 0.280058354139328\n",
      "epoch: 591, loss: 0.2799592912197113\n",
      "epoch: 592, loss: 0.2798604667186737\n",
      "epoch: 593, loss: 0.2797618806362152\n",
      "epoch: 594, loss: 0.2796635329723358\n",
      "epoch: 595, loss: 0.27956536412239075\n",
      "epoch: 596, loss: 0.27946746349334717\n",
      "epoch: 597, loss: 0.2793697416782379\n",
      "epoch: 598, loss: 0.27927225828170776\n",
      "epoch: 599, loss: 0.2791749835014343\n",
      "epoch: 600, loss: 0.2790779173374176\n",
      "epoch: 601, loss: 0.27898114919662476\n",
      "epoch: 602, loss: 0.27888453006744385\n",
      "epoch: 603, loss: 0.27878817915916443\n",
      "epoch: 604, loss: 0.27869200706481934\n",
      "epoch: 605, loss: 0.27859607338905334\n",
      "epoch: 606, loss: 0.27850034832954407\n",
      "epoch: 607, loss: 0.2784048318862915\n",
      "epoch: 608, loss: 0.27830952405929565\n",
      "epoch: 609, loss: 0.2782144546508789\n",
      "epoch: 610, loss: 0.2781195640563965\n",
      "epoch: 611, loss: 0.27802494168281555\n",
      "epoch: 612, loss: 0.27793046832084656\n",
      "epoch: 613, loss: 0.27783623337745667\n",
      "epoch: 614, loss: 0.2777422070503235\n",
      "epoch: 615, loss: 0.2776484489440918\n",
      "epoch: 616, loss: 0.27755486965179443\n",
      "epoch: 617, loss: 0.2774614095687866\n",
      "epoch: 618, loss: 0.2773682475090027\n",
      "epoch: 619, loss: 0.2772752642631531\n",
      "epoch: 620, loss: 0.2771824896335602\n",
      "epoch: 621, loss: 0.2770899534225464\n",
      "epoch: 622, loss: 0.2769975960254669\n",
      "epoch: 623, loss: 0.27690544724464417\n",
      "epoch: 624, loss: 0.27681347727775574\n",
      "epoch: 625, loss: 0.2767217755317688\n",
      "epoch: 626, loss: 0.2766301929950714\n",
      "epoch: 627, loss: 0.27653881907463074\n",
      "epoch: 628, loss: 0.27644771337509155\n",
      "epoch: 629, loss: 0.2763567864894867\n",
      "epoch: 630, loss: 0.2762660086154938\n",
      "epoch: 631, loss: 0.27617549896240234\n",
      "epoch: 632, loss: 0.27608510851860046\n",
      "epoch: 633, loss: 0.2759949564933777\n",
      "epoch: 634, loss: 0.275905042886734\n",
      "epoch: 635, loss: 0.2758152484893799\n",
      "epoch: 636, loss: 0.27572575211524963\n",
      "epoch: 637, loss: 0.27563637495040894\n",
      "epoch: 638, loss: 0.27554720640182495\n",
      "epoch: 639, loss: 0.2754582464694977\n",
      "epoch: 640, loss: 0.27536946535110474\n",
      "epoch: 641, loss: 0.27528083324432373\n",
      "epoch: 642, loss: 0.27519240975379944\n",
      "epoch: 643, loss: 0.27510425448417664\n",
      "epoch: 644, loss: 0.2750162184238434\n",
      "epoch: 645, loss: 0.27492839097976685\n",
      "epoch: 646, loss: 0.2748408019542694\n",
      "epoch: 647, loss: 0.27475330233573914\n",
      "epoch: 648, loss: 0.27466607093811035\n",
      "epoch: 649, loss: 0.2745790183544159\n",
      "epoch: 650, loss: 0.274492084980011\n",
      "epoch: 651, loss: 0.27440541982650757\n",
      "epoch: 652, loss: 0.2743188738822937\n",
      "epoch: 653, loss: 0.27423256635665894\n",
      "epoch: 654, loss: 0.2741464674472809\n",
      "epoch: 655, loss: 0.2740604877471924\n",
      "epoch: 656, loss: 0.273974746465683\n",
      "epoch: 657, loss: 0.27388909459114075\n",
      "epoch: 658, loss: 0.2738037109375\n",
      "epoch: 659, loss: 0.2737184464931488\n",
      "epoch: 660, loss: 0.2736334502696991\n",
      "epoch: 661, loss: 0.27354857325553894\n",
      "epoch: 662, loss: 0.2734638452529907\n",
      "epoch: 663, loss: 0.2733793556690216\n",
      "epoch: 664, loss: 0.27329501509666443\n",
      "epoch: 665, loss: 0.27321088314056396\n",
      "epoch: 666, loss: 0.27312690019607544\n",
      "epoch: 667, loss: 0.27304309606552124\n",
      "epoch: 668, loss: 0.27295947074890137\n",
      "epoch: 669, loss: 0.2728760540485382\n",
      "epoch: 670, loss: 0.2727927267551422\n",
      "epoch: 671, loss: 0.2727096676826477\n",
      "epoch: 672, loss: 0.27262675762176514\n",
      "epoch: 673, loss: 0.2725439965724945\n",
      "epoch: 674, loss: 0.2724613845348358\n",
      "epoch: 675, loss: 0.27237898111343384\n",
      "epoch: 676, loss: 0.2722967565059662\n",
      "epoch: 677, loss: 0.2722146809101105\n",
      "epoch: 678, loss: 0.2721328139305115\n",
      "epoch: 679, loss: 0.2720511257648468\n",
      "epoch: 680, loss: 0.27196958661079407\n",
      "epoch: 681, loss: 0.2718881666660309\n",
      "epoch: 682, loss: 0.2718069553375244\n",
      "epoch: 683, loss: 0.2717258930206299\n",
      "epoch: 684, loss: 0.2716450095176697\n",
      "epoch: 685, loss: 0.2715643346309662\n",
      "epoch: 686, loss: 0.27148377895355225\n",
      "epoch: 687, loss: 0.27140337228775024\n",
      "epoch: 688, loss: 0.27132314443588257\n",
      "epoch: 689, loss: 0.2712430953979492\n",
      "epoch: 690, loss: 0.27116328477859497\n",
      "epoch: 691, loss: 0.2710835337638855\n",
      "epoch: 692, loss: 0.2710040211677551\n",
      "epoch: 693, loss: 0.27092456817626953\n",
      "epoch: 694, loss: 0.27084532380104065\n",
      "epoch: 695, loss: 0.2707662582397461\n",
      "epoch: 696, loss: 0.27068737149238586\n",
      "epoch: 697, loss: 0.2706086039543152\n",
      "epoch: 698, loss: 0.27053001523017883\n",
      "epoch: 699, loss: 0.2704516053199768\n",
      "epoch: 700, loss: 0.2703733444213867\n",
      "epoch: 701, loss: 0.27029526233673096\n",
      "epoch: 702, loss: 0.27021729946136475\n",
      "epoch: 703, loss: 0.2701394855976105\n",
      "epoch: 704, loss: 0.2700618803501129\n",
      "epoch: 705, loss: 0.2699844241142273\n",
      "epoch: 706, loss: 0.26990702748298645\n",
      "epoch: 707, loss: 0.2698298692703247\n",
      "epoch: 708, loss: 0.2697528898715973\n",
      "epoch: 709, loss: 0.2696760296821594\n",
      "epoch: 710, loss: 0.2695993483066559\n",
      "epoch: 711, loss: 0.2695227861404419\n",
      "epoch: 712, loss: 0.26944637298583984\n",
      "epoch: 713, loss: 0.26937010884284973\n",
      "epoch: 714, loss: 0.26929402351379395\n",
      "epoch: 715, loss: 0.2692181169986725\n",
      "epoch: 716, loss: 0.2691423296928406\n",
      "epoch: 717, loss: 0.2690666913986206\n",
      "epoch: 718, loss: 0.2689911723136902\n",
      "epoch: 719, loss: 0.26891589164733887\n",
      "epoch: 720, loss: 0.2688406705856323\n",
      "epoch: 721, loss: 0.2687656879425049\n",
      "epoch: 722, loss: 0.2686907649040222\n",
      "epoch: 723, loss: 0.2686160206794739\n",
      "epoch: 724, loss: 0.2685414254665375\n",
      "epoch: 725, loss: 0.2684670090675354\n",
      "epoch: 726, loss: 0.26839274168014526\n",
      "epoch: 727, loss: 0.26831862330436707\n",
      "epoch: 728, loss: 0.26824456453323364\n",
      "epoch: 729, loss: 0.2681707441806793\n",
      "epoch: 730, loss: 0.26809704303741455\n",
      "epoch: 731, loss: 0.2680234909057617\n",
      "epoch: 732, loss: 0.26795005798339844\n",
      "epoch: 733, loss: 0.2678768038749695\n",
      "epoch: 734, loss: 0.2678036689758301\n",
      "epoch: 735, loss: 0.2677306830883026\n",
      "epoch: 736, loss: 0.2676578462123871\n",
      "epoch: 737, loss: 0.2675851583480835\n",
      "epoch: 738, loss: 0.26751255989074707\n",
      "epoch: 739, loss: 0.26744017004966736\n",
      "epoch: 740, loss: 0.2673678696155548\n",
      "epoch: 741, loss: 0.2672957479953766\n",
      "epoch: 742, loss: 0.2672237157821655\n",
      "epoch: 743, loss: 0.26715192198753357\n",
      "epoch: 744, loss: 0.267080157995224\n",
      "epoch: 745, loss: 0.26700860261917114\n",
      "epoch: 746, loss: 0.26693716645240784\n",
      "epoch: 747, loss: 0.26686587929725647\n",
      "epoch: 748, loss: 0.26679471135139465\n",
      "epoch: 749, loss: 0.2667236626148224\n",
      "epoch: 750, loss: 0.26665279269218445\n",
      "epoch: 751, loss: 0.26658201217651367\n",
      "epoch: 752, loss: 0.2665114402770996\n",
      "epoch: 753, loss: 0.2664409279823303\n",
      "epoch: 754, loss: 0.266370564699173\n",
      "epoch: 755, loss: 0.26630038022994995\n",
      "epoch: 756, loss: 0.2662303149700165\n",
      "epoch: 757, loss: 0.26616033911705017\n",
      "epoch: 758, loss: 0.2660905718803406\n",
      "epoch: 759, loss: 0.26602086424827576\n",
      "epoch: 760, loss: 0.26595133543014526\n",
      "epoch: 761, loss: 0.2658819258213043\n",
      "epoch: 762, loss: 0.2658126950263977\n",
      "epoch: 763, loss: 0.26574352383613586\n",
      "epoch: 764, loss: 0.26567450165748596\n",
      "epoch: 765, loss: 0.265605628490448\n",
      "epoch: 766, loss: 0.265536904335022\n",
      "epoch: 767, loss: 0.2654682695865631\n",
      "epoch: 768, loss: 0.2653997540473938\n",
      "epoch: 769, loss: 0.2653314471244812\n",
      "epoch: 770, loss: 0.265263170003891\n",
      "epoch: 771, loss: 0.2651950418949127\n",
      "epoch: 772, loss: 0.2651270925998688\n",
      "epoch: 773, loss: 0.265059232711792\n",
      "epoch: 774, loss: 0.2649915814399719\n",
      "epoch: 775, loss: 0.26492398977279663\n",
      "epoch: 776, loss: 0.2648565173149109\n",
      "epoch: 777, loss: 0.2647891938686371\n",
      "epoch: 778, loss: 0.26472195982933044\n",
      "epoch: 779, loss: 0.26465490460395813\n",
      "epoch: 780, loss: 0.2645879089832306\n",
      "epoch: 781, loss: 0.2645210921764374\n",
      "epoch: 782, loss: 0.2644543945789337\n",
      "epoch: 783, loss: 0.2643878161907196\n",
      "epoch: 784, loss: 0.26432135701179504\n",
      "epoch: 785, loss: 0.2642550468444824\n",
      "epoch: 786, loss: 0.26418885588645935\n",
      "epoch: 787, loss: 0.26412272453308105\n",
      "epoch: 788, loss: 0.2640567719936371\n",
      "epoch: 789, loss: 0.2639909088611603\n",
      "epoch: 790, loss: 0.2639252245426178\n",
      "epoch: 791, loss: 0.2638596296310425\n",
      "epoch: 792, loss: 0.2637941539287567\n",
      "epoch: 793, loss: 0.2637287974357605\n",
      "epoch: 794, loss: 0.26366353034973145\n",
      "epoch: 795, loss: 0.2635984420776367\n",
      "epoch: 796, loss: 0.26353347301483154\n",
      "epoch: 797, loss: 0.26346856355667114\n",
      "epoch: 798, loss: 0.2634038031101227\n",
      "epoch: 799, loss: 0.26333919167518616\n",
      "epoch: 800, loss: 0.2632746696472168\n",
      "epoch: 801, loss: 0.263210266828537\n",
      "epoch: 802, loss: 0.26314598321914673\n",
      "epoch: 803, loss: 0.263081818819046\n",
      "epoch: 804, loss: 0.26301777362823486\n",
      "epoch: 805, loss: 0.26295387744903564\n",
      "epoch: 806, loss: 0.2628900706768036\n",
      "epoch: 807, loss: 0.26282641291618347\n",
      "epoch: 808, loss: 0.26276278495788574\n",
      "epoch: 809, loss: 0.2626993656158447\n",
      "epoch: 810, loss: 0.2626360058784485\n",
      "epoch: 811, loss: 0.2625727355480194\n",
      "epoch: 812, loss: 0.26250964403152466\n",
      "epoch: 813, loss: 0.26244664192199707\n",
      "epoch: 814, loss: 0.26238375902175903\n",
      "epoch: 815, loss: 0.26232096552848816\n",
      "epoch: 816, loss: 0.2622583210468292\n",
      "epoch: 817, loss: 0.26219576597213745\n",
      "epoch: 818, loss: 0.26213333010673523\n",
      "epoch: 819, loss: 0.26207101345062256\n",
      "epoch: 820, loss: 0.26200878620147705\n",
      "epoch: 821, loss: 0.2619466781616211\n",
      "epoch: 822, loss: 0.2618847191333771\n",
      "epoch: 823, loss: 0.26182281970977783\n",
      "epoch: 824, loss: 0.2617610692977905\n",
      "epoch: 825, loss: 0.2616994082927704\n",
      "epoch: 826, loss: 0.2616378664970398\n",
      "epoch: 827, loss: 0.26157647371292114\n",
      "epoch: 828, loss: 0.2615151107311249\n",
      "epoch: 829, loss: 0.26145392656326294\n",
      "epoch: 830, loss: 0.2613928020000458\n",
      "epoch: 831, loss: 0.26133185625076294\n",
      "epoch: 832, loss: 0.2612709701061249\n",
      "epoch: 833, loss: 0.2612101435661316\n",
      "epoch: 834, loss: 0.26114949584007263\n",
      "epoch: 835, loss: 0.2610889673233032\n",
      "epoch: 836, loss: 0.261028528213501\n",
      "epoch: 837, loss: 0.2609681487083435\n",
      "epoch: 838, loss: 0.260907918214798\n",
      "epoch: 839, loss: 0.2608478367328644\n"
     ]
    },
    {
     "name": "stdout",
     "output_type": "stream",
     "text": [
      "epoch: 840, loss: 0.2607877850532532\n",
      "epoch: 841, loss: 0.26072782278060913\n",
      "epoch: 842, loss: 0.2606680393218994\n",
      "epoch: 843, loss: 0.26060834527015686\n",
      "epoch: 844, loss: 0.26054874062538147\n",
      "epoch: 845, loss: 0.260489284992218\n",
      "epoch: 846, loss: 0.26042988896369934\n",
      "epoch: 847, loss: 0.2603705823421478\n",
      "epoch: 848, loss: 0.26031139492988586\n",
      "epoch: 849, loss: 0.26025235652923584\n",
      "epoch: 850, loss: 0.2601933479309082\n",
      "epoch: 851, loss: 0.2601344585418701\n",
      "epoch: 852, loss: 0.26007574796676636\n",
      "epoch: 853, loss: 0.2600170373916626\n",
      "epoch: 854, loss: 0.25995850563049316\n",
      "epoch: 855, loss: 0.2599000036716461\n",
      "epoch: 856, loss: 0.2598417103290558\n",
      "epoch: 857, loss: 0.25978338718414307\n",
      "epoch: 858, loss: 0.25972527265548706\n",
      "epoch: 859, loss: 0.2596672475337982\n",
      "epoch: 860, loss: 0.25960925221443176\n",
      "epoch: 861, loss: 0.25955140590667725\n",
      "epoch: 862, loss: 0.2594936788082123\n",
      "epoch: 863, loss: 0.2594360411167145\n",
      "epoch: 864, loss: 0.25937846302986145\n",
      "epoch: 865, loss: 0.25932103395462036\n",
      "epoch: 866, loss: 0.25926366448402405\n",
      "epoch: 867, loss: 0.2592063844203949\n",
      "epoch: 868, loss: 0.2591492533683777\n",
      "epoch: 869, loss: 0.25909218192100525\n",
      "epoch: 870, loss: 0.25903528928756714\n",
      "epoch: 871, loss: 0.2589784264564514\n",
      "epoch: 872, loss: 0.25892165303230286\n",
      "epoch: 873, loss: 0.25886499881744385\n",
      "epoch: 874, loss: 0.2588084638118744\n",
      "epoch: 875, loss: 0.2587519884109497\n",
      "epoch: 876, loss: 0.2586955726146698\n",
      "epoch: 877, loss: 0.25863930583000183\n",
      "epoch: 878, loss: 0.25858309864997864\n",
      "epoch: 879, loss: 0.2585270404815674\n",
      "epoch: 880, loss: 0.2584710419178009\n",
      "epoch: 881, loss: 0.25841519236564636\n",
      "epoch: 882, loss: 0.2583593726158142\n",
      "epoch: 883, loss: 0.2583036720752716\n",
      "epoch: 884, loss: 0.25824809074401855\n",
      "epoch: 885, loss: 0.2581925690174103\n",
      "epoch: 886, loss: 0.25813719630241394\n",
      "epoch: 887, loss: 0.2580818831920624\n",
      "epoch: 888, loss: 0.2580266296863556\n",
      "epoch: 889, loss: 0.25797146558761597\n",
      "epoch: 890, loss: 0.2579164505004883\n",
      "epoch: 891, loss: 0.25786152482032776\n",
      "epoch: 892, loss: 0.257806658744812\n",
      "epoch: 893, loss: 0.2577519118785858\n",
      "epoch: 894, loss: 0.2576972246170044\n",
      "epoch: 895, loss: 0.2576426565647125\n",
      "epoch: 896, loss: 0.2575881779193878\n",
      "epoch: 897, loss: 0.2575337886810303\n",
      "epoch: 898, loss: 0.2574794590473175\n",
      "epoch: 899, loss: 0.2574252784252167\n",
      "epoch: 900, loss: 0.2573711574077606\n",
      "epoch: 901, loss: 0.25731709599494934\n",
      "epoch: 902, loss: 0.2572632133960724\n",
      "epoch: 903, loss: 0.25720933079719543\n",
      "epoch: 904, loss: 0.2571555972099304\n",
      "epoch: 905, loss: 0.2571019232273102\n",
      "epoch: 906, loss: 0.2570483386516571\n",
      "epoch: 907, loss: 0.2569948434829712\n",
      "epoch: 908, loss: 0.25694143772125244\n",
      "epoch: 909, loss: 0.25688815116882324\n",
      "epoch: 910, loss: 0.25683489441871643\n",
      "epoch: 911, loss: 0.25678175687789917\n",
      "epoch: 912, loss: 0.25672876834869385\n",
      "epoch: 913, loss: 0.25667575001716614\n",
      "epoch: 914, loss: 0.25662291049957275\n",
      "epoch: 915, loss: 0.25657016038894653\n",
      "epoch: 916, loss: 0.2565174400806427\n",
      "epoch: 917, loss: 0.2564648389816284\n",
      "epoch: 918, loss: 0.2564123272895813\n",
      "epoch: 919, loss: 0.25635990500450134\n",
      "epoch: 920, loss: 0.2563075125217438\n",
      "epoch: 921, loss: 0.25625526905059814\n",
      "epoch: 922, loss: 0.2562031149864197\n",
      "epoch: 923, loss: 0.256151020526886\n",
      "epoch: 924, loss: 0.25609901547431946\n",
      "epoch: 925, loss: 0.2560470998287201\n",
      "epoch: 926, loss: 0.2559952735900879\n",
      "epoch: 927, loss: 0.25594353675842285\n",
      "epoch: 928, loss: 0.255891889333725\n",
      "epoch: 929, loss: 0.2558403015136719\n",
      "epoch: 930, loss: 0.2557888329029083\n",
      "epoch: 931, loss: 0.25573742389678955\n",
      "epoch: 932, loss: 0.25568610429763794\n",
      "epoch: 933, loss: 0.2556348443031311\n",
      "epoch: 934, loss: 0.2555837035179138\n",
      "epoch: 935, loss: 0.2555326223373413\n",
      "epoch: 936, loss: 0.25548163056373596\n",
      "epoch: 937, loss: 0.2554307281970978\n",
      "epoch: 938, loss: 0.25537991523742676\n",
      "epoch: 939, loss: 0.2553291618824005\n",
      "epoch: 940, loss: 0.2552785277366638\n",
      "epoch: 941, loss: 0.2552280128002167\n",
      "epoch: 942, loss: 0.25517743825912476\n",
      "epoch: 943, loss: 0.25512704253196716\n",
      "epoch: 944, loss: 0.2550767660140991\n",
      "epoch: 945, loss: 0.2550264596939087\n",
      "epoch: 946, loss: 0.2549763023853302\n",
      "epoch: 947, loss: 0.2549262046813965\n",
      "epoch: 948, loss: 0.2548762559890747\n",
      "epoch: 949, loss: 0.25482630729675293\n",
      "epoch: 950, loss: 0.2547764480113983\n",
      "epoch: 951, loss: 0.25472667813301086\n",
      "epoch: 952, loss: 0.2546769976615906\n",
      "epoch: 953, loss: 0.25462743639945984\n",
      "epoch: 954, loss: 0.2545778751373291\n",
      "epoch: 955, loss: 0.2545284330844879\n",
      "epoch: 956, loss: 0.2544790506362915\n",
      "epoch: 957, loss: 0.25442978739738464\n",
      "epoch: 958, loss: 0.25438055396080017\n",
      "epoch: 959, loss: 0.25433143973350525\n",
      "epoch: 960, loss: 0.2542823851108551\n",
      "epoch: 961, loss: 0.2542334496974945\n",
      "epoch: 962, loss: 0.2541845142841339\n",
      "epoch: 963, loss: 0.25413575768470764\n",
      "epoch: 964, loss: 0.254086971282959\n",
      "epoch: 965, loss: 0.25403836369514465\n",
      "epoch: 966, loss: 0.25398972630500793\n",
      "epoch: 967, loss: 0.25394123792648315\n",
      "epoch: 968, loss: 0.25389283895492554\n",
      "epoch: 969, loss: 0.2538444697856903\n",
      "epoch: 970, loss: 0.25379621982574463\n",
      "epoch: 971, loss: 0.25374799966812134\n",
      "epoch: 972, loss: 0.2536998689174652\n",
      "epoch: 973, loss: 0.25365185737609863\n",
      "epoch: 974, loss: 0.25360381603240967\n",
      "epoch: 975, loss: 0.25355595350265503\n",
      "epoch: 976, loss: 0.25350815057754517\n",
      "epoch: 977, loss: 0.2534603774547577\n",
      "epoch: 978, loss: 0.25341275334358215\n",
      "epoch: 979, loss: 0.253365159034729\n",
      "epoch: 980, loss: 0.25331759452819824\n",
      "epoch: 981, loss: 0.25327011942863464\n",
      "epoch: 982, loss: 0.25322282314300537\n",
      "epoch: 983, loss: 0.2531754970550537\n",
      "epoch: 984, loss: 0.2531282901763916\n",
      "epoch: 985, loss: 0.25308114290237427\n",
      "epoch: 986, loss: 0.2530340850353241\n",
      "epoch: 987, loss: 0.2529870867729187\n",
      "epoch: 988, loss: 0.2529401481151581\n",
      "epoch: 989, loss: 0.2528932988643646\n",
      "epoch: 990, loss: 0.25284647941589355\n",
      "epoch: 991, loss: 0.25279971957206726\n",
      "epoch: 992, loss: 0.2527531683444977\n",
      "epoch: 993, loss: 0.2527065575122833\n",
      "epoch: 994, loss: 0.2526601254940033\n",
      "epoch: 995, loss: 0.2526136636734009\n",
      "epoch: 996, loss: 0.252567321062088\n",
      "epoch: 997, loss: 0.2525210678577423\n",
      "epoch: 998, loss: 0.2524748742580414\n",
      "epoch: 999, loss: 0.2524287700653076\n"
     ]
    }
   ],
   "source": [
    "for i in range(1000):\n",
    "    y_predict =torch.mm(x_data,w) + b\n",
    "    criterion = nn.BCEWithLogitsLoss()\n",
    "    loss = criterion(y_predict, y_data)\n",
    "    optimizer.zero_grad()\n",
    "    loss.backward()\n",
    "    optimizer.step()\n",
    "    print('epoch: {}, loss: {}'.format(i,   loss.data))"
   ]
  },
  {
   "cell_type": "code",
   "execution_count": 34,
   "metadata": {
    "ExecuteTime": {
     "end_time": "2019-06-05T20:36:26.450022Z",
     "start_time": "2019-06-05T20:36:26.274059Z"
    }
   },
   "outputs": [
    {
     "data": {
      "text/plain": [
       "<matplotlib.legend.Legend at 0x7f87be16c898>"
      ]
     },
     "execution_count": 34,
     "metadata": {},
     "output_type": "execute_result"
    },
    {
     "data": {
      "image/png": "[encoded data removed]",
      "text/plain": [
       "<matplotlib.figure.Figure at 0x7f87be1a36a0>"
      ]
     },
     "metadata": {
      "needs_background": "light"
     },
     "output_type": "display_data"
    }
   ],
   "source": [
    "# 画出参数更新之前的结果\n",
    "w0 = w[0].data[0]\n",
    "w1 = w[1].data[0]\n",
    "b0 = b.data[0]\n",
    "\n",
    "plot_y = (-w0 * Variable(torch.from_numpy(plot_x)) - b0) / w1\n",
    "\n",
    "plt.plot(plot_x, plot_y.numpy(), 'g', label='cutting line')\n",
    "plt.plot(plot_x0, plot_y0, 'ro', label='x_0')\n",
    "plt.plot(plot_x1, plot_y1, 'bo', label='x_1')\n",
    "plt.legend(loc='best')"
   ]
  },
  {
   "cell_type": "code",
   "execution_count": null,
   "metadata": {},
   "outputs": [],
   "source": []
  }
 ],
 "metadata": {
  "hide_input": false,
  "kernelspec": {
   "display_name": "Python 3",
   "language": "python",
   "name": "python3"
  },
  "language_info": {
   "codemirror_mode": {
    "name": "ipython",
    "version": 3
   },
   "file_extension": ".py",
   "mimetype": "text/x-python",
   "name": "python",
   "nbconvert_exporter": "python",
   "pygments_lexer": "ipython3",
   "version": "3.6.7"
  },
  "toc": {
   "base_numbering": 1,
   "nav_menu": {},
   "number_sections": true,
   "sideBar": true,
   "skip_h1_title": false,
   "title_cell": "Table of Contents",
   "title_sidebar": "Contents",
   "toc_cell": false,
   "toc_position": {},
   "toc_section_display": true,
   "toc_window_display": false
  },
  "varInspector": {
   "cols": {
    "lenName": 16,
    "lenType": 16,
    "lenVar": 40
   },
   "kernels_config": {
    "python": {
     "delete_cmd_postfix": "",
     "delete_cmd_prefix": "del ",
     "library": "var_list.py",
     "varRefreshCmd": "print(var_dic_list())"
    },
    "r": {
     "delete_cmd_postfix": ") ",
     "delete_cmd_prefix": "rm(",
     "library": "var_list.r",
     "varRefreshCmd": "cat(var_dic_list()) "
    }
   },
   "types_to_exclude": [
    "module",
    "function",
    "builtin_function_or_method",
    "instance",
    "_Feature"
   ],
   "window_display": false
  }
 },
 "nbformat": 4,
 "nbformat_minor": 2
}
