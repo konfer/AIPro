{
 "cells": [
  {
   "cell_type": "markdown",
   "metadata": {},
   "source": [
    "## AlexNet\n",
    "在2012年, 由 [Alex Krizhevsky](https://www.cs.toronto.edu/~kriz/), [Ilya Sutskever](http://www.cs.toronto.edu/~ilya/), [Geoffrey Hinton](http://www.cs.toronto.edu/~hinton/)提出了一种使用卷积神经网络的方法, 以 [0.85](http://image-net.org/challenges/LSVRC/2012/results.html#abstract) 的`top-5`正确率一举获得当年分类比赛的冠军, 超越使用传统方法的第二名10个百分点, 震惊了当时的学术界, 从此开启了人工智能领域的新篇章.\n",
    "\n",
    "这次的课程我们就来复现一次`AlexNet`, 首先来看它的网络结构\n",
    "\n",
    "<img src=\"https://ws4.sinaimg.cn/large/006tKfTcgy1fodv2ppd85j307l0n13yk.jpg\">\n",
    "\n",
    "可以看出`AlexNet`就是几个卷积池化堆叠后连接几个全连接层, 下面就让我们来尝试仿照这个结构来解决[cifar10](https://www.cs.toronto.edu/~kriz/cifar.html)分类问题."
   ]
  },
  {
   "cell_type": "code",
   "execution_count": 1,
   "metadata": {
    "ExecuteTime": {
     "end_time": "2018-02-12T11:34:50.845438Z",
     "start_time": "2018-02-12T11:34:50.427113Z"
    },
    "collapsed": true
   },
   "outputs": [],
   "source": [
    "import torch\n",
    "from torch import nn\n",
    "import numpy as np\n",
    "from torch.autograd import Variable\n",
    "from torchvision.datasets import CIFAR10"
   ]
  },
  {
   "cell_type": "markdown",
   "metadata": {},
   "source": [
    "依照上面的结构，我们可以定义 AlexNet"
   ]
  },
  {
   "cell_type": "code",
   "execution_count": 2,
   "metadata": {
    "ExecuteTime": {
     "end_time": "2018-02-12T11:34:50.933245Z",
     "start_time": "2018-02-12T11:34:50.847597Z"
    },
    "collapsed": true
   },
   "outputs": [],
   "source": [
    "class AlexNet(nn.Module):\n",
    "    def __init__(self):\n",
    "        super().__init__()\n",
    "        \n",
    "        # 第一层是 5x5 的卷积, 输入的 channels 是 3，输出的 channels 是 64, 步长是 1, 没有 padding\n",
    "        self.conv1 = nn.Sequential(\n",
    "            nn.Conv2d(3, 64, 5), \n",
    "            nn.ReLU(True))\n",
    "        \n",
    "        # 第二层是 3x3 的池化, 步长是 2, 没有 padding\n",
    "        self.max_pool1 = nn.MaxPool2d(3, 2)\n",
    "        \n",
    "        # 第三层是 5x5 的卷积, 输入的 channels 是 64，输出的 channels 是 64, 步长是 1, 没有 padding\n",
    "        self.conv2 = nn.Sequential(\n",
    "            nn.Conv2d(64, 64, 5, 1),\n",
    "            nn.ReLU(True))\n",
    "\n",
    "        # 第四层是 3x3 的池化，步长是 2，没有 padding\n",
    "        self.max_pool2 = nn.MaxPool2d(3, 2)\n",
    "        \n",
    "        # 第五层是全连接层，输入是 1204，输出是 384\n",
    "        self.fc1 = nn.Sequential(\n",
    "            nn.Linear(1024, 384),\n",
    "            nn.ReLU(True))\n",
    "        \n",
    "        # 第六层是全连接层，输入是 384，输出是 192\n",
    "        self.fc2 = nn.Sequential(\n",
    "            nn.Linear(384, 192),\n",
    "            nn.ReLU(True))\n",
    "        \n",
    "        # 第七层是全连接层，输入是 192，输出是 10\n",
    "        self.fc3 = nn.Linear(192, 10)\n",
    "        \n",
    "    def forward(self, x):\n",
    "        x = self.conv1(x)\n",
    "        x = self.max_pool1(x)\n",
    "        x = self.conv2(x)\n",
    "        x = self.max_pool2(x)\n",
    "        \n",
    "        # 将矩阵拉平\n",
    "        x = x.view(x.shape[0], -1)\n",
    "        x = self.fc1(x)\n",
    "        x = self.fc2(x)\n",
    "        x = self.fc3(x)\n",
    "        return x"
   ]
  },
  {
   "cell_type": "code",
   "execution_count": 3,
   "metadata": {
    "ExecuteTime": {
     "end_time": "2018-02-12T11:34:50.947728Z",
     "start_time": "2018-02-12T11:34:50.935359Z"
    },
    "collapsed": true
   },
   "outputs": [],
   "source": [
    "alexnet = AlexNet()"
   ]
  },
  {
   "cell_type": "markdown",
   "metadata": {},
   "source": [
    "打印一下网络的结构"
   ]
  },
  {
   "cell_type": "code",
   "execution_count": 4,
   "metadata": {
    "ExecuteTime": {
     "end_time": "2018-02-12T11:34:50.963589Z",
     "start_time": "2018-02-12T11:34:50.949702Z"
    }
   },
   "outputs": [
    {
     "data": {
      "text/plain": [
       "AlexNet(\n",
       "  (conv1): Sequential(\n",
       "    (0): Conv2d (3, 64, kernel_size=(5, 5), stride=(1, 1))\n",
       "    (1): ReLU(inplace)\n",
       "  )\n",
       "  (max_pool1): MaxPool2d(kernel_size=(3, 3), stride=(2, 2), dilation=(1, 1))\n",
       "  (conv2): Sequential(\n",
       "    (0): Conv2d (64, 64, kernel_size=(5, 5), stride=(1, 1))\n",
       "    (1): ReLU(inplace)\n",
       "  )\n",
       "  (max_pool2): MaxPool2d(kernel_size=(3, 3), stride=(2, 2), dilation=(1, 1))\n",
       "  (fc1): Sequential(\n",
       "    (0): Linear(in_features=1024, out_features=384)\n",
       "    (1): ReLU(inplace)\n",
       "  )\n",
       "  (fc2): Sequential(\n",
       "    (0): Linear(in_features=384, out_features=192)\n",
       "    (1): ReLU(inplace)\n",
       "  )\n",
       "  (fc3): Linear(in_features=192, out_features=10)\n",
       ")"
      ]
     },
     "execution_count": 4,
     "metadata": {},
     "output_type": "execute_result"
    }
   ],
   "source": [
    "alexnet"
   ]
  },
  {
   "cell_type": "markdown",
   "metadata": {},
   "source": [
    "我们验证一下网络结构是否正确，输入一张 32 x 32 的图片，看看输出"
   ]
  },
  {
   "cell_type": "code",
   "execution_count": 5,
   "metadata": {
    "ExecuteTime": {
     "end_time": "2018-02-12T11:34:50.974995Z",
     "start_time": "2018-02-12T11:34:50.965497Z"
    }
   },
   "outputs": [
    {
     "name": "stdout",
     "output_type": "stream",
     "text": [
      "torch.Size([1, 10])\n"
     ]
    }
   ],
   "source": [
    "# 定义输入为 (1, 3, 32, 32)\n",
    "input_demo = Variable(torch.zeros(1, 3, 32, 32))\n",
    "output_demo = alexnet(input_demo)\n",
    "print(output_demo.shape)"
   ]
  },
  {
   "cell_type": "code",
   "execution_count": 6,
   "metadata": {
    "ExecuteTime": {
     "end_time": "2018-02-12T11:34:56.908575Z",
     "start_time": "2018-02-12T11:34:50.976980Z"
    },
    "collapsed": true
   },
   "outputs": [],
   "source": [
    "from utils import train\n",
    "\n",
    "def data_tf(x):\n",
    "    x = np.array(x, dtype='float32') / 255\n",
    "    x = (x - 0.5) / 0.5 # 标准化，这个技巧之后会讲到\n",
    "    x = x.transpose((2, 0, 1)) # 将 channel 放到第一维，只是 pytorch 要求的输入方式\n",
    "    x = torch.from_numpy(x)\n",
    "    return x\n",
    "     \n",
    "train_set = CIFAR10('./data', train=True, transform=data_tf)\n",
    "train_data = torch.utils.data.DataLoader(train_set, batch_size=64, shuffle=True)\n",
    "test_set = CIFAR10('./data', train=False, transform=data_tf)\n",
    "test_data = torch.utils.data.DataLoader(test_set, batch_size=128, shuffle=False)\n",
    "\n",
    "net = AlexNet().cuda()\n",
    "optimizer = torch.optim.SGD(net.parameters(), lr=1e-1)\n",
    "criterion = nn.CrossEntropyLoss()"
   ]
  },
  {
   "cell_type": "code",
   "execution_count": 7,
   "metadata": {
    "ExecuteTime": {
     "end_time": "2018-02-12T11:38:50.331195Z",
     "start_time": "2018-02-12T11:34:56.910952Z"
    }
   },
   "outputs": [
    {
     "name": "stdout",
     "output_type": "stream",
     "text": [
      "Epoch 0. Train Loss: 1.705926, Train Acc: 0.374520, Valid Loss: 1.530230, Valid Acc: 0.450257, Time 00:00:12\n",
      "Epoch 1. Train Loss: 1.246754, Train Acc: 0.555766, Valid Loss: 1.431630, Valid Acc: 0.513350, Time 00:00:11\n",
      "Epoch 2. Train Loss: 1.010857, Train Acc: 0.644222, Valid Loss: 1.190140, Valid Acc: 0.584751, Time 00:00:10\n",
      "Epoch 3. Train Loss: 0.855797, Train Acc: 0.698789, Valid Loss: 0.994367, Valid Acc: 0.657041, Time 00:00:12\n",
      "Epoch 4. Train Loss: 0.747337, Train Acc: 0.739250, Valid Loss: 1.434243, Valid Acc: 0.570906, Time 00:00:11\n",
      "Epoch 5. Train Loss: 0.656047, Train Acc: 0.771639, Valid Loss: 0.981409, Valid Acc: 0.684434, Time 00:00:13\n",
      "Epoch 6. Train Loss: 0.567300, Train Acc: 0.801251, Valid Loss: 0.834201, Valid Acc: 0.722409, Time 00:00:13\n",
      "Epoch 7. Train Loss: 0.497418, Train Acc: 0.824309, Valid Loss: 0.978063, Valid Acc: 0.702927, Time 00:00:11\n",
      "Epoch 8. Train Loss: 0.429598, Train Acc: 0.850164, Valid Loss: 0.945215, Valid Acc: 0.706487, Time 00:00:11\n",
      "Epoch 9. Train Loss: 0.369809, Train Acc: 0.868666, Valid Loss: 1.063736, Valid Acc: 0.699565, Time 00:00:11\n",
      "Epoch 10. Train Loss: 0.319623, Train Acc: 0.886589, Valid Loss: 0.987968, Valid Acc: 0.714201, Time 00:00:11\n",
      "Epoch 11. Train Loss: 0.274986, Train Acc: 0.901934, Valid Loss: 1.396439, Valid Acc: 0.662975, Time 00:00:11\n",
      "Epoch 12. Train Loss: 0.238880, Train Acc: 0.915181, Valid Loss: 1.130270, Valid Acc: 0.717860, Time 00:00:10\n",
      "Epoch 13. Train Loss: 0.204735, Train Acc: 0.928688, Valid Loss: 1.373174, Valid Acc: 0.699367, Time 00:00:10\n",
      "Epoch 14. Train Loss: 0.176767, Train Acc: 0.937900, Valid Loss: 2.049194, Valid Acc: 0.650811, Time 00:00:10\n",
      "Epoch 15. Train Loss: 0.166942, Train Acc: 0.943374, Valid Loss: 1.377223, Valid Acc: 0.719838, Time 00:00:10\n",
      "Epoch 16. Train Loss: 0.146755, Train Acc: 0.948449, Valid Loss: 1.456631, Valid Acc: 0.722211, Time 00:00:11\n",
      "Epoch 17. Train Loss: 0.124807, Train Acc: 0.957241, Valid Loss: 1.543074, Valid Acc: 0.730024, Time 00:00:10\n",
      "Epoch 18. Train Loss: 0.126861, Train Acc: 0.956702, Valid Loss: 1.417461, Valid Acc: 0.732595, Time 00:00:12\n",
      "Epoch 19. Train Loss: 0.103216, Train Acc: 0.964954, Valid Loss: 2.383004, Valid Acc: 0.653283, Time 00:00:12\n"
     ]
    }
   ],
   "source": [
    "train(net, train_data, test_data, 20, optimizer, criterion)"
   ]
  },
  {
   "cell_type": "markdown",
   "metadata": {},
   "source": [
    "可以看到，训练 20 次，AlxeNet 能够在 cifar 10 上取得 70% 左右的测试集准确率"
   ]
  }
 ],
 "metadata": {
  "kernelspec": {
   "display_name": "Python 3",
   "language": "python",
   "name": "python3"
  },
  "language_info": {
   "codemirror_mode": {
    "name": "ipython",
    "version": 3
   },
   "file_extension": ".py",
   "mimetype": "text/x-python",
   "name": "python",
   "nbconvert_exporter": "python",
   "pygments_lexer": "ipython3",
   "version": "3.6.3"
  }
 },
 "nbformat": 4,
 "nbformat_minor": 2
}
