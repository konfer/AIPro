{
 "cells": [
  {
   "cell_type": "code",
   "execution_count": 1,
   "metadata": {
    "ExecuteTime": {
     "end_time": "2019-07-02T18:23:53.577990Z",
     "start_time": "2019-07-02T18:23:53.017751Z"
    }
   },
   "outputs": [],
   "source": [
    "import numpy as np\n",
    "import pandas as pd\n",
    "import matplotlib as mpl\n",
    "import matplotlib.pyplot as plt\n",
    "import seaborn as sns\n",
    "import missingno as msno\n",
    "%matplotlib inline"
   ]
  },
  {
   "cell_type": "markdown",
   "metadata": {},
   "source": [
    "# create the data"
   ]
  },
  {
   "cell_type": "code",
   "execution_count": 2,
   "metadata": {
    "ExecuteTime": {
     "end_time": "2019-07-02T18:23:53.585663Z",
     "start_time": "2019-07-02T18:23:53.580292Z"
    }
   },
   "outputs": [],
   "source": [
    "x = np.linspace(-1, 1, 300)"
   ]
  },
  {
   "cell_type": "code",
   "execution_count": 3,
   "metadata": {
    "ExecuteTime": {
     "end_time": "2019-07-02T18:23:53.593382Z",
     "start_time": "2019-07-02T18:23:53.587382Z"
    }
   },
   "outputs": [],
   "source": [
    "y = ((x*x - 1) ** 3 + 1) * (np.cos(x*2) + 0.6*np.sin( x * 1.3))"
   ]
  },
  {
   "cell_type": "code",
   "execution_count": 4,
   "metadata": {
    "ExecuteTime": {
     "end_time": "2019-07-02T18:23:53.598918Z",
     "start_time": "2019-07-02T18:23:53.596256Z"
    }
   },
   "outputs": [],
   "source": [
    "y1 = y + (np.random.rand(len(x)) - 0.5)"
   ]
  },
  {
   "cell_type": "code",
   "execution_count": 5,
   "metadata": {
    "ExecuteTime": {
     "end_time": "2019-07-02T18:23:53.608903Z",
     "start_time": "2019-07-02T18:23:53.601302Z"
    }
   },
   "outputs": [
    {
     "data": {
      "text/plain": [
       "array([-1.04900709e+00, -8.14618108e-01, -1.43873082e+00, -1.36361703e+00,\n",
       "       -5.67493051e-01, -1.38777898e+00, -1.35932212e+00, -1.17661627e+00,\n",
       "       -1.09708766e+00, -1.33412225e+00, -8.16766263e-01, -1.07723172e+00,\n",
       "       -1.31465943e+00, -1.10170088e+00, -7.21405411e-01, -8.06686228e-01,\n",
       "       -7.99303486e-01, -5.24927959e-01, -1.10614439e+00, -5.96519306e-01,\n",
       "       -1.13942758e+00, -1.01314348e+00, -2.97618030e-01, -5.25851044e-01,\n",
       "       -1.03233843e+00, -9.23671597e-01, -7.93246948e-01, -6.49171233e-01,\n",
       "       -1.40841232e-01, -7.92614145e-01, -5.98490560e-01, -5.09818633e-01,\n",
       "       -8.17414047e-01, -4.97709668e-01, -6.85787318e-01, -4.38248646e-01,\n",
       "       -8.13689263e-01,  7.43926952e-02, -1.94872060e-01, -2.38356492e-02,\n",
       "       -7.37866536e-01, -2.06791417e-01, -5.70538843e-01, -4.72462931e-01,\n",
       "       -5.51670914e-01, -3.04905736e-01, -4.12592874e-01,  1.27523704e-01,\n",
       "       -5.33325678e-02, -6.82259012e-01,  1.53283385e-01, -3.07926994e-01,\n",
       "       -3.58872072e-01, -1.58685763e-01,  1.91163901e-01,  1.13277491e-01,\n",
       "        1.69441258e-01, -6.60070643e-02, -3.66722724e-02, -2.14566959e-01,\n",
       "        3.39571556e-01,  2.42390367e-01,  4.05458666e-01,  1.84321702e-02,\n",
       "       -1.87253194e-01, -3.37623958e-01,  2.46878706e-01,  1.13557141e-01,\n",
       "       -1.75990085e-01,  1.51072919e-01, -1.62173459e-01, -1.21835377e-01,\n",
       "        1.30706479e-02,  2.23908905e-01, -1.11693816e-01,  3.81279612e-01,\n",
       "        4.01744579e-01, -3.80195418e-01, -1.04292717e-01,  4.41403657e-01,\n",
       "        1.84014180e-01, -1.99192972e-01,  1.72776538e-01,  3.77551551e-01,\n",
       "        4.00281433e-01,  3.81377318e-01,  2.50592908e-01,  5.03773672e-01,\n",
       "        3.07295002e-01, -1.30573648e-01,  6.47668201e-01,  2.94758116e-01,\n",
       "       -2.19863776e-01, -2.92460461e-01,  3.35645923e-01, -1.06726176e-01,\n",
       "        2.91299927e-01,  2.41369502e-01,  6.25106019e-01,  1.74755653e-01,\n",
       "        6.12194743e-01, -3.48290288e-02,  3.84782273e-01, -2.78797016e-01,\n",
       "       -2.24222163e-01, -2.24470649e-01,  3.23823467e-01,  8.85010309e-03,\n",
       "       -3.59788164e-01, -1.53741697e-01,  5.84521011e-01, -2.95117442e-02,\n",
       "       -2.79908154e-01, -1.81122377e-01, -3.49835583e-01,  2.66919835e-01,\n",
       "        7.68541526e-02, -1.94852668e-01,  3.07510274e-01,  2.22618177e-01,\n",
       "       -2.61790189e-01,  1.25181164e-01,  3.26869746e-01,  5.67117045e-01,\n",
       "        3.67049853e-01, -3.12509120e-01,  4.12827055e-01,  2.19363133e-02,\n",
       "       -1.50052742e-01,  3.20190122e-01, -2.14481328e-01,  5.27922814e-01,\n",
       "       -3.00190990e-01, -2.24810871e-02,  1.07605831e-01, -3.54064089e-02,\n",
       "       -1.40642875e-02,  3.50135570e-01,  1.17027167e-01, -4.17793587e-01,\n",
       "        9.14991210e-02,  3.78238932e-01,  2.65591483e-02,  1.86422605e-02,\n",
       "        7.34764983e-02,  3.78128821e-03,  8.23014312e-02, -3.59091895e-01,\n",
       "        3.84704430e-01,  3.75042274e-01,  2.23149818e-01, -1.01243396e-01,\n",
       "        1.98923557e-01, -4.19159978e-02,  1.84619740e-03,  4.44317489e-01,\n",
       "        1.35125417e-01, -2.89532456e-01,  4.52985006e-01, -3.62565673e-01,\n",
       "        2.70305347e-01, -7.63499579e-02, -1.89561762e-01,  4.19323245e-01,\n",
       "       -2.93891402e-01,  7.23568289e-05, -1.25614452e-01,  1.71371127e-01,\n",
       "       -2.03845550e-01,  2.02910773e-01,  5.26452687e-01,  3.46789804e-01,\n",
       "        2.20172916e-01,  2.55348574e-01, -2.73943366e-01, -4.07128803e-01,\n",
       "       -4.14770360e-02, -2.54130487e-01, -3.66446180e-01,  8.44583541e-02,\n",
       "        2.15308445e-01,  3.45775948e-01,  5.81572865e-01, -3.45546857e-01,\n",
       "        5.39276408e-01,  3.96837638e-01,  3.65963069e-01,  2.06245175e-01,\n",
       "        5.55221752e-01, -1.09799278e-01,  2.99966323e-02, -1.04267983e-01,\n",
       "        3.00435106e-01,  5.39760406e-02, -7.30930603e-02,  1.60129607e-01,\n",
       "        7.33715816e-01,  1.63472004e-01,  6.54424917e-01,  3.47311471e-01,\n",
       "        3.43029845e-01,  7.58565502e-01,  6.04870349e-01, -5.43830582e-02,\n",
       "        2.78973070e-01,  1.43015050e-01,  7.45961582e-01,  3.50409725e-01,\n",
       "        5.06468914e-01,  3.45345069e-01,  8.53359160e-01,  4.27652516e-02,\n",
       "        8.34081915e-01,  9.13313273e-01,  2.12835679e-01,  6.05550857e-01,\n",
       "        1.41851500e-01,  9.68698664e-01,  6.51784663e-01,  6.00798122e-01,\n",
       "        6.40814130e-01,  4.78356633e-01,  3.61036462e-02,  7.46475063e-01,\n",
       "        2.59917632e-01,  5.31107714e-02,  9.65395544e-01,  2.78445984e-01,\n",
       "        4.30070561e-01,  1.04595785e+00,  5.26470323e-01,  1.00259416e+00,\n",
       "        3.29403134e-01,  1.03005859e+00,  1.75955570e-01,  1.46826611e-01,\n",
       "        3.59768735e-01,  9.82040805e-01,  2.93158823e-01,  4.12553280e-01,\n",
       "        2.31179278e-01,  1.00988803e-01,  9.70612806e-02,  1.02741101e+00,\n",
       "        7.91197101e-01,  5.80033940e-01,  1.02033327e+00,  3.02068734e-01,\n",
       "        4.46116494e-01,  3.62355225e-01,  4.08162536e-01,  6.35590707e-01,\n",
       "        2.80095290e-01,  5.52253034e-01,  4.83270197e-01,  3.93329603e-01,\n",
       "        7.56707681e-02,  3.55995401e-01,  6.01794845e-01,  6.21644132e-01,\n",
       "        7.16657457e-01,  9.76139936e-01,  7.32402673e-01,  5.33236768e-01,\n",
       "        5.66455521e-01,  6.51265291e-01,  7.91403932e-01,  9.73803589e-01,\n",
       "        3.52126784e-01,  8.79976348e-01,  1.06676927e-01,  2.78549970e-01,\n",
       "        8.05734667e-02,  5.97257352e-01,  2.34525982e-01,  6.73060803e-02,\n",
       "        5.27008419e-01, -1.96207146e-02, -3.60033107e-02,  5.27971191e-02,\n",
       "        7.18564955e-01,  8.66507095e-02,  6.76635660e-01,  4.85638136e-01,\n",
       "        1.61274448e-01, -1.07904423e-01,  4.10375158e-01, -4.58023286e-02,\n",
       "        7.34752153e-01,  6.49273832e-01, -2.39519639e-03,  6.59074266e-01,\n",
       "        5.39391355e-01,  7.25558152e-01, -2.06366452e-01,  5.78600959e-01,\n",
       "       -1.27200837e-01,  3.61376778e-01,  3.42546198e-01, -1.91217146e-01])"
      ]
     },
     "execution_count": 5,
     "metadata": {},
     "output_type": "execute_result"
    }
   ],
   "source": [
    "y1"
   ]
  },
  {
   "cell_type": "code",
   "execution_count": 6,
   "metadata": {
    "ExecuteTime": {
     "end_time": "2019-07-02T18:23:53.728004Z",
     "start_time": "2019-07-02T18:23:53.610689Z"
    },
    "scrolled": true
   },
   "outputs": [
    {
     "data": {
      "image/png": "[encoded data removed]",
      "text/plain": [
       "<matplotlib.figure.Figure at 0x7f275c33f320>"
      ]
     },
     "metadata": {
      "needs_background": "light"
     },
     "output_type": "display_data"
    }
   ],
   "source": [
    "plt.scatter(x, y1)\n",
    "plt.show()"
   ]
  },
  {
   "cell_type": "markdown",
   "metadata": {},
   "source": [
    "# create the matrix"
   ]
  },
  {
   "cell_type": "code",
   "execution_count": 7,
   "metadata": {
    "ExecuteTime": {
     "end_time": "2019-07-02T18:23:53.733331Z",
     "start_time": "2019-07-02T18:23:53.731009Z"
    }
   },
   "outputs": [],
   "source": [
    "m = []"
   ]
  },
  {
   "cell_type": "code",
   "execution_count": 8,
   "metadata": {
    "ExecuteTime": {
     "end_time": "2019-07-02T18:23:53.737913Z",
     "start_time": "2019-07-02T18:23:53.734990Z"
    }
   },
   "outputs": [],
   "source": [
    "for i in range(4):\n",
    "    m.append(x ** i)"
   ]
  },
  {
   "cell_type": "code",
   "execution_count": 9,
   "metadata": {
    "ExecuteTime": {
     "end_time": "2019-07-02T18:23:53.814667Z",
     "start_time": "2019-07-02T18:23:53.739263Z"
    }
   },
   "outputs": [
    {
     "data": {
      "text/plain": [
       "[array([1., 1., 1., 1., 1., 1., 1., 1., 1., 1., 1., 1., 1., 1., 1., 1., 1.,\n",
       "        1., 1., 1., 1., 1., 1., 1., 1., 1., 1., 1., 1., 1., 1., 1., 1., 1.,\n",
       "        1., 1., 1., 1., 1., 1., 1., 1., 1., 1., 1., 1., 1., 1., 1., 1., 1.,\n",
       "        1., 1., 1., 1., 1., 1., 1., 1., 1., 1., 1., 1., 1., 1., 1., 1., 1.,\n",
       "        1., 1., 1., 1., 1., 1., 1., 1., 1., 1., 1., 1., 1., 1., 1., 1., 1.,\n",
       "        1., 1., 1., 1., 1., 1., 1., 1., 1., 1., 1., 1., 1., 1., 1., 1., 1.,\n",
       "        1., 1., 1., 1., 1., 1., 1., 1., 1., 1., 1., 1., 1., 1., 1., 1., 1.,\n",
       "        1., 1., 1., 1., 1., 1., 1., 1., 1., 1., 1., 1., 1., 1., 1., 1., 1.,\n",
       "        1., 1., 1., 1., 1., 1., 1., 1., 1., 1., 1., 1., 1., 1., 1., 1., 1.,\n",
       "        1., 1., 1., 1., 1., 1., 1., 1., 1., 1., 1., 1., 1., 1., 1., 1., 1.,\n",
       "        1., 1., 1., 1., 1., 1., 1., 1., 1., 1., 1., 1., 1., 1., 1., 1., 1.,\n",
       "        1., 1., 1., 1., 1., 1., 1., 1., 1., 1., 1., 1., 1., 1., 1., 1., 1.,\n",
       "        1., 1., 1., 1., 1., 1., 1., 1., 1., 1., 1., 1., 1., 1., 1., 1., 1.,\n",
       "        1., 1., 1., 1., 1., 1., 1., 1., 1., 1., 1., 1., 1., 1., 1., 1., 1.,\n",
       "        1., 1., 1., 1., 1., 1., 1., 1., 1., 1., 1., 1., 1., 1., 1., 1., 1.,\n",
       "        1., 1., 1., 1., 1., 1., 1., 1., 1., 1., 1., 1., 1., 1., 1., 1., 1.,\n",
       "        1., 1., 1., 1., 1., 1., 1., 1., 1., 1., 1., 1., 1., 1., 1., 1., 1.,\n",
       "        1., 1., 1., 1., 1., 1., 1., 1., 1., 1., 1.]),\n",
       " array([-1.        , -0.99331104, -0.98662207, -0.97993311, -0.97324415,\n",
       "        -0.96655518, -0.95986622, -0.95317726, -0.94648829, -0.93979933,\n",
       "        -0.93311037, -0.9264214 , -0.91973244, -0.91304348, -0.90635452,\n",
       "        -0.89966555, -0.89297659, -0.88628763, -0.87959866, -0.8729097 ,\n",
       "        -0.86622074, -0.85953177, -0.85284281, -0.84615385, -0.83946488,\n",
       "        -0.83277592, -0.82608696, -0.81939799, -0.81270903, -0.80602007,\n",
       "        -0.7993311 , -0.79264214, -0.78595318, -0.77926421, -0.77257525,\n",
       "        -0.76588629, -0.75919732, -0.75250836, -0.7458194 , -0.73913043,\n",
       "        -0.73244147, -0.72575251, -0.71906355, -0.71237458, -0.70568562,\n",
       "        -0.69899666, -0.69230769, -0.68561873, -0.67892977, -0.6722408 ,\n",
       "        -0.66555184, -0.65886288, -0.65217391, -0.64548495, -0.63879599,\n",
       "        -0.63210702, -0.62541806, -0.6187291 , -0.61204013, -0.60535117,\n",
       "        -0.59866221, -0.59197324, -0.58528428, -0.57859532, -0.57190635,\n",
       "        -0.56521739, -0.55852843, -0.55183946, -0.5451505 , -0.53846154,\n",
       "        -0.53177258, -0.52508361, -0.51839465, -0.51170569, -0.50501672,\n",
       "        -0.49832776, -0.4916388 , -0.48494983, -0.47826087, -0.47157191,\n",
       "        -0.46488294, -0.45819398, -0.45150502, -0.44481605, -0.43812709,\n",
       "        -0.43143813, -0.42474916, -0.4180602 , -0.41137124, -0.40468227,\n",
       "        -0.39799331, -0.39130435, -0.38461538, -0.37792642, -0.37123746,\n",
       "        -0.36454849, -0.35785953, -0.35117057, -0.34448161, -0.33779264,\n",
       "        -0.33110368, -0.32441472, -0.31772575, -0.31103679, -0.30434783,\n",
       "        -0.29765886, -0.2909699 , -0.28428094, -0.27759197, -0.27090301,\n",
       "        -0.26421405, -0.25752508, -0.25083612, -0.24414716, -0.23745819,\n",
       "        -0.23076923, -0.22408027, -0.2173913 , -0.21070234, -0.20401338,\n",
       "        -0.19732441, -0.19063545, -0.18394649, -0.17725753, -0.17056856,\n",
       "        -0.1638796 , -0.15719064, -0.15050167, -0.14381271, -0.13712375,\n",
       "        -0.13043478, -0.12374582, -0.11705686, -0.11036789, -0.10367893,\n",
       "        -0.09698997, -0.090301  , -0.08361204, -0.07692308, -0.07023411,\n",
       "        -0.06354515, -0.05685619, -0.05016722, -0.04347826, -0.0367893 ,\n",
       "        -0.03010033, -0.02341137, -0.01672241, -0.01003344, -0.00334448,\n",
       "         0.00334448,  0.01003344,  0.01672241,  0.02341137,  0.03010033,\n",
       "         0.0367893 ,  0.04347826,  0.05016722,  0.05685619,  0.06354515,\n",
       "         0.07023411,  0.07692308,  0.08361204,  0.090301  ,  0.09698997,\n",
       "         0.10367893,  0.11036789,  0.11705686,  0.12374582,  0.13043478,\n",
       "         0.13712375,  0.14381271,  0.15050167,  0.15719064,  0.1638796 ,\n",
       "         0.17056856,  0.17725753,  0.18394649,  0.19063545,  0.19732441,\n",
       "         0.20401338,  0.21070234,  0.2173913 ,  0.22408027,  0.23076923,\n",
       "         0.23745819,  0.24414716,  0.25083612,  0.25752508,  0.26421405,\n",
       "         0.27090301,  0.27759197,  0.28428094,  0.2909699 ,  0.29765886,\n",
       "         0.30434783,  0.31103679,  0.31772575,  0.32441472,  0.33110368,\n",
       "         0.33779264,  0.34448161,  0.35117057,  0.35785953,  0.36454849,\n",
       "         0.37123746,  0.37792642,  0.38461538,  0.39130435,  0.39799331,\n",
       "         0.40468227,  0.41137124,  0.4180602 ,  0.42474916,  0.43143813,\n",
       "         0.43812709,  0.44481605,  0.45150502,  0.45819398,  0.46488294,\n",
       "         0.47157191,  0.47826087,  0.48494983,  0.4916388 ,  0.49832776,\n",
       "         0.50501672,  0.51170569,  0.51839465,  0.52508361,  0.53177258,\n",
       "         0.53846154,  0.5451505 ,  0.55183946,  0.55852843,  0.56521739,\n",
       "         0.57190635,  0.57859532,  0.58528428,  0.59197324,  0.59866221,\n",
       "         0.60535117,  0.61204013,  0.6187291 ,  0.62541806,  0.63210702,\n",
       "         0.63879599,  0.64548495,  0.65217391,  0.65886288,  0.66555184,\n",
       "         0.6722408 ,  0.67892977,  0.68561873,  0.69230769,  0.69899666,\n",
       "         0.70568562,  0.71237458,  0.71906355,  0.72575251,  0.73244147,\n",
       "         0.73913043,  0.7458194 ,  0.75250836,  0.75919732,  0.76588629,\n",
       "         0.77257525,  0.77926421,  0.78595318,  0.79264214,  0.7993311 ,\n",
       "         0.80602007,  0.81270903,  0.81939799,  0.82608696,  0.83277592,\n",
       "         0.83946488,  0.84615385,  0.85284281,  0.85953177,  0.86622074,\n",
       "         0.8729097 ,  0.87959866,  0.88628763,  0.89297659,  0.89966555,\n",
       "         0.90635452,  0.91304348,  0.91973244,  0.9264214 ,  0.93311037,\n",
       "         0.93979933,  0.94648829,  0.95317726,  0.95986622,  0.96655518,\n",
       "         0.97324415,  0.97993311,  0.98662207,  0.99331104,  1.        ]),\n",
       " array([1.00000000e+00, 9.86666816e-01, 9.73423116e-01, 9.60268901e-01,\n",
       "        9.47204170e-01, 9.34228924e-01, 9.21343162e-01, 9.08546884e-01,\n",
       "        8.95840091e-01, 8.83222783e-01, 8.70694959e-01, 8.58256619e-01,\n",
       "        8.45907764e-01, 8.33648393e-01, 8.21478507e-01, 8.09398105e-01,\n",
       "        7.97407188e-01, 7.85505755e-01, 7.73693807e-01, 7.61971343e-01,\n",
       "        7.50338363e-01, 7.38794868e-01, 7.27340857e-01, 7.15976331e-01,\n",
       "        7.04701290e-01, 6.93515732e-01, 6.82419660e-01, 6.71413071e-01,\n",
       "        6.60495968e-01, 6.49668348e-01, 6.38930213e-01, 6.28281563e-01,\n",
       "        6.17722397e-01, 6.07252715e-01, 5.96872518e-01, 5.86581806e-01,\n",
       "        5.76380577e-01, 5.66268834e-01, 5.56246574e-01, 5.46313800e-01,\n",
       "        5.36470509e-01, 5.26716703e-01, 5.17052382e-01, 5.07477545e-01,\n",
       "        4.97992192e-01, 4.88596324e-01, 4.79289941e-01, 4.70073042e-01,\n",
       "        4.60945627e-01, 4.51907697e-01, 4.42959251e-01, 4.34100290e-01,\n",
       "        4.25330813e-01, 4.16650820e-01, 4.08060313e-01, 3.99559289e-01,\n",
       "        3.91147750e-01, 3.82825695e-01, 3.74593125e-01, 3.66450040e-01,\n",
       "        3.58396439e-01, 3.50432322e-01, 3.42557690e-01, 3.34772542e-01,\n",
       "        3.27076878e-01, 3.19470699e-01, 3.11954005e-01, 3.04526795e-01,\n",
       "        2.97189069e-01, 2.89940828e-01, 2.82782072e-01, 2.75712800e-01,\n",
       "        2.68733012e-01, 2.61842709e-01, 2.55041890e-01, 2.48330556e-01,\n",
       "        2.41708706e-01, 2.35176340e-01, 2.28733459e-01, 2.22380063e-01,\n",
       "        2.16116151e-01, 2.09941723e-01, 2.03856780e-01, 1.97861321e-01,\n",
       "        1.91955347e-01, 1.86138858e-01, 1.80411852e-01, 1.74774331e-01,\n",
       "        1.69226295e-01, 1.63767743e-01, 1.58398676e-01, 1.53119093e-01,\n",
       "        1.47928994e-01, 1.42828380e-01, 1.37817250e-01, 1.32895605e-01,\n",
       "        1.28063444e-01, 1.23320768e-01, 1.18667576e-01, 1.14103869e-01,\n",
       "        1.09629646e-01, 1.05244908e-01, 1.00949654e-01, 9.67438843e-02,\n",
       "        9.26275992e-02, 8.86007986e-02, 8.46634825e-02, 8.08156508e-02,\n",
       "        7.70573036e-02, 7.33884408e-02, 6.98090625e-02, 6.63191687e-02,\n",
       "        6.29187593e-02, 5.96078344e-02, 5.63863939e-02, 5.32544379e-02,\n",
       "        5.02119663e-02, 4.72589792e-02, 4.43954766e-02, 4.16214584e-02,\n",
       "        3.89369246e-02, 3.63418754e-02, 3.38363106e-02, 3.14202302e-02,\n",
       "        2.90936343e-02, 2.68565229e-02, 2.47088959e-02, 2.26507533e-02,\n",
       "        2.06820953e-02, 1.88029217e-02, 1.70132325e-02, 1.53130278e-02,\n",
       "        1.37023076e-02, 1.21810718e-02, 1.07493205e-02, 9.40705361e-03,\n",
       "        8.15427121e-03, 6.99097326e-03, 5.91715976e-03, 4.93283073e-03,\n",
       "        4.03798615e-03, 3.23262603e-03, 2.51675037e-03, 1.89035917e-03,\n",
       "        1.35345242e-03, 9.06030134e-04, 5.48092303e-04, 2.79638930e-04,\n",
       "        1.00670015e-04, 1.11855572e-05, 1.11855572e-05, 1.00670015e-04,\n",
       "        2.79638930e-04, 5.48092303e-04, 9.06030134e-04, 1.35345242e-03,\n",
       "        1.89035917e-03, 2.51675037e-03, 3.23262603e-03, 4.03798615e-03,\n",
       "        4.93283073e-03, 5.91715976e-03, 6.99097326e-03, 8.15427121e-03,\n",
       "        9.40705361e-03, 1.07493205e-02, 1.21810718e-02, 1.37023076e-02,\n",
       "        1.53130278e-02, 1.70132325e-02, 1.88029217e-02, 2.06820953e-02,\n",
       "        2.26507533e-02, 2.47088959e-02, 2.68565229e-02, 2.90936343e-02,\n",
       "        3.14202302e-02, 3.38363106e-02, 3.63418754e-02, 3.89369246e-02,\n",
       "        4.16214584e-02, 4.43954766e-02, 4.72589792e-02, 5.02119663e-02,\n",
       "        5.32544379e-02, 5.63863939e-02, 5.96078344e-02, 6.29187593e-02,\n",
       "        6.63191687e-02, 6.98090625e-02, 7.33884408e-02, 7.70573036e-02,\n",
       "        8.08156508e-02, 8.46634825e-02, 8.86007986e-02, 9.26275992e-02,\n",
       "        9.67438843e-02, 1.00949654e-01, 1.05244908e-01, 1.09629646e-01,\n",
       "        1.14103869e-01, 1.18667576e-01, 1.23320768e-01, 1.28063444e-01,\n",
       "        1.32895605e-01, 1.37817250e-01, 1.42828380e-01, 1.47928994e-01,\n",
       "        1.53119093e-01, 1.58398676e-01, 1.63767743e-01, 1.69226295e-01,\n",
       "        1.74774331e-01, 1.80411852e-01, 1.86138858e-01, 1.91955347e-01,\n",
       "        1.97861321e-01, 2.03856780e-01, 2.09941723e-01, 2.16116151e-01,\n",
       "        2.22380063e-01, 2.28733459e-01, 2.35176340e-01, 2.41708706e-01,\n",
       "        2.48330556e-01, 2.55041890e-01, 2.61842709e-01, 2.68733012e-01,\n",
       "        2.75712800e-01, 2.82782072e-01, 2.89940828e-01, 2.97189069e-01,\n",
       "        3.04526795e-01, 3.11954005e-01, 3.19470699e-01, 3.27076878e-01,\n",
       "        3.34772542e-01, 3.42557690e-01, 3.50432322e-01, 3.58396439e-01,\n",
       "        3.66450040e-01, 3.74593125e-01, 3.82825695e-01, 3.91147750e-01,\n",
       "        3.99559289e-01, 4.08060313e-01, 4.16650820e-01, 4.25330813e-01,\n",
       "        4.34100290e-01, 4.42959251e-01, 4.51907697e-01, 4.60945627e-01,\n",
       "        4.70073042e-01, 4.79289941e-01, 4.88596324e-01, 4.97992192e-01,\n",
       "        5.07477545e-01, 5.17052382e-01, 5.26716703e-01, 5.36470509e-01,\n",
       "        5.46313800e-01, 5.56246574e-01, 5.66268834e-01, 5.76380577e-01,\n",
       "        5.86581806e-01, 5.96872518e-01, 6.07252715e-01, 6.17722397e-01,\n",
       "        6.28281563e-01, 6.38930213e-01, 6.49668348e-01, 6.60495968e-01,\n",
       "        6.71413071e-01, 6.82419660e-01, 6.93515732e-01, 7.04701290e-01,\n",
       "        7.15976331e-01, 7.27340857e-01, 7.38794868e-01, 7.50338363e-01,\n",
       "        7.61971343e-01, 7.73693807e-01, 7.85505755e-01, 7.97407188e-01,\n",
       "        8.09398105e-01, 8.21478507e-01, 8.33648393e-01, 8.45907764e-01,\n",
       "        8.58256619e-01, 8.70694959e-01, 8.83222783e-01, 8.95840091e-01,\n",
       "        9.08546884e-01, 9.21343162e-01, 9.34228924e-01, 9.47204170e-01,\n",
       "        9.60268901e-01, 9.73423116e-01, 9.86666816e-01, 1.00000000e+00]),\n",
       " array([-1.00000000e+00, -9.80067038e-01, -9.60400733e-01, -9.40999291e-01,\n",
       "        -9.21860915e-01, -9.02983809e-01, -8.84366179e-01, -8.66006227e-01,\n",
       "        -8.47902160e-01, -8.30052180e-01, -8.12454493e-01, -7.95107303e-01,\n",
       "        -7.78008813e-01, -7.61157229e-01, -7.44550754e-01, -7.28187593e-01,\n",
       "        -7.12065950e-01, -6.96184030e-01, -6.80540037e-01, -6.65132175e-01,\n",
       "        -6.49958649e-01, -6.35017663e-01, -6.20307420e-01, -6.05826127e-01,\n",
       "        -5.91571986e-01, -5.77543202e-01, -5.63737980e-01, -5.50154523e-01,\n",
       "        -5.36791037e-01, -5.23645725e-01, -5.10716793e-01, -4.98002443e-01,\n",
       "        -4.85500880e-01, -4.73210310e-01, -4.61128935e-01, -4.49254961e-01,\n",
       "        -4.37586592e-01, -4.26122032e-01, -4.14859485e-01, -4.03797156e-01,\n",
       "        -3.92933249e-01, -3.82265969e-01, -3.71793519e-01, -3.61514104e-01,\n",
       "        -3.51425928e-01, -3.41527197e-01, -3.31816113e-01, -3.22290881e-01,\n",
       "        -3.12949707e-01, -3.03790793e-01, -2.94812344e-01, -2.86012565e-01,\n",
       "        -2.77389661e-01, -2.68941834e-01, -2.60667290e-01, -2.52564233e-01,\n",
       "        -2.44630867e-01, -2.36865397e-01, -2.29266027e-01, -2.21830960e-01,\n",
       "        -2.14558403e-01, -2.07446558e-01, -2.00493631e-01, -1.93697825e-01,\n",
       "        -1.87057345e-01, -1.80570395e-01, -1.74235180e-01, -1.68049904e-01,\n",
       "        -1.62012770e-01, -1.56121985e-01, -1.50375751e-01, -1.44772273e-01,\n",
       "        -1.39309755e-01, -1.33986403e-01, -1.28800419e-01, -1.23750009e-01,\n",
       "        -1.18833377e-01, -1.14048727e-01, -1.09394263e-01, -1.04868190e-01,\n",
       "        -1.00468712e-01, -9.61940337e-02, -9.20423589e-02, -8.80118922e-02,\n",
       "        -8.41008378e-02, -8.03074001e-02, -7.66297834e-02, -7.30661920e-02,\n",
       "        -6.96148304e-02, -6.62739027e-02, -6.30416134e-02, -5.99161667e-02,\n",
       "        -5.68957670e-02, -5.39786185e-02, -5.11629257e-02, -4.84468929e-02,\n",
       "        -4.58287243e-02, -4.33066243e-02, -4.08787972e-02, -3.85434474e-02,\n",
       "        -3.62987792e-02, -3.41429968e-02, -3.20743047e-02, -3.00909072e-02,\n",
       "        -2.81910085e-02, -2.63728130e-02, -2.46345250e-02, -2.29743489e-02,\n",
       "        -2.13904890e-02, -1.98811495e-02, -1.84445349e-02, -1.70788495e-02,\n",
       "        -1.57822975e-02, -1.45530833e-02, -1.33894113e-02, -1.22894857e-02,\n",
       "        -1.12515108e-02, -1.02736911e-02, -9.35423085e-03, -8.49133432e-03,\n",
       "        -7.68320587e-03, -6.92804982e-03, -6.22407050e-03, -5.56947224e-03,\n",
       "        -4.96245936e-03, -4.40123619e-03, -3.88400704e-03, -3.40897626e-03,\n",
       "        -2.97434815e-03, -2.57832705e-03, -2.21911728e-03, -1.89492317e-03,\n",
       "        -1.60394905e-03, -1.34439923e-03, -1.11447804e-03, -9.12389815e-04,\n",
       "        -7.36338871e-04, -5.84529536e-04, -4.55166136e-04, -3.46452994e-04,\n",
       "        -2.56594438e-04, -1.83794791e-04, -1.26258380e-04, -8.21895291e-05,\n",
       "        -4.97925640e-05, -2.72718101e-05, -1.28315924e-05, -4.67623629e-06,\n",
       "        -1.01006704e-06, -3.74098903e-08,  3.74098903e-08,  1.01006704e-06,\n",
       "         4.67623629e-06,  1.28315924e-05,  2.72718101e-05,  4.97925640e-05,\n",
       "         8.21895291e-05,  1.26258380e-04,  1.83794791e-04,  2.56594438e-04,\n",
       "         3.46452994e-04,  4.55166136e-04,  5.84529536e-04,  7.36338871e-04,\n",
       "         9.12389815e-04,  1.11447804e-03,  1.34439923e-03,  1.60394905e-03,\n",
       "         1.89492317e-03,  2.21911728e-03,  2.57832705e-03,  2.97434815e-03,\n",
       "         3.40897626e-03,  3.88400704e-03,  4.40123619e-03,  4.96245936e-03,\n",
       "         5.56947224e-03,  6.22407050e-03,  6.92804982e-03,  7.68320587e-03,\n",
       "         8.49133432e-03,  9.35423085e-03,  1.02736911e-02,  1.12515108e-02,\n",
       "         1.22894857e-02,  1.33894113e-02,  1.45530833e-02,  1.57822975e-02,\n",
       "         1.70788495e-02,  1.84445349e-02,  1.98811495e-02,  2.13904890e-02,\n",
       "         2.29743489e-02,  2.46345250e-02,  2.63728130e-02,  2.81910085e-02,\n",
       "         3.00909072e-02,  3.20743047e-02,  3.41429968e-02,  3.62987792e-02,\n",
       "         3.85434474e-02,  4.08787972e-02,  4.33066243e-02,  4.58287243e-02,\n",
       "         4.84468929e-02,  5.11629257e-02,  5.39786185e-02,  5.68957670e-02,\n",
       "         5.99161667e-02,  6.30416134e-02,  6.62739027e-02,  6.96148304e-02,\n",
       "         7.30661920e-02,  7.66297834e-02,  8.03074001e-02,  8.41008378e-02,\n",
       "         8.80118922e-02,  9.20423589e-02,  9.61940337e-02,  1.00468712e-01,\n",
       "         1.04868190e-01,  1.09394263e-01,  1.14048727e-01,  1.18833377e-01,\n",
       "         1.23750009e-01,  1.28800419e-01,  1.33986403e-01,  1.39309755e-01,\n",
       "         1.44772273e-01,  1.50375751e-01,  1.56121985e-01,  1.62012770e-01,\n",
       "         1.68049904e-01,  1.74235180e-01,  1.80570395e-01,  1.87057345e-01,\n",
       "         1.93697825e-01,  2.00493631e-01,  2.07446558e-01,  2.14558403e-01,\n",
       "         2.21830960e-01,  2.29266027e-01,  2.36865397e-01,  2.44630867e-01,\n",
       "         2.52564233e-01,  2.60667290e-01,  2.68941834e-01,  2.77389661e-01,\n",
       "         2.86012565e-01,  2.94812344e-01,  3.03790793e-01,  3.12949707e-01,\n",
       "         3.22290881e-01,  3.31816113e-01,  3.41527197e-01,  3.51425928e-01,\n",
       "         3.61514104e-01,  3.71793519e-01,  3.82265969e-01,  3.92933249e-01,\n",
       "         4.03797156e-01,  4.14859485e-01,  4.26122032e-01,  4.37586592e-01,\n",
       "         4.49254961e-01,  4.61128935e-01,  4.73210310e-01,  4.85500880e-01,\n",
       "         4.98002443e-01,  5.10716793e-01,  5.23645725e-01,  5.36791037e-01,\n",
       "         5.50154523e-01,  5.63737980e-01,  5.77543202e-01,  5.91571986e-01,\n",
       "         6.05826127e-01,  6.20307420e-01,  6.35017663e-01,  6.49958649e-01,\n",
       "         6.65132175e-01,  6.80540037e-01,  6.96184030e-01,  7.12065950e-01,\n",
       "         7.28187593e-01,  7.44550754e-01,  7.61157229e-01,  7.78008813e-01,\n",
       "         7.95107303e-01,  8.12454493e-01,  8.30052180e-01,  8.47902160e-01,\n",
       "         8.66006227e-01,  8.84366179e-01,  9.02983809e-01,  9.21860915e-01,\n",
       "         9.40999291e-01,  9.60400733e-01,  9.80067038e-01,  1.00000000e+00])]"
      ]
     },
     "execution_count": 9,
     "metadata": {},
     "output_type": "execute_result"
    }
   ],
   "source": [
    "m"
   ]
  },
  {
   "cell_type": "code",
   "execution_count": 10,
   "metadata": {
    "ExecuteTime": {
     "end_time": "2019-07-02T18:23:53.822607Z",
     "start_time": "2019-07-02T18:23:53.816874Z"
    }
   },
   "outputs": [],
   "source": [
    "m.append(np.cos( x ** 2))"
   ]
  },
  {
   "cell_type": "code",
   "execution_count": 11,
   "metadata": {
    "ExecuteTime": {
     "end_time": "2019-07-02T18:23:53.827833Z",
     "start_time": "2019-07-02T18:23:53.824188Z"
    }
   },
   "outputs": [],
   "source": [
    "m.append(np.cos(x))"
   ]
  },
  {
   "cell_type": "code",
   "execution_count": 12,
   "metadata": {
    "ExecuteTime": {
     "end_time": "2019-07-02T18:24:17.309643Z",
     "start_time": "2019-07-02T18:24:17.306949Z"
    }
   },
   "outputs": [],
   "source": [
    "A = np.array(m).T"
   ]
  },
  {
   "cell_type": "code",
   "execution_count": 13,
   "metadata": {
    "ExecuteTime": {
     "end_time": "2019-07-02T18:24:55.459753Z",
     "start_time": "2019-07-02T18:24:55.456141Z"
    }
   },
   "outputs": [
    {
     "data": {
      "text/plain": [
       "(300,)"
      ]
     },
     "execution_count": 13,
     "metadata": {},
     "output_type": "execute_result"
    }
   ],
   "source": [
    "y1.shape"
   ]
  },
  {
   "cell_type": "code",
   "execution_count": 14,
   "metadata": {
    "ExecuteTime": {
     "end_time": "2019-07-02T18:26:39.765791Z",
     "start_time": "2019-07-02T18:26:39.762213Z"
    }
   },
   "outputs": [],
   "source": [
    "b = y1.reshape(y1.shape[0], 1)"
   ]
  },
  {
   "cell_type": "code",
   "execution_count": 15,
   "metadata": {
    "ExecuteTime": {
     "end_time": "2019-07-02T18:26:43.927713Z",
     "start_time": "2019-07-02T18:26:43.923933Z"
    }
   },
   "outputs": [
    {
     "data": {
      "text/plain": [
       "(300, 1)"
      ]
     },
     "execution_count": 15,
     "metadata": {},
     "output_type": "execute_result"
    }
   ],
   "source": [
    "b.shape"
   ]
  },
  {
   "cell_type": "markdown",
   "metadata": {},
   "source": [
    "# ols algorithm"
   ]
  },
  {
   "cell_type": "code",
   "execution_count": 16,
   "metadata": {
    "ExecuteTime": {
     "end_time": "2019-07-02T18:34:51.108118Z",
     "start_time": "2019-07-02T18:34:51.104498Z"
    }
   },
   "outputs": [],
   "source": [
    "def olsMethod(A, b):\n",
    "    x = np.linalg.inv(A.T.dot(A)).dot(A.T).dot(b)\n",
    "    return A.dot(x)"
   ]
  },
  {
   "cell_type": "markdown",
   "metadata": {},
   "source": [
    "# count the vector"
   ]
  },
  {
   "cell_type": "code",
   "execution_count": 17,
   "metadata": {
    "ExecuteTime": {
     "end_time": "2019-07-02T18:37:52.033902Z",
     "start_time": "2019-07-02T18:37:52.027333Z"
    }
   },
   "outputs": [],
   "source": [
    "goalVec = olsMethod(A, b)"
   ]
  },
  {
   "cell_type": "code",
   "execution_count": 18,
   "metadata": {
    "ExecuteTime": {
     "end_time": "2019-07-02T18:38:50.750256Z",
     "start_time": "2019-07-02T18:38:50.647376Z"
    }
   },
   "outputs": [
    {
     "data": {
      "image/png": "[encoded data removed]",
      "text/plain": [
       "<matplotlib.figure.Figure at 0x7f275a27a1d0>"
      ]
     },
     "metadata": {
      "needs_background": "light"
     },
     "output_type": "display_data"
    }
   ],
   "source": [
    "plt.plot(x, y1)\n",
    "plt.plot(x, goalVec)\n",
    "plt.show()"
   ]
  },
  {
   "cell_type": "code",
   "execution_count": null,
   "metadata": {},
   "outputs": [],
   "source": []
  }
 ],
 "metadata": {
  "hide_input": false,
  "kernelspec": {
   "display_name": "Python 3",
   "language": "python",
   "name": "python3"
  },
  "language_info": {
   "codemirror_mode": {
    "name": "ipython",
    "version": 3
   },
   "file_extension": ".py",
   "mimetype": "text/x-python",
   "name": "python",
   "nbconvert_exporter": "python",
   "pygments_lexer": "ipython3",
   "version": "3.6.7"
  },
  "toc": {
   "base_numbering": 1,
   "nav_menu": {},
   "number_sections": true,
   "sideBar": true,
   "skip_h1_title": false,
   "title_cell": "Table of Contents",
   "title_sidebar": "Contents",
   "toc_cell": false,
   "toc_position": {},
   "toc_section_display": true,
   "toc_window_display": false
  },
  "varInspector": {
   "cols": {
    "lenName": 16,
    "lenType": 16,
    "lenVar": 40
   },
   "kernels_config": {
    "python": {
     "delete_cmd_postfix": "",
     "delete_cmd_prefix": "del ",
     "library": "var_list.py",
     "varRefreshCmd": "print(var_dic_list())"
    },
    "r": {
     "delete_cmd_postfix": ") ",
     "delete_cmd_prefix": "rm(",
     "library": "var_list.r",
     "varRefreshCmd": "cat(var_dic_list()) "
    }
   },
   "types_to_exclude": [
    "module",
    "function",
    "builtin_function_or_method",
    "instance",
    "_Feature"
   ],
   "window_display": false
  }
 },
 "nbformat": 4,
 "nbformat_minor": 2
}
